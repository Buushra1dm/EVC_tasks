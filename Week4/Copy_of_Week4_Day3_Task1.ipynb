{
  "nbformat": 4,
  "nbformat_minor": 0,
  "metadata": {
    "colab": {
      "provenance": [],
      "gpuType": "T4"
    },
    "kernelspec": {
      "name": "python3",
      "display_name": "Python 3"
    },
    "language_info": {
      "name": "python"
    },
    "accelerator": "GPU",
    "widgets": {
      "application/vnd.jupyter.widget-state+json": {
        "db868d3eaf554a24b0b0e96d5e206179": {
          "model_module": "@jupyter-widgets/controls",
          "model_name": "HBoxModel",
          "model_module_version": "1.5.0",
          "state": {
            "_dom_classes": [],
            "_model_module": "@jupyter-widgets/controls",
            "_model_module_version": "1.5.0",
            "_model_name": "HBoxModel",
            "_view_count": null,
            "_view_module": "@jupyter-widgets/controls",
            "_view_module_version": "1.5.0",
            "_view_name": "HBoxView",
            "box_style": "",
            "children": [
              "IPY_MODEL_8684b04dce30400791fca1517952f48a",
              "IPY_MODEL_f29dd5d9b5464df8966fa4d460aa5e94",
              "IPY_MODEL_8a5bedc2ad204753914fbfb731c32bca"
            ],
            "layout": "IPY_MODEL_010e7bcce31843e6ac009dc0acdcf835"
          }
        },
        "8684b04dce30400791fca1517952f48a": {
          "model_module": "@jupyter-widgets/controls",
          "model_name": "HTMLModel",
          "model_module_version": "1.5.0",
          "state": {
            "_dom_classes": [],
            "_model_module": "@jupyter-widgets/controls",
            "_model_module_version": "1.5.0",
            "_model_name": "HTMLModel",
            "_view_count": null,
            "_view_module": "@jupyter-widgets/controls",
            "_view_module_version": "1.5.0",
            "_view_name": "HTMLView",
            "description": "",
            "description_tooltip": null,
            "layout": "IPY_MODEL_a4733676f56e43bb8452765697e28f8f",
            "placeholder": "​",
            "style": "IPY_MODEL_32a96c48353f4e4799dda0e07ef68d94",
            "value": "Map: 100%"
          }
        },
        "f29dd5d9b5464df8966fa4d460aa5e94": {
          "model_module": "@jupyter-widgets/controls",
          "model_name": "FloatProgressModel",
          "model_module_version": "1.5.0",
          "state": {
            "_dom_classes": [],
            "_model_module": "@jupyter-widgets/controls",
            "_model_module_version": "1.5.0",
            "_model_name": "FloatProgressModel",
            "_view_count": null,
            "_view_module": "@jupyter-widgets/controls",
            "_view_module_version": "1.5.0",
            "_view_name": "ProgressView",
            "bar_style": "success",
            "description": "",
            "description_tooltip": null,
            "layout": "IPY_MODEL_73e5b44c3fd84d379aa45354fae73c9e",
            "max": 3,
            "min": 0,
            "orientation": "horizontal",
            "style": "IPY_MODEL_8dba1dd83427424bbe03a3fc20a3e102",
            "value": 3
          }
        },
        "8a5bedc2ad204753914fbfb731c32bca": {
          "model_module": "@jupyter-widgets/controls",
          "model_name": "HTMLModel",
          "model_module_version": "1.5.0",
          "state": {
            "_dom_classes": [],
            "_model_module": "@jupyter-widgets/controls",
            "_model_module_version": "1.5.0",
            "_model_name": "HTMLModel",
            "_view_count": null,
            "_view_module": "@jupyter-widgets/controls",
            "_view_module_version": "1.5.0",
            "_view_name": "HTMLView",
            "description": "",
            "description_tooltip": null,
            "layout": "IPY_MODEL_df3f34f4d23b43bf9b7f42aa6e9aee08",
            "placeholder": "​",
            "style": "IPY_MODEL_e40fa1e8d8474e8599e4874c3b4908fb",
            "value": " 3/3 [00:00&lt;00:00, 26.27 examples/s]"
          }
        },
        "010e7bcce31843e6ac009dc0acdcf835": {
          "model_module": "@jupyter-widgets/base",
          "model_name": "LayoutModel",
          "model_module_version": "1.2.0",
          "state": {
            "_model_module": "@jupyter-widgets/base",
            "_model_module_version": "1.2.0",
            "_model_name": "LayoutModel",
            "_view_count": null,
            "_view_module": "@jupyter-widgets/base",
            "_view_module_version": "1.2.0",
            "_view_name": "LayoutView",
            "align_content": null,
            "align_items": null,
            "align_self": null,
            "border": null,
            "bottom": null,
            "display": null,
            "flex": null,
            "flex_flow": null,
            "grid_area": null,
            "grid_auto_columns": null,
            "grid_auto_flow": null,
            "grid_auto_rows": null,
            "grid_column": null,
            "grid_gap": null,
            "grid_row": null,
            "grid_template_areas": null,
            "grid_template_columns": null,
            "grid_template_rows": null,
            "height": null,
            "justify_content": null,
            "justify_items": null,
            "left": null,
            "margin": null,
            "max_height": null,
            "max_width": null,
            "min_height": null,
            "min_width": null,
            "object_fit": null,
            "object_position": null,
            "order": null,
            "overflow": null,
            "overflow_x": null,
            "overflow_y": null,
            "padding": null,
            "right": null,
            "top": null,
            "visibility": null,
            "width": null
          }
        },
        "a4733676f56e43bb8452765697e28f8f": {
          "model_module": "@jupyter-widgets/base",
          "model_name": "LayoutModel",
          "model_module_version": "1.2.0",
          "state": {
            "_model_module": "@jupyter-widgets/base",
            "_model_module_version": "1.2.0",
            "_model_name": "LayoutModel",
            "_view_count": null,
            "_view_module": "@jupyter-widgets/base",
            "_view_module_version": "1.2.0",
            "_view_name": "LayoutView",
            "align_content": null,
            "align_items": null,
            "align_self": null,
            "border": null,
            "bottom": null,
            "display": null,
            "flex": null,
            "flex_flow": null,
            "grid_area": null,
            "grid_auto_columns": null,
            "grid_auto_flow": null,
            "grid_auto_rows": null,
            "grid_column": null,
            "grid_gap": null,
            "grid_row": null,
            "grid_template_areas": null,
            "grid_template_columns": null,
            "grid_template_rows": null,
            "height": null,
            "justify_content": null,
            "justify_items": null,
            "left": null,
            "margin": null,
            "max_height": null,
            "max_width": null,
            "min_height": null,
            "min_width": null,
            "object_fit": null,
            "object_position": null,
            "order": null,
            "overflow": null,
            "overflow_x": null,
            "overflow_y": null,
            "padding": null,
            "right": null,
            "top": null,
            "visibility": null,
            "width": null
          }
        },
        "32a96c48353f4e4799dda0e07ef68d94": {
          "model_module": "@jupyter-widgets/controls",
          "model_name": "DescriptionStyleModel",
          "model_module_version": "1.5.0",
          "state": {
            "_model_module": "@jupyter-widgets/controls",
            "_model_module_version": "1.5.0",
            "_model_name": "DescriptionStyleModel",
            "_view_count": null,
            "_view_module": "@jupyter-widgets/base",
            "_view_module_version": "1.2.0",
            "_view_name": "StyleView",
            "description_width": ""
          }
        },
        "73e5b44c3fd84d379aa45354fae73c9e": {
          "model_module": "@jupyter-widgets/base",
          "model_name": "LayoutModel",
          "model_module_version": "1.2.0",
          "state": {
            "_model_module": "@jupyter-widgets/base",
            "_model_module_version": "1.2.0",
            "_model_name": "LayoutModel",
            "_view_count": null,
            "_view_module": "@jupyter-widgets/base",
            "_view_module_version": "1.2.0",
            "_view_name": "LayoutView",
            "align_content": null,
            "align_items": null,
            "align_self": null,
            "border": null,
            "bottom": null,
            "display": null,
            "flex": null,
            "flex_flow": null,
            "grid_area": null,
            "grid_auto_columns": null,
            "grid_auto_flow": null,
            "grid_auto_rows": null,
            "grid_column": null,
            "grid_gap": null,
            "grid_row": null,
            "grid_template_areas": null,
            "grid_template_columns": null,
            "grid_template_rows": null,
            "height": null,
            "justify_content": null,
            "justify_items": null,
            "left": null,
            "margin": null,
            "max_height": null,
            "max_width": null,
            "min_height": null,
            "min_width": null,
            "object_fit": null,
            "object_position": null,
            "order": null,
            "overflow": null,
            "overflow_x": null,
            "overflow_y": null,
            "padding": null,
            "right": null,
            "top": null,
            "visibility": null,
            "width": null
          }
        },
        "8dba1dd83427424bbe03a3fc20a3e102": {
          "model_module": "@jupyter-widgets/controls",
          "model_name": "ProgressStyleModel",
          "model_module_version": "1.5.0",
          "state": {
            "_model_module": "@jupyter-widgets/controls",
            "_model_module_version": "1.5.0",
            "_model_name": "ProgressStyleModel",
            "_view_count": null,
            "_view_module": "@jupyter-widgets/base",
            "_view_module_version": "1.2.0",
            "_view_name": "StyleView",
            "bar_color": null,
            "description_width": ""
          }
        },
        "df3f34f4d23b43bf9b7f42aa6e9aee08": {
          "model_module": "@jupyter-widgets/base",
          "model_name": "LayoutModel",
          "model_module_version": "1.2.0",
          "state": {
            "_model_module": "@jupyter-widgets/base",
            "_model_module_version": "1.2.0",
            "_model_name": "LayoutModel",
            "_view_count": null,
            "_view_module": "@jupyter-widgets/base",
            "_view_module_version": "1.2.0",
            "_view_name": "LayoutView",
            "align_content": null,
            "align_items": null,
            "align_self": null,
            "border": null,
            "bottom": null,
            "display": null,
            "flex": null,
            "flex_flow": null,
            "grid_area": null,
            "grid_auto_columns": null,
            "grid_auto_flow": null,
            "grid_auto_rows": null,
            "grid_column": null,
            "grid_gap": null,
            "grid_row": null,
            "grid_template_areas": null,
            "grid_template_columns": null,
            "grid_template_rows": null,
            "height": null,
            "justify_content": null,
            "justify_items": null,
            "left": null,
            "margin": null,
            "max_height": null,
            "max_width": null,
            "min_height": null,
            "min_width": null,
            "object_fit": null,
            "object_position": null,
            "order": null,
            "overflow": null,
            "overflow_x": null,
            "overflow_y": null,
            "padding": null,
            "right": null,
            "top": null,
            "visibility": null,
            "width": null
          }
        },
        "e40fa1e8d8474e8599e4874c3b4908fb": {
          "model_module": "@jupyter-widgets/controls",
          "model_name": "DescriptionStyleModel",
          "model_module_version": "1.5.0",
          "state": {
            "_model_module": "@jupyter-widgets/controls",
            "_model_module_version": "1.5.0",
            "_model_name": "DescriptionStyleModel",
            "_view_count": null,
            "_view_module": "@jupyter-widgets/base",
            "_view_module_version": "1.2.0",
            "_view_name": "StyleView",
            "description_width": ""
          }
        },
        "244a446bc8634a908297f22e898b88d5": {
          "model_module": "@jupyter-widgets/controls",
          "model_name": "HBoxModel",
          "model_module_version": "1.5.0",
          "state": {
            "_dom_classes": [],
            "_model_module": "@jupyter-widgets/controls",
            "_model_module_version": "1.5.0",
            "_model_name": "HBoxModel",
            "_view_count": null,
            "_view_module": "@jupyter-widgets/controls",
            "_view_module_version": "1.5.0",
            "_view_name": "HBoxView",
            "box_style": "",
            "children": [
              "IPY_MODEL_3d7cff7516ee4dd0be38d4a56e939950",
              "IPY_MODEL_a587efb505e64e5e97faa0f638bde7d0",
              "IPY_MODEL_f4537a096a474428be090e489a86e5fb"
            ],
            "layout": "IPY_MODEL_2c5e3264f8d44c81bf4896fa7931b581"
          }
        },
        "3d7cff7516ee4dd0be38d4a56e939950": {
          "model_module": "@jupyter-widgets/controls",
          "model_name": "HTMLModel",
          "model_module_version": "1.5.0",
          "state": {
            "_dom_classes": [],
            "_model_module": "@jupyter-widgets/controls",
            "_model_module_version": "1.5.0",
            "_model_name": "HTMLModel",
            "_view_count": null,
            "_view_module": "@jupyter-widgets/controls",
            "_view_module_version": "1.5.0",
            "_view_name": "HTMLView",
            "description": "",
            "description_tooltip": null,
            "layout": "IPY_MODEL_913cd42559544f14939d3453652792a6",
            "placeholder": "​",
            "style": "IPY_MODEL_334426d3a6114de88f52af06d3a37f60",
            "value": "100%"
          }
        },
        "a587efb505e64e5e97faa0f638bde7d0": {
          "model_module": "@jupyter-widgets/controls",
          "model_name": "FloatProgressModel",
          "model_module_version": "1.5.0",
          "state": {
            "_dom_classes": [],
            "_model_module": "@jupyter-widgets/controls",
            "_model_module_version": "1.5.0",
            "_model_name": "FloatProgressModel",
            "_view_count": null,
            "_view_module": "@jupyter-widgets/controls",
            "_view_module_version": "1.5.0",
            "_view_name": "ProgressView",
            "bar_style": "success",
            "description": "",
            "description_tooltip": null,
            "layout": "IPY_MODEL_b84861752bd5464b90009f4fe04388fd",
            "max": 1,
            "min": 0,
            "orientation": "horizontal",
            "style": "IPY_MODEL_e4c0d63aa5cb4d08a60aa6689c92a7cc",
            "value": 1
          }
        },
        "f4537a096a474428be090e489a86e5fb": {
          "model_module": "@jupyter-widgets/controls",
          "model_name": "HTMLModel",
          "model_module_version": "1.5.0",
          "state": {
            "_dom_classes": [],
            "_model_module": "@jupyter-widgets/controls",
            "_model_module_version": "1.5.0",
            "_model_name": "HTMLModel",
            "_view_count": null,
            "_view_module": "@jupyter-widgets/controls",
            "_view_module_version": "1.5.0",
            "_view_name": "HTMLView",
            "description": "",
            "description_tooltip": null,
            "layout": "IPY_MODEL_9a01f74a59644ea893402d86cae8a00d",
            "placeholder": "​",
            "style": "IPY_MODEL_10016f5ae1b54e34b9bba1864f859825",
            "value": " 1/1 [00:00&lt;00:00, 29.58it/s]"
          }
        },
        "2c5e3264f8d44c81bf4896fa7931b581": {
          "model_module": "@jupyter-widgets/base",
          "model_name": "LayoutModel",
          "model_module_version": "1.2.0",
          "state": {
            "_model_module": "@jupyter-widgets/base",
            "_model_module_version": "1.2.0",
            "_model_name": "LayoutModel",
            "_view_count": null,
            "_view_module": "@jupyter-widgets/base",
            "_view_module_version": "1.2.0",
            "_view_name": "LayoutView",
            "align_content": null,
            "align_items": null,
            "align_self": null,
            "border": null,
            "bottom": null,
            "display": null,
            "flex": null,
            "flex_flow": null,
            "grid_area": null,
            "grid_auto_columns": null,
            "grid_auto_flow": null,
            "grid_auto_rows": null,
            "grid_column": null,
            "grid_gap": null,
            "grid_row": null,
            "grid_template_areas": null,
            "grid_template_columns": null,
            "grid_template_rows": null,
            "height": null,
            "justify_content": null,
            "justify_items": null,
            "left": null,
            "margin": null,
            "max_height": null,
            "max_width": null,
            "min_height": null,
            "min_width": null,
            "object_fit": null,
            "object_position": null,
            "order": null,
            "overflow": null,
            "overflow_x": null,
            "overflow_y": null,
            "padding": null,
            "right": null,
            "top": null,
            "visibility": null,
            "width": null
          }
        },
        "913cd42559544f14939d3453652792a6": {
          "model_module": "@jupyter-widgets/base",
          "model_name": "LayoutModel",
          "model_module_version": "1.2.0",
          "state": {
            "_model_module": "@jupyter-widgets/base",
            "_model_module_version": "1.2.0",
            "_model_name": "LayoutModel",
            "_view_count": null,
            "_view_module": "@jupyter-widgets/base",
            "_view_module_version": "1.2.0",
            "_view_name": "LayoutView",
            "align_content": null,
            "align_items": null,
            "align_self": null,
            "border": null,
            "bottom": null,
            "display": null,
            "flex": null,
            "flex_flow": null,
            "grid_area": null,
            "grid_auto_columns": null,
            "grid_auto_flow": null,
            "grid_auto_rows": null,
            "grid_column": null,
            "grid_gap": null,
            "grid_row": null,
            "grid_template_areas": null,
            "grid_template_columns": null,
            "grid_template_rows": null,
            "height": null,
            "justify_content": null,
            "justify_items": null,
            "left": null,
            "margin": null,
            "max_height": null,
            "max_width": null,
            "min_height": null,
            "min_width": null,
            "object_fit": null,
            "object_position": null,
            "order": null,
            "overflow": null,
            "overflow_x": null,
            "overflow_y": null,
            "padding": null,
            "right": null,
            "top": null,
            "visibility": null,
            "width": null
          }
        },
        "334426d3a6114de88f52af06d3a37f60": {
          "model_module": "@jupyter-widgets/controls",
          "model_name": "DescriptionStyleModel",
          "model_module_version": "1.5.0",
          "state": {
            "_model_module": "@jupyter-widgets/controls",
            "_model_module_version": "1.5.0",
            "_model_name": "DescriptionStyleModel",
            "_view_count": null,
            "_view_module": "@jupyter-widgets/base",
            "_view_module_version": "1.2.0",
            "_view_name": "StyleView",
            "description_width": ""
          }
        },
        "b84861752bd5464b90009f4fe04388fd": {
          "model_module": "@jupyter-widgets/base",
          "model_name": "LayoutModel",
          "model_module_version": "1.2.0",
          "state": {
            "_model_module": "@jupyter-widgets/base",
            "_model_module_version": "1.2.0",
            "_model_name": "LayoutModel",
            "_view_count": null,
            "_view_module": "@jupyter-widgets/base",
            "_view_module_version": "1.2.0",
            "_view_name": "LayoutView",
            "align_content": null,
            "align_items": null,
            "align_self": null,
            "border": null,
            "bottom": null,
            "display": null,
            "flex": null,
            "flex_flow": null,
            "grid_area": null,
            "grid_auto_columns": null,
            "grid_auto_flow": null,
            "grid_auto_rows": null,
            "grid_column": null,
            "grid_gap": null,
            "grid_row": null,
            "grid_template_areas": null,
            "grid_template_columns": null,
            "grid_template_rows": null,
            "height": null,
            "justify_content": null,
            "justify_items": null,
            "left": null,
            "margin": null,
            "max_height": null,
            "max_width": null,
            "min_height": null,
            "min_width": null,
            "object_fit": null,
            "object_position": null,
            "order": null,
            "overflow": null,
            "overflow_x": null,
            "overflow_y": null,
            "padding": null,
            "right": null,
            "top": null,
            "visibility": null,
            "width": null
          }
        },
        "e4c0d63aa5cb4d08a60aa6689c92a7cc": {
          "model_module": "@jupyter-widgets/controls",
          "model_name": "ProgressStyleModel",
          "model_module_version": "1.5.0",
          "state": {
            "_model_module": "@jupyter-widgets/controls",
            "_model_module_version": "1.5.0",
            "_model_name": "ProgressStyleModel",
            "_view_count": null,
            "_view_module": "@jupyter-widgets/base",
            "_view_module_version": "1.2.0",
            "_view_name": "StyleView",
            "bar_color": null,
            "description_width": ""
          }
        },
        "9a01f74a59644ea893402d86cae8a00d": {
          "model_module": "@jupyter-widgets/base",
          "model_name": "LayoutModel",
          "model_module_version": "1.2.0",
          "state": {
            "_model_module": "@jupyter-widgets/base",
            "_model_module_version": "1.2.0",
            "_model_name": "LayoutModel",
            "_view_count": null,
            "_view_module": "@jupyter-widgets/base",
            "_view_module_version": "1.2.0",
            "_view_name": "LayoutView",
            "align_content": null,
            "align_items": null,
            "align_self": null,
            "border": null,
            "bottom": null,
            "display": null,
            "flex": null,
            "flex_flow": null,
            "grid_area": null,
            "grid_auto_columns": null,
            "grid_auto_flow": null,
            "grid_auto_rows": null,
            "grid_column": null,
            "grid_gap": null,
            "grid_row": null,
            "grid_template_areas": null,
            "grid_template_columns": null,
            "grid_template_rows": null,
            "height": null,
            "justify_content": null,
            "justify_items": null,
            "left": null,
            "margin": null,
            "max_height": null,
            "max_width": null,
            "min_height": null,
            "min_width": null,
            "object_fit": null,
            "object_position": null,
            "order": null,
            "overflow": null,
            "overflow_x": null,
            "overflow_y": null,
            "padding": null,
            "right": null,
            "top": null,
            "visibility": null,
            "width": null
          }
        },
        "10016f5ae1b54e34b9bba1864f859825": {
          "model_module": "@jupyter-widgets/controls",
          "model_name": "DescriptionStyleModel",
          "model_module_version": "1.5.0",
          "state": {
            "_model_module": "@jupyter-widgets/controls",
            "_model_module_version": "1.5.0",
            "_model_name": "DescriptionStyleModel",
            "_view_count": null,
            "_view_module": "@jupyter-widgets/base",
            "_view_module_version": "1.2.0",
            "_view_name": "StyleView",
            "description_width": ""
          }
        }
      }
    }
  },
  "cells": [
    {
      "cell_type": "markdown",
      "source": [
        "# Building a search engine\n",
        "Use the information of the dataset that you created to build a search engine that can help to find answers of the  most pressing questions about the FAISS library [Semantic Search with FAISS](https://huggingface.co/learn/nlp-course/chapter5/6?fw=pt) !"
      ],
      "metadata": {
        "id": "L2yyOBRTOnz2"
      }
    },
    {
      "cell_type": "code",
      "source": [
        "!pip install sentence_transformers"
      ],
      "metadata": {
        "colab": {
          "base_uri": "https://localhost:8080/"
        },
        "id": "FBdcDtnpm8xC",
        "outputId": "12cde4d5-43fc-46e6-c71b-bcf109a30e8f"
      },
      "execution_count": 34,
      "outputs": [
        {
          "output_type": "stream",
          "name": "stdout",
          "text": [
            "Requirement already satisfied: sentence_transformers in /usr/local/lib/python3.10/dist-packages (3.0.1)\n",
            "Requirement already satisfied: transformers<5.0.0,>=4.34.0 in /usr/local/lib/python3.10/dist-packages (from sentence_transformers) (4.42.4)\n",
            "Requirement already satisfied: tqdm in /usr/local/lib/python3.10/dist-packages (from sentence_transformers) (4.66.4)\n",
            "Requirement already satisfied: torch>=1.11.0 in /usr/local/lib/python3.10/dist-packages (from sentence_transformers) (2.3.1+cu121)\n",
            "Requirement already satisfied: numpy in /usr/local/lib/python3.10/dist-packages (from sentence_transformers) (1.25.2)\n",
            "Requirement already satisfied: scikit-learn in /usr/local/lib/python3.10/dist-packages (from sentence_transformers) (1.2.2)\n",
            "Requirement already satisfied: scipy in /usr/local/lib/python3.10/dist-packages (from sentence_transformers) (1.11.4)\n",
            "Requirement already satisfied: huggingface-hub>=0.15.1 in /usr/local/lib/python3.10/dist-packages (from sentence_transformers) (0.23.5)\n",
            "Requirement already satisfied: Pillow in /usr/local/lib/python3.10/dist-packages (from sentence_transformers) (9.4.0)\n",
            "Requirement already satisfied: filelock in /usr/local/lib/python3.10/dist-packages (from huggingface-hub>=0.15.1->sentence_transformers) (3.15.4)\n",
            "Requirement already satisfied: fsspec>=2023.5.0 in /usr/local/lib/python3.10/dist-packages (from huggingface-hub>=0.15.1->sentence_transformers) (2023.6.0)\n",
            "Requirement already satisfied: packaging>=20.9 in /usr/local/lib/python3.10/dist-packages (from huggingface-hub>=0.15.1->sentence_transformers) (24.1)\n",
            "Requirement already satisfied: pyyaml>=5.1 in /usr/local/lib/python3.10/dist-packages (from huggingface-hub>=0.15.1->sentence_transformers) (6.0.1)\n",
            "Requirement already satisfied: requests in /usr/local/lib/python3.10/dist-packages (from huggingface-hub>=0.15.1->sentence_transformers) (2.32.3)\n",
            "Requirement already satisfied: typing-extensions>=3.7.4.3 in /usr/local/lib/python3.10/dist-packages (from huggingface-hub>=0.15.1->sentence_transformers) (4.12.2)\n",
            "Requirement already satisfied: sympy in /usr/local/lib/python3.10/dist-packages (from torch>=1.11.0->sentence_transformers) (1.13.0)\n",
            "Requirement already satisfied: networkx in /usr/local/lib/python3.10/dist-packages (from torch>=1.11.0->sentence_transformers) (3.3)\n",
            "Requirement already satisfied: jinja2 in /usr/local/lib/python3.10/dist-packages (from torch>=1.11.0->sentence_transformers) (3.1.4)\n",
            "Requirement already satisfied: nvidia-cuda-nvrtc-cu12==12.1.105 in /usr/local/lib/python3.10/dist-packages (from torch>=1.11.0->sentence_transformers) (12.1.105)\n",
            "Requirement already satisfied: nvidia-cuda-runtime-cu12==12.1.105 in /usr/local/lib/python3.10/dist-packages (from torch>=1.11.0->sentence_transformers) (12.1.105)\n",
            "Requirement already satisfied: nvidia-cuda-cupti-cu12==12.1.105 in /usr/local/lib/python3.10/dist-packages (from torch>=1.11.0->sentence_transformers) (12.1.105)\n",
            "Requirement already satisfied: nvidia-cudnn-cu12==8.9.2.26 in /usr/local/lib/python3.10/dist-packages (from torch>=1.11.0->sentence_transformers) (8.9.2.26)\n",
            "Requirement already satisfied: nvidia-cublas-cu12==12.1.3.1 in /usr/local/lib/python3.10/dist-packages (from torch>=1.11.0->sentence_transformers) (12.1.3.1)\n",
            "Requirement already satisfied: nvidia-cufft-cu12==11.0.2.54 in /usr/local/lib/python3.10/dist-packages (from torch>=1.11.0->sentence_transformers) (11.0.2.54)\n",
            "Requirement already satisfied: nvidia-curand-cu12==10.3.2.106 in /usr/local/lib/python3.10/dist-packages (from torch>=1.11.0->sentence_transformers) (10.3.2.106)\n",
            "Requirement already satisfied: nvidia-cusolver-cu12==11.4.5.107 in /usr/local/lib/python3.10/dist-packages (from torch>=1.11.0->sentence_transformers) (11.4.5.107)\n",
            "Requirement already satisfied: nvidia-cusparse-cu12==12.1.0.106 in /usr/local/lib/python3.10/dist-packages (from torch>=1.11.0->sentence_transformers) (12.1.0.106)\n",
            "Requirement already satisfied: nvidia-nccl-cu12==2.20.5 in /usr/local/lib/python3.10/dist-packages (from torch>=1.11.0->sentence_transformers) (2.20.5)\n",
            "Requirement already satisfied: nvidia-nvtx-cu12==12.1.105 in /usr/local/lib/python3.10/dist-packages (from torch>=1.11.0->sentence_transformers) (12.1.105)\n",
            "Requirement already satisfied: triton==2.3.1 in /usr/local/lib/python3.10/dist-packages (from torch>=1.11.0->sentence_transformers) (2.3.1)\n",
            "Requirement already satisfied: nvidia-nvjitlink-cu12 in /usr/local/lib/python3.10/dist-packages (from nvidia-cusolver-cu12==11.4.5.107->torch>=1.11.0->sentence_transformers) (12.5.82)\n",
            "Requirement already satisfied: regex!=2019.12.17 in /usr/local/lib/python3.10/dist-packages (from transformers<5.0.0,>=4.34.0->sentence_transformers) (2024.5.15)\n",
            "Requirement already satisfied: safetensors>=0.4.1 in /usr/local/lib/python3.10/dist-packages (from transformers<5.0.0,>=4.34.0->sentence_transformers) (0.4.3)\n",
            "Requirement already satisfied: tokenizers<0.20,>=0.19 in /usr/local/lib/python3.10/dist-packages (from transformers<5.0.0,>=4.34.0->sentence_transformers) (0.19.1)\n",
            "Requirement already satisfied: joblib>=1.1.1 in /usr/local/lib/python3.10/dist-packages (from scikit-learn->sentence_transformers) (1.4.2)\n",
            "Requirement already satisfied: threadpoolctl>=2.0.0 in /usr/local/lib/python3.10/dist-packages (from scikit-learn->sentence_transformers) (3.5.0)\n",
            "Requirement already satisfied: MarkupSafe>=2.0 in /usr/local/lib/python3.10/dist-packages (from jinja2->torch>=1.11.0->sentence_transformers) (2.1.5)\n",
            "Requirement already satisfied: charset-normalizer<4,>=2 in /usr/local/lib/python3.10/dist-packages (from requests->huggingface-hub>=0.15.1->sentence_transformers) (3.3.2)\n",
            "Requirement already satisfied: idna<4,>=2.5 in /usr/local/lib/python3.10/dist-packages (from requests->huggingface-hub>=0.15.1->sentence_transformers) (3.7)\n",
            "Requirement already satisfied: urllib3<3,>=1.21.1 in /usr/local/lib/python3.10/dist-packages (from requests->huggingface-hub>=0.15.1->sentence_transformers) (2.0.7)\n",
            "Requirement already satisfied: certifi>=2017.4.17 in /usr/local/lib/python3.10/dist-packages (from requests->huggingface-hub>=0.15.1->sentence_transformers) (2024.7.4)\n",
            "Requirement already satisfied: mpmath<1.4,>=1.1.0 in /usr/local/lib/python3.10/dist-packages (from sympy->torch>=1.11.0->sentence_transformers) (1.3.0)\n"
          ]
        }
      ]
    },
    {
      "cell_type": "code",
      "execution_count": 35,
      "metadata": {
        "id": "GNV22MedOSKn",
        "colab": {
          "base_uri": "https://localhost:8080/"
        },
        "outputId": "e824e614-4949-4a96-804c-856a0d0b23b3"
      },
      "outputs": [
        {
          "output_type": "stream",
          "name": "stdout",
          "text": [
            "(3, 384)\n"
          ]
        }
      ],
      "source": [
        "from sentence_transformers import SentenceTransformer\n",
        "import numpy as np\n",
        "\n",
        "# Sample dataset\n",
        "data = {\n",
        "    'text': [\n",
        "        \"The quick brown jumps over the lazy dog.\",\n",
        "        \"A day in the park is wonderful.\",\n",
        "        \"She sells sea by the seashore.\"\n",
        "    ]\n",
        "}\n",
        "\n",
        "# Load a pre-trained model for generating embeddings\n",
        "model = SentenceTransformer('sentence-transformers/all-MiniLM-L6-v2')\n",
        "\n",
        "# Generate embeddings for each text entry\n",
        "embeddings = model.encode(data['text'])\n",
        "\n",
        "# Convert embeddings to a NumPy array\n",
        "embeddings = np.array(embeddings)\n",
        "\n",
        "# Display embeddings shape\n",
        "print(embeddings.shape)  # Output should be (number_of_texts, embedding_dimension)\n"
      ]
    },
    {
      "cell_type": "code",
      "source": [
        "!pip install faiss-cpu"
      ],
      "metadata": {
        "colab": {
          "base_uri": "https://localhost:8080/"
        },
        "id": "bYwJYAOWnmtE",
        "outputId": "5a8f7218-2ae2-4565-fd3f-da8f704ed418"
      },
      "execution_count": 36,
      "outputs": [
        {
          "output_type": "stream",
          "name": "stdout",
          "text": [
            "Requirement already satisfied: faiss-cpu in /usr/local/lib/python3.10/dist-packages (1.8.0.post1)\n",
            "Requirement already satisfied: numpy<2.0,>=1.0 in /usr/local/lib/python3.10/dist-packages (from faiss-cpu) (1.25.2)\n",
            "Requirement already satisfied: packaging in /usr/local/lib/python3.10/dist-packages (from faiss-cpu) (24.1)\n"
          ]
        }
      ]
    },
    {
      "cell_type": "code",
      "source": [
        "import faiss\n",
        "\n",
        "# Dimension of the embeddings\n",
        "embedding_dimension = embeddings.shape[1]\n",
        "\n",
        "# Initialize a FAISS index\n",
        "index = faiss.IndexFlatL2(embedding_dimension)\n",
        "\n",
        "# Add embeddings to the index\n",
        "index.add(embeddings)\n",
        "\n",
        "# Check the number of indexed vectors\n",
        "print(\"Total vectors in index:\", index.ntotal)  # Output should match the number of texts\n"
      ],
      "metadata": {
        "colab": {
          "base_uri": "https://localhost:8080/"
        },
        "id": "zOFA4X7umb4g",
        "outputId": "cf0f6b5d-20b0-4cd4-9eab-a8fc3cb3ee34"
      },
      "execution_count": 37,
      "outputs": [
        {
          "output_type": "stream",
          "name": "stdout",
          "text": [
            "Total vectors in index: 3\n"
          ]
        }
      ]
    },
    {
      "cell_type": "code",
      "source": [
        "# Sample query\n",
        "query = \"It's a beautiful day to be outside.\"\n",
        "\n",
        "# Encode the query to obtain its embedding\n",
        "query_embedding = model.encode([query])\n",
        "\n",
        "# Perform the search in the FAISS index\n",
        "k = 2  # Number of top results to return\n",
        "distances, indices = index.search(query_embedding, k)\n",
        "\n",
        "# Display results\n",
        "print(\"Top results:\")\n",
        "for i, idx in enumerate(indices[0]):\n",
        "    print(f\"Text: {data['text'][idx]}\")\n",
        "    print(f\"Distance: {distances[0][i]}\")\n"
      ],
      "metadata": {
        "colab": {
          "base_uri": "https://localhost:8080/"
        },
        "id": "nWlq8gLgnhdf",
        "outputId": "a6a6385e-9dc7-4f47-b2ef-408c372684f4"
      },
      "execution_count": 38,
      "outputs": [
        {
          "output_type": "stream",
          "name": "stdout",
          "text": [
            "Top results:\n",
            "Text: A day in the park is wonderful.\n",
            "Distance: 0.6938740015029907\n",
            "Text: She sells sea by the seashore.\n",
            "Distance: 1.8053944110870361\n"
          ]
        }
      ]
    },
    {
      "cell_type": "code",
      "source": [
        "def search(query, model, index, data, top_k=3):\n",
        "    # Encode the query\n",
        "    query_embedding = model.encode([query])\n",
        "\n",
        "    # Perform the search\n",
        "    distances, indices = index.search(query_embedding, top_k)\n",
        "\n",
        "    # Collect results\n",
        "    results = []\n",
        "    for i, idx in enumerate(indices[0]):\n",
        "        results.append({\n",
        "            'text': data['text'][idx],\n",
        "            'distance': distances[0][i]\n",
        "        })\n",
        "\n",
        "    return results\n",
        "\n",
        "# Example usage\n",
        "query = \"A relaxing time by the sea.\"\n",
        "results = search(query, model, index, data, top_k=3)\n",
        "\n",
        "# Display search results\n",
        "for result in results:\n",
        "    print(f\"Text: {result['text']}\")\n",
        "    print(f\"Distance: {result['distance']}\\n\")\n"
      ],
      "metadata": {
        "colab": {
          "base_uri": "https://localhost:8080/"
        },
        "id": "h1f5OUiHnu_G",
        "outputId": "0f2ac56e-c2a7-4498-9346-78f678cee028"
      },
      "execution_count": 39,
      "outputs": [
        {
          "output_type": "stream",
          "name": "stdout",
          "text": [
            "Text: She sells sea by the seashore.\n",
            "Distance: 1.17189621925354\n",
            "\n",
            "Text: A day in the park is wonderful.\n",
            "Distance: 1.274449110031128\n",
            "\n",
            "Text: The quick brown jumps over the lazy dog.\n",
            "Distance: 1.5749938488006592\n",
            "\n"
          ]
        }
      ]
    },
    {
      "cell_type": "markdown",
      "source": [
        "Creating text embeddings\n"
      ],
      "metadata": {
        "id": "E1japHywoZJk"
      }
    },
    {
      "cell_type": "code",
      "source": [
        "from transformers import AutoTokenizer, AutoModel\n",
        "\n",
        "model_ckpt = \"sentence-transformers/multi-qa-mpnet-base-dot-v1\"\n",
        "tokenizer = AutoTokenizer.from_pretrained(model_ckpt)\n",
        "model = AutoModel.from_pretrained(model_ckpt)"
      ],
      "metadata": {
        "id": "M3gFedLKnyrM"
      },
      "execution_count": 40,
      "outputs": []
    },
    {
      "cell_type": "code",
      "source": [
        "import torch\n",
        "\n",
        "device = torch.device(\"cuda\")\n",
        "model.to(device)"
      ],
      "metadata": {
        "colab": {
          "base_uri": "https://localhost:8080/"
        },
        "id": "cqoFGCwFoe2o",
        "outputId": "eb3592f8-65e5-4c8e-fd5c-6d69645a506a"
      },
      "execution_count": 41,
      "outputs": [
        {
          "output_type": "execute_result",
          "data": {
            "text/plain": [
              "MPNetModel(\n",
              "  (embeddings): MPNetEmbeddings(\n",
              "    (word_embeddings): Embedding(30527, 768, padding_idx=1)\n",
              "    (position_embeddings): Embedding(514, 768, padding_idx=1)\n",
              "    (LayerNorm): LayerNorm((768,), eps=1e-05, elementwise_affine=True)\n",
              "    (dropout): Dropout(p=0.1, inplace=False)\n",
              "  )\n",
              "  (encoder): MPNetEncoder(\n",
              "    (layer): ModuleList(\n",
              "      (0-11): 12 x MPNetLayer(\n",
              "        (attention): MPNetAttention(\n",
              "          (attn): MPNetSelfAttention(\n",
              "            (q): Linear(in_features=768, out_features=768, bias=True)\n",
              "            (k): Linear(in_features=768, out_features=768, bias=True)\n",
              "            (v): Linear(in_features=768, out_features=768, bias=True)\n",
              "            (o): Linear(in_features=768, out_features=768, bias=True)\n",
              "            (dropout): Dropout(p=0.1, inplace=False)\n",
              "          )\n",
              "          (LayerNorm): LayerNorm((768,), eps=1e-05, elementwise_affine=True)\n",
              "          (dropout): Dropout(p=0.1, inplace=False)\n",
              "        )\n",
              "        (intermediate): MPNetIntermediate(\n",
              "          (dense): Linear(in_features=768, out_features=3072, bias=True)\n",
              "          (intermediate_act_fn): GELUActivation()\n",
              "        )\n",
              "        (output): MPNetOutput(\n",
              "          (dense): Linear(in_features=3072, out_features=768, bias=True)\n",
              "          (LayerNorm): LayerNorm((768,), eps=1e-05, elementwise_affine=True)\n",
              "          (dropout): Dropout(p=0.1, inplace=False)\n",
              "        )\n",
              "      )\n",
              "    )\n",
              "    (relative_attention_bias): Embedding(32, 12)\n",
              "  )\n",
              "  (pooler): MPNetPooler(\n",
              "    (dense): Linear(in_features=768, out_features=768, bias=True)\n",
              "    (activation): Tanh()\n",
              "  )\n",
              ")"
            ]
          },
          "metadata": {},
          "execution_count": 41
        }
      ]
    },
    {
      "cell_type": "code",
      "source": [
        "def cls_pooling(model_output):\n",
        "    return model_output.last_hidden_state[:, 0]"
      ],
      "metadata": {
        "id": "s5BSGcblohqO"
      },
      "execution_count": 42,
      "outputs": []
    },
    {
      "cell_type": "code",
      "source": [
        "def get_embeddings(text_list):\n",
        "    encoded_input = tokenizer(\n",
        "        text_list, padding=True, truncation=True, return_tensors=\"pt\"\n",
        "    )\n",
        "    encoded_input = {k: v.to(device) for k, v in encoded_input.items()}\n",
        "    model_output = model(**encoded_input)\n",
        "    return cls_pooling(model_output)"
      ],
      "metadata": {
        "id": "rg5f509UokWx"
      },
      "execution_count": 43,
      "outputs": []
    },
    {
      "cell_type": "code",
      "source": [
        "embedding = get_embeddings(data['text'][0])\n",
        "embedding.shape"
      ],
      "metadata": {
        "colab": {
          "base_uri": "https://localhost:8080/"
        },
        "id": "4DgXwhIxoyG8",
        "outputId": "f52b313b-294c-4695-d433-f7967548f98b"
      },
      "execution_count": 44,
      "outputs": [
        {
          "output_type": "execute_result",
          "data": {
            "text/plain": [
              "torch.Size([1, 768])"
            ]
          },
          "metadata": {},
          "execution_count": 44
        }
      ]
    },
    {
      "cell_type": "code",
      "source": [
        "!pip install datasets\n",
        "from datasets import Dataset"
      ],
      "metadata": {
        "colab": {
          "base_uri": "https://localhost:8080/"
        },
        "id": "BEGXhIqbpwwE",
        "outputId": "bdf7ed71-2129-41f3-cc6a-7a9bd30fa8e7"
      },
      "execution_count": 45,
      "outputs": [
        {
          "output_type": "stream",
          "name": "stdout",
          "text": [
            "Requirement already satisfied: datasets in /usr/local/lib/python3.10/dist-packages (2.20.0)\n",
            "Requirement already satisfied: filelock in /usr/local/lib/python3.10/dist-packages (from datasets) (3.15.4)\n",
            "Requirement already satisfied: numpy>=1.17 in /usr/local/lib/python3.10/dist-packages (from datasets) (1.25.2)\n",
            "Requirement already satisfied: pyarrow>=15.0.0 in /usr/local/lib/python3.10/dist-packages (from datasets) (17.0.0)\n",
            "Requirement already satisfied: pyarrow-hotfix in /usr/local/lib/python3.10/dist-packages (from datasets) (0.6)\n",
            "Requirement already satisfied: dill<0.3.9,>=0.3.0 in /usr/local/lib/python3.10/dist-packages (from datasets) (0.3.8)\n",
            "Requirement already satisfied: pandas in /usr/local/lib/python3.10/dist-packages (from datasets) (2.0.3)\n",
            "Requirement already satisfied: requests>=2.32.2 in /usr/local/lib/python3.10/dist-packages (from datasets) (2.32.3)\n",
            "Requirement already satisfied: tqdm>=4.66.3 in /usr/local/lib/python3.10/dist-packages (from datasets) (4.66.4)\n",
            "Requirement already satisfied: xxhash in /usr/local/lib/python3.10/dist-packages (from datasets) (3.4.1)\n",
            "Requirement already satisfied: multiprocess in /usr/local/lib/python3.10/dist-packages (from datasets) (0.70.16)\n",
            "Requirement already satisfied: fsspec[http]<=2024.5.0,>=2023.1.0 in /usr/local/lib/python3.10/dist-packages (from datasets) (2023.6.0)\n",
            "Requirement already satisfied: aiohttp in /usr/local/lib/python3.10/dist-packages (from datasets) (3.9.5)\n",
            "Requirement already satisfied: huggingface-hub>=0.21.2 in /usr/local/lib/python3.10/dist-packages (from datasets) (0.23.5)\n",
            "Requirement already satisfied: packaging in /usr/local/lib/python3.10/dist-packages (from datasets) (24.1)\n",
            "Requirement already satisfied: pyyaml>=5.1 in /usr/local/lib/python3.10/dist-packages (from datasets) (6.0.1)\n",
            "Requirement already satisfied: aiosignal>=1.1.2 in /usr/local/lib/python3.10/dist-packages (from aiohttp->datasets) (1.3.1)\n",
            "Requirement already satisfied: attrs>=17.3.0 in /usr/local/lib/python3.10/dist-packages (from aiohttp->datasets) (23.2.0)\n",
            "Requirement already satisfied: frozenlist>=1.1.1 in /usr/local/lib/python3.10/dist-packages (from aiohttp->datasets) (1.4.1)\n",
            "Requirement already satisfied: multidict<7.0,>=4.5 in /usr/local/lib/python3.10/dist-packages (from aiohttp->datasets) (6.0.5)\n",
            "Requirement already satisfied: yarl<2.0,>=1.0 in /usr/local/lib/python3.10/dist-packages (from aiohttp->datasets) (1.9.4)\n",
            "Requirement already satisfied: async-timeout<5.0,>=4.0 in /usr/local/lib/python3.10/dist-packages (from aiohttp->datasets) (4.0.3)\n",
            "Requirement already satisfied: typing-extensions>=3.7.4.3 in /usr/local/lib/python3.10/dist-packages (from huggingface-hub>=0.21.2->datasets) (4.12.2)\n",
            "Requirement already satisfied: charset-normalizer<4,>=2 in /usr/local/lib/python3.10/dist-packages (from requests>=2.32.2->datasets) (3.3.2)\n",
            "Requirement already satisfied: idna<4,>=2.5 in /usr/local/lib/python3.10/dist-packages (from requests>=2.32.2->datasets) (3.7)\n",
            "Requirement already satisfied: urllib3<3,>=1.21.1 in /usr/local/lib/python3.10/dist-packages (from requests>=2.32.2->datasets) (2.0.7)\n",
            "Requirement already satisfied: certifi>=2017.4.17 in /usr/local/lib/python3.10/dist-packages (from requests>=2.32.2->datasets) (2024.7.4)\n",
            "Requirement already satisfied: python-dateutil>=2.8.2 in /usr/local/lib/python3.10/dist-packages (from pandas->datasets) (2.8.2)\n",
            "Requirement already satisfied: pytz>=2020.1 in /usr/local/lib/python3.10/dist-packages (from pandas->datasets) (2023.4)\n",
            "Requirement already satisfied: tzdata>=2022.1 in /usr/local/lib/python3.10/dist-packages (from pandas->datasets) (2024.1)\n",
            "Requirement already satisfied: six>=1.5 in /usr/local/lib/python3.10/dist-packages (from python-dateutil>=2.8.2->pandas->datasets) (1.16.0)\n"
          ]
        }
      ]
    },
    {
      "cell_type": "code",
      "source": [
        "# Assuming 'data' is your dictionary\n",
        "dataset = Dataset.from_dict(data)\n",
        "\n",
        "embeddings_dataset = dataset.map(\n",
        "    lambda x: {\"embeddings\": get_embeddings(x[\"text\"]).detach().cpu().numpy()[0]}\n",
        ")"
      ],
      "metadata": {
        "colab": {
          "base_uri": "https://localhost:8080/",
          "height": 49,
          "referenced_widgets": [
            "db868d3eaf554a24b0b0e96d5e206179",
            "8684b04dce30400791fca1517952f48a",
            "f29dd5d9b5464df8966fa4d460aa5e94",
            "8a5bedc2ad204753914fbfb731c32bca",
            "010e7bcce31843e6ac009dc0acdcf835",
            "a4733676f56e43bb8452765697e28f8f",
            "32a96c48353f4e4799dda0e07ef68d94",
            "73e5b44c3fd84d379aa45354fae73c9e",
            "8dba1dd83427424bbe03a3fc20a3e102",
            "df3f34f4d23b43bf9b7f42aa6e9aee08",
            "e40fa1e8d8474e8599e4874c3b4908fb"
          ]
        },
        "id": "e7ZpF8iqo72x",
        "outputId": "bd9b9d0c-0d9e-4622-ae07-218ee0357864"
      },
      "execution_count": 46,
      "outputs": [
        {
          "output_type": "display_data",
          "data": {
            "text/plain": [
              "Map:   0%|          | 0/3 [00:00<?, ? examples/s]"
            ],
            "application/vnd.jupyter.widget-view+json": {
              "version_major": 2,
              "version_minor": 0,
              "model_id": "db868d3eaf554a24b0b0e96d5e206179"
            }
          },
          "metadata": {}
        }
      ]
    },
    {
      "cell_type": "code",
      "source": [
        "print(embeddings_dataset)"
      ],
      "metadata": {
        "colab": {
          "base_uri": "https://localhost:8080/"
        },
        "id": "c9ifPwckpdBH",
        "outputId": "7e7888e5-094d-4b77-a151-9dddd0eea670"
      },
      "execution_count": 47,
      "outputs": [
        {
          "output_type": "stream",
          "name": "stdout",
          "text": [
            "Dataset({\n",
            "    features: ['text', 'embeddings'],\n",
            "    num_rows: 3\n",
            "})\n"
          ]
        }
      ]
    },
    {
      "cell_type": "code",
      "source": [
        "embeddings_dataset.add_faiss_index(column=\"embeddings\")"
      ],
      "metadata": {
        "colab": {
          "base_uri": "https://localhost:8080/",
          "height": 118,
          "referenced_widgets": [
            "244a446bc8634a908297f22e898b88d5",
            "3d7cff7516ee4dd0be38d4a56e939950",
            "a587efb505e64e5e97faa0f638bde7d0",
            "f4537a096a474428be090e489a86e5fb",
            "2c5e3264f8d44c81bf4896fa7931b581",
            "913cd42559544f14939d3453652792a6",
            "334426d3a6114de88f52af06d3a37f60",
            "b84861752bd5464b90009f4fe04388fd",
            "e4c0d63aa5cb4d08a60aa6689c92a7cc",
            "9a01f74a59644ea893402d86cae8a00d",
            "10016f5ae1b54e34b9bba1864f859825"
          ]
        },
        "id": "fW6_0JUIqaKA",
        "outputId": "f229516f-2f25-44b7-b64b-0ee2eeecddc3"
      },
      "execution_count": 48,
      "outputs": [
        {
          "output_type": "display_data",
          "data": {
            "text/plain": [
              "  0%|          | 0/1 [00:00<?, ?it/s]"
            ],
            "application/vnd.jupyter.widget-view+json": {
              "version_major": 2,
              "version_minor": 0,
              "model_id": "244a446bc8634a908297f22e898b88d5"
            }
          },
          "metadata": {}
        },
        {
          "output_type": "execute_result",
          "data": {
            "text/plain": [
              "Dataset({\n",
              "    features: ['text', 'embeddings'],\n",
              "    num_rows: 3\n",
              "})"
            ]
          },
          "metadata": {},
          "execution_count": 48
        }
      ]
    },
    {
      "cell_type": "code",
      "source": [
        "question = \"How can I load a dataset offline?\"\n",
        "question_embedding = get_embeddings([question]).cpu().detach().numpy()\n",
        "question_embedding.shape"
      ],
      "metadata": {
        "colab": {
          "base_uri": "https://localhost:8080/"
        },
        "id": "Q9UBx3hxqzpL",
        "outputId": "0b9c869a-c027-4d94-cfff-2bd2a91f7fbf"
      },
      "execution_count": 49,
      "outputs": [
        {
          "output_type": "execute_result",
          "data": {
            "text/plain": [
              "(1, 768)"
            ]
          },
          "metadata": {},
          "execution_count": 49
        }
      ]
    },
    {
      "cell_type": "code",
      "source": [
        "scores, samples = embeddings_dataset.get_nearest_examples(\n",
        "    \"embeddings\", question_embedding, k=5\n",
        ")"
      ],
      "metadata": {
        "id": "fgx-tZBgq3rT"
      },
      "execution_count": 50,
      "outputs": []
    },
    {
      "cell_type": "code",
      "source": [
        "import pandas as pd\n",
        "\n",
        "samples_df = pd.DataFrame.from_dict(samples)\n",
        "samples_df[\"scores\"] = scores\n",
        "samples_df.sort_values(\"scores\", ascending=False, inplace=True)"
      ],
      "metadata": {
        "id": "owsaMTFMq6Fx"
      },
      "execution_count": 51,
      "outputs": []
    },
    {
      "cell_type": "code",
      "source": [
        "for _, row in samples_df.iterrows():\n",
        "    print(f\"COMMENT: {row.text}\")\n",
        "    print(f\"SCORE: {row.scores}\")\n",
        "    print(f\"TITLE: {row.embeddings}\")\n",
        "    print(\"=\" * 50)\n",
        "    print()"
      ],
      "metadata": {
        "colab": {
          "base_uri": "https://localhost:8080/"
        },
        "id": "QrrNXD8Rq9zQ",
        "outputId": "938f884b-9f8e-4294-b331-0cff4e9fcaf0"
      },
      "execution_count": 52,
      "outputs": [
        {
          "output_type": "stream",
          "name": "stdout",
          "text": [
            "COMMENT: The quick brown jumps over the lazy dog.\n",
            "SCORE: 72.14004516601562\n",
            "TITLE: [-0.07283102720975876, -0.6770839691162109, -0.35731345415115356, -0.29229459166526794, 0.17197395861148834, 0.012172823771834373, 0.1538657695055008, 0.17560841143131256, -0.3977195918560028, 0.03237605094909668, 0.20412681996822357, 0.4029882550239563, -0.18322621285915375, -0.14170695841312408, 0.16373388469219208, -0.008798811584711075, 0.5085492730140686, 0.06594230979681015, 0.1743410974740982, -0.20824234187602997, -0.16542866826057434, -0.12899313867092133, -0.08397825807332993, 0.10811526328325272, -0.09620143473148346, 0.29099541902542114, 0.013769888319075108, 0.1105225682258606, 0.05719054862856865, -0.11325012892484665, 0.10608988255262375, 0.19963178038597107, -0.24760885536670685, 0.2864415943622589, -0.00010167317668674514, -0.1952168494462967, 0.06855903565883636, 0.3118581473827362, 0.4992114305496216, -0.3182898461818695, -0.21471835672855377, -0.19841268658638, -0.22566843032836914, -0.3308018743991852, -0.027919063344597816, 0.17176946997642517, 0.52405846118927, 0.15990768373012543, 0.30319926142692566, 0.12161430716514587, 0.2700853645801544, -0.10796409845352173, -0.2709061801433563, -0.03167735040187836, 0.38233524560928345, -0.3188643753528595, 0.0015122920740395784, 0.0371309295296669, 0.3399941325187683, -0.20291849970817566, -0.2736189067363739, -0.09435158222913742, -0.28095823526382446, -0.15108036994934082, 0.0752578154206276, 0.172651469707489, 0.47573938965797424, 0.3026694357395172, 0.0018808224704116583, 0.0295711699873209, -0.48134392499923706, 0.1330861896276474, 0.06713977456092834, -0.1000903770327568, 0.01847187802195549, 0.020824512466788292, -0.02840726263821125, 0.27951884269714355, 0.3651871383190155, 0.10671856254339218, -0.2796042263507843, 0.25401854515075684, -0.28042465448379517, -0.04433615878224373, -0.16636240482330322, 0.28762978315353394, 0.06548240035772324, 0.007729281671345234, 0.2625928223133087, 0.07087749987840652, 0.3485874831676483, -0.1262158900499344, 0.18949967622756958, 0.28952595591545105, 0.19555138051509857, -0.10485368967056274, 0.29381120204925537, 0.326225608587265, 0.056023817509412766, -0.02588970586657524, 0.155610129237175, -0.005553857889026403, 0.18729399144649506, 0.36273056268692017, 0.03966145217418671, -0.15330879390239716, -0.20852865278720856, -0.02320033498108387, -0.051595211029052734, 0.06234704330563545, -0.07296344637870789, 0.2331760823726654, -0.11500329524278641, -0.05714745447039604, 0.20377062261104584, -0.05939798057079315, 0.002396785654127598, 0.021375875920057297, -0.41043388843536377, 0.14329983294010162, -0.19168703258037567, -0.029946867376565933, -0.10844628512859344, 0.16434741020202637, -0.19272111356258392, 0.12983432412147522, -0.33055511116981506, 0.22694271802902222, -0.0594317764043808, 0.02182016335427761, -0.46946313977241516, 0.07841471582651138, -0.010512879118323326, -0.4766682982444763, -0.32389211654663086, -0.05506599321961403, 0.23516473174095154, 0.19673611223697662, -0.09274835139513016, -0.11692970991134644, 0.2483987808227539, -0.2561420500278473, -0.1689271628856659, -0.17599955201148987, -0.25679489970207214, -0.3376329839229584, 0.22684593498706818, 0.09030487388372421, -0.18071189522743225, 0.289987713098526, 0.030267449095845222, -0.0005715246079489589, 0.06464996188879013, 0.35334888100624084, -0.11332584172487259, -0.33660560846328735, 0.20841015875339508, 0.306945264339447, 0.03902123123407364, -0.049259915947914124, 0.23114655911922455, 0.21559397876262665, -0.13489404320716858, -0.2733175456523895, -0.17849993705749512, 0.038587309420108795, 0.12445878237485886, -0.16495832800865173, -0.12824493646621704, -0.2611067295074463, 0.3796745836734772, -0.27848756313323975, 0.07356911152601242, 0.033822257071733475, -0.07201118022203445, 0.3167669475078583, 0.026318475604057312, -0.11412153393030167, -0.156795471906662, 0.044128622859716415, -0.3056267201900482, 0.4073120355606079, 0.3691904544830322, 0.20430049300193787, -0.24542248249053955, -0.34768757224082947, 0.11261601746082306, 0.4478777050971985, -0.37267008423805237, -0.16045105457305908, -0.2540242373943329, -0.19284524023532867, 0.3199998438358307, 0.1590225100517273, 0.4774135947227478, -0.17856845259666443, -0.14216817915439606, 0.24709604680538177, 0.15005561709403992, 0.4211217164993286, -0.4864336848258972, 0.02294006757438183, 0.09435644000768661, -0.21727705001831055, -0.234564408659935, -0.14746639132499695, 0.23749566078186035, -0.014111459255218506, 0.3007914423942566, -0.16718712449073792, 0.4053073227405548, -0.12954333424568176, -0.4045571982860565, 0.18714173138141632, -0.09555062651634216, 0.06371612846851349, 0.3012201189994812, -0.025566475465893745, -0.17098292708396912, 0.1157035082578659, -0.08394602686166763, 0.21638177335262299, -0.017241980880498886, 0.10875818133354187, 0.1107729896903038, 0.3081704080104828, -0.19541674852371216, -0.0395740270614624, -0.11313632130622864, -0.1124919131398201, -0.04366493597626686, -0.00572550343349576, 0.1769629567861557, 0.2942189872264862, -0.163932204246521, 0.4421568214893341, 0.1648276001214981, 0.32350248098373413, -0.0781187042593956, -0.3831753432750702, 0.04047707840800285, 0.03508003056049347, -0.10304096341133118, -0.1878926008939743, -0.17028586566448212, 0.25063034892082214, -0.16041307151317596, 0.05530092865228653, -0.09260250627994537, -0.4064199924468994, -0.4974440336227417, 0.022747905924916267, 0.08859201520681381, 0.005560967139899731, 0.3633361756801605, 0.06411535292863846, 0.33820444345474243, 0.13952848315238953, -0.4080648124217987, 0.23718072474002838, 0.3663376569747925, 0.08105399459600449, -0.06104530766606331, 0.11127118021249771, 0.0845431461930275, -0.11929705739021301, 0.013624604791402817, -0.055351197719573975, 0.02303815446794033, 0.29766857624053955, 0.24102260172367096, 0.044746171683073044, -0.3718051016330719, -0.17652128636837006, 0.1593237817287445, 0.009286976419389248, 0.23973329365253448, -0.10784396529197693, 0.19540752470493317, -0.04442240670323372, -0.19948118925094604, 0.023285256698727608, -0.1453137993812561, -0.06943415850400925, 0.24993252754211426, -0.057435035705566406, -0.0339435450732708, -0.3101249635219574, -0.07956232130527496, 0.1440032422542572, 0.1905798465013504, -0.11328399181365967, 0.271267294883728, 0.3617328703403473, 0.013766990043222904, -0.09334637969732285, -0.08762100338935852, 0.19304285943508148, 0.09262338280677795, 0.04075168818235397, -0.05952295660972595, -0.055285368114709854, 0.0033192916307598352, 0.16628366708755493, 0.13368476927280426, -0.24891024827957153, 0.06515324860811234, -0.309887170791626, -0.08056548237800598, 0.4331817328929901, -0.42022302746772766, -0.08005747199058533, -0.03346928581595421, 0.08292123675346375, 0.15716521441936493, 0.06942929327487946, -0.3521973192691803, -0.1436357945203781, 0.09179554879665375, -0.11226756125688553, -0.14990876615047455, -0.14836876094341278, 0.3381863534450531, 0.060495615005493164, -0.046494752168655396, 0.10206465423107147, 0.5019792914390564, -0.15799559652805328, 0.26486271619796753, -0.2607017159461975, -0.0919477716088295, -0.45979151129722595, 0.17871879041194916, 0.15773144364356995, -0.0818186029791832, 0.10645540058612823, -0.009419947862625122, -0.30100011825561523, 0.06283339112997055, 0.22767478227615356, 0.12688584625720978, -0.13459280133247375, -0.17947489023208618, -0.07582685351371765, -0.4392528831958771, -0.35676756501197815, -0.24493376910686493, 0.13143573701381683, 0.27955546975135803, -0.13515377044677734, -0.12883742153644562, -0.1430131196975708, 0.2727753221988678, -0.3183991611003876, -0.2916406989097595, 0.06148407980799675, 0.23973265290260315, 0.20165427029132843, 0.24282100796699524, 0.024464400485157967, 0.0644933432340622, 0.44110745191574097, 0.5102644562721252, 0.04430036246776581, 0.24848954379558563, -0.07099426537752151, 0.24098806083202362, -0.1188933327794075, 0.06009794399142265, -0.11978815495967865, 0.12259093672037125, 0.2410493791103363, -0.12771953642368317, 0.5188109278678894, -0.08595255017280579, -0.07616431266069412, 0.22526191174983978, -0.21989589929580688, -0.17414362728595734, -0.08624327927827835, -0.047646716237068176, -0.2963886857032776, -0.4023524820804596, 0.05719778686761856, -0.25775328278541565, -0.2120845466852188, 0.094680055975914, -0.2140776515007019, -0.061945363879203796, 0.026721596717834473, 0.28674185276031494, 0.35214781761169434, -0.10840021073818207, 0.06613785773515701, -0.015700338408350945, 0.24008074402809143, -0.06713920831680298, -0.1364060938358307, -0.18098881840705872, 0.0626455545425415, -0.29977113008499146, 0.8855687379837036, 0.15028613805770874, 0.05489277094602585, -0.08121328800916672, 0.16915754973888397, 0.08689942210912704, -0.10194443166255951, -0.25925686955451965, -0.02753659524023533, 0.2557094097137451, -0.10780021548271179, -0.03513556718826294, 0.1769680678844452, 0.19866396486759186, -0.05275237187743187, 0.24754033982753754, 0.141180619597435, -0.3036956489086151, -0.06150263547897339, 0.007165075279772282, 0.27866101264953613, 0.10769742727279663, -0.18620462715625763, -0.4021832048892975, -0.2928074598312378, -0.19065581262111664, -0.02558824047446251, 0.16734737157821655, -0.1838393658399582, -0.10230673104524612, -0.396072119474411, 0.12439700961112976, -0.10748647898435593, -0.15958502888679504, -0.23903413116931915, 0.12960639595985413, 0.0373958945274353, -0.20278304815292358, -0.18511836230754852, -0.2552260458469391, 0.2434820532798767, 0.20581752061843872, 0.09498192369937897, 0.278110146522522, 0.017494268715381622, -0.09922720491886139, 0.08565053343772888, 0.204288050532341, 0.3944430351257324, 0.24963118135929108, 0.31181567907333374, -0.1892012655735016, 0.42406752705574036, 0.21723730862140656, -0.12447942793369293, -0.07173655927181244, -0.2121082842350006, -0.0006492004031315446, -0.13807688653469086, 0.1731138527393341, 0.8832324147224426, -0.21963085234165192, 0.13388702273368835, 0.049274444580078125, -0.24695084989070892, -0.18113671243190765, 0.044759053736925125, 0.1458253413438797, -0.19043628871440887, -0.396843820810318, -0.023036057129502296, -0.11550291627645493, 0.06615787744522095, 0.14752350747585297, -0.11301328241825104, 0.04024678096175194, -0.3735526502132416, 0.43037983775138855, 0.1548025906085968, -0.7264311909675598, -0.09989460557699203, 0.2326192408800125, 0.00736331008374691, 0.24052554368972778, -0.006459144409745932, -0.22488684952259064, -0.33587074279785156, 0.018758023157715797, 0.13373763859272003, -0.08726969361305237, -0.07251817733049393, 0.03616654872894287, -0.02693193592131138, -0.043846745043992996, 0.041934750974178314, -0.326312780380249, -0.32868054509162903, 0.13181261718273163, 0.031734053045511246, 0.09123389422893524, 0.2546018958091736, 0.08314883708953857, 0.6149324178695679, 0.10583405941724777, 0.09391746670007706, 0.09264043718576431, 0.2573571503162384, -0.22588831186294556, -0.07428577542304993, -0.09890524297952652, -0.1455518901348114, 0.11667265743017197, -0.27387601137161255, 0.2617000937461853, 0.3342556655406952, 0.19727325439453125, -0.19277659058570862, 0.2736145853996277, -0.025766432285308838, -0.1724066585302353, 0.3018672466278076, -0.0544016994535923, 0.1599760502576828, -0.019114501774311066, -0.05926807224750519, -0.2648060619831085, -0.11027653515338898, 0.1519821435213089, 0.30664196610450745, -0.25044864416122437, 0.23814788460731506, -0.15284323692321777, -0.313260555267334, -0.2022821307182312, 0.08098853379487991, 0.27183398604393005, 0.025038423016667366, 0.25462549924850464, -0.29502254724502563, -0.20738038420677185, 0.33711546659469604, -0.07167256623506546, 0.004520298447459936, 0.006955295335501432, -0.06501178443431854, 0.10323730111122131, 0.09996705502271652, 0.1506778448820114, 0.08435231447219849, 0.2807549834251404, -0.1496000438928604, 0.27285128831863403, -0.054639801383018494, -0.0806683599948883, -0.45825356245040894, -0.006264205556362867, -0.4601899981498718, -0.17516659200191498, -0.4861873388290405, 0.042287200689315796, -0.22741439938545227, 0.1906697005033493, 0.3093681037425995, 0.2102985978126526, -0.272515207529068, -0.40110692381858826, -0.13029703497886658, 0.04901579022407532, -0.09340497106313705, 0.03612929955124855, 0.18744033575057983, 0.008517471142113209, -0.149799644947052, 0.20505425333976746, -0.11022953689098358, -0.13431398570537567, 0.18592500686645508, 0.004908760078251362, 0.12472740560770035, 0.33337971568107605, 0.2729887366294861, -0.5875882506370544, -0.01825505681335926, 0.2198702096939087, -0.17404447495937347, -0.18177387118339539, 0.035697706043720245, 0.08225246518850327, 0.5390563011169434, 0.11028881371021271, 0.5647731423377991, -0.000919018464628607, 0.2625691890716553, 0.022622443735599518, -0.23762132227420807, -0.10580460727214813, -0.18739691376686096, 0.1742812693119049, -0.07678260654211044, -0.21836262941360474, 0.145880326628685, 0.31679022312164307, -0.24983204901218414, -0.009606732986867428, -0.05912892520427704, -0.25348612666130066, 0.09024690836668015, 0.08305119723081589, -0.221662238240242, 0.10546651482582092, 0.048337746411561966, 0.25534331798553467, 0.13275817036628723, -0.2144651561975479, 0.0460810549557209, 0.19230298697948456, 0.0835343599319458, 0.020612871274352074, 0.2334587126970291, 0.28555721044540405, 0.30655303597450256, 0.1712702363729477, 0.4364072382450104, 0.24602313339710236, -0.04215539991855621, 0.10932867228984833, 0.20202156901359558, 0.16738440096378326, -0.34592145681381226, 0.3750910758972168, -0.2544589638710022, 0.30858883261680603, 0.12400485575199127, 0.557097852230072, 0.017310183495283127, -0.13212861120700836, -0.13858354091644287, 0.026950623840093613, 0.15967847406864166, -0.10519129037857056, 0.26719966530799866, 0.022662753239274025, -0.2558003067970276, -0.23618902266025543, 0.15411551296710968, 0.020496802404522896, 0.2545243799686432, 0.1614658683538437, 0.3070754110813141, -0.2682895362377167, 0.019781440496444702, -0.2534734606742859, 0.2898814082145691, -0.2201373279094696, 0.055983491241931915, 0.4380018413066864, -0.3622402548789978, 0.1631702333688736, 0.10528900474309921, -0.00889576692134142, 0.0948452576994896, -0.058071721345186234, -0.22277793288230896, -0.33224937319755554, -0.03888373449444771, -0.21174359321594238, -0.06964630633592606, 0.18607670068740845, -0.15741311013698578, -0.092193603515625, 0.2280358523130417, -0.3008454442024231, 0.5587657690048218, 0.19373323023319244, -0.24722029268741608, 0.13614508509635925, 0.24694985151290894, -0.21416543424129486, 0.11730913817882538, -0.08112381398677826, 0.0931592509150505, -0.42349374294281006, -0.08406934142112732, -0.1252596527338028, -0.009450710378587246, -0.045948851853609085, 0.20331642031669617, 0.16934733092784882, 0.34624114632606506, -0.16200461983680725, 0.2658790349960327, 0.42834895849227905, -0.033346906304359436, -0.2300448715686798, -0.1172303855419159, 0.2408314347267151, 0.20118170976638794, -0.03788268193602562, 0.24293650686740875, 0.05141414701938629, -0.39276814460754395, 0.009930449537932873, 0.23954972624778748, -0.26283329725265503, -0.05868286266922951, 0.14038605988025665, 0.02332240901887417, -0.21485157310962677, 0.04268879070878029, -0.5157590508460999, -0.0318061001598835, 0.17072299122810364, -0.11045023798942566, -0.4051624834537506, 0.23175160586833954, -0.009736830368638039, 0.17262575030326843, -0.03197178989648819, -0.3983387351036072, -0.0970441922545433, -0.26862332224845886, -0.23717962205410004, -0.1836138218641281, 0.22680118680000305, 0.29201021790504456, -0.07281022518873215, -0.5005048513412476, -0.00942916702479124, -0.10537645220756531, 0.13624966144561768, -0.23384788632392883, -0.0022473428398370743, 0.5022116899490356, -0.19305729866027832, 0.2908261716365814, -0.19482296705245972, -0.1990758776664734, 0.0971333384513855, -0.19786199927330017, 0.19774699211120605, -0.20484842360019684, 0.19757625460624695, 0.12399928271770477, -0.034030575305223465, -0.1518114060163498, -0.15077552199363708, 0.38874438405036926, 0.17660211026668549, -0.3956511616706848, -0.36320915818214417, 0.04631501063704491, 0.2048470824956894, -0.07307051122188568, -0.11772500723600388, -0.3336127698421478, 0.04053184390068054, 0.050965920090675354, -0.23803135752677917, 0.34406113624572754, 0.14417791366577148, 0.06336130201816559, -0.1674002856016159, -0.1115085631608963, -0.13401499390602112, 0.17870990931987762, 0.2822616398334503, -0.2395550012588501]\n",
            "==================================================\n",
            "\n",
            "COMMENT: She sells sea by the seashore.\n",
            "SCORE: 66.10962677001953\n",
            "TITLE: [0.1757667511701584, 0.23515640199184418, -0.34542474150657654, -0.1616889089345932, 0.061071399599313736, -0.1931818276643753, 0.20398016273975372, 0.3894633650779724, -0.3214535117149353, 0.24962250888347626, -0.5939995646476746, 0.4281001091003418, 0.10820724070072174, 0.2665310800075531, -0.27279359102249146, -0.13429954648017883, 0.32905441522598267, 0.5647902488708496, -0.036077141761779785, -0.1273159682750702, -0.08230993896722794, 0.01652861014008522, -0.18662585318088531, 0.23227015137672424, 0.16102656722068787, -0.2295682430267334, -0.1908728927373886, 0.11270066350698471, 0.20765899121761322, 0.14864298701286316, -0.0392606258392334, -0.0004495405300986022, 0.1767214834690094, 0.06088746711611748, -0.00010549308353802189, -0.03171898424625397, -0.07620563358068466, -0.2356298714876175, -0.09493950009346008, -0.1279103308916092, 0.24724867939949036, 0.31592532992362976, -0.11620891094207764, -0.3812907338142395, -0.07825784385204315, -0.12310796231031418, 0.0572342649102211, 0.178029865026474, -0.03699379414319992, -0.28794065117836, 0.22855159640312195, -0.01527644507586956, -0.347496896982193, 0.027024175971746445, 0.3680606484413147, -0.2470608651638031, -0.04771747812628746, -0.16856081783771515, -0.02903580665588379, -0.23457059264183044, 0.4656425714492798, 0.38171136379241943, -0.3233202397823334, 0.11737195402383804, -0.09872794151306152, 0.3368767201900482, 0.3535093367099762, 0.09727360308170319, 0.29141053557395935, 0.17362847924232483, -0.11102737486362457, 0.05711181089282036, 0.0679272785782814, 0.18438634276390076, 0.06862400472164154, 0.36312589049339294, 0.000523198104929179, 0.026034358888864517, -0.013781142421066761, -0.08545171469449997, -0.07940997183322906, -0.08952923119068146, -0.22670868039131165, 0.40972548723220825, -0.2476414144039154, 0.006433769594877958, -0.2510561943054199, 0.2845161557197571, 0.1853064000606537, -0.434324711561203, -0.34412744641304016, 0.11964781582355499, -0.48827406764030457, -0.21161077916622162, 0.04156826063990593, -0.19354940950870514, 0.19962210953235626, 0.23712289333343506, -0.1863320916891098, -0.23890992999076843, 0.03214489668607712, 0.0081238504499197, -0.2543860077857971, 0.16590557992458344, 0.3143566846847534, -0.13495232164859772, 0.10283279418945312, 0.006236536428332329, -0.020690226927399635, 0.5131921172142029, 0.1285603940486908, 0.11914869397878647, 0.153499573469162, -0.1815209686756134, -0.15991808474063873, -0.3462285101413727, -0.09132996201515198, 0.07482743263244629, -0.4246211349964142, -0.04775678366422653, 0.1316782832145691, 0.14130912721157074, -0.005405210889875889, 0.24627470970153809, -0.012840553186833858, -0.029311828315258026, 0.17666853964328766, 0.18413151800632477, 0.4980693459510803, 0.07552962750196457, -0.4143159091472626, 0.3542018532752991, 0.12770815193653107, -0.09451689571142197, 0.11151745170354843, -0.2563454210758209, 0.15518490970134735, -0.35368385910987854, -0.5661563873291016, -0.09510954469442368, -0.21919837594032288, -0.23432336747646332, -0.06629595160484314, 0.03983377292752266, -0.2482990324497223, -0.09227802604436874, -0.12132177501916885, -0.15409106016159058, -0.22861060500144958, -0.008412254974246025, 0.009868734516203403, -0.34228116273880005, 0.2436400204896927, 0.22625215351581573, 0.49554574489593506, -0.2754456400871277, 0.3654158413410187, 0.33497509360313416, 0.12674570083618164, 0.034310732036828995, 0.06733347475528717, 0.13799722492694855, -0.34007665514945984, -0.055820271372795105, 0.05117054656147957, 0.18522067368030548, 0.05881180241703987, 0.24542562663555145, -0.3172777593135834, -0.1718129962682724, 0.26134800910949707, -0.22901877760887146, 0.08571949601173401, 0.15998004376888275, -0.008446506224572659, -0.10297101736068726, 0.05720124766230583, -0.07462640106678009, 0.33302128314971924, 0.16505591571331024, -0.07345408946275711, -0.6770245432853699, -0.17103442549705505, -0.18323031067848206, 0.2010842114686966, 0.01745457388460636, 0.2732986807823181, -0.016125330701470375, -0.0616220198571682, -0.04980292171239853, 0.12134955823421478, -0.1733059585094452, -0.33169031143188477, 0.271158367395401, -0.43402424454689026, 0.24401967227458954, 0.03544697165489197, 0.13281601667404175, -0.2274128794670105, 0.29866111278533936, 0.03813863545656204, 0.1812242567539215, 0.3515874743461609, 0.30024453997612, 0.030018651857972145, 0.04968852177262306, 0.2327294498682022, -0.18448896706104279, -0.055908966809511185, 0.14093615114688873, 0.08291567116975784, -0.1301160305738449, -0.09008672088384628, 0.3225303590297699, 0.4396950304508209, -0.08666934072971344, 0.23447471857070923, 0.1971846967935562, 0.026595326140522957, 0.08772484213113785, -0.08963407576084137, -0.5618632435798645, -0.211875319480896, -0.19477194547653198, 0.4606728255748749, -0.5063005089759827, -0.29280105233192444, 0.05013851821422577, 0.05392501875758171, 0.35881704092025757, 0.19638590514659882, 0.003734612138941884, 0.3862002193927765, 0.2491297423839569, -0.0425361730158329, 0.4256507158279419, 0.267330139875412, 0.12433730810880661, -0.17602112889289856, -0.10884585976600647, 0.33950522541999817, 0.04204152524471283, -0.0718763992190361, -0.15151934325695038, -0.1769016981124878, 0.5557146072387695, -0.1842203289270401, 0.12887679040431976, 0.002078694524243474, 0.10239744186401367, -0.04451136291027069, 0.08061042428016663, 0.37852880358695984, 0.010410147719085217, -0.025036264210939407, -0.24037203192710876, -0.07966752350330353, -0.11704331636428833, -0.2815481424331665, 0.07020704448223114, 0.1052342876791954, 0.0807158574461937, 0.32785922288894653, -0.13013197481632233, -0.00038753068656660616, -0.14158408343791962, 0.07670042663812637, -0.057733964174985886, -0.048978663980960846, 0.10790286213159561, 0.31048834323883057, -0.3416720926761627, 0.26807692646980286, -0.048824772238731384, 0.40356430411338806, 0.08648883551359177, -0.18858025968074799, -0.06350959837436676, 0.12132934480905533, -0.11398027092218399, -0.15151168406009674, -0.21307267248630524, -0.05102289840579033, 0.17353856563568115, 0.29360055923461914, -0.09920412302017212, 0.2110595852136612, 0.06262706220149994, -0.28001636266708374, 0.09881801158189774, 0.23980532586574554, 0.01217387244105339, 0.33308184146881104, 0.6755999326705933, -0.24740169942378998, 0.00697513809427619, 0.023776566609740257, 0.22391042113304138, -0.19481131434440613, -0.2824794352054596, -0.0351727120578289, -0.1091155931353569, -0.2833291292190552, 0.2046683132648468, -0.31471118330955505, 0.023093027994036674, -0.27766379714012146, 0.1670435667037964, 0.04956120252609253, -0.20996125042438507, -0.5233423709869385, 0.032224804162979126, 0.13580729067325592, -0.4155154228210449, 0.5622885823249817, 0.36591482162475586, -0.22153916954994202, 0.04064156115055084, 0.12350206822156906, -0.14846034348011017, 0.11016707867383957, 0.06620456278324127, -0.2685970067977905, -0.016586268320679665, -0.24471905827522278, -0.23242752254009247, 0.1624145656824112, 0.05481574684381485, -0.03750208020210266, -0.3226696252822876, 0.14183272421360016, -0.023308029398322105, 0.2577573359012604, 0.13654547929763794, -0.10350304841995239, 0.1149340495467186, 0.3865780830383301, -0.01947922073304653, 0.018050536513328552, 0.34122130274772644, 0.25506970286369324, -0.09028218686580658, -0.30087026953697205, -0.16540111601352692, -0.38624757528305054, -0.5070022344589233, 0.06615134328603745, 0.5264956951141357, 0.15760162472724915, 0.009698940441012383, -0.13355565071105957, 0.24972359836101532, -0.047893933951854706, -0.3400900363922119, -0.2527756989002228, 0.14271023869514465, 0.2530491352081299, 0.2515529692173004, 0.0076536089181900024, 0.03174488618969917, -0.10678534209728241, -0.17292152345180511, 0.09245804697275162, -0.5403614640235901, 0.12824003398418427, 0.41787564754486084, 0.46401774883270264, 0.22882623970508575, 0.24572469294071198, 0.1362805962562561, -0.22045935690402985, 0.4896985590457916, -0.08078771084547043, 0.21733245253562927, 0.09683037549257278, -0.38864684104919434, -0.20297908782958984, -0.12184134870767593, -0.06756486743688583, 0.283172607421875, 0.3591926097869873, 0.5448834300041199, 0.11434370279312134, -0.03980657830834389, -0.12066321820020676, 0.2372407764196396, -0.03784036636352539, -0.5158358216285706, -0.028242992237210274, -0.05985302850604057, 0.02000778540968895, -0.10813324898481369, 0.14740942418575287, 0.20687389373779297, -0.27045708894729614, 0.026665829122066498, 0.2111482322216034, 0.12094118446111679, -0.17481574416160583, 0.14462736248970032, -0.1902531385421753, 0.8927426934242249, 0.44926562905311584, -0.006541584152728319, -0.1283695250749588, 0.020277239382267, 0.040259167551994324, 0.035051435232162476, -0.09164369106292725, -0.1354057490825653, 0.08851362764835358, 0.0686575174331665, 0.006354541052132845, 0.22163701057434082, 0.2061084806919098, -0.5196035504341125, 0.10902738571166992, 0.4803221821784973, -0.004274141509085894, -0.34114065766334534, 0.2683696746826172, 0.05617580935359001, -0.15503962337970734, -0.08681784570217133, 0.0872364491224289, 0.006512551102787256, 0.21397417783737183, 0.1021137535572052, -0.0021938292775303125, 0.03856030851602554, 0.0919208899140358, -0.06304040551185608, 0.13898023962974548, -0.1160239726305008, 0.08604151010513306, 0.2748848795890808, 0.07499992847442627, -0.2403525412082672, 0.25561171770095825, -0.15461130440235138, -0.010335475206375122, 0.07824278622865677, 0.23619385063648224, 0.1140473484992981, 0.018241554498672485, 0.183144211769104, 0.2458030730485916, 0.434137225151062, -0.1557372361421585, -0.016795564442873, -0.18742883205413818, 0.357832133769989, -0.19942840933799744, 0.356432169675827, -0.4546566307544708, -0.020503778010606766, -0.31456395983695984, 0.0064254687167704105, 0.11860761791467667, 0.12336849421262741, -0.06403568387031555, 0.8999173045158386, 0.032461017370224, 0.1745532900094986, -0.15650759637355804, -0.05057274177670479, 0.34890487790107727, -0.45162534713745117, -0.012836537323892117, 0.0038160826079547405, 0.10367932915687561, 0.19293251633644104, 0.06507822126150131, -0.16699060797691345, 0.21720083057880402, -0.1005488708615303, 0.0600920207798481, 0.03841478005051613, 0.3030410706996918, 0.07755965739488602, -0.44586044549942017, -0.02879287675023079, -0.06511879712343216, 0.31015923619270325, 0.22144156694412231, 0.08208519965410233, 0.1679929792881012, 0.1974380910396576, -0.09411333501338959, 0.03922528028488159, -0.0990094393491745, -0.003954732324928045, 0.22561973333358765, 0.14993667602539062, 0.09465543180704117, 0.06304983794689178, 0.11164995282888412, -0.4253041744232178, 0.1449872851371765, -0.11414912343025208, -0.28780457377433777, -0.13611918687820435, 0.03804010897874832, -0.06185378134250641, -0.37330466508865356, -0.2606245279312134, 0.5032814741134644, -0.03187742829322815, -0.03841983526945114, -0.4595823884010315, -0.049208298325538635, 0.2857241630554199, -0.20616017282009125, -0.9320987462997437, 0.317707896232605, 0.3259649872779846, 0.05283617600798607, -0.31445571780204773, 0.24755221605300903, -0.14577807486057281, -0.08730068057775497, 0.16723138093948364, 0.23286612331867218, -0.13721488416194916, -0.3546399176120758, -0.1600312739610672, 0.09206239879131317, -0.17871087789535522, 0.2859737277030945, 0.16814042627811432, 0.24339286983013153, 0.2998111844062805, -0.08369508385658264, -0.07243232429027557, -0.4727526307106018, -0.1675645112991333, -0.23746496438980103, 0.009410853497684002, 0.10975378006696701, -0.23078052699565887, -0.09089604765176773, -0.11141499876976013, 0.24148082733154297, 0.15214002132415771, 0.22956952452659607, -0.022817613556981087, -0.600547194480896, 0.11338621377944946, -0.030268603935837746, 0.18224598467350006, 0.14796900749206543, -0.4675545394420624, -0.12943556904792786, -0.10883587598800659, 0.06836225092411041, -0.30452433228492737, 0.09394584596157074, 0.16061998903751373, 0.23605723679065704, 0.11328814178705215, 0.20980671048164368, 0.00938545260578394, 0.15773512423038483, 0.3358212113380432, 0.1952776312828064, -0.08929045498371124, -0.28878793120384216, 0.0513761043548584, 0.08757617324590683, 0.2955082654953003, -0.16320939362049103, -0.5648153424263, -0.08034281432628632, -0.29336562752723694, 0.062405407428741455, -0.15073850750923157, -0.27459293603897095, 0.2702091336250305, 0.016741709783673286, 0.3357919156551361, 0.2825927138328552, 0.3255308270454407, -0.1922263354063034, 0.2896338403224945, 0.2777203917503357, -0.1347467452287674, -0.11390292644500732, 0.2578667104244232, -0.07864208519458771, 0.05671438202261925, -0.04541587457060814, -0.14487402141094208, 0.14531661570072174, 0.17637866735458374, 0.17165358364582062, -0.04195982217788696, -0.2421649694442749, -0.01297776773571968, 0.19146180152893066, 0.0955047532916069, -0.07792381197214127, 0.49108919501304626, 0.24488531053066254, -0.09319000691175461, 0.03246435895562172, -0.01333200465887785, -0.1450262814760208, -0.1557346135377884, 0.1098281592130661, -0.49664056301116943, 0.5317479968070984, 0.3544161319732666, -0.12266855686903, -0.03213267773389816, -0.040681418031454086, 0.001624317024834454, 0.06943108886480331, -0.1946960836648941, 0.002104175975546241, -0.12947191298007965, 0.2565058171749115, -0.10412368178367615, 0.39370566606521606, 0.019762206822633743, 0.3137674927711487, -0.011375192552804947, -0.25114816427230835, 0.2288622260093689, -0.12199223041534424, -0.1278473287820816, 0.2979069650173187, 0.43206271529197693, 0.4751799702644348, -0.17659063637256622, 0.20638836920261383, -0.4692792594432831, -0.04528798907995224, -0.12001952528953552, -0.3888828456401825, -0.15078704059123993, -0.3308258354663849, -0.037173449993133545, -0.12457458674907684, 0.08275110274553299, 0.2336677461862564, 0.05944318324327469, -0.1389029175043106, 0.15093937516212463, 0.14212355017662048, -0.4123685657978058, -0.4776211977005005, -0.4111891984939575, 0.1578071117401123, -0.23568689823150635, 0.1834329515695572, -0.0936560407280922, 0.4733535051345825, 0.054571494460105896, 0.02630617842078209, -0.2502397894859314, 0.0037975995801389217, 0.06410999596118927, 0.03462938591837883, 0.08061258494853973, -0.2086520940065384, -0.3731085956096649, -0.0169383455067873, -0.28706857562065125, 0.17888368666172028, 0.02409849315881729, 0.0015449877828359604, 0.15343454480171204, -0.15746387839317322, 0.41430434584617615, 0.35918113589286804, 0.26244622468948364, 0.06971926987171173, 0.31164243817329407, -0.024485476315021515, -0.09556448459625244, -0.12426785379648209, 0.011802162043750286, 0.13618583977222443, 0.14122210443019867, -0.3469126522541046, 0.02400573343038559, -0.11012778431177139, 0.16929523646831512, 0.10491906106472015, -0.16273050010204315, 0.019599150866270065, 0.22381548583507538, 0.31063756346702576, -0.10998935997486115, -0.29022499918937683, 0.18395544588565826, 0.019116820767521858, -0.14283905923366547, -0.20617184042930603, -0.008177485316991806, -0.019597996026277542, 0.05134458467364311, -0.10335467755794525, 0.41560518741607666, 0.13619710505008698, 0.06327954679727554, -0.3703724443912506, -0.07681310921907425, -0.47816649079322815, -0.1492370069026947, -0.03573267161846161, 0.10263632982969284, -0.3765096664428711, 0.02871600352227688, 0.026276348158717155, 0.1910351812839508, -0.3863292634487152, 0.09811821579933167, -0.3100874722003937, 0.07969343662261963, -0.3247833549976349, -0.3286387622356415, -0.26841673254966736, -0.14181959629058838, 0.11346631497144699, 0.3731347620487213, -0.11222017556428909, 0.022213298827409744, -0.04969949647784233, 0.07185625284910202, 0.4866787791252136, -0.33476632833480835, -0.21248140931129456, 0.10615959763526917, 0.3796723186969757, 0.14435702562332153, -0.11885183304548264, 0.024076173081994057, 0.036549415439367294, -0.2318345308303833, -0.005869245156645775, -0.0015333910705521703, -0.13304327428340912, 0.08136240392923355, -0.35062769055366516, -0.2217428833246231, -0.03291858732700348, 0.23749332129955292, -0.211747944355011, -0.1946343034505844, 0.017059599980711937, 0.03472975641489029, 0.05713474005460739, 0.4877857565879822, -0.4820847511291504, 0.06813643872737885, 0.1136886328458786, -0.03500978648662567, -0.2232210785150528, -0.010070392861962318, -0.0721621885895729, -0.13457971811294556, -0.11191923916339874, 0.014916487969458103, 0.132815882563591, -0.1192535012960434, -0.04407918453216553, -0.39176681637763977]\n",
            "==================================================\n",
            "\n",
            "COMMENT: A day in the park is wonderful.\n",
            "SCORE: 64.26490783691406\n",
            "TITLE: [-0.443301796913147, 0.16995550692081451, -0.3259381949901581, -0.27621105313301086, -0.03532513231039047, -0.32387346029281616, 0.011091610416769981, 0.07583080977201462, 0.0476769395172596, 0.14123843610286713, 0.017543600872159004, 0.4200957417488098, -0.19253741204738617, -0.1390378624200821, -0.4987909197807312, -0.40664640069007874, 0.10364668071269989, -0.056690629571676254, -0.15165232121944427, 0.12238115072250366, -0.2712087631225586, -0.0648234561085701, 0.07144846022129059, -0.27206358313560486, 0.050899021327495575, -0.27514955401420593, -0.014490477740764618, 0.07945407181978226, 0.04427256062626839, -0.2234877347946167, -0.2347952276468277, -0.15713492035865784, 0.19950991868972778, 0.20274850726127625, -9.771129407454282e-05, -0.0758153572678566, 0.10822060704231262, 0.014519152231514454, 0.08350954204797745, 0.14066964387893677, -0.16156330704689026, 0.14404486119747162, 0.03988998755812645, -0.1137869656085968, 0.013448446989059448, -0.01232758816331625, 0.04370354488492012, -0.2189202606678009, -0.07382698357105255, -0.13538561761379242, 0.2872343957424164, -0.1226024404168129, -0.3385707139968872, -0.15995609760284424, -0.037442781031131744, 0.27788347005844116, -0.2339431792497635, -0.14551258087158203, 0.26235848665237427, -0.16976408660411835, 0.2612425982952118, -0.2968776524066925, -0.289640337228775, -0.15129385888576508, 0.691168487071991, 0.08093630522489548, 0.29960405826568604, 0.07889629155397415, -0.08732026070356369, -0.0011534617515280843, -0.0812864676117897, 0.16983167827129364, -0.21741586923599243, -0.051260024309158325, 0.020878899842500687, 0.0025127760600298643, -0.08824317157268524, 0.2233467847108841, 0.20734469592571259, 0.1869513988494873, 0.11532776057720184, 0.2344416230916977, 0.056766536086797714, 0.5678267478942871, 0.21027442812919617, 0.13393695652484894, 0.1495753526687622, 0.1235872432589531, -0.10647960752248764, -0.22509542107582092, -0.21630723774433136, 0.051497261971235275, 0.15306887030601501, 0.15949280560016632, 0.031767573207616806, -0.23228803277015686, 0.2460228055715561, 0.2525910437107086, -0.47929009795188904, 0.26699844002723694, 0.34005266427993774, 0.1612844318151474, 0.11951689422130585, -0.0003932612598873675, -0.0025035745929926634, -0.15923286974430084, 0.12595805525779724, -0.04712717980146408, 0.034106142818927765, 0.13317342102527618, 0.31873854994773865, 0.04764813184738159, 0.12664437294006348, 0.3448333740234375, -0.2497653216123581, -0.3003186583518982, -0.1944672018289566, 0.24492642283439636, 0.16659939289093018, -0.08744863420724869, -0.1957850307226181, -0.2092902511358261, -0.1830034703016281, 0.10710994154214859, 0.0696486383676529, 0.14387820661067963, -0.25879737734794617, 0.2194720357656479, 0.19356751441955566, -0.021375589072704315, -0.5277693867683411, 0.4053141474723816, -0.11308781057596207, -0.009147973731160164, -0.09862102568149567, 0.12605969607830048, 0.14541694521903992, 0.004666602239012718, -0.3731081187725067, -0.16773903369903564, 0.2950049340724945, 0.012377269566059113, -0.05572601035237312, -0.33669155836105347, 0.05578643083572388, -0.17923204600811005, 0.027945617213845253, -0.07816679775714874, -0.22614730894565582, 0.1796969473361969, 0.4497622847557068, -0.4111062288284302, 0.17854028940200806, 0.31220895051956177, 0.003246637526899576, -0.1502634882926941, 0.37715792655944824, 0.18154077231884003, 0.1278795748949051, 0.11995581537485123, 0.33224889636039734, 0.6061512231826782, -0.004476413130760193, -0.06946443766355515, -0.3198171555995941, -0.24479682743549347, 0.2984238862991333, -0.06942924857139587, -0.035661932080984116, 0.31296825408935547, -0.09275128692388535, -0.024321604520082474, -0.07539739459753036, 0.2975938022136688, 0.30494987964630127, -0.3121209442615509, 0.12171339988708496, -0.10126423090696335, -0.0490315705537796, 0.34020960330963135, -0.15073513984680176, -0.18936513364315033, 0.19416800141334534, 0.152278870344162, -0.07702585309743881, 0.04091935604810715, 0.341429203748703, 0.35907742381095886, -0.12724198400974274, -0.18879364430904388, -0.2535388767719269, -0.32197627425193787, 0.502345085144043, -0.06980298459529877, 0.19764620065689087, -0.23612719774246216, 0.15280373394489288, 0.051109202206134796, 0.0973883718252182, 0.17175079882144928, -0.20387578010559082, -0.024004090577363968, -0.03675506263971329, 0.09101121127605438, -0.491445392370224, -0.2964650094509125, -0.0567711666226387, -0.18400774896144867, 0.3021482229232788, -0.22215025126934052, 0.43613752722740173, -0.1937657594680786, 0.2866133749485016, -0.02235390618443489, 0.29411330819129944, -0.10688920319080353, 0.2547852694988251, 0.2763842046260834, 0.08068305253982544, -0.01828203722834587, -0.3481694161891937, 0.01635235734283924, -0.09858453273773193, 0.15159739553928375, 0.23625415563583374, -0.15292097628116608, 0.13119253516197205, -0.15256904065608978, -0.22687679529190063, 0.39717110991477966, 0.06469994783401489, -0.0916663259267807, 0.36354562640190125, 0.09178642183542252, -0.17239482700824738, 0.5520927309989929, 0.05491277575492859, 0.04731902852654457, -0.37958765029907227, -0.144677072763443, 0.18323220312595367, 0.19844985008239746, 0.06196722760796547, -0.18490518629550934, -0.2542707622051239, 0.2401346117258072, -0.12847691774368286, 0.19428353011608124, 0.08964511752128601, -0.1661156266927719, -0.4700574278831482, 0.16173981130123138, -0.1452181488275528, -0.2455277293920517, 0.24303311109542847, -0.054780811071395874, -0.06731253117322922, 0.18084684014320374, -0.2924308180809021, -0.09486307203769684, 0.02297893725335598, -0.06341487169265747, 0.23780089616775513, 0.04309452325105667, 0.6169520020484924, -0.27700933814048767, 0.25578591227531433, -0.3314788341522217, 0.15263880789279938, 0.10676953196525574, 0.1206764206290245, -0.12204837054014206, 0.49024367332458496, 0.0232041347771883, 0.25686559081077576, 0.23312081396579742, -0.1583675593137741, -0.2020571231842041, 0.13699820637702942, 0.37102949619293213, 0.0900125652551651, -0.12353196740150452, 0.24903012812137604, 0.16320329904556274, 0.20077545940876007, -0.08471765369176865, 0.1468089371919632, -0.17907066643238068, 0.26272493600845337, -0.05587483197450638, 0.17641423642635345, -0.2740606367588043, -0.16024546325206757, 0.30155685544013977, -0.11288973689079285, -0.006758818868547678, -0.297230988740921, 0.4980372488498688, -0.21574237942695618, -0.5585111379623413, -0.046717241406440735, -0.08545064926147461, -0.06188931688666344, 0.23874467611312866, 0.0007352514076046646, -0.04539031535387039, 0.061713118106126785, -0.2308959662914276, -0.27020925283432007, -0.1376604586839676, -0.07222539186477661, -0.08954969793558121, -0.17129909992218018, 0.013420414179563522, 0.2658288776874542, 0.27039095759391785, -0.3360717296600342, -0.35817402601242065, -0.03387463465332985, -0.1710260659456253, 0.04928109422326088, -0.057456303387880325, -0.08865054696798325, 0.09378422051668167, -0.2625601589679718, -0.16638535261154175, 0.1744360476732254, -0.4197840988636017, -0.027152886614203453, -0.13021820783615112, -0.21567992866039276, -0.13331381976604462, 0.04905708506703377, -0.06492619961500168, -0.1507188379764557, -0.17485558986663818, 0.003110867692157626, -0.10708383470773697, -0.16695430874824524, 0.17357662320137024, 0.2467627227306366, -0.25354820489883423, -0.35257211327552795, 0.22104112803936005, -0.43168240785598755, -0.39627566933631897, -0.3191164433956146, 0.09522291272878647, 0.17145468294620514, -0.33500906825065613, -0.2122647911310196, -0.007219942286610603, 0.11681704223155975, -0.4187532663345337, 0.04889819771051407, -0.013815980404615402, 0.17866937816143036, 0.41687721014022827, 0.16337227821350098, 0.11386412382125854, -0.15661251544952393, 0.14299657940864563, 0.02495516836643219, 0.006966377608478069, 0.3733425736427307, 0.25967857241630554, 0.035154324024915695, 0.2602294087409973, -0.07640520483255386, -0.08119398355484009, 0.1833619326353073, 0.4533991515636444, -0.040157660841941833, 0.10582007467746735, -0.14987167716026306, -0.3583851456642151, -0.09958431124687195, -0.42937880754470825, 0.2072429358959198, -0.04051745682954788, -0.06746306270360947, 0.37281376123428345, -0.12577851116657257, 0.12950363755226135, 0.010559232905507088, -0.09919154644012451, 0.07562092691659927, 0.038512490689754486, 0.28831908106803894, -0.2110934853553772, 0.2456362247467041, -0.22406817972660065, 0.33046433329582214, -0.31117570400238037, -0.02019852213561535, 0.04634608328342438, -0.17302922904491425, -0.08800184726715088, -0.14369723200798035, -0.04976215213537216, 0.0662829801440239, 0.2583273649215698, 0.1499541997909546, -0.13022957742214203, -0.01484946720302105, -0.03974112495779991, -0.07062441855669022, 0.3043754994869232, -0.08305635303258896, -0.20582371950149536, -0.117066390812397, 0.429298996925354, 0.053385112434625626, 0.013654813170433044, 0.08528245240449905, -0.24556152522563934, 0.18467722833156586, 0.09929192066192627, 0.08271652460098267, -0.20047804713249207, -0.32340723276138306, 0.08628547936677933, 0.1402999758720398, -0.08955523371696472, 0.549329400062561, 0.02205268293619156, 0.00676325336098671, 0.24147698283195496, 0.11720921099185944, -0.015102952718734741, 0.03085978515446186, -0.0857364758849144, 0.14269335567951202, 0.04831429943442345, -0.48366156220436096, -0.12034454941749573, -0.20673367381095886, -0.02840281091630459, 0.29674917459487915, 0.003921224735677242, -0.3038846552371979, 0.30015087127685547, 0.2504523694515228, 0.04018799215555191, 0.13512545824050903, 0.09784339368343353, 0.2212064266204834, -0.05178692191839218, 0.10181072354316711, 0.15272624790668488, -0.03553512692451477, 0.08874744921922684, -0.36727070808410645, 0.16047829389572144, -0.14322715997695923, -0.11087401211261749, -0.056295961141586304, 0.07348697632551193, 0.15809223055839539, 0.3450932800769806, 0.3219841420650482, 0.9045151472091675, 0.29579830169677734, 0.44603022933006287, 0.3967305123806, -0.011548807844519615, 0.10598303377628326, -0.06673873215913773, 0.030739860609173775, 0.21822698414325714, 0.37504029273986816, 0.04571119323372841, 0.09749532490968704, -0.22365228831768036, 0.12023545056581497, -0.01850181072950363, 0.2182920277118683, 0.0642096996307373, 0.3966710567474365, 0.01863117516040802, -0.14383403956890106, -0.20861385762691498, 0.24901776015758514, 0.24499772489070892, 0.2749461531639099, -0.09239423274993896, -0.058448079973459244, -0.2544023096561432, 0.04833520948886871, -0.07470639050006866, -0.09235213696956635, -0.13334302604198456, -0.3912627100944519, 0.04895957186818123, -0.023092037066817284, 0.050607580691576004, -0.3271380364894867, -0.31051206588745117, 0.13179007172584534, -0.4079821705818176, -0.007052901666611433, 0.06476899236440659, -0.08464598655700684, -0.01092666294425726, 0.10773703455924988, -0.2219691276550293, -0.013455511070787907, 0.11786873638629913, -0.006295713130384684, -0.049377962946891785, -0.1805860996246338, -0.19929122924804688, 0.2203042358160019, -0.4074779152870178, 0.12195871025323868, 0.4314103424549103, -0.13926997780799866, -0.3392225503921509, 0.4104892909526825, 0.10264077037572861, -0.1761552393436432, 0.2818094491958618, -0.051128119230270386, 0.5185369253158569, -0.08782560378313065, 0.299742728471756, -0.248453289270401, -0.28922200202941895, -0.2312668263912201, -0.3710486590862274, -0.30783990025520325, 0.05246713384985924, 0.15591181814670563, -0.2897980511188507, -0.27765804529190063, 0.11687347292900085, 0.08760610967874527, -0.08852725476026535, 0.26212143898010254, 0.05670136213302612, -0.22118182480335236, -0.012568756006658077, 0.2000700831413269, 0.17444592714309692, 0.12380462884902954, 0.036667607724666595, 0.09357094764709473, -0.1331751048564911, 0.35478928685188293, 0.02600776217877865, 0.1808590590953827, -0.21187780797481537, 0.08752486854791641, -0.5479846000671387, -0.269818514585495, -0.4391958713531494, -0.09343432635068893, 0.019379040226340294, -0.12063900381326675, -0.14771932363510132, -0.3405292332172394, -0.10665466636419296, -0.03291919082403183, 0.3365582525730133, 0.022041715681552887, 0.16071180999279022, -0.3950539827346802, -0.2088516801595688, 0.017397720366716385, 0.16247452795505524, -0.09374943375587463, 0.35300371050834656, 0.07898090034723282, -0.11015142500400543, -0.12750932574272156, 0.08024056255817413, 0.13179513812065125, 0.023205116391181946, 0.2554510235786438, -0.12850894033908844, 0.029051024466753006, 0.08136237412691116, -0.2453414648771286, -0.0036472035571932793, 0.2787066698074341, -0.09800437837839127, 0.09184587001800537, 0.23591269552707672, 0.05744965374469757, 0.30120640993118286, 0.1342337280511856, 0.16923652589321136, 0.24442408978939056, 0.1478969007730484, 0.05761716514825821, -0.020648712292313576, -0.1429186314344406, -0.2637297809123993, -0.32711395621299744, -0.05662734434008598, 0.11295603215694427, 0.10119982808828354, 0.25761011242866516, 0.02043004147708416, 0.22750787436962128, 0.024568775668740273, -0.07505056262016296, 0.2564128637313843, 0.23814474046230316, -0.42347919940948486, 0.20850422978401184, -0.06412070244550705, -0.22592586278915405, 0.47064125537872314, -0.08027353882789612, 0.27851665019989014, 0.06095811724662781, 0.15049529075622559, -0.044093914330005646, -0.20774732530117035, 0.45668190717697144, -0.0752345472574234, 0.16024751961231232, 0.09731753915548325, 0.01054172869771719, 0.16803503036499023, 0.2617412805557251, 0.13121891021728516, -0.07567852735519409, 0.12461088597774506, 0.29584622383117676, 0.03270822763442993, 0.3829420506954193, -0.07268621772527695, -0.10729464143514633, -0.04942534491419792, 0.19345933198928833, 0.20576214790344238, 0.0546562634408474, -0.028180712834000587, -0.0026155742816627026, 0.3425018787384033, -0.2360748052597046, 0.13108770549297333, 0.050604987889528275, 0.20848433673381805, -0.31228747963905334, -0.03144630789756775, -0.03861398994922638, 0.04663727432489395, -0.09920084476470947, 0.4456627070903778, -0.13827280700206757, 0.38990896940231323, -0.04014218598604202, 0.02017717808485031, 0.14172640442848206, -0.37611329555511475, -0.09110446274280548, 0.014298547990620136, 0.025261616334319115, -0.11260416358709335, -0.23376406729221344, 0.12649041414260864, -0.11904045194387436, -0.09087521582841873, -0.2262827754020691, -0.13510705530643463, -0.08297480642795563, 0.100291907787323, -0.12970025837421417, 0.2631913423538208, -0.4464750587940216, 0.07503784447908401, -0.05975121632218361, 0.11703846603631973, -0.16555877029895782, -0.014309667982161045, 0.08639919757843018, 0.16064512729644775, -0.010530495084822178, 0.13230745494365692, -0.20276004076004028, -0.42938724160194397, -0.2301723062992096, 0.2509893774986267, 0.04631885513663292, -0.03900613635778427, 0.1898534595966339, -0.21164198219776154, 0.19694051146507263, -0.02181839384138584, 0.6776136755943298, -0.05563465133309364, -0.0443420335650444, 0.15944704413414001, 0.1411122977733612, 0.010284309275448322, 0.32067403197288513, -0.0024460412096232176, -0.02252957969903946, -0.017629647627472878, -0.07474962621927261, 0.6023979187011719, 0.17239505052566528, -0.14574751257896423, -0.005122373811900616, 0.21023768186569214, 0.006345267873257399, 0.20853273570537567, 0.02266535721719265, 0.32774174213409424, 0.1367560476064682, -0.36731570959091187, 0.06107114255428314, 0.24218912422657013, -0.5890388488769531, -0.22107425332069397, -0.12031098455190659, 0.14810730516910553, 0.11534689366817474, -0.20936714112758636, -0.4189605414867401, 0.07771667093038559, -0.3405053913593292, 0.26732900738716125, 0.12367704510688782, -0.16345173120498657, -0.1384350210428238, -0.10605210810899734, 0.3113211691379547, -0.20222391188144684, -0.14618314802646637, 0.24607999622821808, 0.09109364449977875, 0.29980459809303284, 0.04754059389233589, -0.28791284561157227, 0.18553383648395538, 0.07742278277873993, 0.1864217072725296, -0.12170378863811493, -0.2593477666378021, 0.13216407597064972, -0.14514127373695374, 0.06777261942625046, -0.16310159862041473, 0.16677625477313995, 0.07831209152936935, -0.11153268814086914, -0.18307681381702423, -0.237648144364357, 0.2234249860048294, -0.0657762885093689, -0.18185339868068695, -0.17184346914291382, 0.039389174431562424, 0.11399375647306442, -0.0010538307251408696, -0.17892079055309296, -0.1721976399421692, -0.39182937145233154, -0.16719083487987518, 0.05970504507422447, -0.19483041763305664, -0.11050033569335938, 0.3522120714187622, -0.09442049264907837]\n",
            "==================================================\n",
            "\n"
          ]
        }
      ]
    },
    {
      "cell_type": "markdown",
      "source": [
        "Creating text embeddings\n",
        "\n"
      ],
      "metadata": {
        "id": "39hVQPLprhr8"
      }
    },
    {
      "cell_type": "code",
      "source": [
        "!pip install sentence-transformers\n"
      ],
      "metadata": {
        "colab": {
          "base_uri": "https://localhost:8080/"
        },
        "id": "AvB6OisbrDBu",
        "outputId": "046d272d-67df-489c-f79e-ac3ad5518b1f"
      },
      "execution_count": 53,
      "outputs": [
        {
          "output_type": "stream",
          "name": "stdout",
          "text": [
            "Requirement already satisfied: sentence-transformers in /usr/local/lib/python3.10/dist-packages (3.0.1)\n",
            "Requirement already satisfied: transformers<5.0.0,>=4.34.0 in /usr/local/lib/python3.10/dist-packages (from sentence-transformers) (4.42.4)\n",
            "Requirement already satisfied: tqdm in /usr/local/lib/python3.10/dist-packages (from sentence-transformers) (4.66.4)\n",
            "Requirement already satisfied: torch>=1.11.0 in /usr/local/lib/python3.10/dist-packages (from sentence-transformers) (2.3.1+cu121)\n",
            "Requirement already satisfied: numpy in /usr/local/lib/python3.10/dist-packages (from sentence-transformers) (1.25.2)\n",
            "Requirement already satisfied: scikit-learn in /usr/local/lib/python3.10/dist-packages (from sentence-transformers) (1.2.2)\n",
            "Requirement already satisfied: scipy in /usr/local/lib/python3.10/dist-packages (from sentence-transformers) (1.11.4)\n",
            "Requirement already satisfied: huggingface-hub>=0.15.1 in /usr/local/lib/python3.10/dist-packages (from sentence-transformers) (0.23.5)\n",
            "Requirement already satisfied: Pillow in /usr/local/lib/python3.10/dist-packages (from sentence-transformers) (9.4.0)\n",
            "Requirement already satisfied: filelock in /usr/local/lib/python3.10/dist-packages (from huggingface-hub>=0.15.1->sentence-transformers) (3.15.4)\n",
            "Requirement already satisfied: fsspec>=2023.5.0 in /usr/local/lib/python3.10/dist-packages (from huggingface-hub>=0.15.1->sentence-transformers) (2023.6.0)\n",
            "Requirement already satisfied: packaging>=20.9 in /usr/local/lib/python3.10/dist-packages (from huggingface-hub>=0.15.1->sentence-transformers) (24.1)\n",
            "Requirement already satisfied: pyyaml>=5.1 in /usr/local/lib/python3.10/dist-packages (from huggingface-hub>=0.15.1->sentence-transformers) (6.0.1)\n",
            "Requirement already satisfied: requests in /usr/local/lib/python3.10/dist-packages (from huggingface-hub>=0.15.1->sentence-transformers) (2.32.3)\n",
            "Requirement already satisfied: typing-extensions>=3.7.4.3 in /usr/local/lib/python3.10/dist-packages (from huggingface-hub>=0.15.1->sentence-transformers) (4.12.2)\n",
            "Requirement already satisfied: sympy in /usr/local/lib/python3.10/dist-packages (from torch>=1.11.0->sentence-transformers) (1.13.0)\n",
            "Requirement already satisfied: networkx in /usr/local/lib/python3.10/dist-packages (from torch>=1.11.0->sentence-transformers) (3.3)\n",
            "Requirement already satisfied: jinja2 in /usr/local/lib/python3.10/dist-packages (from torch>=1.11.0->sentence-transformers) (3.1.4)\n",
            "Requirement already satisfied: nvidia-cuda-nvrtc-cu12==12.1.105 in /usr/local/lib/python3.10/dist-packages (from torch>=1.11.0->sentence-transformers) (12.1.105)\n",
            "Requirement already satisfied: nvidia-cuda-runtime-cu12==12.1.105 in /usr/local/lib/python3.10/dist-packages (from torch>=1.11.0->sentence-transformers) (12.1.105)\n",
            "Requirement already satisfied: nvidia-cuda-cupti-cu12==12.1.105 in /usr/local/lib/python3.10/dist-packages (from torch>=1.11.0->sentence-transformers) (12.1.105)\n",
            "Requirement already satisfied: nvidia-cudnn-cu12==8.9.2.26 in /usr/local/lib/python3.10/dist-packages (from torch>=1.11.0->sentence-transformers) (8.9.2.26)\n",
            "Requirement already satisfied: nvidia-cublas-cu12==12.1.3.1 in /usr/local/lib/python3.10/dist-packages (from torch>=1.11.0->sentence-transformers) (12.1.3.1)\n",
            "Requirement already satisfied: nvidia-cufft-cu12==11.0.2.54 in /usr/local/lib/python3.10/dist-packages (from torch>=1.11.0->sentence-transformers) (11.0.2.54)\n",
            "Requirement already satisfied: nvidia-curand-cu12==10.3.2.106 in /usr/local/lib/python3.10/dist-packages (from torch>=1.11.0->sentence-transformers) (10.3.2.106)\n",
            "Requirement already satisfied: nvidia-cusolver-cu12==11.4.5.107 in /usr/local/lib/python3.10/dist-packages (from torch>=1.11.0->sentence-transformers) (11.4.5.107)\n",
            "Requirement already satisfied: nvidia-cusparse-cu12==12.1.0.106 in /usr/local/lib/python3.10/dist-packages (from torch>=1.11.0->sentence-transformers) (12.1.0.106)\n",
            "Requirement already satisfied: nvidia-nccl-cu12==2.20.5 in /usr/local/lib/python3.10/dist-packages (from torch>=1.11.0->sentence-transformers) (2.20.5)\n",
            "Requirement already satisfied: nvidia-nvtx-cu12==12.1.105 in /usr/local/lib/python3.10/dist-packages (from torch>=1.11.0->sentence-transformers) (12.1.105)\n",
            "Requirement already satisfied: triton==2.3.1 in /usr/local/lib/python3.10/dist-packages (from torch>=1.11.0->sentence-transformers) (2.3.1)\n",
            "Requirement already satisfied: nvidia-nvjitlink-cu12 in /usr/local/lib/python3.10/dist-packages (from nvidia-cusolver-cu12==11.4.5.107->torch>=1.11.0->sentence-transformers) (12.5.82)\n",
            "Requirement already satisfied: regex!=2019.12.17 in /usr/local/lib/python3.10/dist-packages (from transformers<5.0.0,>=4.34.0->sentence-transformers) (2024.5.15)\n",
            "Requirement already satisfied: safetensors>=0.4.1 in /usr/local/lib/python3.10/dist-packages (from transformers<5.0.0,>=4.34.0->sentence-transformers) (0.4.3)\n",
            "Requirement already satisfied: tokenizers<0.20,>=0.19 in /usr/local/lib/python3.10/dist-packages (from transformers<5.0.0,>=4.34.0->sentence-transformers) (0.19.1)\n",
            "Requirement already satisfied: joblib>=1.1.1 in /usr/local/lib/python3.10/dist-packages (from scikit-learn->sentence-transformers) (1.4.2)\n",
            "Requirement already satisfied: threadpoolctl>=2.0.0 in /usr/local/lib/python3.10/dist-packages (from scikit-learn->sentence-transformers) (3.5.0)\n",
            "Requirement already satisfied: MarkupSafe>=2.0 in /usr/local/lib/python3.10/dist-packages (from jinja2->torch>=1.11.0->sentence-transformers) (2.1.5)\n",
            "Requirement already satisfied: charset-normalizer<4,>=2 in /usr/local/lib/python3.10/dist-packages (from requests->huggingface-hub>=0.15.1->sentence-transformers) (3.3.2)\n",
            "Requirement already satisfied: idna<4,>=2.5 in /usr/local/lib/python3.10/dist-packages (from requests->huggingface-hub>=0.15.1->sentence-transformers) (3.7)\n",
            "Requirement already satisfied: urllib3<3,>=1.21.1 in /usr/local/lib/python3.10/dist-packages (from requests->huggingface-hub>=0.15.1->sentence-transformers) (2.0.7)\n",
            "Requirement already satisfied: certifi>=2017.4.17 in /usr/local/lib/python3.10/dist-packages (from requests->huggingface-hub>=0.15.1->sentence-transformers) (2024.7.4)\n",
            "Requirement already satisfied: mpmath<1.4,>=1.1.0 in /usr/local/lib/python3.10/dist-packages (from sympy->torch>=1.11.0->sentence-transformers) (1.3.0)\n"
          ]
        }
      ]
    },
    {
      "cell_type": "code",
      "source": [
        "from sentence_transformers import SentenceTransformer\n",
        "\n",
        "# Initialize the model\n",
        "model = SentenceTransformer('sentence-transformers/all-MiniLM-L6-v2')\n",
        "\n",
        "# Sample text data\n",
        "data = {\n",
        "    'text': [\n",
        "        \"The quick brown jumps over the lazy dog.\",\n",
        "        \"A day in the park is wonderful.\",\n",
        "        \"She sells sea by the seashore.\"\n",
        "    ]\n",
        "}\n",
        "\n",
        "# Create embeddings for each text\n",
        "embeddings = model.encode(data['text'])\n",
        "\n",
        "# Display the shape of the embeddings\n",
        "print(\"Embeddings shape:\", embeddings.shape)\n"
      ],
      "metadata": {
        "colab": {
          "base_uri": "https://localhost:8080/"
        },
        "id": "FD2d_cqfrhOs",
        "outputId": "b91a283c-6f02-4d46-a4bb-00c7af5846fb"
      },
      "execution_count": 54,
      "outputs": [
        {
          "output_type": "stream",
          "name": "stdout",
          "text": [
            "Embeddings shape: (3, 384)\n"
          ]
        }
      ]
    },
    {
      "cell_type": "code",
      "source": [
        "!pip install tensorflow tensorflow_hub"
      ],
      "metadata": {
        "colab": {
          "base_uri": "https://localhost:8080/"
        },
        "id": "dMJzOxJjrpgn",
        "outputId": "bf69c503-f152-48df-8307-1d0b4516d08e"
      },
      "execution_count": 55,
      "outputs": [
        {
          "output_type": "stream",
          "name": "stdout",
          "text": [
            "Requirement already satisfied: tensorflow in /usr/local/lib/python3.10/dist-packages (2.15.0)\n",
            "Requirement already satisfied: tensorflow_hub in /usr/local/lib/python3.10/dist-packages (0.16.1)\n",
            "Requirement already satisfied: absl-py>=1.0.0 in /usr/local/lib/python3.10/dist-packages (from tensorflow) (1.4.0)\n",
            "Requirement already satisfied: astunparse>=1.6.0 in /usr/local/lib/python3.10/dist-packages (from tensorflow) (1.6.3)\n",
            "Requirement already satisfied: flatbuffers>=23.5.26 in /usr/local/lib/python3.10/dist-packages (from tensorflow) (24.3.25)\n",
            "Requirement already satisfied: gast!=0.5.0,!=0.5.1,!=0.5.2,>=0.2.1 in /usr/local/lib/python3.10/dist-packages (from tensorflow) (0.6.0)\n",
            "Requirement already satisfied: google-pasta>=0.1.1 in /usr/local/lib/python3.10/dist-packages (from tensorflow) (0.2.0)\n",
            "Requirement already satisfied: h5py>=2.9.0 in /usr/local/lib/python3.10/dist-packages (from tensorflow) (3.9.0)\n",
            "Requirement already satisfied: libclang>=13.0.0 in /usr/local/lib/python3.10/dist-packages (from tensorflow) (18.1.1)\n",
            "Requirement already satisfied: ml-dtypes~=0.2.0 in /usr/local/lib/python3.10/dist-packages (from tensorflow) (0.2.0)\n",
            "Requirement already satisfied: numpy<2.0.0,>=1.23.5 in /usr/local/lib/python3.10/dist-packages (from tensorflow) (1.25.2)\n",
            "Requirement already satisfied: opt-einsum>=2.3.2 in /usr/local/lib/python3.10/dist-packages (from tensorflow) (3.3.0)\n",
            "Requirement already satisfied: packaging in /usr/local/lib/python3.10/dist-packages (from tensorflow) (24.1)\n",
            "Requirement already satisfied: protobuf!=4.21.0,!=4.21.1,!=4.21.2,!=4.21.3,!=4.21.4,!=4.21.5,<5.0.0dev,>=3.20.3 in /usr/local/lib/python3.10/dist-packages (from tensorflow) (3.20.3)\n",
            "Requirement already satisfied: setuptools in /usr/local/lib/python3.10/dist-packages (from tensorflow) (67.7.2)\n",
            "Requirement already satisfied: six>=1.12.0 in /usr/local/lib/python3.10/dist-packages (from tensorflow) (1.16.0)\n",
            "Requirement already satisfied: termcolor>=1.1.0 in /usr/local/lib/python3.10/dist-packages (from tensorflow) (2.4.0)\n",
            "Requirement already satisfied: typing-extensions>=3.6.6 in /usr/local/lib/python3.10/dist-packages (from tensorflow) (4.12.2)\n",
            "Requirement already satisfied: wrapt<1.15,>=1.11.0 in /usr/local/lib/python3.10/dist-packages (from tensorflow) (1.14.1)\n",
            "Requirement already satisfied: tensorflow-io-gcs-filesystem>=0.23.1 in /usr/local/lib/python3.10/dist-packages (from tensorflow) (0.37.1)\n",
            "Requirement already satisfied: grpcio<2.0,>=1.24.3 in /usr/local/lib/python3.10/dist-packages (from tensorflow) (1.64.1)\n",
            "Requirement already satisfied: tensorboard<2.16,>=2.15 in /usr/local/lib/python3.10/dist-packages (from tensorflow) (2.15.2)\n",
            "Requirement already satisfied: tensorflow-estimator<2.16,>=2.15.0 in /usr/local/lib/python3.10/dist-packages (from tensorflow) (2.15.0)\n",
            "Requirement already satisfied: keras<2.16,>=2.15.0 in /usr/local/lib/python3.10/dist-packages (from tensorflow) (2.15.0)\n",
            "Requirement already satisfied: tf-keras>=2.14.1 in /usr/local/lib/python3.10/dist-packages (from tensorflow_hub) (2.15.1)\n",
            "Requirement already satisfied: wheel<1.0,>=0.23.0 in /usr/local/lib/python3.10/dist-packages (from astunparse>=1.6.0->tensorflow) (0.43.0)\n",
            "Requirement already satisfied: google-auth<3,>=1.6.3 in /usr/local/lib/python3.10/dist-packages (from tensorboard<2.16,>=2.15->tensorflow) (2.27.0)\n",
            "Requirement already satisfied: google-auth-oauthlib<2,>=0.5 in /usr/local/lib/python3.10/dist-packages (from tensorboard<2.16,>=2.15->tensorflow) (1.2.1)\n",
            "Requirement already satisfied: markdown>=2.6.8 in /usr/local/lib/python3.10/dist-packages (from tensorboard<2.16,>=2.15->tensorflow) (3.6)\n",
            "Requirement already satisfied: requests<3,>=2.21.0 in /usr/local/lib/python3.10/dist-packages (from tensorboard<2.16,>=2.15->tensorflow) (2.32.3)\n",
            "Requirement already satisfied: tensorboard-data-server<0.8.0,>=0.7.0 in /usr/local/lib/python3.10/dist-packages (from tensorboard<2.16,>=2.15->tensorflow) (0.7.2)\n",
            "Requirement already satisfied: werkzeug>=1.0.1 in /usr/local/lib/python3.10/dist-packages (from tensorboard<2.16,>=2.15->tensorflow) (3.0.3)\n",
            "Requirement already satisfied: cachetools<6.0,>=2.0.0 in /usr/local/lib/python3.10/dist-packages (from google-auth<3,>=1.6.3->tensorboard<2.16,>=2.15->tensorflow) (5.4.0)\n",
            "Requirement already satisfied: pyasn1-modules>=0.2.1 in /usr/local/lib/python3.10/dist-packages (from google-auth<3,>=1.6.3->tensorboard<2.16,>=2.15->tensorflow) (0.4.0)\n",
            "Requirement already satisfied: rsa<5,>=3.1.4 in /usr/local/lib/python3.10/dist-packages (from google-auth<3,>=1.6.3->tensorboard<2.16,>=2.15->tensorflow) (4.9)\n",
            "Requirement already satisfied: requests-oauthlib>=0.7.0 in /usr/local/lib/python3.10/dist-packages (from google-auth-oauthlib<2,>=0.5->tensorboard<2.16,>=2.15->tensorflow) (1.3.1)\n",
            "Requirement already satisfied: charset-normalizer<4,>=2 in /usr/local/lib/python3.10/dist-packages (from requests<3,>=2.21.0->tensorboard<2.16,>=2.15->tensorflow) (3.3.2)\n",
            "Requirement already satisfied: idna<4,>=2.5 in /usr/local/lib/python3.10/dist-packages (from requests<3,>=2.21.0->tensorboard<2.16,>=2.15->tensorflow) (3.7)\n",
            "Requirement already satisfied: urllib3<3,>=1.21.1 in /usr/local/lib/python3.10/dist-packages (from requests<3,>=2.21.0->tensorboard<2.16,>=2.15->tensorflow) (2.0.7)\n",
            "Requirement already satisfied: certifi>=2017.4.17 in /usr/local/lib/python3.10/dist-packages (from requests<3,>=2.21.0->tensorboard<2.16,>=2.15->tensorflow) (2024.7.4)\n",
            "Requirement already satisfied: MarkupSafe>=2.1.1 in /usr/local/lib/python3.10/dist-packages (from werkzeug>=1.0.1->tensorboard<2.16,>=2.15->tensorflow) (2.1.5)\n",
            "Requirement already satisfied: pyasn1<0.7.0,>=0.4.6 in /usr/local/lib/python3.10/dist-packages (from pyasn1-modules>=0.2.1->google-auth<3,>=1.6.3->tensorboard<2.16,>=2.15->tensorflow) (0.6.0)\n",
            "Requirement already satisfied: oauthlib>=3.0.0 in /usr/local/lib/python3.10/dist-packages (from requests-oauthlib>=0.7.0->google-auth-oauthlib<2,>=0.5->tensorboard<2.16,>=2.15->tensorflow) (3.2.2)\n"
          ]
        }
      ]
    },
    {
      "cell_type": "code",
      "source": [
        "import tensorflow_hub as hub\n",
        "\n",
        "# Load the Universal Sentence Encoder model\n",
        "model_url = \"https://tfhub.dev/google/universal-sentence-encoder/4\"\n",
        "model = hub.load(model_url)\n",
        "\n",
        "# Sample text data\n",
        "texts = [\n",
        "    \"The quick brown [MASK] jumps over the lazy dog.\",\n",
        "    \"A [MASK] day in the park is wonderful.\",\n",
        "    \"She sells sea [MASK] by the seashore.\"\n",
        "]\n",
        "\n",
        "\n",
        "# Create embeddings\n",
        "use_embeddings = model(texts)\n",
        "\n",
        "# Display the shape of the embeddings\n",
        "print(\"USE Embeddings shape:\", use_embeddings.shape)\n"
      ],
      "metadata": {
        "colab": {
          "base_uri": "https://localhost:8080/"
        },
        "id": "u5ld40yfrzCF",
        "outputId": "8c35a384-0f6d-450a-91e9-d0a323f0768a"
      },
      "execution_count": 56,
      "outputs": [
        {
          "output_type": "stream",
          "name": "stdout",
          "text": [
            "USE Embeddings shape: (3, 512)\n"
          ]
        }
      ]
    }
  ]
}