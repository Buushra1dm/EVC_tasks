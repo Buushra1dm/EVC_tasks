{
  "nbformat": 4,
  "nbformat_minor": 0,
  "metadata": {
    "colab": {
      "provenance": []
    },
    "kernelspec": {
      "name": "python3",
      "display_name": "Python 3"
    },
    "language_info": {
      "name": "python"
    }
  },
  "cells": [
    {
      "cell_type": "markdown",
      "source": [
        "# task1"
      ],
      "metadata": {
        "id": "Ba3aDiCYhKvu"
      }
    },
    {
      "cell_type": "code",
      "execution_count": 39,
      "metadata": {
        "id": "7BxV98N5d0Lb"
      },
      "outputs": [],
      "source": [
        "sen1 =\"I love play football\"\n",
        "sen2 =\"play football is funny\""
      ]
    },
    {
      "cell_type": "code",
      "source": [
        "split_sen1 = sen1.split()\n",
        "split_sen2 = sen2.split()\n",
        "split_sen1"
      ],
      "metadata": {
        "colab": {
          "base_uri": "https://localhost:8080/"
        },
        "id": "g41lnvSQe1EB",
        "outputId": "e0604011-da5e-4250-cefa-c88fec726326"
      },
      "execution_count": 40,
      "outputs": [
        {
          "output_type": "execute_result",
          "data": {
            "text/plain": [
              "['I', 'love', 'play', 'football']"
            ]
          },
          "metadata": {},
          "execution_count": 40
        }
      ]
    },
    {
      "cell_type": "code",
      "source": [
        "sum_sim=0\n",
        "for i in split_sen2:\n",
        "    if i in split_sen1:\n",
        "        sum_sim+=1\n",
        "res=sum_sim/len(split_sen2)\n",
        "res"
      ],
      "metadata": {
        "colab": {
          "base_uri": "https://localhost:8080/"
        },
        "id": "c0h3yN47fG4R",
        "outputId": "e238b6f3-46a7-43e6-c493-ba968e109636"
      },
      "execution_count": 41,
      "outputs": [
        {
          "output_type": "execute_result",
          "data": {
            "text/plain": [
              "0.5"
            ]
          },
          "metadata": {},
          "execution_count": 41
        }
      ]
    },
    {
      "cell_type": "code",
      "source": [
        "sum_sim"
      ],
      "metadata": {
        "colab": {
          "base_uri": "https://localhost:8080/"
        },
        "id": "vFO7ldqzhEqE",
        "outputId": "37696332-e191-4009-804e-2d3221715bf2"
      },
      "execution_count": 42,
      "outputs": [
        {
          "output_type": "execute_result",
          "data": {
            "text/plain": [
              "2"
            ]
          },
          "metadata": {},
          "execution_count": 42
        }
      ]
    }
  ]
}