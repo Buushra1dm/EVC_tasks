{
  "nbformat": 4,
  "nbformat_minor": 0,
  "metadata": {
    "colab": {
      "provenance": []
    },
    "kernelspec": {
      "name": "python3",
      "display_name": "Python 3"
    },
    "language_info": {
      "name": "python"
    }
  },
  "cells": [
    {
      "cell_type": "markdown",
      "source": [
        "# task 1"
      ],
      "metadata": {
        "id": "BlfZprpTjWfT"
      }
    },
    {
      "cell_type": "code",
      "source": [
        "ONES = [\"\", \"one\", \"two\", \"three\", \"four\", \"five\", \"six\", \"seven\", \"eight\", \"nine\"]\n",
        "TEENS = [\"ten\", \"eleven\", \"twelve\", \"thirteen\", \"fourteen\", \"fifteen\", \"sixteen\", \"seventeen\", \"eighteen\", \"nineteen\"]\n",
        "TENS = [\"\", \"\", \"twenty\", \"thirty\", \"forty\", \"fifty\", \"sixty\", \"seventy\", \"eighty\", \"ninety\"]\n",
        "def convert_to_enghish_word(num):\n",
        "    if num == 0:\n",
        "        return \"zero\"\n",
        "    elif num < 0:\n",
        "            return \"minus \" + convert_to_enghish_word(abs(num))\n",
        "    elif num< 10:\n",
        "            return ONES[num]\n",
        "    elif num< 20:\n",
        "            return TEENS[num - 10]\n",
        "    elif num< 100:\n",
        "            return TENS[num // 10] + (\" \" + convert_to_enghish_word(num % 10) if num % 10 != 0 else \"\")\n",
        "    elif num< 1000:\n",
        "            return ONES[num // 100] + \" hundred\" + (\" and \" + convert_to_enghish_word(num % 100) if num % 100 != 0 else \"\")\n",
        "    elif num< 1000000:\n",
        "            return convert_to_enghish_word(num // 1000) + \" thousand\" + (\" \" + convert_to_enghish_word(num % 1000) if num % 1000 != 0 else \"\")\n",
        "    elif num< 1000000000:\n",
        "            return convert_to_enghish_word(num // 1000000) + \" million\" + (\" \" + convert_to_enghish_word(num % 1000000) if num % 1000000 != 0 else \"\")\n",
        "    else:\n",
        "        return \"number out of range\""
      ],
      "metadata": {
        "id": "2-03s_EEeOQi"
      },
      "execution_count": 122,
      "outputs": []
    },
    {
      "cell_type": "code",
      "execution_count": 123,
      "metadata": {
        "colab": {
          "base_uri": "https://localhost:8080/"
        },
        "id": "sj6Hr3Qmcg-y",
        "outputId": "c763759e-ba48-47d2-b7a1-a81137ec9171"
      },
      "outputs": [
        {
          "output_type": "stream",
          "name": "stdout",
          "text": [
            "enter number: 125\n",
            "The number on enghish word is: one hundred and twenty five\n"
          ]
        }
      ],
      "source": [
        "user_input=input(\"enter number: \")\n",
        "word=convert_to_enghish_word(int(user_input))\n",
        "print(\"The number on enghish word is:\",word)"
      ]
    },
    {
      "cell_type": "code",
      "source": [
        "!pip install num2words"
      ],
      "metadata": {
        "colab": {
          "base_uri": "https://localhost:8080/"
        },
        "id": "KUiyUAW6fLOC",
        "outputId": "ee3b0324-8162-4ffe-b89a-1c61edeac08e"
      },
      "execution_count": 124,
      "outputs": [
        {
          "output_type": "stream",
          "name": "stdout",
          "text": [
            "Requirement already satisfied: num2words in /usr/local/lib/python3.10/dist-packages (0.5.13)\n",
            "Requirement already satisfied: docopt>=0.6.2 in /usr/local/lib/python3.10/dist-packages (from num2words) (0.6.2)\n"
          ]
        }
      ]
    },
    {
      "cell_type": "code",
      "source": [
        "from num2words import num2words\n",
        "user_input=input(\"enter number: \")\n",
        "word=num2words(int(user_input))\n",
        "print(\"The number on enghish word is:\",word)"
      ],
      "metadata": {
        "colab": {
          "base_uri": "https://localhost:8080/"
        },
        "id": "k6qosUfmgffv",
        "outputId": "e7d808ea-2b78-4305-a6d4-ae191c104cab"
      },
      "execution_count": 125,
      "outputs": [
        {
          "output_type": "stream",
          "name": "stdout",
          "text": [
            "enter number: 125\n",
            "The number on enghish word is: one hundred and twenty-five\n"
          ]
        }
      ]
    },
    {
      "cell_type": "markdown",
      "source": [
        "# task 2"
      ],
      "metadata": {
        "id": "FvEtfPyUja09"
      }
    },
    {
      "cell_type": "code",
      "source": [
        "import numpy as np\n",
        "import pandas as pd"
      ],
      "metadata": {
        "id": "yh6vkNHDj-jk"
      },
      "execution_count": 126,
      "outputs": []
    },
    {
      "cell_type": "code",
      "source": [
        "id = pd.read_csv(\"/content/Copy of ID_Avatar.csv\")\n",
        "id.shape\n",
        "id.dtypes"
      ],
      "metadata": {
        "colab": {
          "base_uri": "https://localhost:8080/"
        },
        "id": "cbm9B3GdjpgT",
        "outputId": "e52e6d08-1396-45ce-e5dd-436c65b96f0e"
      },
      "execution_count": 127,
      "outputs": [
        {
          "output_type": "execute_result",
          "data": {
            "text/plain": [
              " ID    int64\n",
              "dtype: object"
            ]
          },
          "metadata": {},
          "execution_count": 127
        }
      ]
    },
    {
      "cell_type": "code",
      "source": [
        "from PIL import Image\n",
        "import os"
      ],
      "metadata": {
        "id": "Afb7O5hD1XJa"
      },
      "execution_count": 128,
      "outputs": []
    },
    {
      "cell_type": "code",
      "source": [
        "image_path = Image.open(\"/content/avatar.jpg\")  # Replace with the actual image file path\n",
        "id.columns\n",
        "id.columns = ['ID']\n",
        "path_folder=\"/content/ID_img\""
      ],
      "metadata": {
        "id": "rLl0dYSL1d6w"
      },
      "execution_count": 129,
      "outputs": []
    },
    {
      "cell_type": "code",
      "source": [
        "id.shape"
      ],
      "metadata": {
        "colab": {
          "base_uri": "https://localhost:8080/"
        },
        "id": "K41bF2HG2C_X",
        "outputId": "7658a071-99ed-4359-a2f5-06b0bb1b7d41"
      },
      "execution_count": 130,
      "outputs": [
        {
          "output_type": "execute_result",
          "data": {
            "text/plain": [
              "(1013, 1)"
            ]
          },
          "metadata": {},
          "execution_count": 130
        }
      ]
    },
    {
      "cell_type": "code",
      "source": [
        "id.duplicated().sum()"
      ],
      "metadata": {
        "colab": {
          "base_uri": "https://localhost:8080/"
        },
        "id": "Met_ej5o3uql",
        "outputId": "ac827593-ca14-4842-94f2-290c47f720c0"
      },
      "execution_count": 131,
      "outputs": [
        {
          "output_type": "execute_result",
          "data": {
            "text/plain": [
              "4"
            ]
          },
          "metadata": {},
          "execution_count": 131
        }
      ]
    },
    {
      "cell_type": "code",
      "source": [
        "id.drop_duplicates(inplace=True)"
      ],
      "metadata": {
        "id": "FxMcBu3n3yC7"
      },
      "execution_count": 132,
      "outputs": []
    },
    {
      "cell_type": "code",
      "source": [
        "os.makedirs(path_folder)"
      ],
      "metadata": {
        "id": "A0_IxevW1tjP"
      },
      "execution_count": 133,
      "outputs": []
    },
    {
      "cell_type": "code",
      "source": [
        "for inedex,row in id.iterrows():\n",
        "  image_path.save(path_folder +\"/\" + str(row[0]) +\".jpeg\")"
      ],
      "metadata": {
        "id": "35UOefNWtUaq"
      },
      "execution_count": 134,
      "outputs": []
    },
    {
      "cell_type": "code",
      "source": [],
      "metadata": {
        "id": "jd4aceOr4AeX"
      },
      "execution_count": 134,
      "outputs": []
    }
  ]
}