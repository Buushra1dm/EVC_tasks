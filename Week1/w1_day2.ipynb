{
  "nbformat": 4,
  "nbformat_minor": 0,
  "metadata": {
    "colab": {
      "provenance": []
    },
    "kernelspec": {
      "name": "python3",
      "display_name": "Python 3"
    },
    "language_info": {
      "name": "python"
    }
  },
  "cells": [
    {
      "cell_type": "markdown",
      "source": [
        "# task 1"
      ],
      "metadata": {
        "id": "18YuKH8lWaSp"
      }
    },
    {
      "cell_type": "code",
      "source": [
        "import numpy as np\n",
        "array = np.random.randint(low=0, high=10,size=(5, 5))\n",
        "array"
      ],
      "metadata": {
        "colab": {
          "base_uri": "https://localhost:8080/"
        },
        "id": "1QlQ41qZMiKC",
        "outputId": "97029cc2-d3e0-4989-d40e-444efb8e41d0"
      },
      "execution_count": 1,
      "outputs": [
        {
          "output_type": "execute_result",
          "data": {
            "text/plain": [
              "array([[3, 3, 9, 0, 2],\n",
              "       [0, 3, 2, 0, 4],\n",
              "       [9, 4, 0, 9, 6],\n",
              "       [4, 3, 9, 3, 0],\n",
              "       [3, 3, 9, 8, 9]])"
            ]
          },
          "metadata": {},
          "execution_count": 1
        }
      ]
    },
    {
      "cell_type": "code",
      "execution_count": 2,
      "metadata": {
        "colab": {
          "base_uri": "https://localhost:8080/"
        },
        "id": "9VK7z3sQMBVD",
        "outputId": "3d1036d1-7b87-4930-e02b-c0987fd85306"
      },
      "outputs": [
        {
          "output_type": "execute_result",
          "data": {
            "text/plain": [
              "32"
            ]
          },
          "metadata": {},
          "execution_count": 2
        }
      ],
      "source": [
        "def wealth(array):\n",
        "\n",
        "  maxx_1 = array.sum(axis=1).max()\n",
        "  return maxx_1;\n",
        "\n",
        "wealth(array)"
      ]
    },
    {
      "cell_type": "markdown",
      "source": [
        "# task 2 python course"
      ],
      "metadata": {
        "id": "JzcrwPxubjQV"
      }
    },
    {
      "cell_type": "code",
      "source": [
        "print(\"I Love Python\")\n",
        "print(\"I Love Programming\")"
      ],
      "metadata": {
        "colab": {
          "base_uri": "https://localhost:8080/"
        },
        "id": "h_Z5QslY9Pxb",
        "outputId": "124ef06c-4bea-45fe-a41b-2dc19054db52"
      },
      "execution_count": 3,
      "outputs": [
        {
          "output_type": "stream",
          "name": "stdout",
          "text": [
            "I Love Python\n",
            "I Love Programming\n"
          ]
        }
      ]
    },
    {
      "cell_type": "markdown",
      "source": [
        "Data types"
      ],
      "metadata": {
        "id": "6_f3jaXS-FwZ"
      }
    },
    {
      "cell_type": "code",
      "source": [
        "print(type(10))\n",
        "print(type(-50))\n",
        "print(type(100.9))\n",
        "print(type(\"Hello Python\"))\n",
        "print(type([1, 2, 3, 4, 5]))\n",
        "print(type((1, 2, 3, 4, 5)))\n",
        "print(type({\"One\": 1, \"Two\": 2, \"Three\": 3}))\n",
        "print(type(2==2))"
      ],
      "metadata": {
        "colab": {
          "base_uri": "https://localhost:8080/"
        },
        "id": "yWEyPmmo9s2e",
        "outputId": "eed5966e-092d-4ab3-8fdc-83184eec9d6f"
      },
      "execution_count": 4,
      "outputs": [
        {
          "output_type": "stream",
          "name": "stdout",
          "text": [
            "<class 'int'>\n",
            "<class 'int'>\n",
            "<class 'float'>\n",
            "<class 'str'>\n",
            "<class 'list'>\n",
            "<class 'tuple'>\n",
            "<class 'dict'>\n",
            "<class 'bool'>\n"
          ]
        }
      ]
    },
    {
      "cell_type": "markdown",
      "source": [
        "Variables"
      ],
      "metadata": {
        "id": "XeCPKiT--Yv8"
      }
    },
    {
      "cell_type": "code",
      "source": [
        "name = \"Osama Elzero\"\n",
        "myName = \"Osama Elzero\"\n",
        "# Single Word => Normal\n",
        "# Two Words => camelCase\n",
        "my_name = \"Osama Elzero\" # Two Words => snake_case\n",
        "print(name)\n",
        "print(myName)\n",
        "print(my_name)"
      ],
      "metadata": {
        "colab": {
          "base_uri": "https://localhost:8080/"
        },
        "id": "aBMTdH1I-XNu",
        "outputId": "94df35b5-645e-4c43-fb96-bced5fee6d6e"
      },
      "execution_count": 5,
      "outputs": [
        {
          "output_type": "stream",
          "name": "stdout",
          "text": [
            "Osama Elzero\n",
            "Osama Elzero\n",
            "Osama Elzero\n"
          ]
        }
      ]
    },
    {
      "cell_type": "code",
      "source": [
        "# Reserved Words\n",
        "help(\"keywords\")\n",
        "a, b, c = 1, 2, 3\n",
        "print(a)\n",
        "print(b)\n",
        "print(c)"
      ],
      "metadata": {
        "colab": {
          "base_uri": "https://localhost:8080/"
        },
        "id": "UyFU4CMP-nH-",
        "outputId": "5f438b63-40b0-456a-a524-4cc1d3fdc0a1"
      },
      "execution_count": 6,
      "outputs": [
        {
          "output_type": "stream",
          "name": "stdout",
          "text": [
            "\n",
            "Here is a list of the Python keywords.  Enter any keyword to get more help.\n",
            "\n",
            "False               class               from                or\n",
            "None                continue            global              pass\n",
            "True                def                 if                  raise\n",
            "and                 del                 import              return\n",
            "as                  elif                in                  try\n",
            "assert              else                is                  while\n",
            "async               except              lambda              with\n",
            "await               finally             nonlocal            yield\n",
            "break               for                 not                 \n",
            "\n",
            "1\n",
            "2\n",
            "3\n"
          ]
        }
      ]
    },
    {
      "cell_type": "markdown",
      "source": [
        "Escape characters"
      ],
      "metadata": {
        "id": "qr25qbWy_ENs"
      }
    },
    {
      "cell_type": "markdown",
      "source": [
        " Escape Sequences Characters\n",
        " \\b => Back Space\n",
        " \\newline => Escape New Line + \\ # \\\\ => Escape Back Slash\n",
        " \\' => Escape Single Quotes\n",
        " \\\" => Escape Double Quotes # \\n => Line Feed\n",
        " \\r => Carriage Return\n",
        " \\t => Horizontal Tab\n",
        " \\xhh => Character Hex Value\n"
      ],
      "metadata": {
        "id": "Zn4DrV5__POb"
      }
    },
    {
      "cell_type": "code",
      "source": [
        "# Back Space\n",
        "print(\"Hello\\bWorld\") # Will Remove o\n",
        "# Escape New Line + Back Slash \\\n",
        "print(\"Hello \\\n",
        "I Love \\\n",
        "Python\")\n",
        "# Escape Back Slash\n",
        "print(\"I Love Back Slash \\\\\")\n",
        "# Escape Single Quote\n",
        "print('I Love Single Quote \\'Test\\' ')"
      ],
      "metadata": {
        "colab": {
          "base_uri": "https://localhost:8080/"
        },
        "id": "BF_72yC1-0AZ",
        "outputId": "34392145-3765-4c58-ff60-5a90b4d75b07"
      },
      "execution_count": 7,
      "outputs": [
        {
          "output_type": "stream",
          "name": "stdout",
          "text": [
            "Hello\bWorld\n",
            "Hello I Love Python\n",
            "I Love Back Slash \\\n",
            "I Love Single Quote 'Test' \n"
          ]
        }
      ]
    },
    {
      "cell_type": "code",
      "source": [
        "# Escape Double Quotes\n",
        "print(\"I Love Double Quotes \\\"Test\\\" \")\n",
        "# Line Feed\n",
        "print(\"Hello World\\nSecond Line\")\n",
        "# Carriage Return print(\"123456\\rAbcde\")\n",
        "# Horizontal Tab\n",
        "print(\"Hello\\tPython\")\n",
        "# Character Hex Value\n",
        "print(\"\\x4F\\x73\")"
      ],
      "metadata": {
        "colab": {
          "base_uri": "https://localhost:8080/"
        },
        "id": "LPlKnqih_qbR",
        "outputId": "6ca71630-f931-47c7-f215-3cdd3003db0e"
      },
      "execution_count": 8,
      "outputs": [
        {
          "output_type": "stream",
          "name": "stdout",
          "text": [
            "I Love Double Quotes \"Test\" \n",
            "Hello World\n",
            "Second Line\n",
            "Hello\tPython\n",
            "Os\n"
          ]
        }
      ]
    },
    {
      "cell_type": "markdown",
      "source": [
        "Concatenation and Training"
      ],
      "metadata": {
        "id": "BlnbLfx7_7-P"
      }
    },
    {
      "cell_type": "code",
      "source": [
        "msg = \"I Love\"\n",
        "lang = \"Python\"\n",
        "print(msg + \" \" + lang)\n",
        "full = msg + \" \" + lang\n",
        "print(full)\n",
        "a = \"First \\\n",
        "Second \\ Third\"\n",
        "b = \"A \\\n",
        "B \\\n",
        "C\"\n",
        "print(a + \"\\n\" + b)\n",
        "#print(\"Hello\" + 1) # Error (cant concate str with number)"
      ],
      "metadata": {
        "colab": {
          "base_uri": "https://localhost:8080/"
        },
        "id": "aUkzQ-Jt_2AB",
        "outputId": "4394cce1-80a3-4e33-adf8-a6ac7761528a"
      },
      "execution_count": 10,
      "outputs": [
        {
          "output_type": "stream",
          "name": "stdout",
          "text": [
            "I Love Python\n",
            "I Love Python\n",
            "First Second \\ Third\n",
            "A B C\n"
          ]
        }
      ]
    },
    {
      "cell_type": "markdown",
      "source": [
        "strings"
      ],
      "metadata": {
        "id": "Ez0noc2lAVFy"
      }
    },
    {
      "cell_type": "code",
      "source": [
        "myStringOne = 'This is Single Quote'\n",
        "myStringTwo = \"This is Double Quotes\"\n",
        "print(myStringOne)\n",
        "print(myStringTwo)\n",
        "myStringThree = 'This is Single Quote \"Test\"'\n",
        "myStringFour = \"This is Double Quotes 'Test'\"\n",
        "print(myStringThree)\n",
        "print(myStringFour)\n",
        "\n",
        "myStringFive = '''First\n",
        "Second 'Test' \"Test\" Third'''\n",
        "myStringSix = \"\"\"First\n",
        "Second \"Test\" \\\\\\ 'Test' Third\"\"\"\n",
        "print(myStringFive)\n",
        "print(myStringSix)"
      ],
      "metadata": {
        "colab": {
          "base_uri": "https://localhost:8080/"
        },
        "id": "JhTsHXlsANwP",
        "outputId": "0c1d5801-43fa-4d38-fa06-175d23cc19df"
      },
      "execution_count": 11,
      "outputs": [
        {
          "output_type": "stream",
          "name": "stdout",
          "text": [
            "This is Single Quote\n",
            "This is Double Quotes\n",
            "This is Single Quote \"Test\"\n",
            "This is Double Quotes 'Test'\n",
            "First\n",
            "Second 'Test' \"Test\" Third\n",
            "First\n",
            "Second \"Test\" \\\\ 'Test' Third\n"
          ]
        }
      ]
    },
    {
      "cell_type": "code",
      "source": [
        "# Indexing ( Access Single Item )\n",
        "myString = \"I Love Python\"\n",
        "print(myString[0]) # Index > => I\n",
        "print(myString[9]) # Index 9 => t\n",
        "print(myString[-1]) # Index -1 => First Character From End (reverse)\n",
        "print(myString[-6]) # Index -6 => 6th Character From End"
      ],
      "metadata": {
        "colab": {
          "base_uri": "https://localhost:8080/"
        },
        "id": "qp-vgsvOA2uO",
        "outputId": "dc511589-7cfe-40fa-fc7e-892e51763256"
      },
      "execution_count": 12,
      "outputs": [
        {
          "output_type": "stream",
          "name": "stdout",
          "text": [
            "I\n",
            "t\n",
            "n\n",
            "P\n"
          ]
        }
      ]
    },
    {
      "cell_type": "code",
      "source": [
        "# Slicing ( Access Multiple Sequence Items )\n",
        "# [Start: End] End Not Included\n",
        "# [Start:End: Steps]\n",
        "print(myString[8:11])\n",
        "print(myString[3:5]) # ov\n",
        "print(myString[:10]) # If Start Is Not Here Will Start From 0 (I Love Pyt)\n",
        "print(myString[5:]) # If End Is Not Here Will Go To The End (e Python)\n",
        "print(myString[:]) # Full Data\n",
        "print(myString[0::1]) # Full Data\n",
        "print(myString[::1]) # Full Data\n",
        "print(myString[::2])#2 steps\n",
        "print(myString[::3])"
      ],
      "metadata": {
        "colab": {
          "base_uri": "https://localhost:8080/"
        },
        "id": "UIOuulj1BaIV",
        "outputId": "4dbe8328-e92e-4ff4-f702-18ffe417e8bf"
      },
      "execution_count": 13,
      "outputs": [
        {
          "output_type": "stream",
          "name": "stdout",
          "text": [
            "yth\n",
            "ov\n",
            "I Love Pyt\n",
            "e Python\n",
            "I Love Python\n",
            "I Love Python\n",
            "I Love Python\n",
            "ILv yhn\n",
            "Io tn\n"
          ]
        }
      ]
    },
    {
      "cell_type": "code",
      "source": [
        "a=\"   I Love Python       \"\n",
        "print(a.strip()) #remove spaces\n",
        "print(a.rstrip()) #right\n",
        "print(a.lstrip())  #left\n",
        "a = \"#####I_Love Python####\"\n",
        "print(a.strip(\"#\"))\n",
        "print(a.rstrip(\"#\"))\n",
        "print(a.lstrip(\"#\"))\n",
        "a = \"@#@#@#I Love Python@#@#@#\"\n",
        "print(a.strip(\"@#\"))\n",
        "print(a.rstrip(\"@#\"))\n",
        "print(a.lstrip(\"@#\"))"
      ],
      "metadata": {
        "colab": {
          "base_uri": "https://localhost:8080/"
        },
        "id": "vmdJH5riBu56",
        "outputId": "2f19d65a-838c-4e85-deec-54554612735f"
      },
      "execution_count": 14,
      "outputs": [
        {
          "output_type": "stream",
          "name": "stdout",
          "text": [
            "I Love Python\n",
            "   I Love Python\n",
            "I Love Python       \n",
            "I_Love Python\n",
            "#####I_Love Python\n",
            "I_Love Python####\n",
            "I Love Python\n",
            "@#@#@#I Love Python\n",
            "I Love Python@#@#@#\n"
          ]
        }
      ]
    },
    {
      "cell_type": "code",
      "source": [
        "# title()\n",
        "b = \"I Love 2d Graphics and 3g Technology and python\"\n",
        "print(b.title()) #first letter captial from each word\n",
        "# capitalize() fisrt letter just\n",
        "b = \"I Love 2d Graphics and 3g Technology and python\"\n",
        "print(b.capitalize())\n",
        "# zfill\n",
        "c, d ,e, f = \"1\", \"11\", \"111\", \"1111\"\n",
        "print(c)\n",
        "print(d)\n",
        "print(e)\n",
        "print(f)\n",
        "print(c.zfill(4)) #lenght 4\n",
        "print(d.zfill(4))\n",
        "print(e.zfill(4))\n",
        "print(f.zfill(4))"
      ],
      "metadata": {
        "colab": {
          "base_uri": "https://localhost:8080/"
        },
        "id": "lK-w0AG8DMBu",
        "outputId": "3b36a890-4f7d-4582-fd9d-138349735955"
      },
      "execution_count": 15,
      "outputs": [
        {
          "output_type": "stream",
          "name": "stdout",
          "text": [
            "I Love 2D Graphics And 3G Technology And Python\n",
            "I love 2d graphics and 3g technology and python\n",
            "1\n",
            "11\n",
            "111\n",
            "1111\n",
            "0001\n",
            "0011\n",
            "0111\n",
            "1111\n"
          ]
        }
      ]
    },
    {
      "cell_type": "code",
      "source": [
        "g = \"osama\"\n",
        "print(g.upper())\n",
        "h = \"OSama\"\n",
        "print(h.lower())\n",
        "a = \"I Love Python and PHP and MySQL\"\n",
        "print(a.split())\n",
        "b = \"I-Love-Python-and-PHP-and-MySQL\"\n",
        "print(b.split(\"-\"))\n",
        "c = \"I-Love-Python-and-PHP-and-MySQL\"\n",
        "print(c.split(\"-\", 3))#first 3\n",
        "d = \"I-Love-Python-and-PHP-and-MySQL\"\n",
        "print(d.rsplit(\"-\", 3)) #last 3"
      ],
      "metadata": {
        "colab": {
          "base_uri": "https://localhost:8080/"
        },
        "id": "2n4mcjNQD4ll",
        "outputId": "c9454b43-3921-4ef2-adba-73d4b7ad6b8f"
      },
      "execution_count": 16,
      "outputs": [
        {
          "output_type": "stream",
          "name": "stdout",
          "text": [
            "OSAMA\n",
            "osama\n",
            "['I', 'Love', 'Python', 'and', 'PHP', 'and', 'MySQL']\n",
            "['I', 'Love', 'Python', 'and', 'PHP', 'and', 'MySQL']\n",
            "['I', 'Love', 'Python', 'and-PHP-and-MySQL']\n",
            "['I-Love-Python-and', 'PHP', 'and', 'MySQL']\n"
          ]
        }
      ]
    },
    {
      "cell_type": "code",
      "source": [
        "e = \"Osama\"\n",
        "print(e.center(9)) # Spaces , lenght=9\n",
        "print(e.center(9, \"#\")) # Hashes\n",
        "print(e.center(15, \"@\")) # @\n",
        "\n",
        "f = \"I Love Python and PHP Because PHP is Easy\"\n",
        "print(f.count(\"PHP\")) # 2 PHP Words\n",
        "print(f.count(\"PHP\", 0, 25)) # Only One PHP Word from index 0 to 25\n",
        "\n",
        "# swapcase()\n",
        "g = \"I Love Python\" #conver to cap\n",
        "h = \"i 10VE PYTHON\" #to small\n",
        "print(g.swapcase())\n",
        "print(h.swapcase())"
      ],
      "metadata": {
        "colab": {
          "base_uri": "https://localhost:8080/"
        },
        "id": "zKsxWz7rE47J",
        "outputId": "fda381be-675f-44ca-b1bb-b1669c5923a7"
      },
      "execution_count": 17,
      "outputs": [
        {
          "output_type": "stream",
          "name": "stdout",
          "text": [
            "  Osama  \n",
            "##Osama##\n",
            "@@@@@Osama@@@@@\n",
            "2\n",
            "1\n",
            "i lOVE pYTHON\n",
            "I 10ve python\n"
          ]
        }
      ]
    },
    {
      "cell_type": "code",
      "source": [
        "i = \"I Love Python\"\n",
        "print(i.startswith(\"I\"))\n",
        "print(i.startswith(\"S\"))\n",
        "print(i.startswith(\"P\", 7, 12))\n",
        "# endswith()\n",
        "j = \"I Love Python\"\n",
        "print(j.endswith(\"n\"))\n",
        "print(j.endswith(\"S\"))\n",
        "print(j.endswith(\"e\", 2, 6))"
      ],
      "metadata": {
        "colab": {
          "base_uri": "https://localhost:8080/"
        },
        "id": "vfpdnGDHFYpU",
        "outputId": "427bd0c6-974d-412c-be91-cdbf56e98f6c"
      },
      "execution_count": 18,
      "outputs": [
        {
          "output_type": "stream",
          "name": "stdout",
          "text": [
            "True\n",
            "False\n",
            "True\n",
            "True\n",
            "False\n",
            "True\n"
          ]
        }
      ]
    },
    {
      "cell_type": "code",
      "source": [
        "# index(SubString, Start, End)\n",
        "a = \"I Love Python\"\n",
        "print(a.index(\"P\")) # Index Number 7\n",
        "print(a.index(\"P\", 0, 10)) # Index Number 7\n",
        "#print(a.index(\"P\", 0, 5)) # Through Error\n"
      ],
      "metadata": {
        "colab": {
          "base_uri": "https://localhost:8080/"
        },
        "id": "bli9NOxTGHB-",
        "outputId": "11a30450-e332-4e61-b0bd-ec881f98a841"
      },
      "execution_count": 19,
      "outputs": [
        {
          "output_type": "stream",
          "name": "stdout",
          "text": [
            "7\n",
            "7\n"
          ]
        }
      ]
    },
    {
      "cell_type": "code",
      "source": [
        "# find (SubString, Start, End)\n",
        "b = \"I Love Python\"\n",
        "print(b.find(\"P\"))\n",
        "print(b.find(\"P\", 0, 10))\n",
        "print(b.find(\"P\", 0, 5))\n",
        "# rjust(Width, Fill Char) ljust(Width, Fill Char)\n",
        "c = \"Osama\"\n",
        "print(c.rjust(10)) #lenght  10\n",
        "print(c.rjust(10, \"#\"))\n",
        "d = \"Osama\"\n",
        "print(d.ljust(10))\n",
        "print(d.ljust(10, \"#\"))"
      ],
      "metadata": {
        "colab": {
          "base_uri": "https://localhost:8080/"
        },
        "id": "xPC5xdipGhvw",
        "outputId": "4fd9f1d5-1704-46be-b67e-930ccc13ca7c"
      },
      "execution_count": 20,
      "outputs": [
        {
          "output_type": "stream",
          "name": "stdout",
          "text": [
            "7\n",
            "7\n",
            "-1\n",
            "     Osama\n",
            "#####Osama\n",
            "Osama     \n",
            "Osama#####\n"
          ]
        }
      ]
    },
    {
      "cell_type": "code",
      "source": [
        "e = \"\"\"First Line\n",
        "Second Line\n",
        "Third Line\"\"\"\n",
        "print(e.splitlines())\n",
        "f = \"First Line\\nSecond Line\\nThird Line\"\n",
        "print(f.splitlines())\n",
        "# expandtabs()\n",
        "g = \"Hello\\tWorld\\t\\tLove\\tPython\"\n",
        "print(g.expandtabs(2))\n",
        "one = \"I Love Python And 3G\"\n",
        "two = \"I Love Python And 3g\"\n",
        "print(one.istitle())\n",
        "print(two.istitle())\n",
        "three= \" \"\n",
        "four =\"\"\n",
        "print(three.isspace())\n",
        "print(four.isspace())"
      ],
      "metadata": {
        "colab": {
          "base_uri": "https://localhost:8080/"
        },
        "id": "-vWJoGUuGxdD",
        "outputId": "a81a1669-d29e-4ac3-c26d-ade4abdee951"
      },
      "execution_count": 21,
      "outputs": [
        {
          "output_type": "stream",
          "name": "stdout",
          "text": [
            "['First Line', 'Second Line', 'Third Line']\n",
            "['First Line', 'Second Line', 'Third Line']\n",
            "Hello World   Love  Python\n",
            "True\n",
            "False\n",
            "True\n",
            "False\n"
          ]
        }
      ]
    },
    {
      "cell_type": "code",
      "source": [
        "five = 'i love python'\n",
        "six = 'I Love Python'\n",
        "print(five.islower())\n",
        "print(six.islower())\n",
        "seven = \"osama_elzero\"\n",
        "eight= \"OsamaElzero100\"\n",
        "nine = \"Osama--Elzero100\"\n",
        "print(seven.isidentifier()) #correct identifier\n",
        "print(eight.isidentifier())\n",
        "print(nine.isidentifier())\n",
        "x = \"AaaaaBbbbbb\"\n",
        "y = \"AaaaaBbbbbb111\"\n",
        "print(x.isalpha()) #all the characters are alphabet letters\n",
        "print(y.isalpha())\n",
        "u = \"AaaaaBbbbbb\"\n",
        "z = \"AaaaaBbbbbb111\"\n",
        "print(u.isalnum()) #all characters in the string are alpha or numeric\n",
        "print(z.isalnum())"
      ],
      "metadata": {
        "colab": {
          "base_uri": "https://localhost:8080/"
        },
        "id": "zELUHxAAHaCb",
        "outputId": "c2593fb6-f55b-4ddf-f748-8acb86231800"
      },
      "execution_count": 22,
      "outputs": [
        {
          "output_type": "stream",
          "name": "stdout",
          "text": [
            "True\n",
            "False\n",
            "True\n",
            "True\n",
            "False\n",
            "True\n",
            "False\n",
            "True\n",
            "True\n"
          ]
        }
      ]
    },
    {
      "cell_type": "code",
      "source": [
        "# replace (Old Value, New Value, Count)\n",
        "a = \"Hello One Two Three One One\"\n",
        "print(a.replace(\"One\", \"1\"))\n",
        "print(a.replace(\"One\", \"1\", 1)) #the first\n",
        "print(a.replace(\"One\", \"1\", 2)) #the 2 first\n",
        "# join(Iterable)\n",
        "myList = [\"Osama\", \"Mohamed\", \"Elsayed\"]\n",
        "print(\"-\".join(myList))\n",
        "print(\" \".join(myList))\n",
        "print(\", \".join(myList))\n",
        "print(type(\", \".join(myList)))"
      ],
      "metadata": {
        "colab": {
          "base_uri": "https://localhost:8080/"
        },
        "id": "C-LPOEF2HyUx",
        "outputId": "699ce36e-d0b6-43b4-9df1-584236989b90"
      },
      "execution_count": 23,
      "outputs": [
        {
          "output_type": "stream",
          "name": "stdout",
          "text": [
            "Hello 1 Two Three 1 1\n",
            "Hello 1 Two Three One One\n",
            "Hello 1 Two Three 1 One\n",
            "Osama-Mohamed-Elsayed\n",
            "Osama Mohamed Elsayed\n",
            "Osama, Mohamed, Elsayed\n",
            "<class 'str'>\n"
          ]
        }
      ]
    },
    {
      "cell_type": "code",
      "source": [
        "name = \"Osama\"\n",
        "age = 36\n",
        "rank = 10\n",
        "print(\"My Name is: \" + name)\n",
        "# print(\"My Name is: + name +and My Age is:+ age)\n",
        "# Type Error\n",
        "print(\"My Name is: %s\" % \"Osama\")\n",
        "print(\"My Name is: %s\" % name)\n",
        "print(\"My Name is: %s and My Age is: %d\" % (name, age))\n",
        "print(\"My Name is: %s and My Age is: %d and My Rank is: %f\" % (name, age, rank))\n",
        "# %s => String\n",
        "# %d => Number\n",
        "# %f => Float\n",
        "n = \"Osama\"\n",
        "l = \"Python\"\n",
        "y = 10"
      ],
      "metadata": {
        "colab": {
          "base_uri": "https://localhost:8080/"
        },
        "id": "GAeD8VoLI254",
        "outputId": "7820c3ee-e9d3-4da6-f9f9-11dcd9170711"
      },
      "execution_count": 24,
      "outputs": [
        {
          "output_type": "stream",
          "name": "stdout",
          "text": [
            "My Name is: Osama\n",
            "My Name is: Osama\n",
            "My Name is: Osama\n",
            "My Name is: Osama and My Age is: 36\n",
            "My Name is: Osama and My Age is: 36 and My Rank is: 10.000000\n"
          ]
        }
      ]
    },
    {
      "cell_type": "code",
      "source": [
        "print(\"My Name is %s Iam %s Developer With %d Years Exp\" % (n, l, y))\n",
        "# Control Floating Point Number\n",
        "myNumber = 10\n",
        "print(\"My Number is: %d\" % myNumber)\n",
        "print(\"My Number is: %f\" % myNumber)\n",
        "print(\"My Number is: %.2f\" % myNumber)\n",
        "# Truncate String\n",
        "myLongString = \"Hello Peoples of Elzero Web School I Love You All\"\n",
        "print(\"Message is %s\" % myLongString)\n",
        "print(\"Message is %.5s\" % myLongString) #first 5"
      ],
      "metadata": {
        "colab": {
          "base_uri": "https://localhost:8080/"
        },
        "id": "rW8hf_0KJbkq",
        "outputId": "33bd1835-b2c7-4fe6-f691-8aa194b9a906"
      },
      "execution_count": 25,
      "outputs": [
        {
          "output_type": "stream",
          "name": "stdout",
          "text": [
            "My Name is Osama Iam Python Developer With 10 Years Exp\n",
            "My Number is: 10\n",
            "My Number is: 10.000000\n",
            "My Number is: 10.00\n",
            "Message is Hello Peoples of Elzero Web School I Love You All\n",
            "Message is Hello\n"
          ]
        }
      ]
    },
    {
      "cell_type": "code",
      "source": [
        "name = \"Osama\"\n",
        "age = 36\n",
        "rank = 10\n",
        "print(\"My Name is: \"+ name)\n",
        "# print(\"My Name is: + name + and My Age is: + age)\n",
        "# Type Error\n",
        "print(\"My Name is: {}\".format(\"Osama\"))\n",
        "print(\"My Name is: {}\".format(name))\n",
        "print(\"My Name is: {} My Age: {}\".format(name, age))\n",
        "print(\"My Name is: {:s} Age: {:d} & Rank is: {:f}\".format(name, age, rank))\n",
        "# {:s} => String\n",
        "#{d} => Number\n",
        "# {f} => Float\n",
        "n = \"Osama\"\n",
        "l = \"Python\"\n",
        "y = 10"
      ],
      "metadata": {
        "colab": {
          "base_uri": "https://localhost:8080/"
        },
        "id": "f0Qjog6OJuhF",
        "outputId": "7de6ca81-3b03-4d07-cf3a-cbb2553ae597"
      },
      "execution_count": 26,
      "outputs": [
        {
          "output_type": "stream",
          "name": "stdout",
          "text": [
            "My Name is: Osama\n",
            "My Name is: Osama\n",
            "My Name is: Osama\n",
            "My Name is: Osama My Age: 36\n",
            "My Name is: Osama Age: 36 & Rank is: 10.000000\n"
          ]
        }
      ]
    },
    {
      "cell_type": "code",
      "source": [
        "print(\"My Name is {} Iam {} Developer With {:d} Years Exp\".format(n, l, y))\n",
        "\n",
        "myNumber = 10\n",
        "print(\"My Number is: {:d}\".format(myNumber))\n",
        "print(\"My Number is: {:f}\".format(myNumber))\n",
        "print(\"My Number is: {:.2f}\".format(myNumber))\n",
        "# Truncate String\n",
        "myLongString = \"Hello Peoples of Elzero Web School I Love You All\"\n",
        "print(\"Message is {}\".format(myLongString))\n",
        "print(\"Message is {:.5s}\".format(myLongString))\n",
        "print(\"Message is {:.13s}\".format(myLongString))\n",
        "# Format Money\n",
        "myMoney = 500162350198\n",
        "print(\"My Money in Bank Is: {:d}\".format(myMoney))\n",
        "print(\"My Money in Bank Is: {:_d}\".format(myMoney))\n",
        "print(\"My Money in Bank Is: {:,d}\".format(myMoney))"
      ],
      "metadata": {
        "colab": {
          "base_uri": "https://localhost:8080/"
        },
        "id": "1Ku4I3BJKMUs",
        "outputId": "f912b408-9e70-4cca-8845-480ba101035e"
      },
      "execution_count": 27,
      "outputs": [
        {
          "output_type": "stream",
          "name": "stdout",
          "text": [
            "My Name is Osama Iam Python Developer With 10 Years Exp\n",
            "My Number is: 10\n",
            "My Number is: 10.000000\n",
            "My Number is: 10.00\n",
            "Message is Hello Peoples of Elzero Web School I Love You All\n",
            "Message is Hello\n",
            "Message is Hello Peoples\n",
            "My Money in Bank Is: 500162350198\n",
            "My Money in Bank Is: 500_162_350_198\n",
            "My Money in Bank Is: 500,162,350,198\n"
          ]
        }
      ]
    },
    {
      "cell_type": "code",
      "source": [
        "# ReArrange Items\n",
        "a, b, c = \"One\", \"Two\", \"Three\"\n",
        "print(\"Hello {} {} {}\".format(a, b, c)) # Hello One Two Three\n",
        "print(\"Hello {1} {2} {0}\".format(a, b, c)) # Hello Two Three One\n",
        "print(\"Hello {2} {0} {1}\".format(a, b, c)) # Hello Three One Two\n",
        "x, y, z = 10, 20, 30\n",
        "print(\"Hello {} {} {}\".format(x, y, z))\n",
        "print(\"Hello {1:d} {2:d} {0:d}\".format(x, y, z))\n",
        "print(\"Hello {2:f} {0:f} {1:f}\".format(x, y, z))\n",
        "print(\"Hello {2:.2f} {0:.4f} {1:.5f}\".format(x, y, z))\n",
        "# Format in Version 3.6+\n",
        "myName = \"Osama\"\n",
        "myAge = 36\n",
        "print(\"My Name is : {myName} and My Age is : {myAge}\")\n",
        "print (f\"My Name is : {myName} and My Age is : {myAge}\")"
      ],
      "metadata": {
        "colab": {
          "base_uri": "https://localhost:8080/"
        },
        "id": "-y-zBvPJLYwq",
        "outputId": "3c1e2ab6-6563-4412-dfa2-ea3537574554"
      },
      "execution_count": 28,
      "outputs": [
        {
          "output_type": "stream",
          "name": "stdout",
          "text": [
            "Hello One Two Three\n",
            "Hello Two Three One\n",
            "Hello Three One Two\n",
            "Hello 10 20 30\n",
            "Hello 20 30 10\n",
            "Hello 30.000000 10.000000 20.000000\n",
            "Hello 30.00 10.0000 20.00000\n",
            "My Name is : {myName} and My Age is : {myAge}\n",
            "My Name is : Osama and My Age is : 36\n"
          ]
        }
      ]
    },
    {
      "cell_type": "code",
      "source": [
        "print(type(1))\n",
        "print(type(100))\n",
        "print(type(10))\n",
        "print(type(-10))\n",
        "print(type(-110))\n",
        "# Float\n",
        "print(type(1.500))\n",
        "print(type(100.99))\n",
        "print(type(-10.99))\n",
        "print(type (0.99))\n",
        "print(type(-0.99))\n",
        "# Complex\n",
        "myComplexNumber = 5+6j\n",
        "print(type(myComplexNumber))\n",
        "print(\"Real Part Is: {}\".format(myComplexNumber.real))\n",
        "print(\"Imaginary Part Is: {}\".format(myComplexNumber.imag))"
      ],
      "metadata": {
        "colab": {
          "base_uri": "https://localhost:8080/"
        },
        "id": "SWvYZpkiLrzr",
        "outputId": "fd803a41-44c5-4fbd-d7b5-40034a3b5580"
      },
      "execution_count": 29,
      "outputs": [
        {
          "output_type": "stream",
          "name": "stdout",
          "text": [
            "<class 'int'>\n",
            "<class 'int'>\n",
            "<class 'int'>\n",
            "<class 'int'>\n",
            "<class 'int'>\n",
            "<class 'float'>\n",
            "<class 'float'>\n",
            "<class 'float'>\n",
            "<class 'float'>\n",
            "<class 'float'>\n",
            "<class 'complex'>\n",
            "Real Part Is: 5.0\n",
            "Imaginary Part Is: 6.0\n"
          ]
        }
      ]
    },
    {
      "cell_type": "code",
      "source": [
        "print(100)\n",
        "print(float(100))\n",
        "print(complex(100))\n",
        "print(10.50)\n",
        "print(int(10.50))\n",
        "print(complex(10.50))\n",
        "print(10+9j)\n",
        "#print(int(10+9j))"
      ],
      "metadata": {
        "colab": {
          "base_uri": "https://localhost:8080/"
        },
        "id": "jrq3VlKVMAs_",
        "outputId": "59bdff54-63fb-46b0-ec77-d74cdabb11c5"
      },
      "execution_count": 30,
      "outputs": [
        {
          "output_type": "stream",
          "name": "stdout",
          "text": [
            "100\n",
            "100.0\n",
            "(100+0j)\n",
            "10.5\n",
            "10\n",
            "(10.5+0j)\n",
            "(10+9j)\n"
          ]
        }
      ]
    },
    {
      "cell_type": "code",
      "source": [
        "\n",
        "# Addition\n",
        "print(10 + 30)\n",
        "print(-10 + 20)\n",
        "print(1 + 2.66)\n",
        "print(1.2 + 1.2)\n",
        "# Subtraction\n",
        "print(60 - 30)\n",
        "print(-30 - 20)\n",
        "print(-30 - -20)\n",
        "print(5.66 - 3.44)\n",
        "#2.22\n",
        "# Multiplication\n",
        "print(10 * 3)\n",
        "print(5 + 10 * 100)\n",
        "print((5 + 10) * 100)"
      ],
      "metadata": {
        "id": "X9yIwkmWYT1k",
        "colab": {
          "base_uri": "https://localhost:8080/"
        },
        "outputId": "767606fe-4665-4893-b266-2f45493c1e5f"
      },
      "execution_count": 32,
      "outputs": [
        {
          "output_type": "stream",
          "name": "stdout",
          "text": [
            "40\n",
            "10\n",
            "3.66\n",
            "2.4\n",
            "30\n",
            "-50\n",
            "-10\n",
            "2.22\n",
            "30\n",
            "1005\n",
            "1500\n"
          ]
        }
      ]
    },
    {
      "cell_type": "code",
      "source": [
        "\n",
        "# Division\n",
        "print(100/20) # 5.0\n",
        "print(int(100 / 20))\n",
        "# Modulus\n",
        "print(8 % 2)\n",
        "#1\n",
        "print(9 % 2)\n",
        "print(20 % 5)\n",
        "print(22 % 5)\n",
        "# Exponent\n",
        "print(2** 5)\n",
        "print(2 * 2 * 2 * 2 *2)\n",
        "print(5 ** 4)\n",
        "print(5 * 5 * 5 * 5)\n",
        "# Floor Division\n",
        "print(100 // 20)\n",
        "print(119 // 20)\n",
        "print(120 // 20)\n",
        "print(140 // 20)\n",
        "print(142 // 20)"
      ],
      "metadata": {
        "colab": {
          "base_uri": "https://localhost:8080/"
        },
        "id": "wn_wxxvlG5zb",
        "outputId": "6b000407-929d-4cae-b034-1b49f64e436b"
      },
      "execution_count": 36,
      "outputs": [
        {
          "output_type": "stream",
          "name": "stdout",
          "text": [
            "5.0\n",
            "5\n",
            "0\n",
            "1\n",
            "0\n",
            "2\n",
            "32\n",
            "32\n",
            "625\n",
            "625\n",
            "5\n",
            "5\n",
            "6\n",
            "7\n",
            "7\n"
          ]
        }
      ]
    },
    {
      "cell_type": "markdown",
      "source": [
        "list"
      ],
      "metadata": {
        "id": "R-_7ueOmGbcz"
      }
    },
    {
      "cell_type": "code",
      "source": [
        "myAwesomeList = [\"One\", \"Two\", \"One\", 1, 100.5, True]\n",
        "print (myAwesomeList) # Whole List\n",
        "print(myAwesomeList[1]) # \"Two\"\n",
        "print(myAwesomeList[-1])\n",
        "print(myAwesomeList[-3])\n",
        "print(myAwesomeList[1:4])\n",
        "print(myAwesomeList[:4])\n",
        "print(myAwesomeList[1:])\n",
        "print(myAwesomeList[::1])\n",
        "print(myAwesomeList[::2])\n",
        "print(myAwesomeList)\n",
        "# myAwesomeList[1] = 2\n",
        "#myAwesomeList[-1]= False\n",
        "myAwesomeList [0:3] = [\"A\"]\n",
        "print(myAwesomeList)"
      ],
      "metadata": {
        "colab": {
          "base_uri": "https://localhost:8080/"
        },
        "id": "UfUsfaFlGcYu",
        "outputId": "0fac4b3f-9343-4f6f-e1e8-55206912ec40"
      },
      "execution_count": 40,
      "outputs": [
        {
          "output_type": "stream",
          "name": "stdout",
          "text": [
            "['One', 'Two', 'One', 1, 100.5, True]\n",
            "Two\n",
            "True\n",
            "1\n",
            "['Two', 'One', 1]\n",
            "['One', 'Two', 'One', 1]\n",
            "['Two', 'One', 1, 100.5, True]\n",
            "['One', 'Two', 'One', 1, 100.5, True]\n",
            "['One', 'One', 100.5]\n",
            "['One', 'Two', 'One', 1, 100.5, True]\n",
            "['A', 1, 100.5, True]\n"
          ]
        }
      ]
    },
    {
      "cell_type": "code",
      "source": [
        "myFriends = [\"Osama\", \"Ahmed\", \"Sayed\"]\n",
        "myOldFriends = [\"Haytham\", \"Samah\", \"Ali\"]\n",
        "myFriends.append(\"Alaa\")\n",
        "myFriends.append(100)\n",
        "myFriends.append(150.200)\n",
        "myFriends.append(True)\n",
        "myFriends.append(myOldFriends)\n",
        "print(myFriends)\n",
        "print(myFriends [2])\n",
        "print(myFriends [6])\n",
        "print(myFriends [7])\n",
        "print(myFriends [7][2])\n",
        "\n",
        "a =[1, 2, 3, 4]\n",
        "b = [\"A\", \"B\", \"C\"]\n",
        "c = [\"One\", \"Two\"]\n",
        "a.extend(b)\n",
        "a.extend(c)\n",
        "print(a)"
      ],
      "metadata": {
        "colab": {
          "base_uri": "https://localhost:8080/"
        },
        "id": "J-n_ii3AJBDh",
        "outputId": "e4c6dae4-5ea1-4139-9654-1a1732f6c114"
      },
      "execution_count": 42,
      "outputs": [
        {
          "output_type": "stream",
          "name": "stdout",
          "text": [
            "['Osama', 'Ahmed', 'Sayed', 'Alaa', 100, 150.2, True, ['Haytham', 'Samah', 'Ali']]\n",
            "Sayed\n",
            "True\n",
            "['Haytham', 'Samah', 'Ali']\n",
            "Ali\n",
            "[1, 2, 3, 4, 'A', 'B', 'C', 'One', 'Two']\n"
          ]
        }
      ]
    },
    {
      "cell_type": "code",
      "source": [
        "x = [1, 2, 3, 4, 5, \"Osama\", True, \"Osama\", \"Osama\"]\n",
        "x.remove(\"Osama\")\n",
        "print(x)\n",
        "# sort()\n",
        "y=[1, 2, 100, 120, -10, 17, 29]\n",
        "#y = [\"A\", \"Z\", \"C\"]\n",
        "y.sort(reverse=True)\n",
        "print(y)\n",
        "z = [10, 1, 9, 80, 100, \"Osama\", 100]\n",
        "z.reverse()\n",
        "print(z)"
      ],
      "metadata": {
        "colab": {
          "base_uri": "https://localhost:8080/"
        },
        "id": "6P_p6paZKLf4",
        "outputId": "74e84770-def7-478a-8b06-0cd81147c998"
      },
      "execution_count": 46,
      "outputs": [
        {
          "output_type": "stream",
          "name": "stdout",
          "text": [
            "[1, 2, 3, 4, 5, True, 'Osama', 'Osama']\n",
            "[120, 100, 29, 17, 2, 1, -10]\n",
            "[100, 'Osama', 100, 80, 9, 1, 10]\n"
          ]
        }
      ]
    },
    {
      "cell_type": "code",
      "source": [
        "a = [1, 2, 3, 4]\n",
        "a.clear()\n",
        "print(a)\n",
        "# copy()\n",
        "b = [1, 2, 3, 4]\n",
        "c = b.copy()\n",
        "print(b) # Main List\n",
        "print(c) # Copied List\n",
        "b.append(5)\n",
        "print(b) # Main List\n",
        "print(c) # Copied List"
      ],
      "metadata": {
        "colab": {
          "base_uri": "https://localhost:8080/"
        },
        "id": "QPCjhYSoKdel",
        "outputId": "f3eba6f7-3194-4583-956b-d806a10a1aaf"
      },
      "execution_count": 47,
      "outputs": [
        {
          "output_type": "stream",
          "name": "stdout",
          "text": [
            "[]\n",
            "[1, 2, 3, 4]\n",
            "[1, 2, 3, 4]\n",
            "[1, 2, 3, 4, 5]\n",
            "[1, 2, 3, 4]\n"
          ]
        }
      ]
    },
    {
      "cell_type": "code",
      "source": [
        "# count()\n",
        "d = [1, 2, 3, 4, 3, 9, 10, 1, 2, 1]\n",
        "print(d.count(1))\n",
        "# index()\n",
        "e =[\"Osama\", \"Ahmed\", \"Sayed\", \"Ramy\", \"Ahmed\", \"Ramy\"]\n",
        "print(e.index(\"Ramy\"))\n",
        "# insert()\n",
        "f = [1, 2, 3, 4, 5, \"A\", \"B\"]\n",
        "f.insert(0, \"Test\")\n",
        "f.insert(-1, \"Test\")\n",
        "print(f)\n",
        "# pop()\n",
        "g = [1, 2, 3, 4, 5, \"A\", \"B\"]\n",
        "print(g.pop(-3))"
      ],
      "metadata": {
        "colab": {
          "base_uri": "https://localhost:8080/"
        },
        "id": "hYu8dHdwLEcW",
        "outputId": "56f9d192-938e-4f70-9390-21ad9ebb9e3e"
      },
      "execution_count": 50,
      "outputs": [
        {
          "output_type": "stream",
          "name": "stdout",
          "text": [
            "3\n",
            "3\n",
            "['Test', 1, 2, 3, 4, 5, 'A', 'Test', 'B']\n",
            "5\n"
          ]
        }
      ]
    },
    {
      "cell_type": "markdown",
      "source": [
        "tuples"
      ],
      "metadata": {
        "id": "xjiE4kI3LeoZ"
      }
    },
    {
      "cell_type": "code",
      "source": [
        "myAwesomeTupleOne=(\"Osama\",\"Ahmed\")\n",
        "myAwesomeTupleTwo = \"Osama\", \"Ahmed\"\n",
        "print (myAwesomeTupleOne)\n",
        "print(myAwesomeTupleTwo)\n",
        "print(type(myAwesomeTupleOne))\n",
        "print(type(myAwesomeTupleTwo))\n",
        "# Tuple Indexing\n",
        "myAwesomeTupleThree = (1, 2, 3, 4, 5)\n",
        "print(myAwesomeTupleThree[0])\n",
        "print(myAwesomeTupleThree[-1])\n",
        "print(myAwesomeTupleThree[-3])\n",
        "# Tuple Assign Values\n",
        "myAwesomeTupleFour = (1, 2, 3, 4, 5)\n",
        "# myAwesomeTupleFour[2] = \"Three\"\n",
        "# print(myAwesomeTupleFour)\n",
        "# Tuple Data\n",
        "# 'tuple' object does not support item assignment\n",
        "myAwesomeTupleFive = (\"Osama\", \"Osama\", 1, 2, 3, 100.5, True)\n",
        "print(myAwesomeTupleFive[1])\n",
        "print(myAwesomeTupleFive[-1])"
      ],
      "metadata": {
        "colab": {
          "base_uri": "https://localhost:8080/"
        },
        "id": "ISV_bU94LNKW",
        "outputId": "56290195-50da-4131-bda9-853983e3971b"
      },
      "execution_count": 51,
      "outputs": [
        {
          "output_type": "stream",
          "name": "stdout",
          "text": [
            "('Osama', 'Ahmed')\n",
            "('Osama', 'Ahmed')\n",
            "<class 'tuple'>\n",
            "<class 'tuple'>\n",
            "1\n",
            "5\n",
            "3\n",
            "Osama\n",
            "True\n"
          ]
        }
      ]
    },
    {
      "cell_type": "code",
      "source": [
        "# Tuple With One Element\n",
        "myTuple1 = (\"Osama\",)\n",
        "myTuple2 = \"Osama\",\n",
        "print(myTuple1)\n",
        "print(myTuple2)\n",
        "print(type(myTuple1))\n",
        "print(type(myTuple2))\n",
        "print(len(myTuple1))\n",
        "print(len(myTuple2))\n",
        "# Tuple Concatenation\n",
        "a=(1, 2, 3, 4)\n",
        "b = (5, 6)\n",
        "c = a + b\n",
        "d = a + (\"A\", \"B\", True) + b\n",
        "print(c)\n",
        "print(d)\n",
        "# Tuple, List, String Repeat (*)\n",
        "myString = \"Osama\"\n",
        "myList = [1, 2]\n",
        "myTuple = (\"A\", \"B\")"
      ],
      "metadata": {
        "colab": {
          "base_uri": "https://localhost:8080/"
        },
        "id": "Z8PRiY1QL7zo",
        "outputId": "eeca6c80-0939-4ce5-ab9a-1e308e740161"
      },
      "execution_count": 54,
      "outputs": [
        {
          "output_type": "stream",
          "name": "stdout",
          "text": [
            "('Osama',)\n",
            "('Osama',)\n",
            "<class 'tuple'>\n",
            "<class 'tuple'>\n",
            "1\n",
            "1\n",
            "(1, 2, 3, 4, 5, 6)\n",
            "(1, 2, 3, 4, 'A', 'B', True, 5, 6)\n"
          ]
        }
      ]
    },
    {
      "cell_type": "code",
      "source": [
        "print(myString * 6)\n",
        "print(myList* 6)\n",
        "print(myTuple * 6)\n",
        "# Methods => count()\n",
        "a = (1, 3, 7, 8, 2, 6, 5, 8)\n",
        "print(a.count(8))\n",
        "# Methods => index()\n",
        "b = (1, 3, 7, 8, 2, 6, 5)\n",
        "# print(\"The Position of Index Is: \" + b.index(7)) # Error\n",
        "print(\"The Position of Index Is: {:d}\".format(b.index(7)))\n",
        "print (f\"The Position of Index Is: {b.index(7)}\")\n",
        "#Tuple Destruct\n",
        "a = (\"A\", \"B\", 4, \"C\")\n",
        "x, y,\n",
        "z = a\n",
        "print(x)\n",
        "print(y)\n",
        "print(z)"
      ],
      "metadata": {
        "colab": {
          "base_uri": "https://localhost:8080/"
        },
        "id": "P1X3tIXeMHr0",
        "outputId": "256611f2-f385-4639-91ac-cd0c024bd4e9"
      },
      "execution_count": 56,
      "outputs": [
        {
          "output_type": "stream",
          "name": "stdout",
          "text": [
            "OsamaOsamaOsamaOsamaOsamaOsama\n",
            "[1, 2, 1, 2, 1, 2, 1, 2, 1, 2, 1, 2]\n",
            "('A', 'B', 'A', 'B', 'A', 'B', 'A', 'B', 'A', 'B', 'A', 'B')\n",
            "2\n",
            "The Position of Index Is: 2\n",
            "The Position of Index Is: 2\n",
            "[1, 2, 3, 4, 5, True, 'Osama', 'Osama']\n",
            "[120, 100, 29, 17, 2, 1, -10]\n",
            "('A', 'B', 4, 'C')\n"
          ]
        }
      ]
    },
    {
      "cell_type": "markdown",
      "source": [
        "sets"
      ],
      "metadata": {
        "id": "7Pe58yJZMfYH"
      }
    },
    {
      "cell_type": "code",
      "source": [
        "# Not Ordered And Not Indexed\n",
        "mySetOne = {\"Osama\", \"Ahmed\", 100}\n",
        "print(mySetOne)\n",
        "# print(mySetOne[0])\n",
        "# Slicing Cant Be Done\n",
        "mySetTwo = {1, 2, 3, 4, 5, 6}\n",
        "# print(mySetTwo [0:3])\n",
        "# Has Only Immutable Data Types\n",
        "#mySetThree = {\"Osama\", 100, 100.5, True, [1, 2, 3]} # unhashable type: 'list'\n",
        "mySetThree = {\"Osama\", 100, 100.5, True, (1, 2, 3)}\n",
        "print(mySetThree)\n",
        "# Items Is Unique\n",
        "mySetFour = {1, 2, \"Osama\", \"One\", \"Osama\" , 1}\n",
        "print(mySetFour)"
      ],
      "metadata": {
        "colab": {
          "base_uri": "https://localhost:8080/"
        },
        "id": "Y5F1Om85MSBj",
        "outputId": "edf852b8-a85a-410e-cf07-103fb15c184f"
      },
      "execution_count": 60,
      "outputs": [
        {
          "output_type": "stream",
          "name": "stdout",
          "text": [
            "{'Osama', 100, 'Ahmed'}\n",
            "{True, 100.5, 100, (1, 2, 3), 'Osama'}\n",
            "{1, 2, 'Osama', 'One'}\n"
          ]
        }
      ]
    },
    {
      "cell_type": "code",
      "source": [
        "a = {1, 2, 3}\n",
        "a.clear()\n",
        "print(a)\n",
        "# union()\n",
        "b ={\"One\", \"Two\", \"Three\"}\n",
        "c = {\"1\", \"2\", \"3\"}\n",
        "x = {\"Zero\", \"Cool\"}\n",
        "print(b | c)\n",
        "print(b.union(c, x))\n",
        "# add()\n",
        "d = {1, 2, 3, 4}\n",
        "d.add(5)\n",
        "d.add(6)\n",
        "print(d)"
      ],
      "metadata": {
        "colab": {
          "base_uri": "https://localhost:8080/"
        },
        "id": "k6z2DfgUM-xw",
        "outputId": "e654d095-9a2b-4bc6-cd19-eecb7859113c"
      },
      "execution_count": 64,
      "outputs": [
        {
          "output_type": "stream",
          "name": "stdout",
          "text": [
            "set()\n",
            "{'3', '2', 'Two', '1', 'Three', 'One'}\n",
            "{'Cool', '3', '2', 'Two', '1', 'Zero', 'Three', 'One'}\n",
            "{1, 2, 3, 4, 5, 6}\n"
          ]
        }
      ]
    },
    {
      "cell_type": "code",
      "source": [
        "e = {1, 2, 3, 4}\n",
        "f = e.copy()\n",
        "print(e)\n",
        "print(f)\n",
        "e.add(6)\n",
        "print(e)\n",
        "print(f)\n",
        "# remove()\n",
        "g = {1, 2, 3, 4}\n",
        "g.remove(1)\n",
        "# g.remove(7) print(g)"
      ],
      "metadata": {
        "colab": {
          "base_uri": "https://localhost:8080/"
        },
        "id": "_8XLGPdINXAM",
        "outputId": "26a09f4b-d133-4533-e606-543a38300a51"
      },
      "execution_count": 67,
      "outputs": [
        {
          "output_type": "stream",
          "name": "stdout",
          "text": [
            "{1, 2, 3, 4}\n",
            "{1, 2, 3, 4}\n",
            "{1, 2, 3, 4, 6}\n",
            "{1, 2, 3, 4}\n"
          ]
        }
      ]
    },
    {
      "cell_type": "code",
      "source": [
        "# discard()\n",
        "h = {1, 2, 3, 4}\n",
        "h.discard(1)\n",
        "h.discard(7)\n",
        "print(h)\n",
        "# pop()\n",
        "i = {\"A\", True, 1, 2, 3, 4, 5}\n",
        "print(i.pop())\n",
        "# update()\n",
        "j = {1, 2, 3}\n",
        "k = {1, \"A\", \"B\", 2}\n",
        "j.update(['Html', \"Css\"])\n",
        "j.update(k)\n",
        "print(j)"
      ],
      "metadata": {
        "colab": {
          "base_uri": "https://localhost:8080/"
        },
        "id": "l-pT9rmbNwiQ",
        "outputId": "2d83e094-22b7-4f6c-e144-550ff149dab3"
      },
      "execution_count": 68,
      "outputs": [
        {
          "output_type": "stream",
          "name": "stdout",
          "text": [
            "{2, 3, 4}\n",
            "True\n",
            "{1, 2, 3, 'Html', 'A', 'B', 'Css'}\n"
          ]
        }
      ]
    },
    {
      "cell_type": "code",
      "source": [
        "# difference()\n",
        "a = {1, 2, 3, 4}\n",
        "b = {1, 2, 3, \"Osama\", \"Ahmed\"}\n",
        "print(a)\n",
        "print(a.difference (b)) # a - b\n",
        "print(a)\n",
        "print(\"=\" * 40) # Separator\n",
        "# difference_update()\n",
        "c = {1, 2, 3, 4}\n",
        "d = {1, 2, \"Osama\", \"Ahmed\"}\n",
        "print(c)\n",
        "c.difference_update(d) # c - d\n",
        "print(c)\n",
        "print(\"=\" * 40) # Separator\n",
        "# intersection()\n",
        "e = {1, 2, 3, 4, \"X\", \"Osama\"}\n",
        "f = {\"Osama\", \"X\", 2}\n",
        "print(e)\n",
        "print(e.intersection (f)) #e & f\n",
        "print(e)\n",
        "print(\"=\" * 40) # Separator"
      ],
      "metadata": {
        "colab": {
          "base_uri": "https://localhost:8080/"
        },
        "id": "3jLOh3wyOXFe",
        "outputId": "5d2ef946-a3b6-44f6-8c97-e32316b22c23"
      },
      "execution_count": 69,
      "outputs": [
        {
          "output_type": "stream",
          "name": "stdout",
          "text": [
            "{1, 2, 3, 4}\n",
            "{4}\n",
            "{1, 2, 3, 4}\n",
            "========================================\n",
            "{1, 2, 3, 4}\n",
            "{3, 4}\n",
            "========================================\n",
            "{1, 2, 3, 4, 'X', 'Osama'}\n",
            "{2, 'Osama', 'X'}\n",
            "{1, 2, 3, 4, 'X', 'Osama'}\n",
            "========================================\n"
          ]
        }
      ]
    },
    {
      "cell_type": "code",
      "source": [
        "# intersection_update()\n",
        "g = {1, 2, 3, 4, \"X\", \"Osama\"}\n",
        "h = {\"Osama\", \"X\", 2}\n",
        "print(g)\n",
        "g.intersection_update(h) # g & h\n",
        "print(g)\n",
        "print(\"=\" * 40) # Separator\n",
        "# symmetric_difference()\n",
        "i = {1, 2, 3, 4, 5, \"X\"}\n",
        "j = {\"Osama\", \"Zero\", 1, 2, 4, \"X\"}\n",
        "print(i)\n",
        "print(i.symmetric_difference(j)) # i ^ j\n",
        "print(i)\n",
        "print(\"=\" * 40) # Separator\n",
        "# symmetric_difference_update()\n",
        "k = {1, 2, 3, 4, 5, \"X\"}\n",
        "l = {\"Osama\", \"Zero\", 1, 2, 4, \"X\"}\n",
        "print(k)\n",
        "k.symmetric_difference_update(l) #k ^ 1\n",
        "print(k)"
      ],
      "metadata": {
        "colab": {
          "base_uri": "https://localhost:8080/"
        },
        "id": "GzTvwcYfPdnh",
        "outputId": "09563a4c-44b5-4ba2-bdcc-549f56428e9b"
      },
      "execution_count": 72,
      "outputs": [
        {
          "output_type": "stream",
          "name": "stdout",
          "text": [
            "{1, 2, 3, 4, 'X', 'Osama'}\n",
            "{2, 'Osama', 'X'}\n",
            "========================================\n",
            "{1, 2, 3, 4, 5, 'X'}\n",
            "{3, 5, 'Zero', 'Osama'}\n",
            "{1, 2, 3, 4, 5, 'X'}\n",
            "========================================\n",
            "{1, 2, 3, 4, 5, 'X'}\n",
            "{3, 5, 'Zero', 'Osama'}\n"
          ]
        }
      ]
    },
    {
      "cell_type": "code",
      "source": [
        "# issuperset()\n",
        "a = {1, 2, 3, 4}\n",
        "b = {1, 2, 3}\n",
        "c = {1, 2, 3, 4, 5}\n",
        "print(a.issuperset (b)) # True\n",
        "print(a.issuperset (c)) # False\n",
        "print(\"=\" * 50)\n",
        "# issubset()\n",
        "d = {1, 2, 3, 4}\n",
        "e = {1, 2, 3}\n",
        "f = {1, 2, 3, 4, 5}\n",
        "print(d.issubset(e)) # False\n",
        "print(d.issubset(f)) # True\n",
        "print(\"=\" * 50)\n",
        "#isdisjoint()\n",
        "g = {1, 2, 3, 4}\n",
        "h = {1, 2, 3}\n",
        "i = {10, 11, 12}\n",
        "print(g.isdisjoint(h)) # False\n",
        "print(g.isdisjoint(i)) # True"
      ],
      "metadata": {
        "colab": {
          "base_uri": "https://localhost:8080/"
        },
        "id": "uf4r24SGPvU_",
        "outputId": "3d3ca1c5-1a32-4c89-9e61-2d0dab23026a"
      },
      "execution_count": 75,
      "outputs": [
        {
          "output_type": "stream",
          "name": "stdout",
          "text": [
            "True\n",
            "False\n",
            "==================================================\n",
            "False\n",
            "True\n",
            "==================================================\n",
            "False\n",
            "True\n"
          ]
        }
      ]
    },
    {
      "cell_type": "markdown",
      "source": [
        "Dictionary"
      ],
      "metadata": {
        "id": "TkxIK8A6ROzc"
      }
    },
    {
      "cell_type": "code",
      "source": [
        "user = {\n",
        "\"name\": \"Osama\",\n",
        "\"age\": 36,\n",
        "\"country\": \"Egypt\",\n",
        "\"skills\": [\"Html\", \"Css\", \"JS\"],\n",
        "\"rating\": 10.5\n",
        "}\n",
        "print(user)\n",
        "print(user['country'])\n",
        "print(user.get(\"country\"))\n",
        "print(user.keys())\n",
        "print(user.values())"
      ],
      "metadata": {
        "colab": {
          "base_uri": "https://localhost:8080/"
        },
        "id": "cj1zNiwRQ9jt",
        "outputId": "1720760a-936b-441c-854b-4ae30865df21"
      },
      "execution_count": 78,
      "outputs": [
        {
          "output_type": "stream",
          "name": "stdout",
          "text": [
            "{'name': 'Osama', 'age': 36, 'country': 'Egypt', 'skills': ['Html', 'Css', 'JS'], 'rating': 10.5}\n",
            "Egypt\n",
            "Egypt\n",
            "dict_keys(['name', 'age', 'country', 'skills', 'rating'])\n",
            "dict_values(['Osama', 36, 'Egypt', ['Html', 'Css', 'JS'], 10.5])\n"
          ]
        }
      ]
    },
    {
      "cell_type": "code",
      "source": [
        "languages = {\n",
        "  \"One\": {\n",
        "  \"name\": \"Html\",\n",
        "  \"progress\": \"80%\"\n",
        "  },\n",
        "  \"Two\": {\n",
        "  \"name\": \"Css\",\n",
        "  \"progress\": \"90%\"\n",
        "  },\n",
        "  \"Three\": {\n",
        "  \"name\": \"Js\",\n",
        "  \"progress\": \"90%\"\n",
        "  }\n",
        "  }\n",
        "print(languages)\n",
        "print(languages ['One'])\n",
        "print(languages['Three']['name'])\n",
        "# Dictionary Length\n",
        "print(len(languages))\n",
        "print(len(languages[\"Two\"]))"
      ],
      "metadata": {
        "colab": {
          "base_uri": "https://localhost:8080/"
        },
        "id": "fkmkV1QJRuLn",
        "outputId": "9870812d-e137-43c1-e477-6ed8e113431a"
      },
      "execution_count": 79,
      "outputs": [
        {
          "output_type": "stream",
          "name": "stdout",
          "text": [
            "{'One': {'name': 'Html', 'progress': '80%'}, 'Two': {'name': 'Css', 'progress': '90%'}, 'Three': {'name': 'Js', 'progress': '90%'}}\n",
            "{'name': 'Html', 'progress': '80%'}\n",
            "Js\n",
            "3\n",
            "2\n"
          ]
        }
      ]
    },
    {
      "cell_type": "code",
      "source": [
        "frameworkOne = {\n",
        "\"name\": \"Vuejs\",\n",
        "\"progress\": \"80%\"\n",
        "}\n",
        "frameworkTwo={\n",
        "\"name\": \"ReactJs\",\n",
        "\"progress\": \"80%\"\n",
        "}\n",
        "frameworkThree = {\n",
        "\"name\": \"Angular\",\n",
        "\"progress\": \"80%\"\n",
        "}\n",
        "allFramework = {\n",
        "  \"one\": frameworkOne,\n",
        "  \"two\": frameworkTwo,\n",
        "  \"three\": frameworkThree\n",
        "}\n",
        "print(allFramework)"
      ],
      "metadata": {
        "colab": {
          "base_uri": "https://localhost:8080/"
        },
        "id": "NemtPGzbUsM9",
        "outputId": "0468f8d3-ae0e-444e-9fcd-1f8426ac851b"
      },
      "execution_count": 80,
      "outputs": [
        {
          "output_type": "stream",
          "name": "stdout",
          "text": [
            "{'one': {'name': 'Vuejs', 'progress': '80%'}, 'two': {'name': 'ReactJs', 'progress': '80%'}, 'three': {'name': 'Angular', 'progress': '80%'}}\n"
          ]
        }
      ]
    },
    {
      "cell_type": "code",
      "source": [
        "# clear()\n",
        "user = {\n",
        "\"name\": \"Osama\"}\n",
        "print(user)\n",
        "user.clear()\n",
        "print(user)\n",
        "print(\"=\" * 50)\n",
        "# update()\n",
        "member = {\n",
        "\"name\": \"Osama\"}\n",
        "print(member)\n",
        "member[\"age\"] = 36\n",
        "print(member)\n",
        "member.update({\"country\": \"Egypt\"})\n",
        "print(member)\n",
        "print(\"=\" * 50)"
      ],
      "metadata": {
        "colab": {
          "base_uri": "https://localhost:8080/"
        },
        "id": "qdDGfKtxYUng",
        "outputId": "086fe20e-b913-4f34-d4ff-7eea33c02e3f"
      },
      "execution_count": 82,
      "outputs": [
        {
          "output_type": "stream",
          "name": "stdout",
          "text": [
            "{'name': 'Osama'}\n",
            "{}\n",
            "==================================================\n",
            "{'name': 'Osama'}\n",
            "{'name': 'Osama', 'age': 36}\n",
            "{'name': 'Osama', 'age': 36, 'country': 'Egypt'}\n",
            "==================================================\n"
          ]
        }
      ]
    },
    {
      "cell_type": "code",
      "source": [
        "# copy()\n",
        "main = {\n",
        "\"name\": \"Osama\"\n",
        "}\n",
        "b = main.copy()\n",
        "print(b)\n",
        "main.update({\"skills\": \"Fighting\"})\n",
        "print(main)\n",
        "print(b)\n",
        "#keys() + values()\n",
        "print(main.keys())\n",
        "print(main.values())"
      ],
      "metadata": {
        "colab": {
          "base_uri": "https://localhost:8080/"
        },
        "id": "LjOgfO3MZS6t",
        "outputId": "b460417e-a83c-419d-9834-2ec0fc9ccf9a"
      },
      "execution_count": 83,
      "outputs": [
        {
          "output_type": "stream",
          "name": "stdout",
          "text": [
            "{'name': 'Osama'}\n",
            "{'name': 'Osama', 'skills': 'Fighting'}\n",
            "{'name': 'Osama'}\n",
            "dict_keys(['name', 'skills'])\n",
            "dict_values(['Osama', 'Fighting'])\n"
          ]
        }
      ]
    },
    {
      "cell_type": "code",
      "source": [
        "# setdefault()\n",
        "user = {\n",
        "\"name\": \"Osama\"}\n",
        "\n",
        "print(user)\n",
        "print(user.setdefault(\"age\", 36))\n",
        "print(user)\n",
        "print(\"=\" * 40)\n",
        "# popitem()\n",
        "member = {\n",
        "\"name\": \"Osama\",\n",
        "\"skill\": \"PS4\"\n",
        "}\n",
        "print(member)\n",
        "member.update({\"age\": 36})\n",
        "print(member.popitem())\n",
        "print(\"=\" * 40)"
      ],
      "metadata": {
        "colab": {
          "base_uri": "https://localhost:8080/"
        },
        "id": "whTYWaQkZ0Qv",
        "outputId": "a5897bb7-7407-4c75-9e5d-eece9d33454e"
      },
      "execution_count": 90,
      "outputs": [
        {
          "output_type": "stream",
          "name": "stdout",
          "text": [
            "{'name': 'Osama'}\n",
            "36\n",
            "{'name': 'Osama', 'age': 36}\n",
            "========================================\n",
            "{'name': 'Osama', 'skill': 'PS4'}\n",
            "('age', 36)\n",
            "========================================\n"
          ]
        }
      ]
    },
    {
      "cell_type": "code",
      "source": [
        "# items()\n",
        "view ={\n",
        "\"name\": \"Osama\",\n",
        "\"skill\": \"XBox\"\n",
        "}\n",
        "allItems = view.items()\n",
        "print(view)\n",
        "view[\"age\"] = 36\n",
        "print(allItems)\n",
        "print(\"=\" * 40)\n",
        "# fromkeys()\n",
        "a = ('MyKeyOne', 'MyKeyTwo', 'MyKeyThree')\n",
        "b = \"X\"\n",
        "print(dict.fromkeys(a, b))"
      ],
      "metadata": {
        "colab": {
          "base_uri": "https://localhost:8080/"
        },
        "id": "OyGx8WIQZ7r0",
        "outputId": "7179694c-5e61-4976-dc64-ed58c1c4e465"
      },
      "execution_count": 93,
      "outputs": [
        {
          "output_type": "stream",
          "name": "stdout",
          "text": [
            "{'name': 'Osama', 'skill': 'XBox'}\n",
            "dict_items([('name', 'Osama'), ('skill', 'XBox'), ('age', 36)])\n",
            "========================================\n",
            "{'MyKeyOne': 'X', 'MyKeyTwo': 'X', 'MyKeyThree': 'X'}\n"
          ]
        }
      ]
    },
    {
      "cell_type": "markdown",
      "source": [
        "Boolean"
      ],
      "metadata": {
        "id": "mUzC3YAQam1N"
      }
    },
    {
      "cell_type": "code",
      "source": [
        "name =\" \"\n",
        "print(name.isspace())\n",
        "print(\"=\" * 50)\n",
        "print(100 > 200)\n",
        "print(100 > 100)\n",
        "print(100 > 90)\n",
        "print(\"=\" * 50)\n",
        "# True Values\n",
        "print(bool (\"Osama\"))\n",
        "print(bool(100))\n",
        "print(bool(100.95))\n",
        "print(bool (True))\n",
        "print(bool([1, 2, 3, 4, 5]))\n",
        "print(\"=\" * 50)"
      ],
      "metadata": {
        "colab": {
          "base_uri": "https://localhost:8080/"
        },
        "id": "L-5Pb2D4acQ-",
        "outputId": "7c093f2d-af63-4d16-c124-f35b8f96fa7e"
      },
      "execution_count": 95,
      "outputs": [
        {
          "output_type": "stream",
          "name": "stdout",
          "text": [
            "True\n",
            "==================================================\n",
            "False\n",
            "False\n",
            "True\n",
            "==================================================\n",
            "True\n",
            "True\n",
            "True\n",
            "True\n",
            "True\n",
            "==================================================\n"
          ]
        }
      ]
    },
    {
      "cell_type": "code",
      "source": [
        "print(bool(0))\n",
        "print(bool(\"\"))\n",
        "print(bool(''))\n",
        "print(bool([]))\n",
        "print(bool (False))\n",
        "print(bool(()))\n",
        "print(bool({}))\n",
        "print(bool (None))"
      ],
      "metadata": {
        "colab": {
          "base_uri": "https://localhost:8080/"
        },
        "id": "flGkitvZbL2L",
        "outputId": "728d3207-768b-4ed2-d285-07f98d7fdf74"
      },
      "execution_count": 96,
      "outputs": [
        {
          "output_type": "stream",
          "name": "stdout",
          "text": [
            "False\n",
            "False\n",
            "False\n",
            "False\n",
            "False\n",
            "False\n",
            "False\n",
            "False\n"
          ]
        }
      ]
    },
    {
      "cell_type": "code",
      "source": [
        "age = 36\n",
        "country = \"Egypt\"\n",
        "rank = 10\n",
        "print(age > 16 and country==\"Egypt\" and rank > 0) # True\n",
        "print(age > 16 and country == \"KSA\" and rank > 0) # False\n",
        "print(age > 40 or country == \"KSA\" or rank > 20) # False\n",
        "print(age > 40 or country ==\"Egypt\" or rank > 20) # True\n",
        "print(age > 16) # True\n",
        "print(not age > 16) # Not True = False"
      ],
      "metadata": {
        "colab": {
          "base_uri": "https://localhost:8080/"
        },
        "id": "m8SvJulBbWnM",
        "outputId": "9cf5f8c1-8cb9-47b4-82e1-79fcfc2a0589"
      },
      "execution_count": 102,
      "outputs": [
        {
          "output_type": "stream",
          "name": "stdout",
          "text": [
            "True\n",
            "False\n",
            "False\n",
            "True\n",
            "True\n",
            "False\n"
          ]
        }
      ]
    },
    {
      "cell_type": "markdown",
      "source": [
        "Assignment operator"
      ],
      "metadata": {
        "id": "2Np2UXS8bxZW"
      }
    },
    {
      "cell_type": "code",
      "source": [
        "\n",
        "x = 10 # Var One\n",
        "y = 20 # Var Two\n",
        "# Var One = Self [Operator] Var Two # Var One [Operator]= Var Two\n",
        "# x += y\n",
        "x-= y\n",
        "print(x)"
      ],
      "metadata": {
        "colab": {
          "base_uri": "https://localhost:8080/"
        },
        "id": "_X4FWCwobbqS",
        "outputId": "3f2434eb-509c-4c43-f6a0-28b267bcbf7f"
      },
      "execution_count": 103,
      "outputs": [
        {
          "output_type": "stream",
          "name": "stdout",
          "text": [
            "-10\n"
          ]
        }
      ]
    },
    {
      "cell_type": "markdown",
      "source": [
        "Comparison operators"
      ],
      "metadata": {
        "id": "lQsPkTK3b0Vg"
      }
    },
    {
      "cell_type": "code",
      "source": [
        "print(100==100)\n",
        "print(100==200)\n",
        "print(100 == 100.00)\n",
        "print(\"#\" * 50)\n",
        "print(100 == 100)\n",
        "print(100 != 200)\n",
        "print(100 != 100.00)\n",
        "print(\"#\" * 50)\n",
        "# Greater Than + Less Than\n",
        "print(100 > 100)\n",
        "print(100 > 200)\n",
        "print(100 > 100.00)\n",
        "print(100 > 40)\n",
        "print(\"#\" * 50)\n",
        "print(100 < 100)\n",
        "print(100200)\n",
        "print(100 < 100.00)\n",
        "print(100 < 40)\n",
        "print(\"#\" * 50)"
      ],
      "metadata": {
        "colab": {
          "base_uri": "https://localhost:8080/"
        },
        "id": "ykTsTJWxb0q4",
        "outputId": "6a046e5b-43b9-48cc-d520-473f92af975a"
      },
      "execution_count": 105,
      "outputs": [
        {
          "output_type": "stream",
          "name": "stdout",
          "text": [
            "True\n",
            "False\n",
            "True\n",
            "##################################################\n",
            "True\n",
            "True\n",
            "False\n",
            "##################################################\n",
            "False\n",
            "False\n",
            "False\n",
            "True\n",
            "##################################################\n",
            "False\n",
            "100200\n",
            "False\n",
            "False\n",
            "##################################################\n"
          ]
        }
      ]
    },
    {
      "cell_type": "code",
      "source": [
        "print(100 >= 100)\n",
        "print(100 >= 200)\n",
        "print(100 >= 100.00)\n",
        "print(100 >= 40)\n",
        "print(\"#\" * 50)\n",
        "print(100 <= 100)\n",
        "print(100 <= 200)\n",
        "print(100 <= 100.00)\n",
        "print(100 <= 40)\n",
        "print(\"#\" * 50)"
      ],
      "metadata": {
        "colab": {
          "base_uri": "https://localhost:8080/"
        },
        "id": "QmQ4SgB9ifTP",
        "outputId": "6d6cfa26-5d39-4260-d056-a2ea603ecd0b"
      },
      "execution_count": 106,
      "outputs": [
        {
          "output_type": "stream",
          "name": "stdout",
          "text": [
            "True\n",
            "False\n",
            "True\n",
            "True\n",
            "##################################################\n",
            "True\n",
            "True\n",
            "True\n",
            "False\n",
            "##################################################\n"
          ]
        }
      ]
    },
    {
      "cell_type": "code",
      "source": [
        "a = 10\n",
        "print(type(a))\n",
        "print(type(str(a)))\n",
        "print(\"#\" * 50)\n",
        "# tuple()\n",
        "C = \"Osama\" # String\n",
        "d =[1, 2, 3, 4, 5]\n",
        "e = {\"A\", \"B\", \"C\"}\n",
        "f = {\"A\": 1, \"B\": 2}\n",
        "# List\n",
        "# Set\n",
        "# Dictionary\n",
        "print(tuple(c))\n",
        "print(tuple(d))\n",
        "print(tuple(e))\n",
        "print(tuple(f))"
      ],
      "metadata": {
        "colab": {
          "base_uri": "https://localhost:8080/"
        },
        "id": "LWXX0vfqikBQ",
        "outputId": "8c0a9fbb-a6b5-4408-bd4f-343bd5532d4d"
      },
      "execution_count": 109,
      "outputs": [
        {
          "output_type": "stream",
          "name": "stdout",
          "text": [
            "<class 'int'>\n",
            "<class 'str'>\n",
            "##################################################\n",
            "(1, 2, 3, 4, 5)\n",
            "(1, 2, 3, 4, 5)\n",
            "('A', 'C', 'B')\n",
            "('A', 'B')\n"
          ]
        }
      ]
    },
    {
      "cell_type": "code",
      "source": [
        "C = \"Osama\" # String\n",
        "d=(1, 2, 3, 4, 5)# Tuple\n",
        "e={\"A\", \"B\", \"C\"} # Set\n",
        "f = {\"A\": 1, \"B\": 2} # Dictionary\n",
        "\n",
        "print(list(c))\n",
        "print(list(d))\n",
        "print(list(e))\n",
        "print(list(f))\n",
        "print(\"#\"* 50)\n",
        "# set()\n",
        "c = \"Osama\" # String\n",
        "d=(1, 2, 3, 4, 5)\n",
        "e = [\"A\", \"B\", \"C\"] # List\n",
        "f={\"A\": 1, \"B\": 2} # Dictionary\n",
        "print(set(c))\n",
        "print(set(d))\n",
        "print(set(e))\n",
        "print(set(f))\n",
        "print(\"#\" * 50)"
      ],
      "metadata": {
        "colab": {
          "base_uri": "https://localhost:8080/"
        },
        "id": "AGPQitoQiokL",
        "outputId": "3f836c76-6b9c-45b8-be83-5cee9c13f39a"
      },
      "execution_count": 114,
      "outputs": [
        {
          "output_type": "stream",
          "name": "stdout",
          "text": [
            "[1, 2, 3, 4, 5]\n",
            "[1, 2, 3, 4, 5]\n",
            "['A', 'C', 'B']\n",
            "['A', 'B']\n",
            "##################################################\n",
            "{'a', 'O', 's', 'm'}\n",
            "{1, 2, 3, 4, 5}\n",
            "{'A', 'C', 'B'}\n",
            "{'A', 'B'}\n",
            "##################################################\n"
          ]
        }
      ]
    },
    {
      "cell_type": "code",
      "source": [
        "# dict()\n",
        "d =((\"A\", 1), (\"B\", 2), (\"C\", 3)) # Tuple\n",
        "e = [[\"One\", 1], [\"Two\", 2], [\"Three\", 3]] # List\n",
        "print(dict(d))\n",
        "print(dict(e))"
      ],
      "metadata": {
        "colab": {
          "base_uri": "https://localhost:8080/"
        },
        "id": "EpYO8D2EkQZo",
        "outputId": "f5199f4a-f5e8-4e7a-f9c8-b07c5cbb1141"
      },
      "execution_count": 116,
      "outputs": [
        {
          "output_type": "stream",
          "name": "stdout",
          "text": [
            "{'A': 1, 'B': 2, 'C': 3}\n",
            "{'One': 1, 'Two': 2, 'Three': 3}\n"
          ]
        }
      ]
    },
    {
      "cell_type": "code",
      "source": [
        "fName = input('What\\'s Is Your First Name?')\n",
        "mName = input('What\\'s Is Your Middle Name?')\n",
        "lName = input('What\\'s Is Your Last Name?')\n",
        "fName = fName.strip().capitalize()\n",
        "mName = mName.strip().capitalize()\n",
        "lName = lName.strip().capitalize()\n",
        "print(f\"Hello {fName} {mName:.1s} {lName} Happy To See You.\")"
      ],
      "metadata": {
        "colab": {
          "base_uri": "https://localhost:8080/"
        },
        "id": "ASi5R-MbklS-",
        "outputId": "de32a9df-6af1-4ef4-dbca-50582257af61"
      },
      "execution_count": 118,
      "outputs": [
        {
          "output_type": "stream",
          "name": "stdout",
          "text": [
            "What's Is Your First Name?bushra\n",
            "What's Is Your Middle Name?abdulkhaleg\n",
            "What's Is Your Last Name?dajam\n",
            "Hello Bushra A Dajam Happy To See You.\n"
          ]
        }
      ]
    },
    {
      "cell_type": "code",
      "source": [
        "uName = \"Osama\"\n",
        "uCountry = \"Kuwait\"\n",
        "cName = \"Python Course\"\n",
        "cPrice = 100\n",
        "if uCountry == \"Egypt\":\n",
        "  print(f\"Hello {uName} Because You Are From {uCountry}\")\n",
        "  print(f\"The Course \\\"{cName}\\\" Price Is: ${cPrice - 80}\")\n",
        "elif uCountry == \"KSA\":\n",
        "  print(f\"Hello {uName} Because You Are From {uCountry}\")\n",
        "  print (f\"The Course \\\"{cName}\\\" Price Is: ${cPrice - 60}\")\n",
        "elif uCountry == \"Kuwait\":\n",
        "  print(f\"Hello {uName} Because You Are From {uCountry}\")\n",
        "  print (f\"The Course \\\"{cName}\\\" Price Is: ${cPrice - 50}\")\n",
        "else:\n",
        "  print(f\"Hello {uName} Because You Are From {uCountry}\")\n",
        "  print (f\"The Course \\\"{cName}\\\" Price Is: ${cPrice - 30}\")"
      ],
      "metadata": {
        "colab": {
          "base_uri": "https://localhost:8080/"
        },
        "id": "9DhgCTPIksKz",
        "outputId": "68a61d80-ee3a-4174-d00e-7c98b196f9b3"
      },
      "execution_count": 120,
      "outputs": [
        {
          "output_type": "stream",
          "name": "stdout",
          "text": [
            "Hello Osama Because You Are From Kuwait\n",
            "The Course \"Python Course\" Price Is: $50\n"
          ]
        }
      ]
    },
    {
      "cell_type": "code",
      "source": [
        "uName = \"Osama\"\n",
        "isStudent = \"Yes\"\n",
        "uCountry = \"Egypt\"\n",
        "cName = \"Python Course\"\n",
        "cPrice = 100\n",
        "if uCountry == \"Egypt\" or uCountry == \"KSA\" or uCountry == \"Qatar\":\n",
        "  if isStudent == \"Yes\":\n",
        "    print(f\"Hi {uName} Because U R From {uCountry} And Student\")\n",
        "    print(f\"The Course \\\"{cName}\\\" Price Is: ${cPrice - 90}\")\n",
        "  else:\n",
        "    print(f\"Hi {uName} Because U R From {uCountry}\")\n",
        "    print (f\"The Course \\\"{cName}\\\" Price Is: ${cPrice - 80}\")\n",
        "elif uCountry == \"Kuwait\" or uCountry == \"Bahrain\":\n",
        "  print(f\"Hi {uName} Because U R From {uCountry}\")\n",
        "  print (f\"The Course \\\"{cName}\\\" Price Is: ${cPrice - 50}\")\n",
        "else:\n",
        "  print(f\"Hi {uName} Because U R From {uCountry}\")\n",
        "  print (f\"The Course \\\"{cName}\\\" Price Is: ${cPrice - 30}\")"
      ],
      "metadata": {
        "colab": {
          "base_uri": "https://localhost:8080/"
        },
        "id": "gn0LkkOklfAS",
        "outputId": "fac38263-1eab-425d-a662-98c726b85a92"
      },
      "execution_count": 122,
      "outputs": [
        {
          "output_type": "stream",
          "name": "stdout",
          "text": [
            "Hi Osama Because U R From Egypt And Student\n",
            "The Course \"Python Course\" Price Is: $10\n"
          ]
        }
      ]
    },
    {
      "cell_type": "code",
      "source": [
        "country = \"A\"\n",
        "if country==\"Egypt\" : print(f\"The Weather in {country} Is 15\")\n",
        "elif country == \"KSA\" : print(f\"The Weather in {country} Is 30\")\n",
        "else: print(\"Country is Not in The List\")\n",
        "# Short If\n",
        "movieRate = 18\n",
        "age = 18\n",
        "if age < movieRate :\n",
        "  print(\"Movie S Not Good 4U\") # Condition If True\n",
        "else :\n",
        "  print(\"Movie S Good 4U And Happy Watching\") # Condition If False\n",
        "print(\"Movie S Not Good 4U\" if age < movieRate else \"Movie S Good 4U And Happy Watching\")\n",
        "# Condition If True | If Condition | Else | Condition If False"
      ],
      "metadata": {
        "colab": {
          "base_uri": "https://localhost:8080/"
        },
        "id": "Vplw1s_El0Mi",
        "outputId": "ba812eaf-4f23-437b-e438-944d6eb544e9"
      },
      "execution_count": 123,
      "outputs": [
        {
          "output_type": "stream",
          "name": "stdout",
          "text": [
            "Country is Not in The List\n",
            "Movie S Good 4U And Happy Watching\n",
            "Movie S Good 4U And Happy Watching\n"
          ]
        }
      ]
    },
    {
      "cell_type": "markdown",
      "source": [
        "Membership Operators"
      ],
      "metadata": {
        "id": "ONPS2ZhSmLr8"
      }
    },
    {
      "cell_type": "code",
      "source": [
        "\n",
        "name = \"Osama\"\n",
        "print(\"s\" in name)\n",
        "print(\"a\" in name)\n",
        "print(\"A\" in name)\n",
        "print(\"#\" * 50)\n",
        "# List\n",
        "friends = [\"Ahmed\", \"Sayed\", \"Mahmoud\"]\n",
        "print(\"Osama\" in friends)\n",
        "print(\"Sayed\" in friends)\n",
        "print(\"Mahmoud\" not in friends)\n",
        "print(\"#\" * 50)"
      ],
      "metadata": {
        "colab": {
          "base_uri": "https://localhost:8080/"
        },
        "id": "S0RAeCvAmJ_5",
        "outputId": "20329dc2-0179-4906-8276-57053860955a"
      },
      "execution_count": 124,
      "outputs": [
        {
          "output_type": "stream",
          "name": "stdout",
          "text": [
            "True\n",
            "True\n",
            "False\n",
            "##################################################\n",
            "False\n",
            "True\n",
            "False\n",
            "##################################################\n"
          ]
        }
      ]
    },
    {
      "cell_type": "code",
      "source": [
        "countriesOne = [\"Egypt\", \"KSA\", \"Kuwait\", \"Bahrain\", \"Syria\"]\n",
        "countriesOneDiscount = 80\n",
        "countriesTwo = [\"Italy\", \"USA\"]\n",
        "countriesTwoDiscount = 50\n",
        "myCountry = \"Italy\"\n",
        "if myCountry in countriesOne:\n",
        "  print (f\"Hello You Have A Discount Equal To ${countriesOneDiscount}\")\n",
        "elif myCountry in countriesTwo:\n",
        "  print (f\"Hello You Have A Discount Equal To ${countriesTwoDiscount}\")\n",
        "else:\n",
        "  print(\"You Have No Discount\")"
      ],
      "metadata": {
        "colab": {
          "base_uri": "https://localhost:8080/"
        },
        "id": "oUkwltgcmbI-",
        "outputId": "c9ff6fb2-57ed-4ea0-ce9e-8ca0fa157aa2"
      },
      "execution_count": 127,
      "outputs": [
        {
          "output_type": "stream",
          "name": "stdout",
          "text": [
            "Hello You Have A Discount Equal To $50\n"
          ]
        }
      ]
    },
    {
      "cell_type": "code",
      "source": [
        "a = 0\n",
        "while a < 15:\n",
        "  print(a)\n",
        "  a += 1 # a = a + 1\n",
        "print(\"Loop is Done\") # True Become False\n",
        "while False:\n",
        "  print(\"Will Not Print\")"
      ],
      "metadata": {
        "colab": {
          "base_uri": "https://localhost:8080/"
        },
        "id": "EydZOrvbmhc8",
        "outputId": "eb63f1df-dbe6-482a-fd2a-17f7e63fc2ee"
      },
      "execution_count": 129,
      "outputs": [
        {
          "output_type": "stream",
          "name": "stdout",
          "text": [
            "0\n",
            "1\n",
            "2\n",
            "3\n",
            "4\n",
            "5\n",
            "6\n",
            "7\n",
            "8\n",
            "9\n",
            "10\n",
            "11\n",
            "12\n",
            "13\n",
            "14\n",
            "Loop is Done\n"
          ]
        }
      ]
    },
    {
      "cell_type": "code",
      "source": [
        "\n",
        "myNumbers = [1, 2, 3, 4, 5, 6, 7, 8, 9]\n",
        "for number in myNumbers:\n",
        "# print(number * 17)\n",
        "  if number % 2 == 0: # Even\n",
        "    print (f\"The Number {number} Is Even.\")\n",
        "  else:\n",
        "    print(f\"The Number {number} Is Odd.\")\n",
        "else:\n",
        "  print(\"The Loop Is Finished\")\n",
        "myName = \"Osama\"\n",
        "for letter in myName:\n",
        "  print(f\" [ {letter.upper()} ] \")"
      ],
      "metadata": {
        "colab": {
          "base_uri": "https://localhost:8080/"
        },
        "id": "RcsSbaU0mpOX",
        "outputId": "a7f484c8-3214-4099-cc59-01a9c3ece125"
      },
      "execution_count": 131,
      "outputs": [
        {
          "output_type": "stream",
          "name": "stdout",
          "text": [
            "The Number 1 Is Odd.\n",
            "The Number 2 Is Even.\n",
            "The Number 3 Is Odd.\n",
            "The Number 4 Is Even.\n",
            "The Number 5 Is Odd.\n",
            "The Number 6 Is Even.\n",
            "The Number 7 Is Odd.\n",
            "The Number 8 Is Even.\n",
            "The Number 9 Is Odd.\n",
            "The Loop Is Finished\n",
            " [ O ] \n",
            " [ S ] \n",
            " [ A ] \n",
            " [ M ] \n",
            " [ A ] \n"
          ]
        }
      ]
    },
    {
      "cell_type": "code",
      "source": [
        "\n",
        "peoples = [\"Osama\", \"Ahmed\", \"Sayed\", \"Ali\"]\n",
        "skills = ['Html', 'Css', 'Js']\n",
        "for name in peoples: # Outer Loop\n",
        "  print(f\" {name} Skills Is: \")\n",
        "  for skill in skills: # Inner Loop\n",
        "    print(f\"- {skill}\")"
      ],
      "metadata": {
        "colab": {
          "base_uri": "https://localhost:8080/"
        },
        "id": "50oWGRkXnZqg",
        "outputId": "85f369e4-0f2f-4973-8760-a4d46533b437"
      },
      "execution_count": 133,
      "outputs": [
        {
          "output_type": "stream",
          "name": "stdout",
          "text": [
            " Osama Skills Is: \n",
            "- Html\n",
            "- Css\n",
            "- Js\n",
            " Ahmed Skills Is: \n",
            "- Html\n",
            "- Css\n",
            "- Js\n",
            " Sayed Skills Is: \n",
            "- Html\n",
            "- Css\n",
            "- Js\n",
            " Ali Skills Is: \n",
            "- Html\n",
            "- Css\n",
            "- Js\n"
          ]
        }
      ]
    },
    {
      "cell_type": "code",
      "source": [
        "peoples = { \"Osama\": {\n",
        "\"Html\": \"70%\",\n",
        "\"Css\": \"80%\",\n",
        "\"Js\": \"70%\"\n",
        "},\n",
        "\"Ahmed\" : {\n",
        "\"Html\": \"90%\",\n",
        "\"Css\": \"80%\",\n",
        "\"Js\": \"90%\"\n",
        "},\n",
        "\"Sayed\": {\n",
        "\"Html\": \"70%\",\n",
        "\"Css\": \"60%\",\n",
        "\"Js\": \"90%\"\n",
        "}\n",
        "}\n",
        "print(peoples[\"Osama\"])\n",
        "print(peoples[\"Ahmed\"])\n",
        "print(peoples[\"Sayed\"])\n",
        "print(peoples[\"Osama\"]['Css'])\n",
        "print(peoples[\"Ahmed\"]['Css'])\n",
        "print(peoples[\"Sayed\"]['Css'])"
      ],
      "metadata": {
        "colab": {
          "base_uri": "https://localhost:8080/"
        },
        "id": "HM6NdPN6n0Uy",
        "outputId": "19724a0d-2c19-49da-e5e2-f50a7d0968dd"
      },
      "execution_count": 135,
      "outputs": [
        {
          "output_type": "stream",
          "name": "stdout",
          "text": [
            "{'Html': '70%', 'Css': '80%', 'Js': '70%'}\n",
            "{'Html': '90%', 'Css': '80%', 'Js': '90%'}\n",
            "{'Html': '70%', 'Css': '60%', 'Js': '90%'}\n",
            "80%\n",
            "80%\n",
            "60%\n"
          ]
        }
      ]
    },
    {
      "cell_type": "code",
      "source": [
        "for name in peoples:\n",
        "  print(f\"Skills and Progress For {name} Is: \")\n",
        "  for skill in peoples [name]:\n",
        "    print(f\"{skill.upper()} => {peoples [name] [skill]}\")"
      ],
      "metadata": {
        "colab": {
          "base_uri": "https://localhost:8080/"
        },
        "id": "S0_WFPsHoCOX",
        "outputId": "5776ce87-ac4c-4bc1-fce7-fd3034c17856"
      },
      "execution_count": 137,
      "outputs": [
        {
          "output_type": "stream",
          "name": "stdout",
          "text": [
            "Skills and Progress For Osama Is: \n",
            "HTML => 70%\n",
            "CSS => 80%\n",
            "JS => 70%\n",
            "Skills and Progress For Ahmed Is: \n",
            "HTML => 90%\n",
            "CSS => 80%\n",
            "JS => 90%\n",
            "Skills and Progress For Sayed Is: \n",
            "HTML => 70%\n",
            "CSS => 60%\n",
            "JS => 90%\n"
          ]
        }
      ]
    },
    {
      "cell_type": "code",
      "source": [
        "for number in myNumbers:\n",
        "  if number == 13:\n",
        "    continue\n",
        "  print(number)\n",
        "print(\"#\" * 50)"
      ],
      "metadata": {
        "colab": {
          "base_uri": "https://localhost:8080/"
        },
        "id": "sm8lXgTZoT9g",
        "outputId": "627f93b1-c448-4b90-d405-4f2318a8c707"
      },
      "execution_count": 138,
      "outputs": [
        {
          "output_type": "stream",
          "name": "stdout",
          "text": [
            "1\n",
            "2\n",
            "3\n",
            "4\n",
            "5\n",
            "6\n",
            "7\n",
            "8\n",
            "9\n",
            "##################################################\n"
          ]
        }
      ]
    },
    {
      "cell_type": "code",
      "source": [
        "# Break\n",
        "for number in myNumbers:\n",
        "  if number == 13:\n",
        "    break\n",
        "  print(number)\n",
        "print(\"#\" * 50)"
      ],
      "metadata": {
        "colab": {
          "base_uri": "https://localhost:8080/"
        },
        "id": "8r3AbqJPobmv",
        "outputId": "2f974869-40c6-463f-b8b9-d9f60870ed79"
      },
      "execution_count": 139,
      "outputs": [
        {
          "output_type": "stream",
          "name": "stdout",
          "text": [
            "1\n",
            "2\n",
            "3\n",
            "4\n",
            "5\n",
            "6\n",
            "7\n",
            "8\n",
            "9\n",
            "##################################################\n"
          ]
        }
      ]
    },
    {
      "cell_type": "code",
      "source": [
        "# Pass\n",
        "for number in myNumbers:\n",
        "  if number == 13:\n",
        "    pass\n",
        "  print(number)"
      ],
      "metadata": {
        "colab": {
          "base_uri": "https://localhost:8080/"
        },
        "id": "CAJOKXbFohFR",
        "outputId": "0b6d1f5c-0383-4db7-9a84-9714b98b629c"
      },
      "execution_count": 141,
      "outputs": [
        {
          "output_type": "stream",
          "name": "stdout",
          "text": [
            "1\n",
            "2\n",
            "3\n",
            "4\n",
            "5\n",
            "6\n",
            "7\n",
            "8\n",
            "9\n"
          ]
        }
      ]
    }
  ]
}