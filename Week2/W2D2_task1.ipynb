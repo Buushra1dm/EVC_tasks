{
  "metadata": {
    "kernelspec": {
      "language": "python",
      "display_name": "Python 3",
      "name": "python3"
    },
    "language_info": {
      "pygments_lexer": "ipython3",
      "nbconvert_exporter": "python",
      "version": "3.6.4",
      "file_extension": ".py",
      "codemirror_mode": {
        "name": "ipython",
        "version": 3
      },
      "name": "python",
      "mimetype": "text/x-python"
    },
    "kaggle": {
      "accelerator": "none",
      "dataSources": [
        {
          "sourceId": 1458546,
          "sourceType": "datasetVersion",
          "datasetId": 855240
        }
      ],
      "dockerImageVersionId": 30732,
      "isInternetEnabled": true,
      "language": "python",
      "sourceType": "notebook",
      "isGpuEnabled": false
    },
    "colab": {
      "provenance": []
    }
  },
  "nbformat_minor": 0,
  "nbformat": 4,
  "cells": [
    {
      "source": [
        "\n",
        "# IMPORTANT: RUN THIS CELL IN ORDER TO IMPORT YOUR KAGGLE DATA SOURCES\n",
        "# TO THE CORRECT LOCATION (/kaggle/input) IN YOUR NOTEBOOK,\n",
        "# THEN FEEL FREE TO DELETE THIS CELL.\n",
        "# NOTE: THIS NOTEBOOK ENVIRONMENT DIFFERS FROM KAGGLE'S PYTHON\n",
        "# ENVIRONMENT SO THERE MAY BE MISSING LIBRARIES USED BY YOUR\n",
        "# NOTEBOOK.\n",
        "\n",
        "import os\n",
        "import sys\n",
        "from tempfile import NamedTemporaryFile\n",
        "from urllib.request import urlopen\n",
        "from urllib.parse import unquote, urlparse\n",
        "from urllib.error import HTTPError\n",
        "from zipfile import ZipFile\n",
        "import tarfile\n",
        "import shutil\n",
        "\n",
        "CHUNK_SIZE = 40960\n",
        "DATA_SOURCE_MAPPING = 'age-gender-and-ethnicity-face-data-csv:https%3A%2F%2Fstorage.googleapis.com%2Fkaggle-data-sets%2F855240%2F1458546%2Fbundle%2Farchive.zip%3FX-Goog-Algorithm%3DGOOG4-RSA-SHA256%26X-Goog-Credential%3Dgcp-kaggle-com%2540kaggle-161607.iam.gserviceaccount.com%252F20240708%252Fauto%252Fstorage%252Fgoog4_request%26X-Goog-Date%3D20240708T081628Z%26X-Goog-Expires%3D259200%26X-Goog-SignedHeaders%3Dhost%26X-Goog-Signature%3D8c26fc8b773d3f0c7a8d1012fbcbc8f15b6a9b5ff32cc50c91f7e59a4e81b596d60a916b3590d6f34a0d446b5358ac79ae690a7c5e31c05a627bf93beea292a02f04ebb1d1d39c0a335216076b13c7419d7de1ab559eaefb206f9c92f9734a1cba10e5bc7bfff65e165f66ce6d9d4e970b4288c09ba8a704e40014211fa3d15f6d9d02a9d5ba183bb0c9277369c5c07ff085161664ab1d173bc5af0a28835d65822544cfacb4fb743d417c02f880364d4e5bcaa5fa184db5702bc37b9aa1b3bd55a5340455d34e6d15c600bf61969584891abd49eea5a671c8409399a922a68ec8e7de04eadf1504205792a1b43826391878563b00e5d47b921a3c665f2f4592'\n",
        "\n",
        "KAGGLE_INPUT_PATH='/kaggle/input'\n",
        "KAGGLE_WORKING_PATH='/kaggle/working'\n",
        "KAGGLE_SYMLINK='kaggle'\n",
        "\n",
        "!umount /kaggle/input/ 2> /dev/null\n",
        "shutil.rmtree('/kaggle/input', ignore_errors=True)\n",
        "os.makedirs(KAGGLE_INPUT_PATH, 0o777, exist_ok=True)\n",
        "os.makedirs(KAGGLE_WORKING_PATH, 0o777, exist_ok=True)\n",
        "\n",
        "try:\n",
        "  os.symlink(KAGGLE_INPUT_PATH, os.path.join(\"..\", 'input'), target_is_directory=True)\n",
        "except FileExistsError:\n",
        "  pass\n",
        "try:\n",
        "  os.symlink(KAGGLE_WORKING_PATH, os.path.join(\"..\", 'working'), target_is_directory=True)\n",
        "except FileExistsError:\n",
        "  pass\n",
        "\n",
        "for data_source_mapping in DATA_SOURCE_MAPPING.split(','):\n",
        "    directory, download_url_encoded = data_source_mapping.split(':')\n",
        "    download_url = unquote(download_url_encoded)\n",
        "    filename = urlparse(download_url).path\n",
        "    destination_path = os.path.join(KAGGLE_INPUT_PATH, directory)\n",
        "    try:\n",
        "        with urlopen(download_url) as fileres, NamedTemporaryFile() as tfile:\n",
        "            total_length = fileres.headers['content-length']\n",
        "            print(f'Downloading {directory}, {total_length} bytes compressed')\n",
        "            dl = 0\n",
        "            data = fileres.read(CHUNK_SIZE)\n",
        "            while len(data) > 0:\n",
        "                dl += len(data)\n",
        "                tfile.write(data)\n",
        "                done = int(50 * dl / int(total_length))\n",
        "                sys.stdout.write(f\"\\r[{'=' * done}{' ' * (50-done)}] {dl} bytes downloaded\")\n",
        "                sys.stdout.flush()\n",
        "                data = fileres.read(CHUNK_SIZE)\n",
        "            if filename.endswith('.zip'):\n",
        "              with ZipFile(tfile) as zfile:\n",
        "                zfile.extractall(destination_path)\n",
        "            else:\n",
        "              with tarfile.open(tfile.name) as tarfile:\n",
        "                tarfile.extractall(destination_path)\n",
        "            print(f'\\nDownloaded and uncompressed: {directory}')\n",
        "    except HTTPError as e:\n",
        "        print(f'Failed to load (likely expired) {download_url} to path {destination_path}')\n",
        "        continue\n",
        "    except OSError as e:\n",
        "        print(f'Failed to load {download_url} to path {destination_path}')\n",
        "        continue\n",
        "\n",
        "print('Data source import complete.')\n"
      ],
      "metadata": {
        "id": "WB-ftOSiam8q",
        "outputId": "ec097755-405a-4f34-fa70-0b9b27d82518",
        "colab": {
          "base_uri": "https://localhost:8080/"
        }
      },
      "cell_type": "code",
      "outputs": [
        {
          "output_type": "stream",
          "name": "stdout",
          "text": [
            "Downloading age-gender-and-ethnicity-face-data-csv, 66303838 bytes compressed\n",
            "[==================================================] 66303838 bytes downloaded\n",
            "Downloaded and uncompressed: age-gender-and-ethnicity-face-data-csv\n",
            "Data source import complete.\n"
          ]
        }
      ],
      "execution_count": 20
    },
    {
      "cell_type": "code",
      "source": [
        "import pandas as pd\n",
        "import numpy as np\n",
        "import torch\n",
        "import torch.nn as nn\n",
        "from torch.utils.data import Dataset, DataLoader"
      ],
      "metadata": {
        "id": "ZKLqk7A0am8r"
      },
      "execution_count": 21,
      "outputs": []
    },
    {
      "cell_type": "code",
      "source": [
        "df=pd.read_csv('/kaggle/input/age-gender-and-ethnicity-face-data-csv/age_gender.csv')\n",
        "df"
      ],
      "metadata": {
        "trusted": true,
        "id": "Qc5oXjHgam8r",
        "outputId": "61c30ce9-e21a-4335-b979-04919c8cc36a",
        "colab": {
          "base_uri": "https://localhost:8080/",
          "height": 423
        }
      },
      "execution_count": 22,
      "outputs": [
        {
          "output_type": "execute_result",
          "data": {
            "text/plain": [
              "       age  ethnicity  gender                        img_name  \\\n",
              "0        1          2       0  20161219203650636.jpg.chip.jpg   \n",
              "1        1          2       0  20161219222752047.jpg.chip.jpg   \n",
              "2        1          2       0  20161219222832191.jpg.chip.jpg   \n",
              "3        1          2       0  20161220144911423.jpg.chip.jpg   \n",
              "4        1          2       0  20161220144914327.jpg.chip.jpg   \n",
              "...    ...        ...     ...                             ...   \n",
              "23700   99          0       1  20170120221920654.jpg.chip.jpg   \n",
              "23701   99          1       1  20170120134639935.jpg.chip.jpg   \n",
              "23702   99          2       1  20170110182418864.jpg.chip.jpg   \n",
              "23703   99          2       1  20170117195405372.jpg.chip.jpg   \n",
              "23704   99          0       1  20170110182052119.jpg.chip.jpg   \n",
              "\n",
              "                                                  pixels  \n",
              "0      129 128 128 126 127 130 133 135 139 142 145 14...  \n",
              "1      164 74 111 168 169 171 175 182 184 188 193 199...  \n",
              "2      67 70 71 70 69 67 70 79 90 103 116 132 145 155...  \n",
              "3      193 197 198 200 199 200 202 203 204 205 208 21...  \n",
              "4      202 205 209 210 209 209 210 211 212 214 218 21...  \n",
              "...                                                  ...  \n",
              "23700  127 100 94 81 77 77 74 99 102 98 128 145 160 1...  \n",
              "23701  23 28 32 35 42 47 68 85 98 103 113 117 130 129...  \n",
              "23702  59 50 37 40 34 19 30 101 156 170 177 184 187 1...  \n",
              "23703  45 108 120 156 206 197 140 180 191 199 204 207...  \n",
              "23704  156 161 160 165 170 173 166 177 183 191 187 18...  \n",
              "\n",
              "[23705 rows x 5 columns]"
            ],
            "text/html": [
              "\n",
              "  <div id=\"df-88391105-28c2-4259-9ff9-b3fceade95d3\" class=\"colab-df-container\">\n",
              "    <div>\n",
              "<style scoped>\n",
              "    .dataframe tbody tr th:only-of-type {\n",
              "        vertical-align: middle;\n",
              "    }\n",
              "\n",
              "    .dataframe tbody tr th {\n",
              "        vertical-align: top;\n",
              "    }\n",
              "\n",
              "    .dataframe thead th {\n",
              "        text-align: right;\n",
              "    }\n",
              "</style>\n",
              "<table border=\"1\" class=\"dataframe\">\n",
              "  <thead>\n",
              "    <tr style=\"text-align: right;\">\n",
              "      <th></th>\n",
              "      <th>age</th>\n",
              "      <th>ethnicity</th>\n",
              "      <th>gender</th>\n",
              "      <th>img_name</th>\n",
              "      <th>pixels</th>\n",
              "    </tr>\n",
              "  </thead>\n",
              "  <tbody>\n",
              "    <tr>\n",
              "      <th>0</th>\n",
              "      <td>1</td>\n",
              "      <td>2</td>\n",
              "      <td>0</td>\n",
              "      <td>20161219203650636.jpg.chip.jpg</td>\n",
              "      <td>129 128 128 126 127 130 133 135 139 142 145 14...</td>\n",
              "    </tr>\n",
              "    <tr>\n",
              "      <th>1</th>\n",
              "      <td>1</td>\n",
              "      <td>2</td>\n",
              "      <td>0</td>\n",
              "      <td>20161219222752047.jpg.chip.jpg</td>\n",
              "      <td>164 74 111 168 169 171 175 182 184 188 193 199...</td>\n",
              "    </tr>\n",
              "    <tr>\n",
              "      <th>2</th>\n",
              "      <td>1</td>\n",
              "      <td>2</td>\n",
              "      <td>0</td>\n",
              "      <td>20161219222832191.jpg.chip.jpg</td>\n",
              "      <td>67 70 71 70 69 67 70 79 90 103 116 132 145 155...</td>\n",
              "    </tr>\n",
              "    <tr>\n",
              "      <th>3</th>\n",
              "      <td>1</td>\n",
              "      <td>2</td>\n",
              "      <td>0</td>\n",
              "      <td>20161220144911423.jpg.chip.jpg</td>\n",
              "      <td>193 197 198 200 199 200 202 203 204 205 208 21...</td>\n",
              "    </tr>\n",
              "    <tr>\n",
              "      <th>4</th>\n",
              "      <td>1</td>\n",
              "      <td>2</td>\n",
              "      <td>0</td>\n",
              "      <td>20161220144914327.jpg.chip.jpg</td>\n",
              "      <td>202 205 209 210 209 209 210 211 212 214 218 21...</td>\n",
              "    </tr>\n",
              "    <tr>\n",
              "      <th>...</th>\n",
              "      <td>...</td>\n",
              "      <td>...</td>\n",
              "      <td>...</td>\n",
              "      <td>...</td>\n",
              "      <td>...</td>\n",
              "    </tr>\n",
              "    <tr>\n",
              "      <th>23700</th>\n",
              "      <td>99</td>\n",
              "      <td>0</td>\n",
              "      <td>1</td>\n",
              "      <td>20170120221920654.jpg.chip.jpg</td>\n",
              "      <td>127 100 94 81 77 77 74 99 102 98 128 145 160 1...</td>\n",
              "    </tr>\n",
              "    <tr>\n",
              "      <th>23701</th>\n",
              "      <td>99</td>\n",
              "      <td>1</td>\n",
              "      <td>1</td>\n",
              "      <td>20170120134639935.jpg.chip.jpg</td>\n",
              "      <td>23 28 32 35 42 47 68 85 98 103 113 117 130 129...</td>\n",
              "    </tr>\n",
              "    <tr>\n",
              "      <th>23702</th>\n",
              "      <td>99</td>\n",
              "      <td>2</td>\n",
              "      <td>1</td>\n",
              "      <td>20170110182418864.jpg.chip.jpg</td>\n",
              "      <td>59 50 37 40 34 19 30 101 156 170 177 184 187 1...</td>\n",
              "    </tr>\n",
              "    <tr>\n",
              "      <th>23703</th>\n",
              "      <td>99</td>\n",
              "      <td>2</td>\n",
              "      <td>1</td>\n",
              "      <td>20170117195405372.jpg.chip.jpg</td>\n",
              "      <td>45 108 120 156 206 197 140 180 191 199 204 207...</td>\n",
              "    </tr>\n",
              "    <tr>\n",
              "      <th>23704</th>\n",
              "      <td>99</td>\n",
              "      <td>0</td>\n",
              "      <td>1</td>\n",
              "      <td>20170110182052119.jpg.chip.jpg</td>\n",
              "      <td>156 161 160 165 170 173 166 177 183 191 187 18...</td>\n",
              "    </tr>\n",
              "  </tbody>\n",
              "</table>\n",
              "<p>23705 rows × 5 columns</p>\n",
              "</div>\n",
              "    <div class=\"colab-df-buttons\">\n",
              "\n",
              "  <div class=\"colab-df-container\">\n",
              "    <button class=\"colab-df-convert\" onclick=\"convertToInteractive('df-88391105-28c2-4259-9ff9-b3fceade95d3')\"\n",
              "            title=\"Convert this dataframe to an interactive table.\"\n",
              "            style=\"display:none;\">\n",
              "\n",
              "  <svg xmlns=\"http://www.w3.org/2000/svg\" height=\"24px\" viewBox=\"0 -960 960 960\">\n",
              "    <path d=\"M120-120v-720h720v720H120Zm60-500h600v-160H180v160Zm220 220h160v-160H400v160Zm0 220h160v-160H400v160ZM180-400h160v-160H180v160Zm440 0h160v-160H620v160ZM180-180h160v-160H180v160Zm440 0h160v-160H620v160Z\"/>\n",
              "  </svg>\n",
              "    </button>\n",
              "\n",
              "  <style>\n",
              "    .colab-df-container {\n",
              "      display:flex;\n",
              "      gap: 12px;\n",
              "    }\n",
              "\n",
              "    .colab-df-convert {\n",
              "      background-color: #E8F0FE;\n",
              "      border: none;\n",
              "      border-radius: 50%;\n",
              "      cursor: pointer;\n",
              "      display: none;\n",
              "      fill: #1967D2;\n",
              "      height: 32px;\n",
              "      padding: 0 0 0 0;\n",
              "      width: 32px;\n",
              "    }\n",
              "\n",
              "    .colab-df-convert:hover {\n",
              "      background-color: #E2EBFA;\n",
              "      box-shadow: 0px 1px 2px rgba(60, 64, 67, 0.3), 0px 1px 3px 1px rgba(60, 64, 67, 0.15);\n",
              "      fill: #174EA6;\n",
              "    }\n",
              "\n",
              "    .colab-df-buttons div {\n",
              "      margin-bottom: 4px;\n",
              "    }\n",
              "\n",
              "    [theme=dark] .colab-df-convert {\n",
              "      background-color: #3B4455;\n",
              "      fill: #D2E3FC;\n",
              "    }\n",
              "\n",
              "    [theme=dark] .colab-df-convert:hover {\n",
              "      background-color: #434B5C;\n",
              "      box-shadow: 0px 1px 3px 1px rgba(0, 0, 0, 0.15);\n",
              "      filter: drop-shadow(0px 1px 2px rgba(0, 0, 0, 0.3));\n",
              "      fill: #FFFFFF;\n",
              "    }\n",
              "  </style>\n",
              "\n",
              "    <script>\n",
              "      const buttonEl =\n",
              "        document.querySelector('#df-88391105-28c2-4259-9ff9-b3fceade95d3 button.colab-df-convert');\n",
              "      buttonEl.style.display =\n",
              "        google.colab.kernel.accessAllowed ? 'block' : 'none';\n",
              "\n",
              "      async function convertToInteractive(key) {\n",
              "        const element = document.querySelector('#df-88391105-28c2-4259-9ff9-b3fceade95d3');\n",
              "        const dataTable =\n",
              "          await google.colab.kernel.invokeFunction('convertToInteractive',\n",
              "                                                    [key], {});\n",
              "        if (!dataTable) return;\n",
              "\n",
              "        const docLinkHtml = 'Like what you see? Visit the ' +\n",
              "          '<a target=\"_blank\" href=https://colab.research.google.com/notebooks/data_table.ipynb>data table notebook</a>'\n",
              "          + ' to learn more about interactive tables.';\n",
              "        element.innerHTML = '';\n",
              "        dataTable['output_type'] = 'display_data';\n",
              "        await google.colab.output.renderOutput(dataTable, element);\n",
              "        const docLink = document.createElement('div');\n",
              "        docLink.innerHTML = docLinkHtml;\n",
              "        element.appendChild(docLink);\n",
              "      }\n",
              "    </script>\n",
              "  </div>\n",
              "\n",
              "\n",
              "<div id=\"df-75d79b25-9805-4716-8935-33cf1e0f4c4c\">\n",
              "  <button class=\"colab-df-quickchart\" onclick=\"quickchart('df-75d79b25-9805-4716-8935-33cf1e0f4c4c')\"\n",
              "            title=\"Suggest charts\"\n",
              "            style=\"display:none;\">\n",
              "\n",
              "<svg xmlns=\"http://www.w3.org/2000/svg\" height=\"24px\"viewBox=\"0 0 24 24\"\n",
              "     width=\"24px\">\n",
              "    <g>\n",
              "        <path d=\"M19 3H5c-1.1 0-2 .9-2 2v14c0 1.1.9 2 2 2h14c1.1 0 2-.9 2-2V5c0-1.1-.9-2-2-2zM9 17H7v-7h2v7zm4 0h-2V7h2v10zm4 0h-2v-4h2v4z\"/>\n",
              "    </g>\n",
              "</svg>\n",
              "  </button>\n",
              "\n",
              "<style>\n",
              "  .colab-df-quickchart {\n",
              "      --bg-color: #E8F0FE;\n",
              "      --fill-color: #1967D2;\n",
              "      --hover-bg-color: #E2EBFA;\n",
              "      --hover-fill-color: #174EA6;\n",
              "      --disabled-fill-color: #AAA;\n",
              "      --disabled-bg-color: #DDD;\n",
              "  }\n",
              "\n",
              "  [theme=dark] .colab-df-quickchart {\n",
              "      --bg-color: #3B4455;\n",
              "      --fill-color: #D2E3FC;\n",
              "      --hover-bg-color: #434B5C;\n",
              "      --hover-fill-color: #FFFFFF;\n",
              "      --disabled-bg-color: #3B4455;\n",
              "      --disabled-fill-color: #666;\n",
              "  }\n",
              "\n",
              "  .colab-df-quickchart {\n",
              "    background-color: var(--bg-color);\n",
              "    border: none;\n",
              "    border-radius: 50%;\n",
              "    cursor: pointer;\n",
              "    display: none;\n",
              "    fill: var(--fill-color);\n",
              "    height: 32px;\n",
              "    padding: 0;\n",
              "    width: 32px;\n",
              "  }\n",
              "\n",
              "  .colab-df-quickchart:hover {\n",
              "    background-color: var(--hover-bg-color);\n",
              "    box-shadow: 0 1px 2px rgba(60, 64, 67, 0.3), 0 1px 3px 1px rgba(60, 64, 67, 0.15);\n",
              "    fill: var(--button-hover-fill-color);\n",
              "  }\n",
              "\n",
              "  .colab-df-quickchart-complete:disabled,\n",
              "  .colab-df-quickchart-complete:disabled:hover {\n",
              "    background-color: var(--disabled-bg-color);\n",
              "    fill: var(--disabled-fill-color);\n",
              "    box-shadow: none;\n",
              "  }\n",
              "\n",
              "  .colab-df-spinner {\n",
              "    border: 2px solid var(--fill-color);\n",
              "    border-color: transparent;\n",
              "    border-bottom-color: var(--fill-color);\n",
              "    animation:\n",
              "      spin 1s steps(1) infinite;\n",
              "  }\n",
              "\n",
              "  @keyframes spin {\n",
              "    0% {\n",
              "      border-color: transparent;\n",
              "      border-bottom-color: var(--fill-color);\n",
              "      border-left-color: var(--fill-color);\n",
              "    }\n",
              "    20% {\n",
              "      border-color: transparent;\n",
              "      border-left-color: var(--fill-color);\n",
              "      border-top-color: var(--fill-color);\n",
              "    }\n",
              "    30% {\n",
              "      border-color: transparent;\n",
              "      border-left-color: var(--fill-color);\n",
              "      border-top-color: var(--fill-color);\n",
              "      border-right-color: var(--fill-color);\n",
              "    }\n",
              "    40% {\n",
              "      border-color: transparent;\n",
              "      border-right-color: var(--fill-color);\n",
              "      border-top-color: var(--fill-color);\n",
              "    }\n",
              "    60% {\n",
              "      border-color: transparent;\n",
              "      border-right-color: var(--fill-color);\n",
              "    }\n",
              "    80% {\n",
              "      border-color: transparent;\n",
              "      border-right-color: var(--fill-color);\n",
              "      border-bottom-color: var(--fill-color);\n",
              "    }\n",
              "    90% {\n",
              "      border-color: transparent;\n",
              "      border-bottom-color: var(--fill-color);\n",
              "    }\n",
              "  }\n",
              "</style>\n",
              "\n",
              "  <script>\n",
              "    async function quickchart(key) {\n",
              "      const quickchartButtonEl =\n",
              "        document.querySelector('#' + key + ' button');\n",
              "      quickchartButtonEl.disabled = true;  // To prevent multiple clicks.\n",
              "      quickchartButtonEl.classList.add('colab-df-spinner');\n",
              "      try {\n",
              "        const charts = await google.colab.kernel.invokeFunction(\n",
              "            'suggestCharts', [key], {});\n",
              "      } catch (error) {\n",
              "        console.error('Error during call to suggestCharts:', error);\n",
              "      }\n",
              "      quickchartButtonEl.classList.remove('colab-df-spinner');\n",
              "      quickchartButtonEl.classList.add('colab-df-quickchart-complete');\n",
              "    }\n",
              "    (() => {\n",
              "      let quickchartButtonEl =\n",
              "        document.querySelector('#df-75d79b25-9805-4716-8935-33cf1e0f4c4c button');\n",
              "      quickchartButtonEl.style.display =\n",
              "        google.colab.kernel.accessAllowed ? 'block' : 'none';\n",
              "    })();\n",
              "  </script>\n",
              "</div>\n",
              "\n",
              "  <div id=\"id_134c8924-1cc5-4f42-aed2-fea3032cc58a\">\n",
              "    <style>\n",
              "      .colab-df-generate {\n",
              "        background-color: #E8F0FE;\n",
              "        border: none;\n",
              "        border-radius: 50%;\n",
              "        cursor: pointer;\n",
              "        display: none;\n",
              "        fill: #1967D2;\n",
              "        height: 32px;\n",
              "        padding: 0 0 0 0;\n",
              "        width: 32px;\n",
              "      }\n",
              "\n",
              "      .colab-df-generate:hover {\n",
              "        background-color: #E2EBFA;\n",
              "        box-shadow: 0px 1px 2px rgba(60, 64, 67, 0.3), 0px 1px 3px 1px rgba(60, 64, 67, 0.15);\n",
              "        fill: #174EA6;\n",
              "      }\n",
              "\n",
              "      [theme=dark] .colab-df-generate {\n",
              "        background-color: #3B4455;\n",
              "        fill: #D2E3FC;\n",
              "      }\n",
              "\n",
              "      [theme=dark] .colab-df-generate:hover {\n",
              "        background-color: #434B5C;\n",
              "        box-shadow: 0px 1px 3px 1px rgba(0, 0, 0, 0.15);\n",
              "        filter: drop-shadow(0px 1px 2px rgba(0, 0, 0, 0.3));\n",
              "        fill: #FFFFFF;\n",
              "      }\n",
              "    </style>\n",
              "    <button class=\"colab-df-generate\" onclick=\"generateWithVariable('df')\"\n",
              "            title=\"Generate code using this dataframe.\"\n",
              "            style=\"display:none;\">\n",
              "\n",
              "  <svg xmlns=\"http://www.w3.org/2000/svg\" height=\"24px\"viewBox=\"0 0 24 24\"\n",
              "       width=\"24px\">\n",
              "    <path d=\"M7,19H8.4L18.45,9,17,7.55,7,17.6ZM5,21V16.75L18.45,3.32a2,2,0,0,1,2.83,0l1.4,1.43a1.91,1.91,0,0,1,.58,1.4,1.91,1.91,0,0,1-.58,1.4L9.25,21ZM18.45,9,17,7.55Zm-12,3A5.31,5.31,0,0,0,4.9,8.1,5.31,5.31,0,0,0,1,6.5,5.31,5.31,0,0,0,4.9,4.9,5.31,5.31,0,0,0,6.5,1,5.31,5.31,0,0,0,8.1,4.9,5.31,5.31,0,0,0,12,6.5,5.46,5.46,0,0,0,6.5,12Z\"/>\n",
              "  </svg>\n",
              "    </button>\n",
              "    <script>\n",
              "      (() => {\n",
              "      const buttonEl =\n",
              "        document.querySelector('#id_134c8924-1cc5-4f42-aed2-fea3032cc58a button.colab-df-generate');\n",
              "      buttonEl.style.display =\n",
              "        google.colab.kernel.accessAllowed ? 'block' : 'none';\n",
              "\n",
              "      buttonEl.onclick = () => {\n",
              "        google.colab.notebook.generateWithVariable('df');\n",
              "      }\n",
              "      })();\n",
              "    </script>\n",
              "  </div>\n",
              "\n",
              "    </div>\n",
              "  </div>\n"
            ],
            "application/vnd.google.colaboratory.intrinsic+json": {
              "type": "dataframe",
              "variable_name": "df",
              "summary": "{\n  \"name\": \"df\",\n  \"rows\": 23705,\n  \"fields\": [\n    {\n      \"column\": \"age\",\n      \"properties\": {\n        \"dtype\": \"number\",\n        \"std\": 19,\n        \"min\": 1,\n        \"max\": 116,\n        \"num_unique_values\": 104,\n        \"samples\": [\n          3,\n          61,\n          60\n        ],\n        \"semantic_type\": \"\",\n        \"description\": \"\"\n      }\n    },\n    {\n      \"column\": \"ethnicity\",\n      \"properties\": {\n        \"dtype\": \"number\",\n        \"std\": 1,\n        \"min\": 0,\n        \"max\": 4,\n        \"num_unique_values\": 5,\n        \"samples\": [\n          3,\n          1,\n          4\n        ],\n        \"semantic_type\": \"\",\n        \"description\": \"\"\n      }\n    },\n    {\n      \"column\": \"gender\",\n      \"properties\": {\n        \"dtype\": \"number\",\n        \"std\": 0,\n        \"min\": 0,\n        \"max\": 1,\n        \"num_unique_values\": 2,\n        \"samples\": [\n          1,\n          0\n        ],\n        \"semantic_type\": \"\",\n        \"description\": \"\"\n      }\n    },\n    {\n      \"column\": \"img_name\",\n      \"properties\": {\n        \"dtype\": \"string\",\n        \"num_unique_values\": 23479,\n        \"samples\": [\n          \"20170113195625995.jpg.chip.jpg\",\n          \"20170117140609238.jpg.chip.jpg\"\n        ],\n        \"semantic_type\": \"\",\n        \"description\": \"\"\n      }\n    },\n    {\n      \"column\": \"pixels\",\n      \"properties\": {\n        \"dtype\": \"string\",\n        \"num_unique_values\": 23315,\n        \"samples\": [\n          \"170 182 190 191 193 197 197 198 200 204 206 211 213 215 211 206 205 203 202 202 204 202 200 198 194 191 190 187 183 180 179 179 177 170 166 156 142 126 114 102 91 87 90 81 38 107 196 244 171 183 190 191 194 199 196 197 200 204 206 210 212 213 210 206 205 205 203 202 204 202 200 197 194 191 186 186 181 180 179 181 178 170 166 154 141 127 119 105 92 91 97 87 45 100 186 243 173 184 189 191 194 198 198 198 203 204 205 208 211 214 210 207 206 206 204 205 203 202 201 198 193 189 183 183 180 180 178 178 177 171 162 150 138 129 118 108 96 97 104 94 50 90 170 238 177 185 190 190 193 196 198 198 204 205 203 207 210 213 210 207 208 209 207 205 203 201 200 198 190 185 179 177 177 176 175 176 177 170 158 147 137 131 121 112 99 102 110 98 58 78 151 234 181 188 189 189 192 196 193 197 202 203 200 203 208 209 207 204 205 206 204 201 200 199 199 196 189 181 174 173 174 174 173 171 168 159 147 138 134 132 126 113 98 101 108 97 60 68 140 235 181 185 187 187 191 194 194 198 201 195 202 201 208 209 203 197 195 197 195 196 194 197 197 195 187 178 171 172 173 168 165 160 149 137 125 121 119 121 117 109 98 101 103 91 58 64 141 235 187 189 187 185 190 197 198 203 205 196 191 198 197 196 191 185 180 178 180 184 187 190 192 193 186 179 176 171 163 155 143 137 127 114 105 100 89 89 90 87 89 94 95 86 58 66 143 236 187 190 187 182 192 198 202 204 205 191 170 171 165 161 161 164 164 162 166 173 181 187 190 190 186 177 177 169 153 140 129 122 112 101 95 83 65 55 48 56 73 91 95 88 67 66 135 234 190 192 193 193 198 199 191 176 164 147 127 125 127 128 135 146 149 154 161 165 171 183 185 185 177 168 162 156 142 130 133 144 142 137 137 127 110 92 64 49 52 77 95 93 75 66 131 231 191 194 199 202 202 188 167 148 134 129 136 143 145 144 149 156 156 157 163 171 173 183 185 183 173 165 156 148 136 129 150 170 174 174 174 170 160 139 107 74 52 66 89 100 82 81 141 228 191 193 198 205 190 162 137 134 138 155 179 194 186 179 173 175 174 167 170 178 185 189 192 191 181 175 165 150 132 139 164 180 178 178 169 165 168 171 153 118 78 74 93 110 97 92 141 216 194 195 200 202 182 153 136 160 179 200 208 212 201 191 187 184 175 174 178 181 188 194 197 198 189 180 168 157 138 148 161 151 118 90 91 100 126 162 169 147 118 101 105 116 108 83 96 161 202 202 195 190 184 175 165 185 201 203 186 154 137 120 120 120 142 166 179 178 190 199 203 208 196 174 150 150 145 139 128 109 77 57 63 68 75 101 136 139 122 107 112 121 123 82 65 103 202 202 193 191 190 189 184 200 201 175 136 86 69 64 65 57 79 124 168 182 190 197 206 216 197 156 123 136 144 123 96 81 75 54 38 53 48 61 93 120 129 117 112 119 125 91 64 78 198 201 201 201 193 188 191 197 163 122 79 48 39 44 35 17 51 106 159 180 191 203 209 216 191 145 111 121 136 123 96 92 93 67 41 56 59 56 72 100 124 117 113 117 130 101 72 75 206 201 196 198 199 195 190 163 110 78 66 79 52 41 31 22 72 130 167 180 201 213 216 213 183 143 117 121 142 155 145 133 109 84 70 65 85 103 110 118 127 124 121 123 137 101 63 65 211 205 201 201 204 201 194 166 144 124 137 142 124 96 95 99 129 157 175 194 208 213 216 211 179 138 120 132 157 176 187 186 172 158 131 106 108 141 160 159 152 134 126 130 140 100 67 90 205 209 205 203 209 210 201 176 171 178 195 193 182 169 164 161 166 168 174 193 209 211 216 203 169 134 121 127 142 164 179 189 194 183 154 122 123 159 182 169 153 139 134 133 142 108 95 134 178 194 201 206 209 210 200 175 177 195 214 209 207 205 200 194 168 156 162 186 206 210 200 180 151 130 121 116 119 136 146 149 158 161 149 131 132 149 162 149 133 130 132 139 152 121 118 171 156 173 191 204 210 210 194 162 164 184 206 202 199 197 188 190 165 150 155 181 210 202 182 158 137 128 114 95 88 102 112 111 121 133 138 126 127 129 134 117 106 107 125 149 154 122 127 176 155 160 177 201 215 212 188 151 156 181 208 207 204 202 201 213 185 161 155 171 203 204 181 160 151 139 121 97 80 100 120 125 125 134 146 141 134 138 136 129 115 114 131 160 146 113 126 185 161 149 156 196 211 209 188 149 153 182 211 206 205 207 207 216 189 162 150 173 198 202 189 177 163 152 135 117 100 109 136 156 166 160 157 140 138 150 152 153 130 126 145 160 135 109 139 195 163 140 146 190 212 209 190 154 157 182 212 211 208 205 206 217 181 153 144 168 191 201 203 197 173 154 143 142 132 125 145 168 195 188 169 142 144 165 173 173 142 133 149 154 126 118 154 206 169 139 141 187 214 211 192 159 162 183 209 211 211 202 200 214 175 144 135 164 188 210 215 207 171 145 135 145 144 128 125 141 188 197 175 143 141 165 177 172 135 121 133 151 135 143 174 206 173 142 145 182 209 212 193 163 165 186 210 213 213 204 198 207 169 140 139 172 196 196 186 184 160 138 131 141 148 139 116 116 176 204 187 151 143 168 182 173 135 119 127 154 151 167 192 221 167 146 150 181 206 210 192 161 165 187 211 208 209 204 196 197 161 142 144 171 182 162 147 163 150 120 107 115 123 119 102 102 168 197 185 149 137 170 183 169 134 121 132 153 164 180 194 216 165 147 148 186 209 207 184 159 162 179 208 206 206 199 185 182 160 145 152 168 175 157 152 168 147 110 94 104 116 108 101 118 166 191 173 146 138 167 182 163 135 125 134 155 179 191 188 193 168 146 146 188 209 203 179 155 157 173 204 203 206 192 174 173 168 152 159 177 193 201 199 196 152 111 107 125 139 129 128 147 173 189 170 144 136 160 179 160 135 124 137 159 181 189 187 181 168 143 143 185 206 202 178 148 148 171 200 196 193 184 168 170 161 156 163 185 202 205 202 186 144 132 140 157 163 144 132 143 166 177 166 141 131 155 173 152 124 117 132 158 181 184 192 208 170 138 143 182 202 202 174 139 143 175 204 185 178 171 159 166 158 142 144 173 201 214 214 198 152 142 151 168 173 153 125 120 142 168 164 137 132 148 159 139 113 104 124 158 184 186 198 220 172 136 141 179 198 198 175 136 136 162 188 186 181 162 145 166 167 145 141 177 200 205 205 194 145 122 134 149 156 149 124 108 126 158 163 136 125 135 141 129 120 111 131 165 195 189 194 222 176 136 140 177 198 200 180 141 131 143 163 177 186 160 143 163 161 150 151 176 179 173 161 147 110 92 84 96 115 132 128 114 118 146 156 130 115 119 124 123 125 123 140 175 202 189 184 209 184 140 140 175 192 197 179 157 138 138 142 161 167 152 129 111 99 83 80 89 83 53 38 38 34 28 25 29 37 45 62 88 123 157 170 142 117 105 106 106 112 119 144 186 216 197 187 193 190 143 137 174 187 193 189 174 149 127 120 124 128 118 85 60 54 37 46 58 63 42 22 26 43 46 35 20 19 20 43 94 135 172 182 163 129 110 97 94 93 110 155 207 227 212 201 187 208 171 158 184 191 194 191 186 168 146 137 134 123 103 82 81 84 65 63 93 104 94 75 64 81 104 95 60 40 34 60 117 156 174 179 177 148 129 110 94 87 116 175 224 237 226 222 205 216 196 183 190 188 186 185 186 182 179 171 159 144 114 112 138 153 142 127 146 154 148 138 114 126 155 158 115 82 81 112 151 168 171 168 175 159 143 130 122 116 132 175 218 246 243 242 232 185 183 180 187 185 181 179 179 179 180 183 178 161 136 141 179 190 187 170 151 149 159 156 133 138 156 144 112 99 119 142 163 177 173 167 162 152 143 138 141 141 121 124 172 230 246 248 244 182 182 181 181 183 182 179 178 179 179 175 166 146 132 151 188 195 189 173 155 153 152 139 121 118 132 124 99 87 110 143 163 174 177 171 158 146 138 134 137 124 93 86 115 165 219 243 247 188 187 181 176 174 178 178 179 179 177 168 148 134 140 165 194 199 187 173 161 162 146 129 115 117 125 120 101 90 106 143 160 172 188 179 158 142 133 128 116 83 56 56 72 111 168 215 240 198 194 183 173 170 171 172 171 174 172 164 144 141 158 182 200 200 192 178 166 162 144 132 130 135 135 121 101 94 119 148 164 173 182 173 148 135 128 113 82 49 38 51 67 90 128 168 205 203 200 192 179 174 172 169 161 162 163 157 149 154 178 196 205 197 191 175 163 150 143 136 131 127 117 99 87 99 136 153 155 161 162 157 145 133 118 82 54 32 39 60 86 109 123 140 172 205 201 196 190 189 184 173 159 152 152 153 154 167 186 194 198 190 185 177 169 161 148 136 123 111 100 93 102 131 155 152 139 140 146 149 131 109 72 44 44 60 91 113 133 145 141 145 151 207 204 198 195 197 192 180 162 156 151 152 155 163 178 187 188 184 181 181 179 177 167 154 142 121 115 120 138 155 157 141 123 127 130 119 95 67 46 49 82 120 148 163 170 169 160 157 153 211 207 199 193 193 194 184 172 165 162 154 150 153 165 177 184 185 184 186 189 190 186 180 172 158 149 154 169 175 164 137 123 116 101 72 44 39 58 104 150 179 188 187 183 177 168 166 163 211 206 199 191 189 193 189 182 176 170 160 151 149 157 171 176 183 187 185 185 186 183 181 181 174 169 173 175 168 149 123 103 80 62 45 47 81 126 168 193 195 199 196 186 183 179 172 170 210 204 198 190 190 193 189 185 181 175 166 158 151 154 159 163 173 179 181 180 184 181 182 183 186 182 178 175 162 129 86 62 50 43 52 91 141 175 202 204 197 199 192 188 189 188 178 164 208 205 200 195 195 197 192 185 182 176 172 167 160 155 152 149 158 167 167 169 173 174 175 174 176 166 156 143 122 86 52 41 45 57 85 135 177 197 204 205 197 197 195 191 190 184 178 165 207 204 201 198 197 198 197 193 186 180 177 174 169 165 158 155 157 158 158 158 160 163 162 151 154 145 118 94 71 50 39 43 56 87 123 165 191 198 198 199 201 201 198 191 186 179 174 168\",\n          \"15 17 17 19 24 41 38 73 118 138 160 175 183 189 191 195 198 198 197 195 194 192 189 185 184 181 178 174 169 165 158 152 148 142 130 114 91 84 60 40 23 24 25 29 56 185 179 164 16 17 17 20 34 42 44 96 143 150 162 170 181 190 192 195 198 200 198 197 195 194 191 186 185 183 180 177 173 168 161 155 151 146 135 124 105 88 77 48 28 21 19 27 40 145 176 180 18 16 20 22 39 35 56 116 145 162 168 177 186 192 194 196 200 201 198 196 196 195 192 189 186 184 183 180 176 168 164 155 154 148 138 128 119 101 83 54 33 22 16 20 35 150 192 190 20 18 15 25 37 38 72 128 155 169 173 183 188 197 198 201 203 201 201 199 199 197 194 190 187 185 184 182 177 170 166 158 157 151 141 131 122 108 98 65 37 24 22 21 34 150 184 191 22 19 20 34 38 53 101 137 162 173 179 186 194 199 202 204 206 204 203 201 201 198 195 192 191 188 188 183 179 175 171 170 162 153 139 129 116 111 101 70 41 24 20 22 31 154 190 183 19 23 34 43 42 74 126 143 165 174 183 191 198 204 206 207 209 207 206 204 204 200 197 194 192 191 191 189 188 184 180 177 163 158 145 129 122 114 106 82 42 24 25 32 37 172 192 174 25 35 42 74 39 115 138 164 163 159 159 170 187 199 209 208 209 207 208 207 204 202 198 195 195 193 192 193 191 187 186 179 169 159 143 131 127 115 95 86 51 30 32 44 70 188 181 182 24 41 62 109 53 134 146 151 102 86 96 97 104 116 148 179 198 207 208 205 199 200 196 197 197 195 193 193 191 189 182 169 155 126 95 68 67 79 97 97 73 41 33 51 116 179 171 197 24 51 75 131 60 143 147 85 150 183 186 178 163 137 106 97 116 157 181 198 201 196 196 198 195 190 195 193 187 164 144 100 65 56 60 62 78 61 52 87 92 49 30 81 162 181 190 197 24 51 82 140 70 138 112 163 179 186 181 176 170 168 160 150 108 98 116 140 178 194 194 193 190 187 190 170 119 79 65 81 103 127 135 137 137 123 92 71 95 50 32 116 184 195 190 200 32 48 96 142 64 139 158 169 173 173 161 160 147 145 143 146 146 137 141 133 155 184 193 189 189 182 162 115 79 104 119 120 124 132 139 140 129 123 109 90 94 56 27 79 164 192 194 198 45 60 115 154 72 145 154 155 146 137 108 88 83 68 75 102 121 145 144 151 161 181 187 192 183 173 154 122 124 119 122 110 101 94 89 106 104 112 99 95 93 62 38 68 156 185 189 192 67 53 135 157 95 138 153 145 125 79 52 42 44 34 42 46 80 122 147 156 159 175 196 196 184 165 135 120 122 119 87 69 46 39 31 38 53 74 83 90 93 66 48 72 175 185 192 196 75 74 152 161 125 139 156 150 99 47 48 129 61 46 62 70 94 85 137 164 165 171 193 200 185 154 116 121 114 101 54 36 39 59 40 44 29 46 65 81 97 73 44 95 169 187 192 196 98 94 160 161 147 130 173 155 139 89 66 139 163 93 91 177 159 137 117 176 177 170 186 197 180 141 116 125 107 85 146 70 73 41 111 110 35 40 72 105 102 89 51 134 174 195 196 199 103 117 164 166 146 137 166 181 174 158 141 138 123 116 111 143 150 154 168 182 182 178 189 196 175 135 120 133 114 111 122 124 90 85 86 76 75 84 97 109 109 91 56 145 176 188 191 196 139 131 168 172 123 128 177 180 181 182 173 169 162 157 164 158 178 179 184 184 184 177 186 196 172 131 122 138 158 154 153 144 123 110 110 101 107 111 111 108 103 93 67 149 190 186 189 198 165 139 165 165 80 150 180 184 186 186 186 185 184 183 182 184 188 187 187 184 181 175 180 194 171 127 126 137 149 165 162 159 149 140 135 134 136 126 129 124 110 100 75 158 189 191 191 199 174 147 166 150 82 166 184 186 189 189 189 189 189 190 189 187 189 189 189 186 182 179 177 194 173 132 125 135 145 149 164 168 166 164 161 157 152 143 135 125 115 97 91 165 199 193 194 198 154 157 162 98 145 177 188 189 191 191 191 191 191 191 191 190 190 190 189 186 181 177 178 194 174 135 116 133 146 151 158 163 167 168 168 164 159 148 140 128 113 95 90 171 201 197 197 197 151 160 125 127 161 178 187 192 195 195 191 190 191 191 191 193 193 192 190 186 181 177 178 196 179 142 114 128 149 154 156 159 161 169 172 169 162 150 139 125 102 99 89 189 200 199 198 199 181 155 94 160 163 175 186 190 194 195 192 192 194 194 194 196 195 193 191 187 179 172 178 193 181 150 122 124 144 160 162 162 163 167 169 166 159 146 134 115 97 98 108 199 198 200 201 201 181 77 147 157 159 174 184 189 192 193 195 197 197 197 197 198 196 195 191 184 173 173 181 192 187 163 130 118 135 163 166 161 160 164 164 161 152 138 122 105 93 91 141 195 198 200 201 201 170 81 167 158 163 172 182 188 191 195 199 200 200 199 199 199 197 193 187 173 168 175 182 198 193 172 140 128 120 162 168 168 163 158 157 148 139 131 104 101 100 104 129 154 166 190 202 198 162 106 168 164 167 169 180 189 190 192 198 199 200 201 201 199 197 194 185 180 183 183 189 203 196 177 144 128 118 152 167 170 165 154 149 136 126 108 146 201 204 174 129 139 127 126 132 144 113 72 153 155 169 171 179 187 189 192 195 198 198 199 199 199 197 195 188 185 181 175 188 195 194 176 135 125 126 139 167 170 161 153 146 131 118 96 132 182 161 163 153 164 151 151 160 151 90 57 128 159 173 172 178 183 188 190 194 196 196 197 197 197 197 197 185 154 127 104 162 182 172 153 115 116 125 127 165 164 157 151 142 130 111 88 77 105 126 140 141 136 131 145 158 155 96 67 89 158 170 173 178 185 186 189 193 195 195 195 195 196 198 197 200 199 184 186 165 161 146 128 112 110 121 141 158 155 152 149 141 128 104 81 74 87 185 201 183 156 114 99 99 75 95 84 76 159 170 177 178 184 185 187 190 192 193 193 195 198 199 199 196 193 195 191 187 161 135 129 120 119 135 147 153 151 146 138 132 118 94 76 74 83 157 185 151 118 72 43 53 71 122 82 123 157 170 178 175 181 184 187 188 189 191 191 194 196 198 199 197 196 195 195 184 175 173 174 158 145 146 146 142 140 136 127 122 111 106 100 100 107 99 91 89 96 85 76 94 77 118 86 145 148 171 180 173 180 183 185 187 187 188 190 192 194 195 198 196 194 190 189 176 172 179 170 163 148 138 133 134 144 176 190 177 150 145 137 141 148 151 146 140 147 134 128 124 71 123 85 148 147 166 174 181 180 182 184 186 187 187 188 189 192 195 196 198 183 180 177 167 171 166 149 129 120 121 113 116 172 234 240 211 187 175 165 164 176 179 174 171 171 166 144 128 118 121 91 148 146 164 170 177 177 181 183 185 185 186 186 175 154 155 149 133 130 144 150 131 123 108 108 98 78 73 74 110 142 198 196 186 180 176 165 169 178 186 184 180 182 170 148 138 142 110 83 147 142 162 168 176 179 181 183 184 184 184 183 172 129 76 70 57 68 83 96 97 102 91 79 48 34 31 45 121 128 120 134 138 144 143 136 145 150 161 163 157 150 149 147 147 118 97 83 145 142 156 161 173 176 179 182 183 183 183 182 181 189 147 125 135 144 139 132 120 134 125 108 99 79 77 110 126 119 110 94 87 80 74 122 153 182 149 152 159 168 172 185 179 162 82 101 151 150 158 155 167 173 175 179 181 182 183 183 183 181 187 160 147 154 176 165 158 161 161 124 98 77 97 115 120 119 96 90 84 85 78 93 121 135 163 182 186 196 194 195 181 181 67 102 147 162 160 153 159 166 173 178 179 180 181 183 184 183 184 186 164 139 143 146 147 142 136 113 93 110 123 114 114 107 94 95 85 81 80 110 151 161 185 195 202 196 182 160 152 158 50 98 136 163 162 157 156 153 163 172 175 178 180 182 186 185 185 183 180 169 146 132 121 118 117 117 132 135 128 121 113 105 100 91 86 71 100 170 178 179 182 177 183 149 134 153 162 161 33 84 141 162 161 163 159 154 158 168 172 175 179 185 186 187 186 185 183 183 182 184 181 171 163 158 157 142 130 122 112 105 90 89 65 128 219 185 188 173 150 139 124 148 174 192 194 180 38 72 129 160 167 168 170 161 154 154 165 169 175 179 182 186 189 194 188 188 194 191 183 176 169 159 161 147 130 117 105 96 93 67 71 224 208 187 171 132 114 125 138 177 195 196 187 193 29 95 95 163 170 162 173 168 159 147 155 163 164 172 177 181 186 195 192 194 194 193 187 181 170 161 155 136 126 110 101 95 51 35 96 221 181 159 99 92 118 178 169 186 183 191 187 196 34 111 86 166 170 165 170 173 169 160 143 152 157 161 168 178 185 188 194 195 193 189 183 178 169 159 150 132 118 108 95 51 39 41 55 98 91 58 71 103 143 191 183 172 140 98 128 116 47 109 136 136 171 165 173 172 174 171 153 141 145 148 152 161 172 182 188 187 185 183 176 170 160 150 138 121 108 78 56 41 35 41 30 41 45 45 73 101 112 146 129 129 129 109 116 98 45 119 145 109 165 174 172 172 174 171 169 152 136 138 137 140 149 157 167 166 165 162 161 155 148 140 119 94 74 69 52 32 43 32 42 42 40 51 74 89 112 125 141 157 133 107 105 95 84 126 155 137 162 169 172 172 173 171 171 168 154 142 128 126 128 129 133 132 134 132 130 127 116 101 84 79 72 63 38 27 37 46 18 47 80 72 72 83 111 133 178 156 121 100 115 121 103 131 161 162 131 172 170 170 169 173 175 170 167 156 141 130 124 120 119 113 110 108 102 96 94 88 82 81 76 48 16 33 40 35 31 118 90 96 119 121 72 162 187 184 167 159 173 182 91 118 157 162 120 161 168 173 171 172 174 174 173 171 163 149 136 129 122 113 108 106 104 101 95 91 82 77 68 15 10 33 44 40 39 52 49 68 97 108 65 178 196 203 207 205 206 198 96 118 152 162 126 160 160 173 174 174 174 174 175 175 169 156 148 139 127 116 111 107 100 98 95 91 81 76 40 6 11 36 46 43 49 51 57 61 65 87 107 183 202 209 213 211 206 195\"\n        ],\n        \"semantic_type\": \"\",\n        \"description\": \"\"\n      }\n    }\n  ]\n}"
            }
          },
          "metadata": {},
          "execution_count": 22
        }
      ]
    },
    {
      "cell_type": "code",
      "source": [
        "df.shape"
      ],
      "metadata": {
        "id": "h0x-uQcKdL-g",
        "outputId": "1ecc2682-d1f6-4eaf-feee-79ba5b1e416a",
        "colab": {
          "base_uri": "https://localhost:8080/"
        }
      },
      "execution_count": 23,
      "outputs": [
        {
          "output_type": "execute_result",
          "data": {
            "text/plain": [
              "(23705, 5)"
            ]
          },
          "metadata": {},
          "execution_count": 23
        }
      ]
    },
    {
      "cell_type": "code",
      "source": [
        "df.info()"
      ],
      "metadata": {
        "id": "P5xutdMAdNF3",
        "outputId": "efed1c92-dd09-4f27-da76-a548c4b04209",
        "colab": {
          "base_uri": "https://localhost:8080/"
        }
      },
      "execution_count": 24,
      "outputs": [
        {
          "output_type": "stream",
          "name": "stdout",
          "text": [
            "<class 'pandas.core.frame.DataFrame'>\n",
            "RangeIndex: 23705 entries, 0 to 23704\n",
            "Data columns (total 5 columns):\n",
            " #   Column     Non-Null Count  Dtype \n",
            "---  ------     --------------  ----- \n",
            " 0   age        23705 non-null  int64 \n",
            " 1   ethnicity  23705 non-null  int64 \n",
            " 2   gender     23705 non-null  int64 \n",
            " 3   img_name   23705 non-null  object\n",
            " 4   pixels     23705 non-null  object\n",
            "dtypes: int64(3), object(2)\n",
            "memory usage: 926.1+ KB\n"
          ]
        }
      ]
    },
    {
      "cell_type": "code",
      "source": [
        "df.isnull().sum() # check missing values"
      ],
      "metadata": {
        "id": "_go74HvkdM9A",
        "outputId": "4d021e23-c75f-4119-c47d-44fc17c9ab64",
        "colab": {
          "base_uri": "https://localhost:8080/"
        }
      },
      "execution_count": 25,
      "outputs": [
        {
          "output_type": "execute_result",
          "data": {
            "text/plain": [
              "age          0\n",
              "ethnicity    0\n",
              "gender       0\n",
              "img_name     0\n",
              "pixels       0\n",
              "dtype: int64"
            ]
          },
          "metadata": {},
          "execution_count": 25
        }
      ]
    },
    {
      "cell_type": "code",
      "source": [
        "df.duplicated().sum()"
      ],
      "metadata": {
        "id": "6qlTNGpyam8r",
        "outputId": "1b241fbb-6c75-4918-d6dd-6a519059c415",
        "colab": {
          "base_uri": "https://localhost:8080/"
        }
      },
      "execution_count": 26,
      "outputs": [
        {
          "output_type": "execute_result",
          "data": {
            "text/plain": [
              "0"
            ]
          },
          "metadata": {},
          "execution_count": 26
        }
      ]
    },
    {
      "cell_type": "code",
      "source": [
        "df.dtypes"
      ],
      "metadata": {
        "id": "rag0oXu4jSG8",
        "outputId": "88c25dec-b000-4bde-9e88-0809d4d7a5e4",
        "colab": {
          "base_uri": "https://localhost:8080/"
        }
      },
      "execution_count": 27,
      "outputs": [
        {
          "output_type": "execute_result",
          "data": {
            "text/plain": [
              "age           int64\n",
              "ethnicity     int64\n",
              "gender        int64\n",
              "img_name     object\n",
              "pixels       object\n",
              "dtype: object"
            ]
          },
          "metadata": {},
          "execution_count": 27
        }
      ]
    },
    {
      "cell_type": "code",
      "source": [
        "## Converting pixels into numpy array\n",
        "df['pixels']=df['pixels'].apply(lambda x:  np.array(x.split(), dtype=\"float32\"))"
      ],
      "metadata": {
        "id": "6lq_r9zCjVVj"
      },
      "execution_count": 28,
      "outputs": []
    },
    {
      "cell_type": "code",
      "source": [
        "df.dtypes"
      ],
      "metadata": {
        "id": "LWq0Wx6ukJSk",
        "outputId": "1db4af4c-22c9-4f56-88bf-7884be58c2fb",
        "colab": {
          "base_uri": "https://localhost:8080/"
        }
      },
      "execution_count": 29,
      "outputs": [
        {
          "output_type": "execute_result",
          "data": {
            "text/plain": [
              "age           int64\n",
              "ethnicity     int64\n",
              "gender        int64\n",
              "img_name     object\n",
              "pixels       object\n",
              "dtype: object"
            ]
          },
          "metadata": {},
          "execution_count": 29
        }
      ]
    },
    {
      "cell_type": "code",
      "source": [
        "df[\"ethnicity\"].unique()"
      ],
      "metadata": {
        "id": "FMsyQzbkklni",
        "outputId": "d96caf33-891d-4172-b71d-c34fb62220ee",
        "colab": {
          "base_uri": "https://localhost:8080/"
        }
      },
      "execution_count": 30,
      "outputs": [
        {
          "output_type": "execute_result",
          "data": {
            "text/plain": [
              "array([2, 3, 4, 0, 1])"
            ]
          },
          "metadata": {},
          "execution_count": 30
        }
      ]
    },
    {
      "cell_type": "code",
      "source": [
        "df[\"gender\"].unique()"
      ],
      "metadata": {
        "id": "Rti27P4lkx9e",
        "outputId": "97cf8086-409a-49b8-fedf-ece65d27e2eb",
        "colab": {
          "base_uri": "https://localhost:8080/"
        }
      },
      "execution_count": 31,
      "outputs": [
        {
          "output_type": "execute_result",
          "data": {
            "text/plain": [
              "array([0, 1])"
            ]
          },
          "metadata": {},
          "execution_count": 31
        }
      ]
    },
    {
      "cell_type": "code",
      "source": [
        "df[\"age\"].unique() #1-99"
      ],
      "metadata": {
        "id": "Nk-4aC1bkzJy",
        "outputId": "0828b9d5-953d-4730-eb43-ee050072ab9d",
        "colab": {
          "base_uri": "https://localhost:8080/"
        }
      },
      "execution_count": 32,
      "outputs": [
        {
          "output_type": "execute_result",
          "data": {
            "text/plain": [
              "array([  1,  10, 100, 101, 103, 105,  11, 110, 111, 115, 116,  12,  13,\n",
              "        14,  15,  16,  17,  18,  19,   2,  20,  21,  22,  23,  24,  25,\n",
              "        26,  27,  28,  29,   3,  30,  31,  32,  33,  34,  35,  36,  37,\n",
              "        38,  39,   4,  40,  41,  42,  43,  44,  45,  46,  47,  48,  49,\n",
              "         5,  50,  51,  52,  53,  54,  55,  56,  57,  58,  59,   6,  60,\n",
              "        61,  62,  63,  64,  65,  66,  67,  68,  69,   7,  70,  71,  72,\n",
              "        73,  74,  75,  76,  77,  78,  79,   8,  80,  81,  82,  83,  84,\n",
              "        85,  86,  87,  88,  89,   9,  90,  91,  92,  93,  95,  96,  99])"
            ]
          },
          "metadata": {},
          "execution_count": 32
        }
      ]
    },
    {
      "cell_type": "code",
      "source": [
        "from sklearn.model_selection import train_test_split\n",
        "train_data, test_data = train_test_split(df, test_size=0.2, random_state=42)"
      ],
      "metadata": {
        "id": "XO88BWGyjzFo"
      },
      "execution_count": 33,
      "outputs": []
    },
    {
      "cell_type": "code",
      "source": [
        "import torch\n",
        "from torch.utils.data import Dataset, DataLoader\n",
        "import pandas as pd\n",
        "from PIL import Image\n",
        "import torchvision.transforms as transforms\n",
        "import matplotlib.pyplot as plt"
      ],
      "metadata": {
        "id": "xZ0MDzH9cuZd"
      },
      "execution_count": 34,
      "outputs": []
    },
    {
      "cell_type": "code",
      "source": [
        "class FaceDataset(Dataset):\n",
        "\n",
        "    def __init__(self, data_set):\n",
        "\n",
        "        self.data_set = data_set\n",
        "        self.transform = transforms.Compose([transforms.ToTensor()]) # convert the image to a PyTorch tensor\n",
        "\n",
        "    def __len__(self):\n",
        "        return len(self.data_set) # return the length of the dataset (number of samples in the data_set.)\n",
        "\n",
        "    def __getitem__(self, i): #index\n",
        "        if torch.is_tensor(i):\n",
        "            i = i.tolist()\n",
        "        #reitive the data\n",
        "        age = self.data_set['age'].iloc[i]\n",
        "        ethnicity = self.data_set['ethnicity'].iloc[i]\n",
        "        gender = self.data_set['gender'].iloc[i]\n",
        "\n",
        "        pixels = self.data_set['pixels'].iloc[i]\n",
        "        pixels = np.array(pixels.tolist()) #converted to a numpy array.\n",
        "        pixels = pixels.reshape(48,48)/255 #normlise\n",
        "        pixels = np.array(pixels, 'float32')\n",
        "\n",
        "        pixels = self.transform(pixels) # The pixel array is then converted to a PyTorch tensor\n",
        "\n",
        "        sample = {'image': pixels, 'age': age, 'ethnicity': ethnicity, 'gender':gender}\n",
        "\n",
        "        return sample"
      ],
      "metadata": {
        "id": "5swV_Z_ke-kE"
      },
      "execution_count": 35,
      "outputs": []
    },
    {
      "cell_type": "code",
      "source": [
        "train_dataset = FaceDataset(train_data)\n",
        "test_dataset = FaceDataset(test_data)"
      ],
      "metadata": {
        "id": "eY-ggRCblZzr"
      },
      "execution_count": 36,
      "outputs": []
    },
    {
      "cell_type": "code",
      "source": [
        "from torch.utils.data import DataLoader\n",
        "\n",
        "train_dataloader = DataLoader(train_dataset, batch_size=64, shuffle=True)\n",
        "test_dataloader = DataLoader(test_dataset, batch_size=64, shuffle=True)"
      ],
      "metadata": {
        "id": "eBjIm7gLlsq7"
      },
      "execution_count": 37,
      "outputs": []
    },
    {
      "cell_type": "code",
      "source": [
        "import torch\n",
        "import matplotlib.pyplot as plt\n",
        "\n",
        "num_images_to_visualize = 5  # Specify the number of images to visualize\n",
        "\n",
        "# Iterate over the DataLoader\n",
        "for batch in test_dataloader:\n",
        "    images = batch['image']  # Assuming the key for the image tensor is 'image'\n",
        "\n",
        "    # Iterate over the images in the batch\n",
        "    for i in range(min(num_images_to_visualize, len(images))):\n",
        "        image = images[i]  # Get the specific image from the batch\n",
        "\n",
        "        # Convert the image tensor to a numpy array\n",
        "        image_np = image.permute(1, 2, 0).numpy() #(C, H, W), where: C: Number of channels (e.g., 3 for RGB images) H: Height of the image W: Width of the image\n",
        "\n",
        "        # Display the image using matplotlib\n",
        "        plt.imshow(image_np)\n",
        "        plt.axis('off')  # Remove axis ticks and labels\n",
        "        plt.show()\n",
        "\n",
        "        num_images_to_visualize -= 1  # Decrement the count of remaining images to visualize\n",
        "        if num_images_to_visualize == 0:\n",
        "            break  # Stop further visualization if the desired number of images is reached"
      ],
      "metadata": {
        "id": "TWe6IdE20lOo",
        "outputId": "029c6a44-b0ad-4bd7-c501-ef690f60ea0d",
        "colab": {
          "base_uri": "https://localhost:8080/",
          "height": 1000
        }
      },
      "execution_count": 39,
      "outputs": [
        {
          "output_type": "display_data",
          "data": {
            "text/plain": [
              "<Figure size 640x480 with 1 Axes>"
            ],
            "image/png": "[encoded data removed]"
          },
          "metadata": {}
        },
        {
          "output_type": "display_data",
          "data": {
            "text/plain": [
              "<Figure size 640x480 with 1 Axes>"
            ],
            "image/png": "[encoded data removed]"
          },
          "metadata": {}
        },
        {
          "output_type": "display_data",
          "data": {
            "text/plain": [
              "<Figure size 640x480 with 1 Axes>"
            ],
            "image/png": "[encoded data removed]"
          },
          "metadata": {}
        },
        {
          "output_type": "display_data",
          "data": {
            "text/plain": [
              "<Figure size 640x480 with 1 Axes>"
            ],
            "image/png": "[encoded data removed]"
          },
          "metadata": {}
        },
        {
          "output_type": "display_data",
          "data": {
            "text/plain": [
              "<Figure size 640x480 with 1 Axes>"
            ],
            "image/png": "[encoded data removed]"
          },
          "metadata": {}
        }
      ]
    }
  ]
}