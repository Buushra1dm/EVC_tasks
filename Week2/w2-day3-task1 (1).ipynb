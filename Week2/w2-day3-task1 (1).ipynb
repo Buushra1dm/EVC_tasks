{
 "cells": [
  {
   "cell_type": "code",
   "execution_count": 1,
   "id": "6ab272de",
   "metadata": {
    "execution": {
     "iopub.execute_input": "2024-07-09T19:16:02.246128Z",
     "iopub.status.busy": "2024-07-09T19:16:02.245702Z",
     "iopub.status.idle": "2024-07-09T19:16:03.225408Z",
     "shell.execute_reply": "2024-07-09T19:16:03.224168Z"
    },
    "papermill": {
     "duration": 0.99563,
     "end_time": "2024-07-09T19:16:03.228261",
     "exception": false,
     "start_time": "2024-07-09T19:16:02.232631",
     "status": "completed"
    },
    "tags": []
   },
   "outputs": [],
   "source": [
    "import numpy as np\n",
    "import pandas as pd"
   ]
  },
  {
   "cell_type": "code",
   "execution_count": 2,
   "id": "f9076869",
   "metadata": {
    "execution": {
     "iopub.execute_input": "2024-07-09T19:16:03.252805Z",
     "iopub.status.busy": "2024-07-09T19:16:03.252214Z",
     "iopub.status.idle": "2024-07-09T19:16:10.474651Z",
     "shell.execute_reply": "2024-07-09T19:16:10.473318Z"
    },
    "papermill": {
     "duration": 7.237856,
     "end_time": "2024-07-09T19:16:10.477628",
     "exception": false,
     "start_time": "2024-07-09T19:16:03.239772",
     "status": "completed"
    },
    "tags": []
   },
   "outputs": [
    {
     "data": {
      "text/html": [
       "<div>\n",
       "<style scoped>\n",
       "    .dataframe tbody tr th:only-of-type {\n",
       "        vertical-align: middle;\n",
       "    }\n",
       "\n",
       "    .dataframe tbody tr th {\n",
       "        vertical-align: top;\n",
       "    }\n",
       "\n",
       "    .dataframe thead th {\n",
       "        text-align: right;\n",
       "    }\n",
       "</style>\n",
       "<table border=\"1\" class=\"dataframe\">\n",
       "  <thead>\n",
       "    <tr style=\"text-align: right;\">\n",
       "      <th></th>\n",
       "      <th>0</th>\n",
       "      <th>1467810369</th>\n",
       "      <th>Mon Apr 06 22:19:45 PDT 2009</th>\n",
       "      <th>NO_QUERY</th>\n",
       "      <th>_TheSpecialOne_</th>\n",
       "      <th>@switchfoot http://twitpic.com/2y1zl - Awww, that's a bummer.  You shoulda got David Carr of Third Day to do it. ;D</th>\n",
       "    </tr>\n",
       "  </thead>\n",
       "  <tbody>\n",
       "    <tr>\n",
       "      <th>0</th>\n",
       "      <td>0</td>\n",
       "      <td>1467810672</td>\n",
       "      <td>Mon Apr 06 22:19:49 PDT 2009</td>\n",
       "      <td>NO_QUERY</td>\n",
       "      <td>scotthamilton</td>\n",
       "      <td>is upset that he can't update his Facebook by ...</td>\n",
       "    </tr>\n",
       "    <tr>\n",
       "      <th>1</th>\n",
       "      <td>0</td>\n",
       "      <td>1467810917</td>\n",
       "      <td>Mon Apr 06 22:19:53 PDT 2009</td>\n",
       "      <td>NO_QUERY</td>\n",
       "      <td>mattycus</td>\n",
       "      <td>@Kenichan I dived many times for the ball. Man...</td>\n",
       "    </tr>\n",
       "    <tr>\n",
       "      <th>2</th>\n",
       "      <td>0</td>\n",
       "      <td>1467811184</td>\n",
       "      <td>Mon Apr 06 22:19:57 PDT 2009</td>\n",
       "      <td>NO_QUERY</td>\n",
       "      <td>ElleCTF</td>\n",
       "      <td>my whole body feels itchy and like its on fire</td>\n",
       "    </tr>\n",
       "    <tr>\n",
       "      <th>3</th>\n",
       "      <td>0</td>\n",
       "      <td>1467811193</td>\n",
       "      <td>Mon Apr 06 22:19:57 PDT 2009</td>\n",
       "      <td>NO_QUERY</td>\n",
       "      <td>Karoli</td>\n",
       "      <td>@nationwideclass no, it's not behaving at all....</td>\n",
       "    </tr>\n",
       "    <tr>\n",
       "      <th>4</th>\n",
       "      <td>0</td>\n",
       "      <td>1467811372</td>\n",
       "      <td>Mon Apr 06 22:20:00 PDT 2009</td>\n",
       "      <td>NO_QUERY</td>\n",
       "      <td>joy_wolf</td>\n",
       "      <td>@Kwesidei not the whole crew</td>\n",
       "    </tr>\n",
       "    <tr>\n",
       "      <th>...</th>\n",
       "      <td>...</td>\n",
       "      <td>...</td>\n",
       "      <td>...</td>\n",
       "      <td>...</td>\n",
       "      <td>...</td>\n",
       "      <td>...</td>\n",
       "    </tr>\n",
       "    <tr>\n",
       "      <th>1599994</th>\n",
       "      <td>4</td>\n",
       "      <td>2193601966</td>\n",
       "      <td>Tue Jun 16 08:40:49 PDT 2009</td>\n",
       "      <td>NO_QUERY</td>\n",
       "      <td>AmandaMarie1028</td>\n",
       "      <td>Just woke up. Having no school is the best fee...</td>\n",
       "    </tr>\n",
       "    <tr>\n",
       "      <th>1599995</th>\n",
       "      <td>4</td>\n",
       "      <td>2193601969</td>\n",
       "      <td>Tue Jun 16 08:40:49 PDT 2009</td>\n",
       "      <td>NO_QUERY</td>\n",
       "      <td>TheWDBoards</td>\n",
       "      <td>TheWDB.com - Very cool to hear old Walt interv...</td>\n",
       "    </tr>\n",
       "    <tr>\n",
       "      <th>1599996</th>\n",
       "      <td>4</td>\n",
       "      <td>2193601991</td>\n",
       "      <td>Tue Jun 16 08:40:49 PDT 2009</td>\n",
       "      <td>NO_QUERY</td>\n",
       "      <td>bpbabe</td>\n",
       "      <td>Are you ready for your MoJo Makeover? Ask me f...</td>\n",
       "    </tr>\n",
       "    <tr>\n",
       "      <th>1599997</th>\n",
       "      <td>4</td>\n",
       "      <td>2193602064</td>\n",
       "      <td>Tue Jun 16 08:40:49 PDT 2009</td>\n",
       "      <td>NO_QUERY</td>\n",
       "      <td>tinydiamondz</td>\n",
       "      <td>Happy 38th Birthday to my boo of alll time!!! ...</td>\n",
       "    </tr>\n",
       "    <tr>\n",
       "      <th>1599998</th>\n",
       "      <td>4</td>\n",
       "      <td>2193602129</td>\n",
       "      <td>Tue Jun 16 08:40:50 PDT 2009</td>\n",
       "      <td>NO_QUERY</td>\n",
       "      <td>RyanTrevMorris</td>\n",
       "      <td>happy #charitytuesday @theNSPCC @SparksCharity...</td>\n",
       "    </tr>\n",
       "  </tbody>\n",
       "</table>\n",
       "<p>1599999 rows × 6 columns</p>\n",
       "</div>"
      ],
      "text/plain": [
       "         0  1467810369  Mon Apr 06 22:19:45 PDT 2009  NO_QUERY  \\\n",
       "0        0  1467810672  Mon Apr 06 22:19:49 PDT 2009  NO_QUERY   \n",
       "1        0  1467810917  Mon Apr 06 22:19:53 PDT 2009  NO_QUERY   \n",
       "2        0  1467811184  Mon Apr 06 22:19:57 PDT 2009  NO_QUERY   \n",
       "3        0  1467811193  Mon Apr 06 22:19:57 PDT 2009  NO_QUERY   \n",
       "4        0  1467811372  Mon Apr 06 22:20:00 PDT 2009  NO_QUERY   \n",
       "...     ..         ...                           ...       ...   \n",
       "1599994  4  2193601966  Tue Jun 16 08:40:49 PDT 2009  NO_QUERY   \n",
       "1599995  4  2193601969  Tue Jun 16 08:40:49 PDT 2009  NO_QUERY   \n",
       "1599996  4  2193601991  Tue Jun 16 08:40:49 PDT 2009  NO_QUERY   \n",
       "1599997  4  2193602064  Tue Jun 16 08:40:49 PDT 2009  NO_QUERY   \n",
       "1599998  4  2193602129  Tue Jun 16 08:40:50 PDT 2009  NO_QUERY   \n",
       "\n",
       "         _TheSpecialOne_  \\\n",
       "0          scotthamilton   \n",
       "1               mattycus   \n",
       "2                ElleCTF   \n",
       "3                 Karoli   \n",
       "4               joy_wolf   \n",
       "...                  ...   \n",
       "1599994  AmandaMarie1028   \n",
       "1599995      TheWDBoards   \n",
       "1599996           bpbabe   \n",
       "1599997     tinydiamondz   \n",
       "1599998   RyanTrevMorris   \n",
       "\n",
       "        @switchfoot http://twitpic.com/2y1zl - Awww, that's a bummer.  You shoulda got David Carr of Third Day to do it. ;D  \n",
       "0        is upset that he can't update his Facebook by ...                                                                   \n",
       "1        @Kenichan I dived many times for the ball. Man...                                                                   \n",
       "2          my whole body feels itchy and like its on fire                                                                    \n",
       "3        @nationwideclass no, it's not behaving at all....                                                                   \n",
       "4                            @Kwesidei not the whole crew                                                                    \n",
       "...                                                    ...                                                                   \n",
       "1599994  Just woke up. Having no school is the best fee...                                                                   \n",
       "1599995  TheWDB.com - Very cool to hear old Walt interv...                                                                   \n",
       "1599996  Are you ready for your MoJo Makeover? Ask me f...                                                                   \n",
       "1599997  Happy 38th Birthday to my boo of alll time!!! ...                                                                   \n",
       "1599998  happy #charitytuesday @theNSPCC @SparksCharity...                                                                   \n",
       "\n",
       "[1599999 rows x 6 columns]"
      ]
     },
     "execution_count": 2,
     "metadata": {},
     "output_type": "execute_result"
    }
   ],
   "source": [
    "df=pd.read_csv(\"/kaggle/input/sentiment140/training.1600000.processed.noemoticon.csv\", encoding='ISO-8859-1')\n",
    "df"
   ]
  },
  {
   "cell_type": "code",
   "execution_count": 3,
   "id": "046cda9a",
   "metadata": {
    "execution": {
     "iopub.execute_input": "2024-07-09T19:16:10.502575Z",
     "iopub.status.busy": "2024-07-09T19:16:10.502195Z",
     "iopub.status.idle": "2024-07-09T19:16:10.510696Z",
     "shell.execute_reply": "2024-07-09T19:16:10.509360Z"
    },
    "papermill": {
     "duration": 0.023987,
     "end_time": "2024-07-09T19:16:10.513284",
     "exception": false,
     "start_time": "2024-07-09T19:16:10.489297",
     "status": "completed"
    },
    "tags": []
   },
   "outputs": [
    {
     "data": {
      "text/plain": [
       "(1599999, 6)"
      ]
     },
     "execution_count": 3,
     "metadata": {},
     "output_type": "execute_result"
    }
   ],
   "source": [
    "df.shape"
   ]
  },
  {
   "cell_type": "code",
   "execution_count": 4,
   "id": "49e4f531",
   "metadata": {
    "execution": {
     "iopub.execute_input": "2024-07-09T19:16:10.538910Z",
     "iopub.status.busy": "2024-07-09T19:16:10.538520Z",
     "iopub.status.idle": "2024-07-09T19:16:11.265122Z",
     "shell.execute_reply": "2024-07-09T19:16:11.263616Z"
    },
    "papermill": {
     "duration": 0.7431,
     "end_time": "2024-07-09T19:16:11.268245",
     "exception": false,
     "start_time": "2024-07-09T19:16:10.525145",
     "status": "completed"
    },
    "tags": []
   },
   "outputs": [
    {
     "name": "stdout",
     "output_type": "stream",
     "text": [
      "<class 'pandas.core.frame.DataFrame'>\n",
      "RangeIndex: 1599999 entries, 0 to 1599998\n",
      "Data columns (total 6 columns):\n",
      " #   Column                                                                                                               Non-Null Count    Dtype \n",
      "---  ------                                                                                                               --------------    ----- \n",
      " 0   0                                                                                                                    1599999 non-null  int64 \n",
      " 1   1467810369                                                                                                           1599999 non-null  int64 \n",
      " 2   Mon Apr 06 22:19:45 PDT 2009                                                                                         1599999 non-null  object\n",
      " 3   NO_QUERY                                                                                                             1599999 non-null  object\n",
      " 4   _TheSpecialOne_                                                                                                      1599999 non-null  object\n",
      " 5   @switchfoot http://twitpic.com/2y1zl - Awww, that's a bummer.  You shoulda got David Carr of Third Day to do it. ;D  1599999 non-null  object\n",
      "dtypes: int64(2), object(4)\n",
      "memory usage: 73.2+ MB\n"
     ]
    }
   ],
   "source": [
    "df.info()"
   ]
  },
  {
   "cell_type": "code",
   "execution_count": 5,
   "id": "dda6b606",
   "metadata": {
    "execution": {
     "iopub.execute_input": "2024-07-09T19:16:11.295697Z",
     "iopub.status.busy": "2024-07-09T19:16:11.294672Z",
     "iopub.status.idle": "2024-07-09T19:16:12.007550Z",
     "shell.execute_reply": "2024-07-09T19:16:12.006105Z"
    },
    "papermill": {
     "duration": 0.728971,
     "end_time": "2024-07-09T19:16:12.010129",
     "exception": false,
     "start_time": "2024-07-09T19:16:11.281158",
     "status": "completed"
    },
    "tags": []
   },
   "outputs": [
    {
     "data": {
      "text/plain": [
       "0                                                                                                                      0\n",
       "1467810369                                                                                                             0\n",
       "Mon Apr 06 22:19:45 PDT 2009                                                                                           0\n",
       "NO_QUERY                                                                                                               0\n",
       "_TheSpecialOne_                                                                                                        0\n",
       "@switchfoot http://twitpic.com/2y1zl - Awww, that's a bummer.  You shoulda got David Carr of Third Day to do it. ;D    0\n",
       "dtype: int64"
      ]
     },
     "execution_count": 5,
     "metadata": {},
     "output_type": "execute_result"
    }
   ],
   "source": [
    "df.isnull().sum() # check missing values"
   ]
  },
  {
   "cell_type": "code",
   "execution_count": 6,
   "id": "acc76956",
   "metadata": {
    "execution": {
     "iopub.execute_input": "2024-07-09T19:16:12.036161Z",
     "iopub.status.busy": "2024-07-09T19:16:12.035678Z",
     "iopub.status.idle": "2024-07-09T19:16:14.263652Z",
     "shell.execute_reply": "2024-07-09T19:16:14.262330Z"
    },
    "papermill": {
     "duration": 2.244256,
     "end_time": "2024-07-09T19:16:14.266429",
     "exception": false,
     "start_time": "2024-07-09T19:16:12.022173",
     "status": "completed"
    },
    "tags": []
   },
   "outputs": [
    {
     "data": {
      "text/plain": [
       "0"
      ]
     },
     "execution_count": 6,
     "metadata": {},
     "output_type": "execute_result"
    }
   ],
   "source": [
    "df.duplicated().sum()"
   ]
  },
  {
   "cell_type": "code",
   "execution_count": 7,
   "id": "416a84e4",
   "metadata": {
    "execution": {
     "iopub.execute_input": "2024-07-09T19:16:14.295566Z",
     "iopub.status.busy": "2024-07-09T19:16:14.294469Z",
     "iopub.status.idle": "2024-07-09T19:16:14.304602Z",
     "shell.execute_reply": "2024-07-09T19:16:14.303356Z"
    },
    "papermill": {
     "duration": 0.027249,
     "end_time": "2024-07-09T19:16:14.307190",
     "exception": false,
     "start_time": "2024-07-09T19:16:14.279941",
     "status": "completed"
    },
    "tags": []
   },
   "outputs": [
    {
     "data": {
      "text/plain": [
       "0                                                                                                                       int64\n",
       "1467810369                                                                                                              int64\n",
       "Mon Apr 06 22:19:45 PDT 2009                                                                                           object\n",
       "NO_QUERY                                                                                                               object\n",
       "_TheSpecialOne_                                                                                                        object\n",
       "@switchfoot http://twitpic.com/2y1zl - Awww, that's a bummer.  You shoulda got David Carr of Third Day to do it. ;D    object\n",
       "dtype: object"
      ]
     },
     "execution_count": 7,
     "metadata": {},
     "output_type": "execute_result"
    }
   ],
   "source": [
    "df.dtypes"
   ]
  },
  {
   "cell_type": "code",
   "execution_count": 8,
   "id": "69d2f07f",
   "metadata": {
    "execution": {
     "iopub.execute_input": "2024-07-09T19:16:14.334053Z",
     "iopub.status.busy": "2024-07-09T19:16:14.333511Z",
     "iopub.status.idle": "2024-07-09T19:16:14.342072Z",
     "shell.execute_reply": "2024-07-09T19:16:14.340851Z"
    },
    "papermill": {
     "duration": 0.024822,
     "end_time": "2024-07-09T19:16:14.344577",
     "exception": false,
     "start_time": "2024-07-09T19:16:14.319755",
     "status": "completed"
    },
    "tags": []
   },
   "outputs": [
    {
     "data": {
      "text/plain": [
       "Index(['0', '1467810369', 'Mon Apr 06 22:19:45 PDT 2009', 'NO_QUERY',\n",
       "       '_TheSpecialOne_',\n",
       "       '@switchfoot http://twitpic.com/2y1zl - Awww, that's a bummer.  You shoulda got David Carr of Third Day to do it. ;D'],\n",
       "      dtype='object')"
      ]
     },
     "execution_count": 8,
     "metadata": {},
     "output_type": "execute_result"
    }
   ],
   "source": [
    "df.columns"
   ]
  },
  {
   "cell_type": "code",
   "execution_count": 9,
   "id": "2b4afefd",
   "metadata": {
    "execution": {
     "iopub.execute_input": "2024-07-09T19:16:14.372495Z",
     "iopub.status.busy": "2024-07-09T19:16:14.371419Z",
     "iopub.status.idle": "2024-07-09T19:16:14.484790Z",
     "shell.execute_reply": "2024-07-09T19:16:14.483491Z"
    },
    "papermill": {
     "duration": 0.130408,
     "end_time": "2024-07-09T19:16:14.487885",
     "exception": false,
     "start_time": "2024-07-09T19:16:14.357477",
     "status": "completed"
    },
    "tags": []
   },
   "outputs": [
    {
     "data": {
      "text/html": [
       "<div>\n",
       "<style scoped>\n",
       "    .dataframe tbody tr th:only-of-type {\n",
       "        vertical-align: middle;\n",
       "    }\n",
       "\n",
       "    .dataframe tbody tr th {\n",
       "        vertical-align: top;\n",
       "    }\n",
       "\n",
       "    .dataframe thead th {\n",
       "        text-align: right;\n",
       "    }\n",
       "</style>\n",
       "<table border=\"1\" class=\"dataframe\">\n",
       "  <thead>\n",
       "    <tr style=\"text-align: right;\">\n",
       "      <th></th>\n",
       "      <th>target</th>\n",
       "      <th>ids</th>\n",
       "      <th>date</th>\n",
       "      <th>falg</th>\n",
       "      <th>user</th>\n",
       "      <th>text</th>\n",
       "    </tr>\n",
       "  </thead>\n",
       "  <tbody>\n",
       "    <tr>\n",
       "      <th>0</th>\n",
       "      <td>0</td>\n",
       "      <td>1467810672</td>\n",
       "      <td>Mon Apr 06 22:19:49 PDT 2009</td>\n",
       "      <td>NO_QUERY</td>\n",
       "      <td>scotthamilton</td>\n",
       "      <td>is upset that he can't update his Facebook by ...</td>\n",
       "    </tr>\n",
       "    <tr>\n",
       "      <th>1</th>\n",
       "      <td>0</td>\n",
       "      <td>1467810917</td>\n",
       "      <td>Mon Apr 06 22:19:53 PDT 2009</td>\n",
       "      <td>NO_QUERY</td>\n",
       "      <td>mattycus</td>\n",
       "      <td>@Kenichan I dived many times for the ball. Man...</td>\n",
       "    </tr>\n",
       "    <tr>\n",
       "      <th>2</th>\n",
       "      <td>0</td>\n",
       "      <td>1467811184</td>\n",
       "      <td>Mon Apr 06 22:19:57 PDT 2009</td>\n",
       "      <td>NO_QUERY</td>\n",
       "      <td>ElleCTF</td>\n",
       "      <td>my whole body feels itchy and like its on fire</td>\n",
       "    </tr>\n",
       "    <tr>\n",
       "      <th>3</th>\n",
       "      <td>0</td>\n",
       "      <td>1467811193</td>\n",
       "      <td>Mon Apr 06 22:19:57 PDT 2009</td>\n",
       "      <td>NO_QUERY</td>\n",
       "      <td>Karoli</td>\n",
       "      <td>@nationwideclass no, it's not behaving at all....</td>\n",
       "    </tr>\n",
       "    <tr>\n",
       "      <th>4</th>\n",
       "      <td>0</td>\n",
       "      <td>1467811372</td>\n",
       "      <td>Mon Apr 06 22:20:00 PDT 2009</td>\n",
       "      <td>NO_QUERY</td>\n",
       "      <td>joy_wolf</td>\n",
       "      <td>@Kwesidei not the whole crew</td>\n",
       "    </tr>\n",
       "  </tbody>\n",
       "</table>\n",
       "</div>"
      ],
      "text/plain": [
       "   target         ids                          date      falg           user  \\\n",
       "0       0  1467810672  Mon Apr 06 22:19:49 PDT 2009  NO_QUERY  scotthamilton   \n",
       "1       0  1467810917  Mon Apr 06 22:19:53 PDT 2009  NO_QUERY       mattycus   \n",
       "2       0  1467811184  Mon Apr 06 22:19:57 PDT 2009  NO_QUERY        ElleCTF   \n",
       "3       0  1467811193  Mon Apr 06 22:19:57 PDT 2009  NO_QUERY         Karoli   \n",
       "4       0  1467811372  Mon Apr 06 22:20:00 PDT 2009  NO_QUERY       joy_wolf   \n",
       "\n",
       "                                                text  \n",
       "0  is upset that he can't update his Facebook by ...  \n",
       "1  @Kenichan I dived many times for the ball. Man...  \n",
       "2    my whole body feels itchy and like its on fire   \n",
       "3  @nationwideclass no, it's not behaving at all....  \n",
       "4                      @Kwesidei not the whole crew   "
      ]
     },
     "execution_count": 9,
     "metadata": {},
     "output_type": "execute_result"
    }
   ],
   "source": [
    "new_columns = ['target', 'ids','date' ,'falg','user', 'text']\n",
    "df = df.rename(columns=dict(zip(df.columns, new_columns)))\n",
    "df.head()"
   ]
  },
  {
   "cell_type": "code",
   "execution_count": 10,
   "id": "9de9f47b",
   "metadata": {
    "execution": {
     "iopub.execute_input": "2024-07-09T19:16:14.521942Z",
     "iopub.status.busy": "2024-07-09T19:16:14.521425Z",
     "iopub.status.idle": "2024-07-09T19:16:14.550150Z",
     "shell.execute_reply": "2024-07-09T19:16:14.548962Z"
    },
    "papermill": {
     "duration": 0.04622,
     "end_time": "2024-07-09T19:16:14.553203",
     "exception": false,
     "start_time": "2024-07-09T19:16:14.506983",
     "status": "completed"
    },
    "tags": []
   },
   "outputs": [
    {
     "data": {
      "text/plain": [
       "target\n",
       "4    800000\n",
       "0    799999\n",
       "Name: count, dtype: int64"
      ]
     },
     "execution_count": 10,
     "metadata": {},
     "output_type": "execute_result"
    }
   ],
   "source": [
    "df['target'].value_counts()"
   ]
  },
  {
   "cell_type": "markdown",
   "id": "c7539813",
   "metadata": {
    "papermill": {
     "duration": 0.012521,
     "end_time": "2024-07-09T19:16:14.581292",
     "exception": false,
     "start_time": "2024-07-09T19:16:14.568771",
     "status": "completed"
    },
    "tags": []
   },
   "source": [
    "****preprocessing****"
   ]
  },
  {
   "cell_type": "code",
   "execution_count": 11,
   "id": "c76ba41d",
   "metadata": {
    "execution": {
     "iopub.execute_input": "2024-07-09T19:16:14.608734Z",
     "iopub.status.busy": "2024-07-09T19:16:14.608315Z",
     "iopub.status.idle": "2024-07-09T19:16:15.277103Z",
     "shell.execute_reply": "2024-07-09T19:16:15.275938Z"
    },
    "papermill": {
     "duration": 0.685429,
     "end_time": "2024-07-09T19:16:15.279688",
     "exception": false,
     "start_time": "2024-07-09T19:16:14.594259",
     "status": "completed"
    },
    "tags": []
   },
   "outputs": [
    {
     "data": {
      "text/plain": [
       "0          is upset that he can't update his facebook by ...\n",
       "1          @kenichan i dived many times for the ball. man...\n",
       "2            my whole body feels itchy and like its on fire \n",
       "3          @nationwideclass no, it's not behaving at all....\n",
       "4                              @kwesidei not the whole crew \n",
       "                                 ...                        \n",
       "1599994    just woke up. having no school is the best fee...\n",
       "1599995    thewdb.com - very cool to hear old walt interv...\n",
       "1599996    are you ready for your mojo makeover? ask me f...\n",
       "1599997    happy 38th birthday to my boo of alll time!!! ...\n",
       "1599998    happy #charitytuesday @thenspcc @sparkscharity...\n",
       "Name: text, Length: 1599999, dtype: object"
      ]
     },
     "execution_count": 11,
     "metadata": {},
     "output_type": "execute_result"
    }
   ],
   "source": [
    "df['text'] = df['text'].str.lower() #lower case\n",
    "df['text']"
   ]
  },
  {
   "cell_type": "code",
   "execution_count": 12,
   "id": "9ed34a18",
   "metadata": {
    "execution": {
     "iopub.execute_input": "2024-07-09T19:16:15.308839Z",
     "iopub.status.busy": "2024-07-09T19:16:15.307645Z",
     "iopub.status.idle": "2024-07-09T19:16:23.763338Z",
     "shell.execute_reply": "2024-07-09T19:16:23.762099Z"
    },
    "papermill": {
     "duration": 8.472758,
     "end_time": "2024-07-09T19:16:23.766007",
     "exception": false,
     "start_time": "2024-07-09T19:16:15.293249",
     "status": "completed"
    },
    "tags": []
   },
   "outputs": [
    {
     "data": {
      "text/html": [
       "<div>\n",
       "<style scoped>\n",
       "    .dataframe tbody tr th:only-of-type {\n",
       "        vertical-align: middle;\n",
       "    }\n",
       "\n",
       "    .dataframe tbody tr th {\n",
       "        vertical-align: top;\n",
       "    }\n",
       "\n",
       "    .dataframe thead th {\n",
       "        text-align: right;\n",
       "    }\n",
       "</style>\n",
       "<table border=\"1\" class=\"dataframe\">\n",
       "  <thead>\n",
       "    <tr style=\"text-align: right;\">\n",
       "      <th></th>\n",
       "      <th>target</th>\n",
       "      <th>ids</th>\n",
       "      <th>date</th>\n",
       "      <th>falg</th>\n",
       "      <th>user</th>\n",
       "      <th>text</th>\n",
       "    </tr>\n",
       "  </thead>\n",
       "  <tbody>\n",
       "    <tr>\n",
       "      <th>0</th>\n",
       "      <td>0</td>\n",
       "      <td>1467810672</td>\n",
       "      <td>Mon Apr 06 22:19:49 PDT 2009</td>\n",
       "      <td>NO_QUERY</td>\n",
       "      <td>scotthamilton</td>\n",
       "      <td>is upset that he cant update his facebook by t...</td>\n",
       "    </tr>\n",
       "    <tr>\n",
       "      <th>1</th>\n",
       "      <td>0</td>\n",
       "      <td>1467810917</td>\n",
       "      <td>Mon Apr 06 22:19:53 PDT 2009</td>\n",
       "      <td>NO_QUERY</td>\n",
       "      <td>mattycus</td>\n",
       "      <td>kenichan i dived many times for the ball manag...</td>\n",
       "    </tr>\n",
       "    <tr>\n",
       "      <th>2</th>\n",
       "      <td>0</td>\n",
       "      <td>1467811184</td>\n",
       "      <td>Mon Apr 06 22:19:57 PDT 2009</td>\n",
       "      <td>NO_QUERY</td>\n",
       "      <td>ElleCTF</td>\n",
       "      <td>my whole body feels itchy and like its on fire</td>\n",
       "    </tr>\n",
       "    <tr>\n",
       "      <th>3</th>\n",
       "      <td>0</td>\n",
       "      <td>1467811193</td>\n",
       "      <td>Mon Apr 06 22:19:57 PDT 2009</td>\n",
       "      <td>NO_QUERY</td>\n",
       "      <td>Karoli</td>\n",
       "      <td>nationwideclass no its not behaving at all im ...</td>\n",
       "    </tr>\n",
       "    <tr>\n",
       "      <th>4</th>\n",
       "      <td>0</td>\n",
       "      <td>1467811372</td>\n",
       "      <td>Mon Apr 06 22:20:00 PDT 2009</td>\n",
       "      <td>NO_QUERY</td>\n",
       "      <td>joy_wolf</td>\n",
       "      <td>kwesidei not the whole crew</td>\n",
       "    </tr>\n",
       "  </tbody>\n",
       "</table>\n",
       "</div>"
      ],
      "text/plain": [
       "   target         ids                          date      falg           user  \\\n",
       "0       0  1467810672  Mon Apr 06 22:19:49 PDT 2009  NO_QUERY  scotthamilton   \n",
       "1       0  1467810917  Mon Apr 06 22:19:53 PDT 2009  NO_QUERY       mattycus   \n",
       "2       0  1467811184  Mon Apr 06 22:19:57 PDT 2009  NO_QUERY        ElleCTF   \n",
       "3       0  1467811193  Mon Apr 06 22:19:57 PDT 2009  NO_QUERY         Karoli   \n",
       "4       0  1467811372  Mon Apr 06 22:20:00 PDT 2009  NO_QUERY       joy_wolf   \n",
       "\n",
       "                                                text  \n",
       "0  is upset that he cant update his facebook by t...  \n",
       "1  kenichan i dived many times for the ball manag...  \n",
       "2    my whole body feels itchy and like its on fire   \n",
       "3  nationwideclass no its not behaving at all im ...  \n",
       "4                       kwesidei not the whole crew   "
      ]
     },
     "execution_count": 12,
     "metadata": {},
     "output_type": "execute_result"
    }
   ],
   "source": [
    "import string\n",
    "\n",
    "PUNCT_TO_REMOVE = string.punctuation\n",
    "def remove_punctuation(text):\n",
    "    return text.translate(str.maketrans('', '', PUNCT_TO_REMOVE))\n",
    "\n",
    "df[\"text\"] = df[\"text\"].apply(lambda text: remove_punctuation(text))\n",
    "df.head()"
   ]
  },
  {
   "cell_type": "code",
   "execution_count": 13,
   "id": "c01d22a3",
   "metadata": {
    "execution": {
     "iopub.execute_input": "2024-07-09T19:16:23.794520Z",
     "iopub.status.busy": "2024-07-09T19:16:23.794147Z",
     "iopub.status.idle": "2024-07-09T19:16:26.031119Z",
     "shell.execute_reply": "2024-07-09T19:16:26.029782Z"
    },
    "papermill": {
     "duration": 2.254548,
     "end_time": "2024-07-09T19:16:26.034055",
     "exception": false,
     "start_time": "2024-07-09T19:16:23.779507",
     "status": "completed"
    },
    "tags": []
   },
   "outputs": [],
   "source": [
    "import nltk\n",
    "stopwords = nltk.corpus.stopwords.words('english')\n",
    "def remove_stopwords(text):\n",
    "    output= [i for i in text if i not in stopwords]\n",
    "    return output"
   ]
  },
  {
   "cell_type": "code",
   "execution_count": 14,
   "id": "b36dcd58",
   "metadata": {
    "execution": {
     "iopub.execute_input": "2024-07-09T19:16:26.063017Z",
     "iopub.status.busy": "2024-07-09T19:16:26.062543Z",
     "iopub.status.idle": "2024-07-09T19:16:26.070909Z",
     "shell.execute_reply": "2024-07-09T19:16:26.069839Z"
    },
    "papermill": {
     "duration": 0.025744,
     "end_time": "2024-07-09T19:16:26.073308",
     "exception": false,
     "start_time": "2024-07-09T19:16:26.047564",
     "status": "completed"
    },
    "tags": []
   },
   "outputs": [
    {
     "data": {
      "text/plain": [
       "\"i, me, my, myself, we, our, ours, ourselves, you, you're, you've, you'll, you'd, your, yours, yourself, yourselves, he, him, his, himself, she, she's, her, hers, herself, it, it's, its, itself, they, them, their, theirs, themselves, what, which, who, whom, this, that, that'll, these, those, am, is, are, was, were, be, been, being, have, has, had, having, do, does, did, doing, a, an, the, and, but, if, or, because, as, until, while, of, at, by, for, with, about, against, between, into, through, during, before, after, above, below, to, from, up, down, in, out, on, off, over, under, again, further, then, once, here, there, when, where, why, how, all, any, both, each, few, more, most, other, some, such, no, nor, not, only, own, same, so, than, too, very, s, t, can, will, just, don, don't, should, should've, now, d, ll, m, o, re, ve, y, ain, aren, aren't, couldn, couldn't, didn, didn't, doesn, doesn't, hadn, hadn't, hasn, hasn't, haven, haven't, isn, isn't, ma, mightn, mightn't, mustn, mustn't, needn, needn't, shan, shan't, shouldn, shouldn't, wasn, wasn't, weren, weren't, won, won't, wouldn, wouldn't\""
      ]
     },
     "execution_count": 14,
     "metadata": {},
     "output_type": "execute_result"
    }
   ],
   "source": [
    "import nltk\n",
    "from nltk.corpus import stopwords\n",
    "\", \".join(stopwords.words('english'))"
   ]
  },
  {
   "cell_type": "code",
   "execution_count": 15,
   "id": "9a2bee1e",
   "metadata": {
    "execution": {
     "iopub.execute_input": "2024-07-09T19:16:26.103526Z",
     "iopub.status.busy": "2024-07-09T19:16:26.103151Z",
     "iopub.status.idle": "2024-07-09T19:16:33.182915Z",
     "shell.execute_reply": "2024-07-09T19:16:33.181676Z"
    },
    "papermill": {
     "duration": 7.097276,
     "end_time": "2024-07-09T19:16:33.185477",
     "exception": false,
     "start_time": "2024-07-09T19:16:26.088201",
     "status": "completed"
    },
    "tags": []
   },
   "outputs": [
    {
     "data": {
      "text/html": [
       "<div>\n",
       "<style scoped>\n",
       "    .dataframe tbody tr th:only-of-type {\n",
       "        vertical-align: middle;\n",
       "    }\n",
       "\n",
       "    .dataframe tbody tr th {\n",
       "        vertical-align: top;\n",
       "    }\n",
       "\n",
       "    .dataframe thead th {\n",
       "        text-align: right;\n",
       "    }\n",
       "</style>\n",
       "<table border=\"1\" class=\"dataframe\">\n",
       "  <thead>\n",
       "    <tr style=\"text-align: right;\">\n",
       "      <th></th>\n",
       "      <th>target</th>\n",
       "      <th>ids</th>\n",
       "      <th>date</th>\n",
       "      <th>falg</th>\n",
       "      <th>user</th>\n",
       "      <th>text</th>\n",
       "    </tr>\n",
       "  </thead>\n",
       "  <tbody>\n",
       "    <tr>\n",
       "      <th>0</th>\n",
       "      <td>0</td>\n",
       "      <td>1467810672</td>\n",
       "      <td>Mon Apr 06 22:19:49 PDT 2009</td>\n",
       "      <td>NO_QUERY</td>\n",
       "      <td>scotthamilton</td>\n",
       "      <td>upset cant update facebook texting might cry r...</td>\n",
       "    </tr>\n",
       "    <tr>\n",
       "      <th>1</th>\n",
       "      <td>0</td>\n",
       "      <td>1467810917</td>\n",
       "      <td>Mon Apr 06 22:19:53 PDT 2009</td>\n",
       "      <td>NO_QUERY</td>\n",
       "      <td>mattycus</td>\n",
       "      <td>kenichan dived many times ball managed save 50...</td>\n",
       "    </tr>\n",
       "    <tr>\n",
       "      <th>2</th>\n",
       "      <td>0</td>\n",
       "      <td>1467811184</td>\n",
       "      <td>Mon Apr 06 22:19:57 PDT 2009</td>\n",
       "      <td>NO_QUERY</td>\n",
       "      <td>ElleCTF</td>\n",
       "      <td>whole body feels itchy like fire</td>\n",
       "    </tr>\n",
       "    <tr>\n",
       "      <th>3</th>\n",
       "      <td>0</td>\n",
       "      <td>1467811193</td>\n",
       "      <td>Mon Apr 06 22:19:57 PDT 2009</td>\n",
       "      <td>NO_QUERY</td>\n",
       "      <td>Karoli</td>\n",
       "      <td>nationwideclass behaving im mad cant see</td>\n",
       "    </tr>\n",
       "    <tr>\n",
       "      <th>4</th>\n",
       "      <td>0</td>\n",
       "      <td>1467811372</td>\n",
       "      <td>Mon Apr 06 22:20:00 PDT 2009</td>\n",
       "      <td>NO_QUERY</td>\n",
       "      <td>joy_wolf</td>\n",
       "      <td>kwesidei whole crew</td>\n",
       "    </tr>\n",
       "  </tbody>\n",
       "</table>\n",
       "</div>"
      ],
      "text/plain": [
       "   target         ids                          date      falg           user  \\\n",
       "0       0  1467810672  Mon Apr 06 22:19:49 PDT 2009  NO_QUERY  scotthamilton   \n",
       "1       0  1467810917  Mon Apr 06 22:19:53 PDT 2009  NO_QUERY       mattycus   \n",
       "2       0  1467811184  Mon Apr 06 22:19:57 PDT 2009  NO_QUERY        ElleCTF   \n",
       "3       0  1467811193  Mon Apr 06 22:19:57 PDT 2009  NO_QUERY         Karoli   \n",
       "4       0  1467811372  Mon Apr 06 22:20:00 PDT 2009  NO_QUERY       joy_wolf   \n",
       "\n",
       "                                                text  \n",
       "0  upset cant update facebook texting might cry r...  \n",
       "1  kenichan dived many times ball managed save 50...  \n",
       "2                   whole body feels itchy like fire  \n",
       "3           nationwideclass behaving im mad cant see  \n",
       "4                                kwesidei whole crew  "
      ]
     },
     "execution_count": 15,
     "metadata": {},
     "output_type": "execute_result"
    }
   ],
   "source": [
    "import re\n",
    "\n",
    "STOPWORDS = set(stopwords.words('english'))\n",
    "def remove_stopwords(text):\n",
    "    return \" \".join([word for word in str(text).split() if word not in STOPWORDS])\n",
    "\n",
    "df[\"text\"] = df[\"text\"].apply(lambda text: remove_stopwords(text))\n",
    "df.head()"
   ]
  },
  {
   "cell_type": "code",
   "execution_count": 16,
   "id": "ee2c7d81",
   "metadata": {
    "execution": {
     "iopub.execute_input": "2024-07-09T19:16:33.215123Z",
     "iopub.status.busy": "2024-07-09T19:16:33.214680Z",
     "iopub.status.idle": "2024-07-09T19:16:39.638922Z",
     "shell.execute_reply": "2024-07-09T19:16:39.637565Z"
    },
    "papermill": {
     "duration": 6.442008,
     "end_time": "2024-07-09T19:16:39.641530",
     "exception": false,
     "start_time": "2024-07-09T19:16:33.199522",
     "status": "completed"
    },
    "tags": []
   },
   "outputs": [
    {
     "data": {
      "text/plain": [
       "0          upset cant update facebook texting might cry r...\n",
       "1          kenichan dived many times ball managed save  r...\n",
       "2                           whole body feels itchy like fire\n",
       "3                   nationwideclass behaving im mad cant see\n",
       "4                                        kwesidei whole crew\n",
       "                                 ...                        \n",
       "1599994                        woke school best feeling ever\n",
       "1599995    thewdbcom cool hear old walt interviews â« ht...\n",
       "1599996                      ready mojo makeover ask details\n",
       "1599997    happy th birthday boo alll time tupac amaru sh...\n",
       "1599998    happy charitytuesday thenspcc sparkscharity sp...\n",
       "Name: text, Length: 1599999, dtype: object"
      ]
     },
     "execution_count": 16,
     "metadata": {},
     "output_type": "execute_result"
    }
   ],
   "source": [
    "df[\"text\"] = df[\"text\"].apply(lambda x: re.sub(r'\\d+', '', str(x))) #remove numbers change line 2\n",
    "df[\"text\"]"
   ]
  },
  {
   "cell_type": "code",
   "execution_count": 17,
   "id": "2332020d",
   "metadata": {
    "execution": {
     "iopub.execute_input": "2024-07-09T19:16:39.671461Z",
     "iopub.status.busy": "2024-07-09T19:16:39.671068Z",
     "iopub.status.idle": "2024-07-09T19:16:44.004823Z",
     "shell.execute_reply": "2024-07-09T19:16:44.003686Z"
    },
    "papermill": {
     "duration": 4.351613,
     "end_time": "2024-07-09T19:16:44.007438",
     "exception": false,
     "start_time": "2024-07-09T19:16:39.655825",
     "status": "completed"
    },
    "tags": []
   },
   "outputs": [
    {
     "data": {
      "text/plain": [
       "0          upset cant update facebook texting might cry r...\n",
       "1          kenichan dived many times ball managed save  r...\n",
       "2                           whole body feels itchy like fire\n",
       "3                   nationwideclass behaving im mad cant see\n",
       "4                                        kwesidei whole crew\n",
       "                                 ...                        \n",
       "1599994                        woke school best feeling ever\n",
       "1599995    thewdbcom cool hear old walt interviews  httpb...\n",
       "1599996                      ready mojo makeover ask details\n",
       "1599997    happy th birthday boo alll time tupac amaru sh...\n",
       "1599998    happy charitytuesday thenspcc sparkscharity sp...\n",
       "Name: text, Length: 1599999, dtype: object"
      ]
     },
     "execution_count": 17,
     "metadata": {},
     "output_type": "execute_result"
    }
   ],
   "source": [
    "df[\"text\"] = df[\"text\"].apply(lambda x: re.sub(r'[^\\x00-\\x7F]', '', str(x))) #remove non-english word\n",
    "df[\"text\"]"
   ]
  },
  {
   "cell_type": "code",
   "execution_count": 18,
   "id": "1e1d895b",
   "metadata": {
    "execution": {
     "iopub.execute_input": "2024-07-09T19:16:44.037788Z",
     "iopub.status.busy": "2024-07-09T19:16:44.037321Z",
     "iopub.status.idle": "2024-07-09T19:16:50.190044Z",
     "shell.execute_reply": "2024-07-09T19:16:50.188917Z"
    },
    "papermill": {
     "duration": 6.170729,
     "end_time": "2024-07-09T19:16:50.192583",
     "exception": false,
     "start_time": "2024-07-09T19:16:44.021854",
     "status": "completed"
    },
    "tags": []
   },
   "outputs": [
    {
     "data": {
      "text/plain": [
       "0          [upset cant update facebook texting might cry ...\n",
       "1          [kenichan dived many times ball managed save  ...\n",
       "2                         [whole body feels itchy like fire]\n",
       "3                 [nationwideclass behaving im mad cant see]\n",
       "4                                      [kwesidei whole crew]\n",
       "                                 ...                        \n",
       "1599994                      [woke school best feeling ever]\n",
       "1599995    [thewdbcom cool hear old walt interviews  http...\n",
       "1599996                    [ready mojo makeover ask details]\n",
       "1599997    [happy th birthday boo alll time tupac amaru s...\n",
       "1599998    [happy charitytuesday thenspcc sparkscharity s...\n",
       "Name: text, Length: 1599999, dtype: object"
      ]
     },
     "execution_count": 18,
     "metadata": {},
     "output_type": "execute_result"
    }
   ],
   "source": [
    "def tokenization(text):\n",
    "    tokens = re.split('W+',text)\n",
    "    return tokens\n",
    "df['text'] = df['text'].apply(lambda x: tokenization(x))\n",
    "df['text'] "
   ]
  },
  {
   "cell_type": "code",
   "execution_count": 19,
   "id": "23e62242",
   "metadata": {
    "execution": {
     "iopub.execute_input": "2024-07-09T19:16:50.223206Z",
     "iopub.status.busy": "2024-07-09T19:16:50.222754Z",
     "iopub.status.idle": "2024-07-09T19:16:50.378303Z",
     "shell.execute_reply": "2024-07-09T19:16:50.376736Z"
    },
    "papermill": {
     "duration": 0.174001,
     "end_time": "2024-07-09T19:16:50.381015",
     "exception": false,
     "start_time": "2024-07-09T19:16:50.207014",
     "status": "completed"
    },
    "tags": []
   },
   "outputs": [
    {
     "name": "stdout",
     "output_type": "stream",
     "text": [
      "[nltk_data] Downloading package punkt to /usr/share/nltk_data...\n",
      "[nltk_data]   Package punkt is already up-to-date!\n"
     ]
    }
   ],
   "source": [
    "from nltk.stem import PorterStemmer\n",
    "import nltk\n",
    "nltk.download('punkt')\n",
    "stemmer = PorterStemmer()\n",
    "def apply_stemming(word_list):\n",
    "    stem_words = [stemmer.stem(word) for word in word_list]\n",
    "    return stem_words"
   ]
  },
  {
   "cell_type": "code",
   "execution_count": 20,
   "id": "9115536e",
   "metadata": {
    "execution": {
     "iopub.execute_input": "2024-07-09T19:16:50.411734Z",
     "iopub.status.busy": "2024-07-09T19:16:50.411277Z",
     "iopub.status.idle": "2024-07-09T19:18:08.838662Z",
     "shell.execute_reply": "2024-07-09T19:18:08.837509Z"
    },
    "papermill": {
     "duration": 78.459756,
     "end_time": "2024-07-09T19:18:08.855304",
     "exception": false,
     "start_time": "2024-07-09T19:16:50.395548",
     "status": "completed"
    },
    "tags": []
   },
   "outputs": [
    {
     "data": {
      "text/plain": [
       "0          [upset cant update facebook texting might cry ...\n",
       "1          [kenichan dived many times ball managed save  ...\n",
       "2                          [whole body feels itchy like fir]\n",
       "3                  [nationwideclass behaving im mad cant se]\n",
       "4                                      [kwesidei whole crew]\n",
       "                                 ...                        \n",
       "1599994                        [woke school best feeling ev]\n",
       "1599995    [thewdbcom cool hear old walt interviews  http...\n",
       "1599996                     [ready mojo makeover ask detail]\n",
       "1599997    [happy th birthday boo alll time tupac amaru s...\n",
       "1599998    [happy charitytuesday thenspcc sparkscharity s...\n",
       "Name: text, Length: 1599999, dtype: object"
      ]
     },
     "execution_count": 20,
     "metadata": {},
     "output_type": "execute_result"
    }
   ],
   "source": [
    "df['text'] = df['text'].apply(apply_stemming)\n",
    "df['text'] "
   ]
  },
  {
   "cell_type": "markdown",
   "id": "0b4400e0",
   "metadata": {
    "papermill": {
     "duration": 0.014092,
     "end_time": "2024-07-09T19:18:08.883798",
     "exception": false,
     "start_time": "2024-07-09T19:18:08.869706",
     "status": "completed"
    },
    "tags": []
   },
   "source": [
    "**text represention**"
   ]
  },
  {
   "cell_type": "code",
   "execution_count": 21,
   "id": "c394bee1",
   "metadata": {
    "execution": {
     "iopub.execute_input": "2024-07-09T19:18:08.914631Z",
     "iopub.status.busy": "2024-07-09T19:18:08.914231Z",
     "iopub.status.idle": "2024-07-09T19:18:08.920108Z",
     "shell.execute_reply": "2024-07-09T19:18:08.918827Z"
    },
    "papermill": {
     "duration": 0.024249,
     "end_time": "2024-07-09T19:18:08.922669",
     "exception": false,
     "start_time": "2024-07-09T19:18:08.898420",
     "status": "completed"
    },
    "tags": []
   },
   "outputs": [],
   "source": [
    "x = df['text']\n",
    "y = df['target']"
   ]
  },
  {
   "cell_type": "code",
   "execution_count": 22,
   "id": "b81cb561",
   "metadata": {
    "execution": {
     "iopub.execute_input": "2024-07-09T19:18:08.953846Z",
     "iopub.status.busy": "2024-07-09T19:18:08.953355Z",
     "iopub.status.idle": "2024-07-09T19:18:09.274109Z",
     "shell.execute_reply": "2024-07-09T19:18:09.272825Z"
    },
    "papermill": {
     "duration": 0.33926,
     "end_time": "2024-07-09T19:18:09.276919",
     "exception": false,
     "start_time": "2024-07-09T19:18:08.937659",
     "status": "completed"
    },
    "tags": []
   },
   "outputs": [],
   "source": [
    "from sklearn.model_selection import train_test_split\n",
    "X_train, X_test, y_train, y_test = train_test_split(x, y, test_size=0.2, random_state=42)"
   ]
  },
  {
   "cell_type": "code",
   "execution_count": 23,
   "id": "2fcfedfa",
   "metadata": {
    "execution": {
     "iopub.execute_input": "2024-07-09T19:18:09.308054Z",
     "iopub.status.busy": "2024-07-09T19:18:09.307650Z",
     "iopub.status.idle": "2024-07-09T19:18:09.313454Z",
     "shell.execute_reply": "2024-07-09T19:18:09.312145Z"
    },
    "papermill": {
     "duration": 0.024164,
     "end_time": "2024-07-09T19:18:09.315917",
     "exception": false,
     "start_time": "2024-07-09T19:18:09.291753",
     "status": "completed"
    },
    "tags": []
   },
   "outputs": [],
   "source": [
    "from sklearn.feature_extraction.text import TfidfVectorizer\n",
    "from sklearn.metrics import accuracy_score, precision_score, recall_score, f1_score\n"
   ]
  },
  {
   "cell_type": "code",
   "execution_count": 24,
   "id": "6567ffd1",
   "metadata": {
    "execution": {
     "iopub.execute_input": "2024-07-09T19:18:09.347569Z",
     "iopub.status.busy": "2024-07-09T19:18:09.346571Z",
     "iopub.status.idle": "2024-07-09T19:18:09.433816Z",
     "shell.execute_reply": "2024-07-09T19:18:09.432535Z"
    },
    "papermill": {
     "duration": 0.106,
     "end_time": "2024-07-09T19:18:09.436688",
     "exception": false,
     "start_time": "2024-07-09T19:18:09.330688",
     "status": "completed"
    },
    "tags": []
   },
   "outputs": [],
   "source": [
    "from sklearn.preprocessing import LabelEncoder\n",
    "label_encoder = LabelEncoder()\n",
    "y_train = label_encoder.fit_transform(y_train)\n",
    "y_test = label_encoder.fit_transform(y_test)"
   ]
  },
  {
   "cell_type": "code",
   "execution_count": 25,
   "id": "2d7902d6",
   "metadata": {
    "execution": {
     "iopub.execute_input": "2024-07-09T19:18:09.468242Z",
     "iopub.status.busy": "2024-07-09T19:18:09.467136Z",
     "iopub.status.idle": "2024-07-09T19:18:09.474872Z",
     "shell.execute_reply": "2024-07-09T19:18:09.473663Z"
    },
    "papermill": {
     "duration": 0.026016,
     "end_time": "2024-07-09T19:18:09.477354",
     "exception": false,
     "start_time": "2024-07-09T19:18:09.451338",
     "status": "completed"
    },
    "tags": []
   },
   "outputs": [
    {
     "data": {
      "text/plain": [
       "array([0, 0, 0, ..., 1, 1, 0])"
      ]
     },
     "execution_count": 25,
     "metadata": {},
     "output_type": "execute_result"
    }
   ],
   "source": [
    "y_test"
   ]
  },
  {
   "cell_type": "code",
   "execution_count": 26,
   "id": "8a42542d",
   "metadata": {
    "execution": {
     "iopub.execute_input": "2024-07-09T19:18:09.508749Z",
     "iopub.status.busy": "2024-07-09T19:18:09.508309Z",
     "iopub.status.idle": "2024-07-09T19:18:10.487724Z",
     "shell.execute_reply": "2024-07-09T19:18:10.486466Z"
    },
    "papermill": {
     "duration": 0.998212,
     "end_time": "2024-07-09T19:18:10.490568",
     "exception": false,
     "start_time": "2024-07-09T19:18:09.492356",
     "status": "completed"
    },
    "tags": []
   },
   "outputs": [],
   "source": [
    "# Preprocess the input data\n",
    "X_train = [' '.join(x) for x in X_train]\n",
    "X_test = [' '.join(x) for x in X_test]"
   ]
  },
  {
   "cell_type": "code",
   "execution_count": 27,
   "id": "1c9cd38f",
   "metadata": {
    "execution": {
     "iopub.execute_input": "2024-07-09T19:18:10.521788Z",
     "iopub.status.busy": "2024-07-09T19:18:10.521345Z",
     "iopub.status.idle": "2024-07-09T19:18:39.193798Z",
     "shell.execute_reply": "2024-07-09T19:18:39.192416Z"
    },
    "papermill": {
     "duration": 28.691237,
     "end_time": "2024-07-09T19:18:39.196580",
     "exception": false,
     "start_time": "2024-07-09T19:18:10.505343",
     "status": "completed"
    },
    "tags": []
   },
   "outputs": [],
   "source": [
    "vectorizer = TfidfVectorizer()\n",
    "x_train_tfidf = vectorizer.fit_transform(X_train)\n",
    "x_test_tfidf = vectorizer.transform(X_test)"
   ]
  },
  {
   "cell_type": "markdown",
   "id": "cd14f44a",
   "metadata": {
    "papermill": {
     "duration": 0.0142,
     "end_time": "2024-07-09T19:18:39.225558",
     "exception": false,
     "start_time": "2024-07-09T19:18:39.211358",
     "status": "completed"
    },
    "tags": []
   },
   "source": [
    "**model**"
   ]
  },
  {
   "cell_type": "code",
   "execution_count": 28,
   "id": "cae9943a",
   "metadata": {
    "execution": {
     "iopub.execute_input": "2024-07-09T19:18:39.256667Z",
     "iopub.status.busy": "2024-07-09T19:18:39.256233Z",
     "iopub.status.idle": "2024-07-09T19:18:39.713788Z",
     "shell.execute_reply": "2024-07-09T19:18:39.712694Z"
    },
    "papermill": {
     "duration": 0.476128,
     "end_time": "2024-07-09T19:18:39.716467",
     "exception": false,
     "start_time": "2024-07-09T19:18:39.240339",
     "status": "completed"
    },
    "tags": []
   },
   "outputs": [
    {
     "data": {
      "text/html": [
       "<style>#sk-container-id-1 {color: black;background-color: white;}#sk-container-id-1 pre{padding: 0;}#sk-container-id-1 div.sk-toggleable {background-color: white;}#sk-container-id-1 label.sk-toggleable__label {cursor: pointer;display: block;width: 100%;margin-bottom: 0;padding: 0.3em;box-sizing: border-box;text-align: center;}#sk-container-id-1 label.sk-toggleable__label-arrow:before {content: \"▸\";float: left;margin-right: 0.25em;color: #696969;}#sk-container-id-1 label.sk-toggleable__label-arrow:hover:before {color: black;}#sk-container-id-1 div.sk-estimator:hover label.sk-toggleable__label-arrow:before {color: black;}#sk-container-id-1 div.sk-toggleable__content {max-height: 0;max-width: 0;overflow: hidden;text-align: left;background-color: #f0f8ff;}#sk-container-id-1 div.sk-toggleable__content pre {margin: 0.2em;color: black;border-radius: 0.25em;background-color: #f0f8ff;}#sk-container-id-1 input.sk-toggleable__control:checked~div.sk-toggleable__content {max-height: 200px;max-width: 100%;overflow: auto;}#sk-container-id-1 input.sk-toggleable__control:checked~label.sk-toggleable__label-arrow:before {content: \"▾\";}#sk-container-id-1 div.sk-estimator input.sk-toggleable__control:checked~label.sk-toggleable__label {background-color: #d4ebff;}#sk-container-id-1 div.sk-label input.sk-toggleable__control:checked~label.sk-toggleable__label {background-color: #d4ebff;}#sk-container-id-1 input.sk-hidden--visually {border: 0;clip: rect(1px 1px 1px 1px);clip: rect(1px, 1px, 1px, 1px);height: 1px;margin: -1px;overflow: hidden;padding: 0;position: absolute;width: 1px;}#sk-container-id-1 div.sk-estimator {font-family: monospace;background-color: #f0f8ff;border: 1px dotted black;border-radius: 0.25em;box-sizing: border-box;margin-bottom: 0.5em;}#sk-container-id-1 div.sk-estimator:hover {background-color: #d4ebff;}#sk-container-id-1 div.sk-parallel-item::after {content: \"\";width: 100%;border-bottom: 1px solid gray;flex-grow: 1;}#sk-container-id-1 div.sk-label:hover label.sk-toggleable__label {background-color: #d4ebff;}#sk-container-id-1 div.sk-serial::before {content: \"\";position: absolute;border-left: 1px solid gray;box-sizing: border-box;top: 0;bottom: 0;left: 50%;z-index: 0;}#sk-container-id-1 div.sk-serial {display: flex;flex-direction: column;align-items: center;background-color: white;padding-right: 0.2em;padding-left: 0.2em;position: relative;}#sk-container-id-1 div.sk-item {position: relative;z-index: 1;}#sk-container-id-1 div.sk-parallel {display: flex;align-items: stretch;justify-content: center;background-color: white;position: relative;}#sk-container-id-1 div.sk-item::before, #sk-container-id-1 div.sk-parallel-item::before {content: \"\";position: absolute;border-left: 1px solid gray;box-sizing: border-box;top: 0;bottom: 0;left: 50%;z-index: -1;}#sk-container-id-1 div.sk-parallel-item {display: flex;flex-direction: column;z-index: 1;position: relative;background-color: white;}#sk-container-id-1 div.sk-parallel-item:first-child::after {align-self: flex-end;width: 50%;}#sk-container-id-1 div.sk-parallel-item:last-child::after {align-self: flex-start;width: 50%;}#sk-container-id-1 div.sk-parallel-item:only-child::after {width: 0;}#sk-container-id-1 div.sk-dashed-wrapped {border: 1px dashed gray;margin: 0 0.4em 0.5em 0.4em;box-sizing: border-box;padding-bottom: 0.4em;background-color: white;}#sk-container-id-1 div.sk-label label {font-family: monospace;font-weight: bold;display: inline-block;line-height: 1.2em;}#sk-container-id-1 div.sk-label-container {text-align: center;}#sk-container-id-1 div.sk-container {/* jupyter's `normalize.less` sets `[hidden] { display: none; }` but bootstrap.min.css set `[hidden] { display: none !important; }` so we also need the `!important` here to be able to override the default hidden behavior on the sphinx rendered scikit-learn.org. See: https://github.com/scikit-learn/scikit-learn/issues/21755 */display: inline-block !important;position: relative;}#sk-container-id-1 div.sk-text-repr-fallback {display: none;}</style><div id=\"sk-container-id-1\" class=\"sk-top-container\"><div class=\"sk-text-repr-fallback\"><pre>MultinomialNB()</pre><b>In a Jupyter environment, please rerun this cell to show the HTML representation or trust the notebook. <br />On GitHub, the HTML representation is unable to render, please try loading this page with nbviewer.org.</b></div><div class=\"sk-container\" hidden><div class=\"sk-item\"><div class=\"sk-estimator sk-toggleable\"><input class=\"sk-toggleable__control sk-hidden--visually\" id=\"sk-estimator-id-1\" type=\"checkbox\" checked><label for=\"sk-estimator-id-1\" class=\"sk-toggleable__label sk-toggleable__label-arrow\">MultinomialNB</label><div class=\"sk-toggleable__content\"><pre>MultinomialNB()</pre></div></div></div></div></div>"
      ],
      "text/plain": [
       "MultinomialNB()"
      ]
     },
     "execution_count": 28,
     "metadata": {},
     "output_type": "execute_result"
    }
   ],
   "source": [
    "from sklearn.naive_bayes import MultinomialNB\n",
    "\n",
    "NB_model = MultinomialNB()\n",
    "NB_model.fit(x_train_tfidf, y_train)"
   ]
  },
  {
   "cell_type": "code",
   "execution_count": 29,
   "id": "b7dc999e",
   "metadata": {
    "execution": {
     "iopub.execute_input": "2024-07-09T19:18:39.749115Z",
     "iopub.status.busy": "2024-07-09T19:18:39.748320Z",
     "iopub.status.idle": "2024-07-09T19:18:39.989970Z",
     "shell.execute_reply": "2024-07-09T19:18:39.988743Z"
    },
    "papermill": {
     "duration": 0.26101,
     "end_time": "2024-07-09T19:18:39.992779",
     "exception": false,
     "start_time": "2024-07-09T19:18:39.731769",
     "status": "completed"
    },
    "tags": []
   },
   "outputs": [],
   "source": [
    "NB_y_pred_test = NB_model.predict(x_test_tfidf)\n",
    "NB_y_pred_train = NB_model.predict(x_train_tfidf)"
   ]
  },
  {
   "cell_type": "code",
   "execution_count": 30,
   "id": "87e1e0d8",
   "metadata": {
    "execution": {
     "iopub.execute_input": "2024-07-09T19:18:40.025438Z",
     "iopub.status.busy": "2024-07-09T19:18:40.024418Z",
     "iopub.status.idle": "2024-07-09T19:18:40.213494Z",
     "shell.execute_reply": "2024-07-09T19:18:40.212316Z"
    },
    "papermill": {
     "duration": 0.208253,
     "end_time": "2024-07-09T19:18:40.216166",
     "exception": false,
     "start_time": "2024-07-09T19:18:40.007913",
     "status": "completed"
    },
    "tags": []
   },
   "outputs": [
    {
     "data": {
      "text/plain": [
       "0.762809375"
      ]
     },
     "execution_count": 30,
     "metadata": {},
     "output_type": "execute_result"
    }
   ],
   "source": [
    "accuracy_NB_train = accuracy_score(y_train, NB_y_pred_train)\n",
    "accuracy_NB_test = accuracy_score(y_test, NB_y_pred_test)\n",
    "accuracy_NB_test"
   ]
  },
  {
   "cell_type": "code",
   "execution_count": 31,
   "id": "bd73e3d8",
   "metadata": {
    "execution": {
     "iopub.execute_input": "2024-07-09T19:18:40.248398Z",
     "iopub.status.busy": "2024-07-09T19:18:40.247965Z",
     "iopub.status.idle": "2024-07-09T19:18:40.908549Z",
     "shell.execute_reply": "2024-07-09T19:18:40.907140Z"
    },
    "papermill": {
     "duration": 0.679852,
     "end_time": "2024-07-09T19:18:40.911269",
     "exception": false,
     "start_time": "2024-07-09T19:18:40.231417",
     "status": "completed"
    },
    "tags": []
   },
   "outputs": [
    {
     "name": "stdout",
     "output_type": "stream",
     "text": [
      "Classification Report:\n",
      "              precision    recall  f1-score   support\n",
      "\n",
      "           0       0.74      0.81      0.77    159494\n",
      "           1       0.79      0.72      0.75    160506\n",
      "\n",
      "    accuracy                           0.76    320000\n",
      "   macro avg       0.76      0.76      0.76    320000\n",
      "weighted avg       0.76      0.76      0.76    320000\n",
      "\n"
     ]
    }
   ],
   "source": [
    "from sklearn.metrics import classification_report\n",
    "report_nv = classification_report(y_test, NB_y_pred_test)\n",
    "\n",
    "print(\"Classification Report:\")\n",
    "print(report_nv)"
   ]
  },
  {
   "cell_type": "code",
   "execution_count": 32,
   "id": "22453564",
   "metadata": {
    "execution": {
     "iopub.execute_input": "2024-07-09T19:18:40.943604Z",
     "iopub.status.busy": "2024-07-09T19:18:40.943174Z",
     "iopub.status.idle": "2024-07-09T19:18:41.272683Z",
     "shell.execute_reply": "2024-07-09T19:18:41.271533Z"
    },
    "papermill": {
     "duration": 0.348461,
     "end_time": "2024-07-09T19:18:41.275049",
     "exception": false,
     "start_time": "2024-07-09T19:18:40.926588",
     "status": "completed"
    },
    "tags": []
   },
   "outputs": [
    {
     "data": {
      "image/png": "[encoded data removed]",
      "text/plain": [
       "<Figure size 640x480 with 1 Axes>"
      ]
     },
     "metadata": {},
     "output_type": "display_data"
    }
   ],
   "source": [
    "from sklearn.metrics import accuracy_score, confusion_matrix, classification_report, roc_curve, precision_recall_curve, auc\n",
    "from matplotlib import pyplot as plt\n",
    "\n",
    "fpr, tpr, thresholds = roc_curve(y_test, NB_y_pred_test)\n",
    "roc_auc = auc(fpr, tpr)\n",
    "\n",
    "precision, recall, thresholds_pr = precision_recall_curve(y_test, NB_y_pred_test)\n",
    "pr_auc = auc(recall, precision)\n",
    "\n",
    "plt.figure()\n",
    "plt.plot(fpr, tpr, color='darkorange', lw=2, label='ROC curve (area = %0.2f)' % roc_auc)\n",
    "plt.plot([0, 1], [0, 1], color='navy', lw=2, linestyle='--')\n",
    "plt.xlim([0.0, 1.0])\n",
    "plt.ylim([0.0, 1.05])\n",
    "plt.xlabel('False Positive Rate')\n",
    "plt.ylabel('True Positive Rate')\n",
    "plt.title('Receiver Operating Characteristic \"ROC\"')\n",
    "plt.legend(loc=\"lower right\")\n",
    "plt.show()"
   ]
  }
 ],
 "metadata": {
  "kaggle": {
   "accelerator": "none",
   "dataSources": [
    {
     "datasetId": 2477,
     "sourceId": 4140,
     "sourceType": "datasetVersion"
    }
   ],
   "dockerImageVersionId": 30732,
   "isGpuEnabled": false,
   "isInternetEnabled": true,
   "language": "python",
   "sourceType": "notebook"
  },
  "kernelspec": {
   "display_name": "Python 3",
   "language": "python",
   "name": "python3"
  },
  "language_info": {
   "codemirror_mode": {
    "name": "ipython",
    "version": 3
   },
   "file_extension": ".py",
   "mimetype": "text/x-python",
   "name": "python",
   "nbconvert_exporter": "python",
   "pygments_lexer": "ipython3",
   "version": "3.10.13"
  },
  "papermill": {
   "default_parameters": {},
   "duration": 163.888093,
   "end_time": "2024-07-09T19:18:43.017943",
   "environment_variables": {},
   "exception": null,
   "input_path": "__notebook__.ipynb",
   "output_path": "__notebook__.ipynb",
   "parameters": {},
   "start_time": "2024-07-09T19:15:59.129850",
   "version": "2.5.0"
  }
 },
 "nbformat": 4,
 "nbformat_minor": 5
}
