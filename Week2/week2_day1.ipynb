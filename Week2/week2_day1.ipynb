{
  "nbformat": 4,
  "nbformat_minor": 0,
  "metadata": {
    "colab": {
      "provenance": []
    },
    "kernelspec": {
      "name": "python3",
      "display_name": "Python 3"
    },
    "language_info": {
      "name": "python"
    }
  },
  "cells": [
    {
      "cell_type": "code",
      "source": [
        "def partition(s):\n",
        "    set_store = set()\n",
        "    count = 0\n",
        "\n",
        "    for i in s:\n",
        "        if i in set_store: # if it is duplicted\n",
        "            count += 1\n",
        "            set_store = set() # reset the set\n",
        "        set_store.add(i) # add the char to the set\n",
        "    return count + 1\n",
        "\n",
        "\"\"\"\n",
        "s = \"abacaba\"\n",
        "print(partition(s))\n",
        "\n",
        "s = \"ssssss\"\n",
        "print(partition(s))\n",
        "\n",
        "s = \"bushra\"\n",
        "print(partition(s))\n",
        "\"\"\"\n",
        "s=input(\"enter string: \")\n",
        "print(partition(s))"
      ],
      "metadata": {
        "colab": {
          "base_uri": "https://localhost:8080/"
        },
        "id": "b_ySS12lEldq",
        "outputId": "e4f76e63-9ecf-4f36-e607-c4228e38503b"
      },
      "execution_count": 17,
      "outputs": [
        {
          "output_type": "stream",
          "name": "stdout",
          "text": [
            "enter string: ssssss\n",
            "6\n"
          ]
        }
      ]
    },
    {
      "cell_type": "code",
      "source": [],
      "metadata": {
        "id": "32EwJbbtEwSY"
      },
      "execution_count": null,
      "outputs": []
    }
  ]
}