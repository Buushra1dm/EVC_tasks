{
  "nbformat": 4,
  "nbformat_minor": 0,
  "metadata": {
    "colab": {
      "provenance": []
    },
    "kernelspec": {
      "name": "python3",
      "display_name": "Python 3"
    },
    "language_info": {
      "name": "python"
    }
  },
  "cells": [
    {
      "cell_type": "markdown",
      "source": [
        "تحدي اليوم\n",
        "\n",
        "You are given an integer array nums. You are initially positioned at the array's first index, and each element in the array represents your maximum jump length at that position.\n",
        "Return true if you can reach the last index, or false otherwise.\n",
        "Example 1:\n",
        "Input: nums = [2,3,1,1,4]\n",
        "Output: true\n",
        "Explanation: Jump 1 step from index 0 to 1, then 3 steps to the last index.\n",
        "Example 2:\n",
        "Input: nums [3,2,1,0,4]\n",
        "Output: false\n",
        "Explanation: You will always arrive at index 3 no matter what. Its maximum jump length is 9, which makes it impossible to reach the last index."
      ],
      "metadata": {
        "id": "JxIZ5ba9SfCl"
      }
    },
    {
      "cell_type": "code",
      "execution_count": 1,
      "metadata": {
        "colab": {
          "base_uri": "https://localhost:8080/"
        },
        "id": "Jfuo4IUTRjKC",
        "outputId": "03999876-78b7-4b22-e7c7-de053a08154c"
      },
      "outputs": [
        {
          "output_type": "stream",
          "name": "stdout",
          "text": [
            "True\n",
            "False\n"
          ]
        }
      ],
      "source": [
        "def canJump(nums):\n",
        "    max_reachable = 0  # maximum reachable index\n",
        "    for i in range(len(nums)):\n",
        "        if i > max_reachable:\n",
        "            return False  # cannot reach the current index\n",
        "\n",
        "        max_reachable = max(max_reachable, i + nums[i])\n",
        "\n",
        "        if max_reachable >= len(nums) - 1:\n",
        "            return True  # can reach the last index\n",
        "\n",
        "    return False  # cannot reach the last index\n",
        "\n",
        "nums1 = [2, 3, 1, 1, 4]\n",
        "print(canJump(nums1))\n",
        "\n",
        "\n",
        "nums2 = [3, 2, 1, 0, 4]\n",
        "print(canJump(nums2))"
      ]
    },
    {
      "cell_type": "code",
      "source": [],
      "metadata": {
        "id": "lzeGemO3TkTF"
      },
      "execution_count": null,
      "outputs": []
    }
  ]
}