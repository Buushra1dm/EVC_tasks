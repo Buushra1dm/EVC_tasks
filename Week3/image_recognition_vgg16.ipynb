{
  "metadata": {
    "kernelspec": {
      "display_name": "Python 3",
      "name": "python3"
    },
    "language_info": {
      "name": "python",
      "version": "3.10.13",
      "mimetype": "text/x-python",
      "codemirror_mode": {
        "name": "ipython",
        "version": 3
      },
      "pygments_lexer": "ipython3",
      "nbconvert_exporter": "python",
      "file_extension": ".py"
    },
    "kaggle": {
      "accelerator": "none",
      "dataSources": [
        {
          "sourceId": 2854929,
          "sourceType": "datasetVersion",
          "datasetId": 1715246
        }
      ],
      "dockerImageVersionId": 30746,
      "isInternetEnabled": true,
      "language": "python",
      "sourceType": "notebook",
      "isGpuEnabled": false
    },
    "colab": {
      "provenance": [],
      "gpuType": "T4"
    },
    "accelerator": "GPU"
  },
  "nbformat_minor": 0,
  "nbformat": 4,
  "cells": [
    {
      "source": [
        "\n",
        "# IMPORTANT: RUN THIS CELL IN ORDER TO IMPORT YOUR KAGGLE DATA SOURCES\n",
        "# TO THE CORRECT LOCATION (/kaggle/input) IN YOUR NOTEBOOK,\n",
        "# THEN FEEL FREE TO DELETE THIS CELL.\n",
        "# NOTE: THIS NOTEBOOK ENVIRONMENT DIFFERS FROM KAGGLE'S PYTHON\n",
        "# ENVIRONMENT SO THERE MAY BE MISSING LIBRARIES USED BY YOUR\n",
        "# NOTEBOOK.\n",
        "\n",
        "import os\n",
        "import sys\n",
        "from tempfile import NamedTemporaryFile\n",
        "from urllib.request import urlopen\n",
        "from urllib.parse import unquote, urlparse\n",
        "from urllib.error import HTTPError\n",
        "from zipfile import ZipFile\n",
        "import tarfile\n",
        "import shutil\n",
        "\n",
        "CHUNK_SIZE = 40960\n",
        "DATA_SOURCE_MAPPING = 'weather-dataset:https%3A%2F%2Fstorage.googleapis.com%2Fkaggle-data-sets%2F1715246%2F2854929%2Fbundle%2Farchive.zip%3FX-Goog-Algorithm%3DGOOG4-RSA-SHA256%26X-Goog-Credential%3Dgcp-kaggle-com%2540kaggle-161607.iam.gserviceaccount.com%252F20240715%252Fauto%252Fstorage%252Fgoog4_request%26X-Goog-Date%3D20240715T115735Z%26X-Goog-Expires%3D259200%26X-Goog-SignedHeaders%3Dhost%26X-Goog-Signature%3D9dad423653c9ac8a15f188a6bbf65e016d7df61cc95fd9ce428ad2da069280f5592745ea1c6e92ecd165c0265adc394bae436d114738cdedfd90fcce7f9fb3b35499044a11d59396a6f999576df4dcefaa7f6eab4562d66b995bea9e3302efd88a2642d9c92ac33173aeb45f229d8124feafa18a6e3ad93e8fe3e53feec504004b8ce17f50a2d93cf0eefa535f4f7693d0c0ce920b24de5de4d60616faf0b73a9258d181bef7731d21d8536c298c97a7b2871519bbed90970e3e47879c588b480323896141202f3c0188058d9518c0c480a6cd4b0ffc2fcdc41e0bb4c973bef23dc37bc2d2dffccf73981655fd7e0548b1adc14e4accc894bbe48f8b5baa71be'\n",
        "\n",
        "KAGGLE_INPUT_PATH='/kaggle/input'\n",
        "KAGGLE_WORKING_PATH='/kaggle/working'\n",
        "KAGGLE_SYMLINK='kaggle'\n",
        "\n",
        "!umount /kaggle/input/ 2> /dev/null\n",
        "shutil.rmtree('/kaggle/input', ignore_errors=True)\n",
        "os.makedirs(KAGGLE_INPUT_PATH, 0o777, exist_ok=True)\n",
        "os.makedirs(KAGGLE_WORKING_PATH, 0o777, exist_ok=True)\n",
        "\n",
        "try:\n",
        "  os.symlink(KAGGLE_INPUT_PATH, os.path.join(\"..\", 'input'), target_is_directory=True)\n",
        "except FileExistsError:\n",
        "  pass\n",
        "try:\n",
        "  os.symlink(KAGGLE_WORKING_PATH, os.path.join(\"..\", 'working'), target_is_directory=True)\n",
        "except FileExistsError:\n",
        "  pass\n",
        "\n",
        "for data_source_mapping in DATA_SOURCE_MAPPING.split(','):\n",
        "    directory, download_url_encoded = data_source_mapping.split(':')\n",
        "    download_url = unquote(download_url_encoded)\n",
        "    filename = urlparse(download_url).path\n",
        "    destination_path = os.path.join(KAGGLE_INPUT_PATH, directory)\n",
        "    try:\n",
        "        with urlopen(download_url) as fileres, NamedTemporaryFile() as tfile:\n",
        "            total_length = fileres.headers['content-length']\n",
        "            print(f'Downloading {directory}, {total_length} bytes compressed')\n",
        "            dl = 0\n",
        "            data = fileres.read(CHUNK_SIZE)\n",
        "            while len(data) > 0:\n",
        "                dl += len(data)\n",
        "                tfile.write(data)\n",
        "                done = int(50 * dl / int(total_length))\n",
        "                sys.stdout.write(f\"\\r[{'=' * done}{' ' * (50-done)}] {dl} bytes downloaded\")\n",
        "                sys.stdout.flush()\n",
        "                data = fileres.read(CHUNK_SIZE)\n",
        "            if filename.endswith('.zip'):\n",
        "              with ZipFile(tfile) as zfile:\n",
        "                zfile.extractall(destination_path)\n",
        "            else:\n",
        "              with tarfile.open(tfile.name) as tarfile:\n",
        "                tarfile.extractall(destination_path)\n",
        "            print(f'\\nDownloaded and uncompressed: {directory}')\n",
        "    except HTTPError as e:\n",
        "        print(f'Failed to load (likely expired) {download_url} to path {destination_path}')\n",
        "        continue\n",
        "    except OSError as e:\n",
        "        print(f'Failed to load {download_url} to path {destination_path}')\n",
        "        continue\n",
        "\n",
        "print('Data source import complete.')\n"
      ],
      "metadata": {
        "colab": {
          "base_uri": "https://localhost:8080/"
        },
        "id": "_ReUM18YQWGR",
        "outputId": "2f16f00a-d716-4b0e-b6fd-3ddb22e7231b"
      },
      "cell_type": "code",
      "outputs": [
        {
          "output_type": "stream",
          "name": "stdout",
          "text": [
            "Downloading weather-dataset, 615102810 bytes compressed\n",
            "[==================================================] 615102810 bytes downloaded\n",
            "Downloaded and uncompressed: weather-dataset\n",
            "Data source import complete.\n"
          ]
        }
      ],
      "execution_count": 61
    },
    {
      "cell_type": "code",
      "source": [
        "import os\n",
        "import pandas as pd"
      ],
      "metadata": {
        "execution": {
          "iopub.status.busy": "2024-07-15T11:53:05.860347Z",
          "iopub.execute_input": "2024-07-15T11:53:05.860778Z",
          "iopub.status.idle": "2024-07-15T11:53:05.866693Z",
          "shell.execute_reply.started": "2024-07-15T11:53:05.860747Z",
          "shell.execute_reply": "2024-07-15T11:53:05.865141Z"
        },
        "trusted": true,
        "id": "46AfUq3AQWGV"
      },
      "execution_count": 67,
      "outputs": []
    },
    {
      "cell_type": "code",
      "source": [
        "data = list()\n",
        "\n",
        "for dirname, _, filenames in os.walk('/kaggle/input'):\n",
        "    for filename in filenames:\n",
        "        label = dirname.split(\"/\")[-1]\n",
        "        image = os.path.join(dirname, filename)\n",
        "        data.append((label, image))"
      ],
      "metadata": {
        "execution": {
          "iopub.status.busy": "2024-07-15T11:53:05.869371Z",
          "iopub.execute_input": "2024-07-15T11:53:05.869769Z",
          "iopub.status.idle": "2024-07-15T11:53:06.384621Z",
          "shell.execute_reply.started": "2024-07-15T11:53:05.869739Z",
          "shell.execute_reply": "2024-07-15T11:53:06.383457Z"
        },
        "trusted": true,
        "id": "wKKeMqkvQWGW"
      },
      "execution_count": 68,
      "outputs": []
    },
    {
      "cell_type": "code",
      "source": [
        "df = pd.DataFrame(data, columns=[\"label\", \"image\"])\n",
        "df.head()"
      ],
      "metadata": {
        "execution": {
          "iopub.status.busy": "2024-07-15T11:53:06.386714Z",
          "iopub.execute_input": "2024-07-15T11:53:06.387123Z",
          "iopub.status.idle": "2024-07-15T11:53:06.403896Z",
          "shell.execute_reply.started": "2024-07-15T11:53:06.387087Z",
          "shell.execute_reply": "2024-07-15T11:53:06.402218Z"
        },
        "trusted": true,
        "colab": {
          "base_uri": "https://localhost:8080/",
          "height": 206
        },
        "id": "C8sG4A5RQWGW",
        "outputId": "9daeaea4-77fa-4b29-985a-c1469ce76eb6"
      },
      "execution_count": 69,
      "outputs": [
        {
          "output_type": "execute_result",
          "data": {
            "text/plain": [
              "  label                                              image\n",
              "0  rain  /kaggle/input/weather-dataset/dataset/rain/152...\n",
              "1  rain  /kaggle/input/weather-dataset/dataset/rain/107...\n",
              "2  rain  /kaggle/input/weather-dataset/dataset/rain/176...\n",
              "3  rain  /kaggle/input/weather-dataset/dataset/rain/149...\n",
              "4  rain  /kaggle/input/weather-dataset/dataset/rain/152..."
            ],
            "text/html": [
              "\n",
              "  <div id=\"df-c270cde2-3e8a-409e-ae81-f15a7de4e5d1\" class=\"colab-df-container\">\n",
              "    <div>\n",
              "<style scoped>\n",
              "    .dataframe tbody tr th:only-of-type {\n",
              "        vertical-align: middle;\n",
              "    }\n",
              "\n",
              "    .dataframe tbody tr th {\n",
              "        vertical-align: top;\n",
              "    }\n",
              "\n",
              "    .dataframe thead th {\n",
              "        text-align: right;\n",
              "    }\n",
              "</style>\n",
              "<table border=\"1\" class=\"dataframe\">\n",
              "  <thead>\n",
              "    <tr style=\"text-align: right;\">\n",
              "      <th></th>\n",
              "      <th>label</th>\n",
              "      <th>image</th>\n",
              "    </tr>\n",
              "  </thead>\n",
              "  <tbody>\n",
              "    <tr>\n",
              "      <th>0</th>\n",
              "      <td>rain</td>\n",
              "      <td>/kaggle/input/weather-dataset/dataset/rain/152...</td>\n",
              "    </tr>\n",
              "    <tr>\n",
              "      <th>1</th>\n",
              "      <td>rain</td>\n",
              "      <td>/kaggle/input/weather-dataset/dataset/rain/107...</td>\n",
              "    </tr>\n",
              "    <tr>\n",
              "      <th>2</th>\n",
              "      <td>rain</td>\n",
              "      <td>/kaggle/input/weather-dataset/dataset/rain/176...</td>\n",
              "    </tr>\n",
              "    <tr>\n",
              "      <th>3</th>\n",
              "      <td>rain</td>\n",
              "      <td>/kaggle/input/weather-dataset/dataset/rain/149...</td>\n",
              "    </tr>\n",
              "    <tr>\n",
              "      <th>4</th>\n",
              "      <td>rain</td>\n",
              "      <td>/kaggle/input/weather-dataset/dataset/rain/152...</td>\n",
              "    </tr>\n",
              "  </tbody>\n",
              "</table>\n",
              "</div>\n",
              "    <div class=\"colab-df-buttons\">\n",
              "\n",
              "  <div class=\"colab-df-container\">\n",
              "    <button class=\"colab-df-convert\" onclick=\"convertToInteractive('df-c270cde2-3e8a-409e-ae81-f15a7de4e5d1')\"\n",
              "            title=\"Convert this dataframe to an interactive table.\"\n",
              "            style=\"display:none;\">\n",
              "\n",
              "  <svg xmlns=\"http://www.w3.org/2000/svg\" height=\"24px\" viewBox=\"0 -960 960 960\">\n",
              "    <path d=\"M120-120v-720h720v720H120Zm60-500h600v-160H180v160Zm220 220h160v-160H400v160Zm0 220h160v-160H400v160ZM180-400h160v-160H180v160Zm440 0h160v-160H620v160ZM180-180h160v-160H180v160Zm440 0h160v-160H620v160Z\"/>\n",
              "  </svg>\n",
              "    </button>\n",
              "\n",
              "  <style>\n",
              "    .colab-df-container {\n",
              "      display:flex;\n",
              "      gap: 12px;\n",
              "    }\n",
              "\n",
              "    .colab-df-convert {\n",
              "      background-color: #E8F0FE;\n",
              "      border: none;\n",
              "      border-radius: 50%;\n",
              "      cursor: pointer;\n",
              "      display: none;\n",
              "      fill: #1967D2;\n",
              "      height: 32px;\n",
              "      padding: 0 0 0 0;\n",
              "      width: 32px;\n",
              "    }\n",
              "\n",
              "    .colab-df-convert:hover {\n",
              "      background-color: #E2EBFA;\n",
              "      box-shadow: 0px 1px 2px rgba(60, 64, 67, 0.3), 0px 1px 3px 1px rgba(60, 64, 67, 0.15);\n",
              "      fill: #174EA6;\n",
              "    }\n",
              "\n",
              "    .colab-df-buttons div {\n",
              "      margin-bottom: 4px;\n",
              "    }\n",
              "\n",
              "    [theme=dark] .colab-df-convert {\n",
              "      background-color: #3B4455;\n",
              "      fill: #D2E3FC;\n",
              "    }\n",
              "\n",
              "    [theme=dark] .colab-df-convert:hover {\n",
              "      background-color: #434B5C;\n",
              "      box-shadow: 0px 1px 3px 1px rgba(0, 0, 0, 0.15);\n",
              "      filter: drop-shadow(0px 1px 2px rgba(0, 0, 0, 0.3));\n",
              "      fill: #FFFFFF;\n",
              "    }\n",
              "  </style>\n",
              "\n",
              "    <script>\n",
              "      const buttonEl =\n",
              "        document.querySelector('#df-c270cde2-3e8a-409e-ae81-f15a7de4e5d1 button.colab-df-convert');\n",
              "      buttonEl.style.display =\n",
              "        google.colab.kernel.accessAllowed ? 'block' : 'none';\n",
              "\n",
              "      async function convertToInteractive(key) {\n",
              "        const element = document.querySelector('#df-c270cde2-3e8a-409e-ae81-f15a7de4e5d1');\n",
              "        const dataTable =\n",
              "          await google.colab.kernel.invokeFunction('convertToInteractive',\n",
              "                                                    [key], {});\n",
              "        if (!dataTable) return;\n",
              "\n",
              "        const docLinkHtml = 'Like what you see? Visit the ' +\n",
              "          '<a target=\"_blank\" href=https://colab.research.google.com/notebooks/data_table.ipynb>data table notebook</a>'\n",
              "          + ' to learn more about interactive tables.';\n",
              "        element.innerHTML = '';\n",
              "        dataTable['output_type'] = 'display_data';\n",
              "        await google.colab.output.renderOutput(dataTable, element);\n",
              "        const docLink = document.createElement('div');\n",
              "        docLink.innerHTML = docLinkHtml;\n",
              "        element.appendChild(docLink);\n",
              "      }\n",
              "    </script>\n",
              "  </div>\n",
              "\n",
              "\n",
              "<div id=\"df-f30a0480-d0ef-4faf-9608-3805eb7a2054\">\n",
              "  <button class=\"colab-df-quickchart\" onclick=\"quickchart('df-f30a0480-d0ef-4faf-9608-3805eb7a2054')\"\n",
              "            title=\"Suggest charts\"\n",
              "            style=\"display:none;\">\n",
              "\n",
              "<svg xmlns=\"http://www.w3.org/2000/svg\" height=\"24px\"viewBox=\"0 0 24 24\"\n",
              "     width=\"24px\">\n",
              "    <g>\n",
              "        <path d=\"M19 3H5c-1.1 0-2 .9-2 2v14c0 1.1.9 2 2 2h14c1.1 0 2-.9 2-2V5c0-1.1-.9-2-2-2zM9 17H7v-7h2v7zm4 0h-2V7h2v10zm4 0h-2v-4h2v4z\"/>\n",
              "    </g>\n",
              "</svg>\n",
              "  </button>\n",
              "\n",
              "<style>\n",
              "  .colab-df-quickchart {\n",
              "      --bg-color: #E8F0FE;\n",
              "      --fill-color: #1967D2;\n",
              "      --hover-bg-color: #E2EBFA;\n",
              "      --hover-fill-color: #174EA6;\n",
              "      --disabled-fill-color: #AAA;\n",
              "      --disabled-bg-color: #DDD;\n",
              "  }\n",
              "\n",
              "  [theme=dark] .colab-df-quickchart {\n",
              "      --bg-color: #3B4455;\n",
              "      --fill-color: #D2E3FC;\n",
              "      --hover-bg-color: #434B5C;\n",
              "      --hover-fill-color: #FFFFFF;\n",
              "      --disabled-bg-color: #3B4455;\n",
              "      --disabled-fill-color: #666;\n",
              "  }\n",
              "\n",
              "  .colab-df-quickchart {\n",
              "    background-color: var(--bg-color);\n",
              "    border: none;\n",
              "    border-radius: 50%;\n",
              "    cursor: pointer;\n",
              "    display: none;\n",
              "    fill: var(--fill-color);\n",
              "    height: 32px;\n",
              "    padding: 0;\n",
              "    width: 32px;\n",
              "  }\n",
              "\n",
              "  .colab-df-quickchart:hover {\n",
              "    background-color: var(--hover-bg-color);\n",
              "    box-shadow: 0 1px 2px rgba(60, 64, 67, 0.3), 0 1px 3px 1px rgba(60, 64, 67, 0.15);\n",
              "    fill: var(--button-hover-fill-color);\n",
              "  }\n",
              "\n",
              "  .colab-df-quickchart-complete:disabled,\n",
              "  .colab-df-quickchart-complete:disabled:hover {\n",
              "    background-color: var(--disabled-bg-color);\n",
              "    fill: var(--disabled-fill-color);\n",
              "    box-shadow: none;\n",
              "  }\n",
              "\n",
              "  .colab-df-spinner {\n",
              "    border: 2px solid var(--fill-color);\n",
              "    border-color: transparent;\n",
              "    border-bottom-color: var(--fill-color);\n",
              "    animation:\n",
              "      spin 1s steps(1) infinite;\n",
              "  }\n",
              "\n",
              "  @keyframes spin {\n",
              "    0% {\n",
              "      border-color: transparent;\n",
              "      border-bottom-color: var(--fill-color);\n",
              "      border-left-color: var(--fill-color);\n",
              "    }\n",
              "    20% {\n",
              "      border-color: transparent;\n",
              "      border-left-color: var(--fill-color);\n",
              "      border-top-color: var(--fill-color);\n",
              "    }\n",
              "    30% {\n",
              "      border-color: transparent;\n",
              "      border-left-color: var(--fill-color);\n",
              "      border-top-color: var(--fill-color);\n",
              "      border-right-color: var(--fill-color);\n",
              "    }\n",
              "    40% {\n",
              "      border-color: transparent;\n",
              "      border-right-color: var(--fill-color);\n",
              "      border-top-color: var(--fill-color);\n",
              "    }\n",
              "    60% {\n",
              "      border-color: transparent;\n",
              "      border-right-color: var(--fill-color);\n",
              "    }\n",
              "    80% {\n",
              "      border-color: transparent;\n",
              "      border-right-color: var(--fill-color);\n",
              "      border-bottom-color: var(--fill-color);\n",
              "    }\n",
              "    90% {\n",
              "      border-color: transparent;\n",
              "      border-bottom-color: var(--fill-color);\n",
              "    }\n",
              "  }\n",
              "</style>\n",
              "\n",
              "  <script>\n",
              "    async function quickchart(key) {\n",
              "      const quickchartButtonEl =\n",
              "        document.querySelector('#' + key + ' button');\n",
              "      quickchartButtonEl.disabled = true;  // To prevent multiple clicks.\n",
              "      quickchartButtonEl.classList.add('colab-df-spinner');\n",
              "      try {\n",
              "        const charts = await google.colab.kernel.invokeFunction(\n",
              "            'suggestCharts', [key], {});\n",
              "      } catch (error) {\n",
              "        console.error('Error during call to suggestCharts:', error);\n",
              "      }\n",
              "      quickchartButtonEl.classList.remove('colab-df-spinner');\n",
              "      quickchartButtonEl.classList.add('colab-df-quickchart-complete');\n",
              "    }\n",
              "    (() => {\n",
              "      let quickchartButtonEl =\n",
              "        document.querySelector('#df-f30a0480-d0ef-4faf-9608-3805eb7a2054 button');\n",
              "      quickchartButtonEl.style.display =\n",
              "        google.colab.kernel.accessAllowed ? 'block' : 'none';\n",
              "    })();\n",
              "  </script>\n",
              "</div>\n",
              "\n",
              "    </div>\n",
              "  </div>\n"
            ],
            "application/vnd.google.colaboratory.intrinsic+json": {
              "type": "dataframe",
              "variable_name": "df",
              "summary": "{\n  \"name\": \"df\",\n  \"rows\": 6862,\n  \"fields\": [\n    {\n      \"column\": \"label\",\n      \"properties\": {\n        \"dtype\": \"category\",\n        \"num_unique_values\": 11,\n        \"samples\": [\n          \"fogsmog\",\n          \"rain\",\n          \"lightning\"\n        ],\n        \"semantic_type\": \"\",\n        \"description\": \"\"\n      }\n    },\n    {\n      \"column\": \"image\",\n      \"properties\": {\n        \"dtype\": \"string\",\n        \"num_unique_values\": 6862,\n        \"samples\": [\n          \"/kaggle/input/weather-dataset/dataset/rime/5755.jpg\",\n          \"/kaggle/input/weather-dataset/dataset/glaze/6123.jpg\",\n          \"/kaggle/input/weather-dataset/dataset/fogsmog/4613.jpg\"\n        ],\n        \"semantic_type\": \"\",\n        \"description\": \"\"\n      }\n    }\n  ]\n}"
            }
          },
          "metadata": {},
          "execution_count": 69
        }
      ]
    },
    {
      "cell_type": "code",
      "source": [
        "df.shape"
      ],
      "metadata": {
        "execution": {
          "iopub.status.busy": "2024-07-15T11:53:06.405787Z",
          "iopub.execute_input": "2024-07-15T11:53:06.406174Z",
          "iopub.status.idle": "2024-07-15T11:53:06.416139Z",
          "shell.execute_reply.started": "2024-07-15T11:53:06.406142Z",
          "shell.execute_reply": "2024-07-15T11:53:06.414767Z"
        },
        "trusted": true,
        "colab": {
          "base_uri": "https://localhost:8080/"
        },
        "id": "nF_-BiMXQWGX",
        "outputId": "d70dc6c6-94d9-43f5-f2dd-b7278c7c3e67"
      },
      "execution_count": 70,
      "outputs": [
        {
          "output_type": "execute_result",
          "data": {
            "text/plain": [
              "(6862, 2)"
            ]
          },
          "metadata": {},
          "execution_count": 70
        }
      ]
    },
    {
      "cell_type": "code",
      "source": [
        "df['label'].unique()\n"
      ],
      "metadata": {
        "execution": {
          "iopub.status.busy": "2024-07-15T11:53:06.419615Z",
          "iopub.execute_input": "2024-07-15T11:53:06.420055Z",
          "iopub.status.idle": "2024-07-15T11:53:06.433549Z",
          "shell.execute_reply.started": "2024-07-15T11:53:06.420022Z",
          "shell.execute_reply": "2024-07-15T11:53:06.432249Z"
        },
        "trusted": true,
        "colab": {
          "base_uri": "https://localhost:8080/"
        },
        "id": "_HKPa2i6QWGX",
        "outputId": "bd716c86-4d6c-4011-d6ea-695786c88387"
      },
      "execution_count": 71,
      "outputs": [
        {
          "output_type": "execute_result",
          "data": {
            "text/plain": [
              "array(['rain', 'rainbow', 'sandstorm', 'glaze', 'dew', 'fogsmog', 'snow',\n",
              "       'frost', 'rime', 'lightning', 'hail'], dtype=object)"
            ]
          },
          "metadata": {},
          "execution_count": 71
        }
      ]
    },
    {
      "cell_type": "code",
      "source": [
        "len(df['label'].unique())"
      ],
      "metadata": {
        "execution": {
          "iopub.status.busy": "2024-07-15T11:53:06.434989Z",
          "iopub.execute_input": "2024-07-15T11:53:06.435358Z",
          "iopub.status.idle": "2024-07-15T11:53:06.448441Z",
          "shell.execute_reply.started": "2024-07-15T11:53:06.435328Z",
          "shell.execute_reply": "2024-07-15T11:53:06.447007Z"
        },
        "trusted": true,
        "colab": {
          "base_uri": "https://localhost:8080/"
        },
        "id": "N_NiszWEQWGX",
        "outputId": "c51236fb-f89d-4e0e-e6f0-deb8ed33b3ba"
      },
      "execution_count": 72,
      "outputs": [
        {
          "output_type": "execute_result",
          "data": {
            "text/plain": [
              "11"
            ]
          },
          "metadata": {},
          "execution_count": 72
        }
      ]
    },
    {
      "cell_type": "code",
      "source": [
        "df['image'][0]"
      ],
      "metadata": {
        "execution": {
          "iopub.status.busy": "2024-07-15T11:53:06.450121Z",
          "iopub.execute_input": "2024-07-15T11:53:06.450536Z",
          "iopub.status.idle": "2024-07-15T11:53:06.464093Z",
          "shell.execute_reply.started": "2024-07-15T11:53:06.450505Z",
          "shell.execute_reply": "2024-07-15T11:53:06.461497Z"
        },
        "trusted": true,
        "colab": {
          "base_uri": "https://localhost:8080/",
          "height": 35
        },
        "id": "xPPNwJocQWGY",
        "outputId": "93fb1524-b876-4aea-81ff-0ede5edd90a4"
      },
      "execution_count": 73,
      "outputs": [
        {
          "output_type": "execute_result",
          "data": {
            "text/plain": [
              "'/kaggle/input/weather-dataset/dataset/rain/1523.jpg'"
            ],
            "application/vnd.google.colaboratory.intrinsic+json": {
              "type": "string"
            }
          },
          "metadata": {},
          "execution_count": 73
        }
      ]
    },
    {
      "cell_type": "code",
      "source": [
        "# Split dataset into train and test sets\n",
        "from sklearn.model_selection import train_test_split\n",
        "\n",
        "train_data, test_data = train_test_split(df, test_size=0.2, random_state=42)\n",
        "\n",
        "# Split train_data into train and validation sets\n",
        "train_data, val_data = train_test_split(train_data, test_size=0.25, random_state=42)  # 0.25 x 0.8 = 0.2"
      ],
      "metadata": {
        "id": "YB3A9TifWQIr"
      },
      "execution_count": 74,
      "outputs": []
    },
    {
      "cell_type": "code",
      "source": [
        "import pandas as pd\n",
        "from PIL import Image\n",
        "import torch\n",
        "from torch.utils.data import Dataset\n",
        "import torchvision.transforms as transforms\n"
      ],
      "metadata": {
        "execution": {
          "iopub.status.busy": "2024-07-15T11:53:06.480496Z",
          "iopub.execute_input": "2024-07-15T11:53:06.481084Z",
          "iopub.status.idle": "2024-07-15T11:53:06.48933Z",
          "shell.execute_reply.started": "2024-07-15T11:53:06.481038Z",
          "shell.execute_reply": "2024-07-15T11:53:06.487845Z"
        },
        "trusted": true,
        "id": "GPveikfLQWGY"
      },
      "execution_count": 75,
      "outputs": []
    },
    {
      "cell_type": "code",
      "source": [
        "import pandas as pd\n",
        "from PIL import Image\n",
        "from torch.utils.data import Dataset\n",
        "from sklearn.preprocessing import LabelEncoder\n",
        "\n",
        "\n",
        "class CustomDataset(Dataset):\n",
        "    def __init__(self, dataframe, transform=None):\n",
        "        # Convert the Subset to a DataFrame\n",
        "        self.data = dataframe.reset_index(drop=True)\n",
        "        self.transform = transform\n",
        "        self.label_encoder = LabelEncoder()\n",
        "        self.data['label'] = self.label_encoder.fit_transform(self.data['label'])\n",
        "\n",
        "    def __len__(self):\n",
        "        return len(self.data)\n",
        "\n",
        "    def __getitem__(self, idx):\n",
        "        img_path = self.data.iloc[idx]['image']\n",
        "        image = Image.open(img_path).convert('RGB')\n",
        "        label = torch.tensor(self.data.iloc[idx]['label'], dtype=torch.long)\n",
        "\n",
        "        if self.transform:\n",
        "            image = self.transform(image)\n",
        "\n",
        "        return image, label\n"
      ],
      "metadata": {
        "execution": {
          "iopub.status.busy": "2024-07-15T11:53:06.491427Z",
          "iopub.execute_input": "2024-07-15T11:53:06.491965Z",
          "iopub.status.idle": "2024-07-15T11:53:06.50424Z",
          "shell.execute_reply.started": "2024-07-15T11:53:06.491921Z",
          "shell.execute_reply": "2024-07-15T11:53:06.502508Z"
        },
        "trusted": true,
        "id": "2lU6EoUgQWGY"
      },
      "execution_count": 76,
      "outputs": []
    },
    {
      "cell_type": "code",
      "source": [
        "# Example transformations for image preprocessing\n",
        "transform = transforms.Compose([\n",
        "    transforms.Resize((224, 224)),\n",
        "    transforms.ToTensor(),\n",
        "    transforms.Normalize(mean=[0.485, 0.456, 0.406], std=[0.229, 0.224, 0.225])\n",
        "])\n"
      ],
      "metadata": {
        "execution": {
          "iopub.status.busy": "2024-07-15T11:53:06.508434Z",
          "iopub.execute_input": "2024-07-15T11:53:06.508794Z",
          "iopub.status.idle": "2024-07-15T11:53:06.517516Z",
          "shell.execute_reply.started": "2024-07-15T11:53:06.508764Z",
          "shell.execute_reply": "2024-07-15T11:53:06.51582Z"
        },
        "trusted": true,
        "id": "GztQUBl6QWGZ"
      },
      "execution_count": 77,
      "outputs": []
    },
    {
      "cell_type": "code",
      "source": [
        "# Create an instance of the WeatherDataset\n",
        "train = CustomDataset(train_data, transform=transform)\n",
        "vaild = CustomDataset(val_data, transform=transform)\n",
        "test = CustomDataset(test_data, transform=transform)"
      ],
      "metadata": {
        "execution": {
          "iopub.status.busy": "2024-07-15T11:53:06.519764Z",
          "iopub.execute_input": "2024-07-15T11:53:06.521266Z",
          "iopub.status.idle": "2024-07-15T11:53:06.530566Z",
          "shell.execute_reply.started": "2024-07-15T11:53:06.521203Z",
          "shell.execute_reply": "2024-07-15T11:53:06.529157Z"
        },
        "trusted": true,
        "id": "XjV-1SwFQWGZ"
      },
      "execution_count": 78,
      "outputs": []
    },
    {
      "cell_type": "code",
      "source": [
        "# Example usage of DataLoader\n",
        "batch_size = 32\n",
        "shuffle = True\n",
        "train_loader = torch.utils.data.DataLoader(train, batch_size=batch_size, shuffle=shuffle,num_workers=4)\n",
        "vaild_loader = torch.utils.data.DataLoader(vaild, batch_size=batch_size, shuffle=False,num_workers=4)\n",
        "test_loader = torch.utils.data.DataLoader(test, batch_size=batch_size, shuffle=False,num_workers=4)"
      ],
      "metadata": {
        "execution": {
          "iopub.status.busy": "2024-07-15T11:53:06.532446Z",
          "iopub.execute_input": "2024-07-15T11:53:06.532888Z",
          "iopub.status.idle": "2024-07-15T11:53:06.54559Z",
          "shell.execute_reply.started": "2024-07-15T11:53:06.532848Z",
          "shell.execute_reply": "2024-07-15T11:53:06.543978Z"
        },
        "trusted": true,
        "colab": {
          "base_uri": "https://localhost:8080/"
        },
        "id": "Tsjx0b7xQWGZ",
        "outputId": "dc45e3da-b962-483e-9e15-fc3a124b482b"
      },
      "execution_count": 79,
      "outputs": [
        {
          "output_type": "stream",
          "name": "stderr",
          "text": [
            "/usr/local/lib/python3.10/dist-packages/torch/utils/data/dataloader.py:558: UserWarning: This DataLoader will create 4 worker processes in total. Our suggested max number of worker in current system is 2, which is smaller than what this DataLoader is going to create. Please be aware that excessive worker creation might get DataLoader running slow or even freeze, lower the worker number to avoid potential slowness/freeze if necessary.\n",
            "  warnings.warn(_create_warning_msg(\n"
          ]
        }
      ]
    },
    {
      "cell_type": "code",
      "source": [
        "# Iterate through the DataLoader\n",
        "for batch_idx, (images, labels) in enumerate(train_loader):\n",
        "    print(f'Batch {batch_idx}:')\n",
        "    print(f'  Images shape: {images.shape}')  # Shape of the batch of images\n",
        "    print(f'  Labels: {labels}')              # Labels corresponding to the images in the batch\n",
        "    break  # For demonstration, break after first batch\n"
      ],
      "metadata": {
        "execution": {
          "iopub.status.busy": "2024-07-15T11:53:06.547513Z",
          "iopub.execute_input": "2024-07-15T11:53:06.54882Z",
          "iopub.status.idle": "2024-07-15T11:53:07.372794Z",
          "shell.execute_reply.started": "2024-07-15T11:53:06.548769Z",
          "shell.execute_reply": "2024-07-15T11:53:07.371545Z"
        },
        "trusted": true,
        "colab": {
          "base_uri": "https://localhost:8080/"
        },
        "id": "RbaiAAC8QWGZ",
        "outputId": "ae591633-45e6-4d9e-eb47-832fae60ad1a"
      },
      "execution_count": 80,
      "outputs": [
        {
          "output_type": "stream",
          "name": "stdout",
          "text": [
            "Batch 0:\n",
            "  Images shape: torch.Size([32, 3, 224, 224])\n",
            "  Labels: tensor([10,  3, 10,  6,  8,  0,  3,  1,  9,  1,  8,  9,  2,  8,  0,  2,  1,  2,\n",
            "        10, 10,  4,  9,  4,  3,  5,  0,  1,  0,  6,  8,  4,  9])\n"
          ]
        }
      ]
    },
    {
      "cell_type": "code",
      "source": [
        "# Load pre-trained VGG16 model\n",
        "import torchvision.models as models\n",
        "import torch.nn as nn\n",
        "\n",
        "vgg16 = models.vgg16(pretrained=True)\n",
        "\n",
        "# Freeze parameters so we don't backprop through them\n",
        "for param in vgg16.parameters():\n",
        "    param.requires_grad = False\n",
        "\n",
        "# Modify the last fully connected layer for your number of classes\n",
        "num_classes = 11\n",
        "vgg16.classifier[6] = nn.Linear(4096, num_classes)\n",
        "criterion = nn.CrossEntropyLoss()\n",
        "optimizer = torch.optim.Adam(vgg16.parameters(), lr=0.001)"
      ],
      "metadata": {
        "execution": {
          "iopub.status.busy": "2024-07-15T11:54:55.634819Z",
          "iopub.execute_input": "2024-07-15T11:54:55.63523Z",
          "iopub.status.idle": "2024-07-15T11:54:57.669174Z",
          "shell.execute_reply.started": "2024-07-15T11:54:55.635198Z",
          "shell.execute_reply": "2024-07-15T11:54:57.667753Z"
        },
        "trusted": true,
        "id": "ngTJKeEkQWGZ"
      },
      "execution_count": 84,
      "outputs": []
    },
    {
      "cell_type": "code",
      "source": [
        "def train_model(model, criterion, optimizer, num_epochs=3):\n",
        "    for epoch in range(num_epochs):\n",
        "        model.train()\n",
        "        running_loss = 0.0\n",
        "        for inputs, labels in train_loader:\n",
        "            optimizer.zero_grad()\n",
        "            outputs = model(inputs)\n",
        "            loss = criterion(outputs, labels)\n",
        "            loss.backward()\n",
        "            optimizer.step()\n",
        "            running_loss += loss.item() * inputs.size(0)\n",
        "\n",
        "        # Print average loss per epoch\n",
        "        epoch_loss = running_loss / len(train_loader.dataset)\n",
        "        print(f'Epoch [{epoch + 1}/{num_epochs}], Loss: {epoch_loss:.4f}')\n",
        "\n",
        "        # Evaluate on validation set\n",
        "        model.eval()\n",
        "        val_loss = 0.0\n",
        "        correct = 0\n",
        "        total = 0\n",
        "        with torch.no_grad():\n",
        "            for inputs, labels in vaild_loader:\n",
        "                outputs = model(inputs)\n",
        "                loss = criterion(outputs, labels)\n",
        "                val_loss += loss.item() * inputs.size(0)\n",
        "                _, predicted = torch.max(outputs, 1)\n",
        "                total += labels.size(0)\n",
        "                correct += (predicted == labels).sum().item()\n",
        "\n",
        "        val_loss /= len(vaild_loader.dataset)\n",
        "        val_accuracy = correct / total\n",
        "        print(f'Validation Loss: {val_loss:.4f}, Validation Accuracy: {val_accuracy:.2%}')"
      ],
      "metadata": {
        "id": "fOQPRvWGkgZ4"
      },
      "execution_count": 87,
      "outputs": []
    },
    {
      "cell_type": "code",
      "source": [
        "train_model(vgg16, criterion, optimizer)"
      ],
      "metadata": {
        "colab": {
          "base_uri": "https://localhost:8080/"
        },
        "id": "V_bbdHGzmWtC",
        "outputId": "8426986a-4663-4ee9-81bd-96f227fcbd90"
      },
      "execution_count": 88,
      "outputs": [
        {
          "output_type": "stream",
          "name": "stdout",
          "text": [
            "Epoch [1/3], Loss: 0.7503\n",
            "Validation Loss: 0.4804, Validation Accuracy: 82.81%\n",
            "Epoch [2/3], Loss: 0.4444\n",
            "Validation Loss: 0.4234, Validation Accuracy: 84.56%\n",
            "Epoch [3/3], Loss: 0.3946\n",
            "Validation Loss: 0.4138, Validation Accuracy: 85.87%\n"
          ]
        }
      ]
    },
    {
      "cell_type": "code",
      "source": [
        "def evaluate_model(model, data_loader):\n",
        "    model.eval()\n",
        "    correct = 0\n",
        "    total = 0\n",
        "    with torch.no_grad():\n",
        "        for inputs, labels in data_loader:\n",
        "            outputs = model(inputs)\n",
        "            _, predicted = torch.max(outputs, 1)\n",
        "            total += labels.size(0)\n",
        "            correct += (predicted == labels).sum().item()\n",
        "\n",
        "    accuracy = correct / total\n",
        "    print(f'Accuracy on the test set: {accuracy:.2%}')"
      ],
      "metadata": {
        "id": "2W1-xtnTQWGa"
      },
      "execution_count": 89,
      "outputs": []
    },
    {
      "cell_type": "code",
      "source": [
        "evaluate_model(vgg16, test_loader)"
      ],
      "metadata": {
        "colab": {
          "base_uri": "https://localhost:8080/"
        },
        "id": "nS77yXe7uMu7",
        "outputId": "3998832d-69d3-40c2-d440-2726ae788efa"
      },
      "execution_count": 90,
      "outputs": [
        {
          "output_type": "stream",
          "name": "stdout",
          "text": [
            "Accuracy on the test set: 87.04%\n"
          ]
        }
      ]
    },
    {
      "cell_type": "code",
      "source": [
        "torch.save(vgg16.state_dict(), 'vgg16_model.pth')"
      ],
      "metadata": {
        "id": "VvpC3bZf5CHN"
      },
      "execution_count": 91,
      "outputs": []
    },
    {
      "cell_type": "code",
      "source": [],
      "metadata": {
        "id": "eafMMiqMFwnL"
      },
      "execution_count": null,
      "outputs": []
    }
  ]
}