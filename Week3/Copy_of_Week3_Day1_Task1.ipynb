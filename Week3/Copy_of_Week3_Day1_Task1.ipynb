{
  "nbformat": 4,
  "nbformat_minor": 0,
  "metadata": {
    "colab": {
      "provenance": [],
      "gpuType": "T4"
    },
    "kernelspec": {
      "name": "python3",
      "display_name": "Python 3"
    },
    "language_info": {
      "name": "python"
    },
    "accelerator": "GPU"
  },
  "cells": [
    {
      "cell_type": "markdown",
      "source": [
        "\n",
        "\n",
        "You are given the Dubai Properties - Apartments dataset. You tasks are:\n",
        "- Create an Artificial Neural Network (ANN) model that can predict the price of an apartment based on its given properties.\n",
        "\n",
        "- You need to clean and preprocess the data as needed.\n",
        "- Create a custom Dataset class to efficiently load and prepare the data.\n",
        "\n",
        "- Clearly define the architecture of your ANN model, specifying the number of layers, neurons, and activation functions.\n",
        "- Make two version of your model with different number of layers and hidden neurons\n",
        "- Train the model on the prepared data and evaluate its performance on a separate validation set.\n",
        "- Track the training loss during training and plot it to visualize the learning process.\n",
        "\n",
        "- Print some sample predictions from the trained model to demonstrate its capabilities.\n",
        "\n",
        "\n",
        "\n",
        " Dataset:\n",
        " https://www.kaggle.com/datasets/dataregress/dubai-properties-dataset/data"
      ],
      "metadata": {
        "id": "X0ElWtKHzu2m"
      }
    },
    {
      "cell_type": "code",
      "execution_count": 113,
      "metadata": {
        "id": "QBvFm1HnztYB"
      },
      "outputs": [],
      "source": [
        "import pandas as pd"
      ]
    },
    {
      "cell_type": "code",
      "source": [
        "import os\n",
        "from google.colab import drive"
      ],
      "metadata": {
        "id": "GNUUEiLZZr_w"
      },
      "execution_count": 114,
      "outputs": []
    },
    {
      "cell_type": "code",
      "source": [
        "drive.mount('/content/drive')"
      ],
      "metadata": {
        "colab": {
          "base_uri": "https://localhost:8080/"
        },
        "id": "j_Tjx_kTZx-h",
        "outputId": "e8325d5e-2c76-46c9-e101-5ae12d1c937b"
      },
      "execution_count": 115,
      "outputs": [
        {
          "output_type": "stream",
          "name": "stdout",
          "text": [
            "Drive already mounted at /content/drive; to attempt to forcibly remount, call drive.mount(\"/content/drive\", force_remount=True).\n"
          ]
        }
      ]
    },
    {
      "cell_type": "code",
      "source": [
        "df=pd.read_csv(\"/content/drive/MyDrive/properties_data.csv\")\n",
        "df"
      ],
      "metadata": {
        "colab": {
          "base_uri": "https://localhost:8080/",
          "height": 652
        },
        "id": "Bm7IlqHIcEF0",
        "outputId": "af92adcf-686a-45e2-f415-7c47c5a31e00"
      },
      "execution_count": 137,
      "outputs": [
        {
          "output_type": "execute_result",
          "data": {
            "text/plain": [
              "           id                       neighborhood   latitude  longitude  \\\n",
              "0     5528049                      Palm Jumeirah  25.113208  55.138932   \n",
              "1     6008529                      Palm Jumeirah  25.106809  55.151201   \n",
              "2     6034542               Jumeirah Lake Towers  25.063302  55.137728   \n",
              "3     6326063                    Culture Village  25.227295  55.341761   \n",
              "4     6356778                      Palm Jumeirah  25.114275  55.139764   \n",
              "...       ...                                ...        ...        ...   \n",
              "1900  7705450           Mohammed Bin Rashid City  25.176892  55.310712   \n",
              "1901  7706287           Mohammed Bin Rashid City  25.166145  55.276684   \n",
              "1902  7706389  Dubai Creek Harbour (The Lagoons)  25.206500  55.345056   \n",
              "1903  7706591            Jumeirah Village Circle  25.073858  55.229844   \n",
              "1904  7706643               Jumeirah Lake Towers  25.079130  55.154713   \n",
              "\n",
              "        price  size_in_sqft  price_per_sqft  no_of_bedrooms  no_of_bathrooms  \\\n",
              "0     2700000          1079         2502.32               1                2   \n",
              "1     2850000          1582         1801.52               2                2   \n",
              "2     1150000          1951          589.44               3                5   \n",
              "3     2850000          2020         1410.89               2                3   \n",
              "4     1729200           507         3410.65               0                1   \n",
              "...       ...           ...             ...             ...              ...   \n",
              "1900  1500000          1087         1379.94               2                2   \n",
              "1901  1230000           760         1618.42               1                2   \n",
              "1902  2900000          1930         1502.59               3                5   \n",
              "1903   675000           740          912.16               1                2   \n",
              "1904   760887           800          951.11               1                2   \n",
              "\n",
              "     quality  ...  private_pool  security  shared_gym  shared_pool  \\\n",
              "0     Medium  ...         False     False        True        False   \n",
              "1     Medium  ...         False     False        True         True   \n",
              "2     Medium  ...         False      True        True         True   \n",
              "3        Low  ...         False     False       False        False   \n",
              "4     Medium  ...         False      True        True         True   \n",
              "...      ...  ...           ...       ...         ...          ...   \n",
              "1900   Ultra  ...         False      True        True         True   \n",
              "1901  Medium  ...         False     False        True         True   \n",
              "1902  Medium  ...         False     False       False         True   \n",
              "1903  Medium  ...         False      True        True         True   \n",
              "1904    High  ...         False      True        True         True   \n",
              "\n",
              "      shared_spa  study  vastu_compliant  view_of_landmark  view_of_water  \\\n",
              "0          False  False            False             False           True   \n",
              "1          False  False            False             False           True   \n",
              "2          False  False            False              True           True   \n",
              "3          False  False            False             False          False   \n",
              "4           True  False            False              True           True   \n",
              "...          ...    ...              ...               ...            ...   \n",
              "1900        True   True             True              True           True   \n",
              "1901       False  False            False             False           True   \n",
              "1902       False  False            False             False          False   \n",
              "1903       False  False            False             False           True   \n",
              "1904        True  False            False             False           True   \n",
              "\n",
              "      walk_in_closet  \n",
              "0              False  \n",
              "1              False  \n",
              "2               True  \n",
              "3              False  \n",
              "4              False  \n",
              "...              ...  \n",
              "1900            True  \n",
              "1901            True  \n",
              "1902           False  \n",
              "1903            True  \n",
              "1904           False  \n",
              "\n",
              "[1905 rows x 38 columns]"
            ],
            "text/html": [
              "\n",
              "  <div id=\"df-c034a673-a6fc-4fd0-b41b-f4a537a4d17a\" class=\"colab-df-container\">\n",
              "    <div>\n",
              "<style scoped>\n",
              "    .dataframe tbody tr th:only-of-type {\n",
              "        vertical-align: middle;\n",
              "    }\n",
              "\n",
              "    .dataframe tbody tr th {\n",
              "        vertical-align: top;\n",
              "    }\n",
              "\n",
              "    .dataframe thead th {\n",
              "        text-align: right;\n",
              "    }\n",
              "</style>\n",
              "<table border=\"1\" class=\"dataframe\">\n",
              "  <thead>\n",
              "    <tr style=\"text-align: right;\">\n",
              "      <th></th>\n",
              "      <th>id</th>\n",
              "      <th>neighborhood</th>\n",
              "      <th>latitude</th>\n",
              "      <th>longitude</th>\n",
              "      <th>price</th>\n",
              "      <th>size_in_sqft</th>\n",
              "      <th>price_per_sqft</th>\n",
              "      <th>no_of_bedrooms</th>\n",
              "      <th>no_of_bathrooms</th>\n",
              "      <th>quality</th>\n",
              "      <th>...</th>\n",
              "      <th>private_pool</th>\n",
              "      <th>security</th>\n",
              "      <th>shared_gym</th>\n",
              "      <th>shared_pool</th>\n",
              "      <th>shared_spa</th>\n",
              "      <th>study</th>\n",
              "      <th>vastu_compliant</th>\n",
              "      <th>view_of_landmark</th>\n",
              "      <th>view_of_water</th>\n",
              "      <th>walk_in_closet</th>\n",
              "    </tr>\n",
              "  </thead>\n",
              "  <tbody>\n",
              "    <tr>\n",
              "      <th>0</th>\n",
              "      <td>5528049</td>\n",
              "      <td>Palm Jumeirah</td>\n",
              "      <td>25.113208</td>\n",
              "      <td>55.138932</td>\n",
              "      <td>2700000</td>\n",
              "      <td>1079</td>\n",
              "      <td>2502.32</td>\n",
              "      <td>1</td>\n",
              "      <td>2</td>\n",
              "      <td>Medium</td>\n",
              "      <td>...</td>\n",
              "      <td>False</td>\n",
              "      <td>False</td>\n",
              "      <td>True</td>\n",
              "      <td>False</td>\n",
              "      <td>False</td>\n",
              "      <td>False</td>\n",
              "      <td>False</td>\n",
              "      <td>False</td>\n",
              "      <td>True</td>\n",
              "      <td>False</td>\n",
              "    </tr>\n",
              "    <tr>\n",
              "      <th>1</th>\n",
              "      <td>6008529</td>\n",
              "      <td>Palm Jumeirah</td>\n",
              "      <td>25.106809</td>\n",
              "      <td>55.151201</td>\n",
              "      <td>2850000</td>\n",
              "      <td>1582</td>\n",
              "      <td>1801.52</td>\n",
              "      <td>2</td>\n",
              "      <td>2</td>\n",
              "      <td>Medium</td>\n",
              "      <td>...</td>\n",
              "      <td>False</td>\n",
              "      <td>False</td>\n",
              "      <td>True</td>\n",
              "      <td>True</td>\n",
              "      <td>False</td>\n",
              "      <td>False</td>\n",
              "      <td>False</td>\n",
              "      <td>False</td>\n",
              "      <td>True</td>\n",
              "      <td>False</td>\n",
              "    </tr>\n",
              "    <tr>\n",
              "      <th>2</th>\n",
              "      <td>6034542</td>\n",
              "      <td>Jumeirah Lake Towers</td>\n",
              "      <td>25.063302</td>\n",
              "      <td>55.137728</td>\n",
              "      <td>1150000</td>\n",
              "      <td>1951</td>\n",
              "      <td>589.44</td>\n",
              "      <td>3</td>\n",
              "      <td>5</td>\n",
              "      <td>Medium</td>\n",
              "      <td>...</td>\n",
              "      <td>False</td>\n",
              "      <td>True</td>\n",
              "      <td>True</td>\n",
              "      <td>True</td>\n",
              "      <td>False</td>\n",
              "      <td>False</td>\n",
              "      <td>False</td>\n",
              "      <td>True</td>\n",
              "      <td>True</td>\n",
              "      <td>True</td>\n",
              "    </tr>\n",
              "    <tr>\n",
              "      <th>3</th>\n",
              "      <td>6326063</td>\n",
              "      <td>Culture Village</td>\n",
              "      <td>25.227295</td>\n",
              "      <td>55.341761</td>\n",
              "      <td>2850000</td>\n",
              "      <td>2020</td>\n",
              "      <td>1410.89</td>\n",
              "      <td>2</td>\n",
              "      <td>3</td>\n",
              "      <td>Low</td>\n",
              "      <td>...</td>\n",
              "      <td>False</td>\n",
              "      <td>False</td>\n",
              "      <td>False</td>\n",
              "      <td>False</td>\n",
              "      <td>False</td>\n",
              "      <td>False</td>\n",
              "      <td>False</td>\n",
              "      <td>False</td>\n",
              "      <td>False</td>\n",
              "      <td>False</td>\n",
              "    </tr>\n",
              "    <tr>\n",
              "      <th>4</th>\n",
              "      <td>6356778</td>\n",
              "      <td>Palm Jumeirah</td>\n",
              "      <td>25.114275</td>\n",
              "      <td>55.139764</td>\n",
              "      <td>1729200</td>\n",
              "      <td>507</td>\n",
              "      <td>3410.65</td>\n",
              "      <td>0</td>\n",
              "      <td>1</td>\n",
              "      <td>Medium</td>\n",
              "      <td>...</td>\n",
              "      <td>False</td>\n",
              "      <td>True</td>\n",
              "      <td>True</td>\n",
              "      <td>True</td>\n",
              "      <td>True</td>\n",
              "      <td>False</td>\n",
              "      <td>False</td>\n",
              "      <td>True</td>\n",
              "      <td>True</td>\n",
              "      <td>False</td>\n",
              "    </tr>\n",
              "    <tr>\n",
              "      <th>...</th>\n",
              "      <td>...</td>\n",
              "      <td>...</td>\n",
              "      <td>...</td>\n",
              "      <td>...</td>\n",
              "      <td>...</td>\n",
              "      <td>...</td>\n",
              "      <td>...</td>\n",
              "      <td>...</td>\n",
              "      <td>...</td>\n",
              "      <td>...</td>\n",
              "      <td>...</td>\n",
              "      <td>...</td>\n",
              "      <td>...</td>\n",
              "      <td>...</td>\n",
              "      <td>...</td>\n",
              "      <td>...</td>\n",
              "      <td>...</td>\n",
              "      <td>...</td>\n",
              "      <td>...</td>\n",
              "      <td>...</td>\n",
              "      <td>...</td>\n",
              "    </tr>\n",
              "    <tr>\n",
              "      <th>1900</th>\n",
              "      <td>7705450</td>\n",
              "      <td>Mohammed Bin Rashid City</td>\n",
              "      <td>25.176892</td>\n",
              "      <td>55.310712</td>\n",
              "      <td>1500000</td>\n",
              "      <td>1087</td>\n",
              "      <td>1379.94</td>\n",
              "      <td>2</td>\n",
              "      <td>2</td>\n",
              "      <td>Ultra</td>\n",
              "      <td>...</td>\n",
              "      <td>False</td>\n",
              "      <td>True</td>\n",
              "      <td>True</td>\n",
              "      <td>True</td>\n",
              "      <td>True</td>\n",
              "      <td>True</td>\n",
              "      <td>True</td>\n",
              "      <td>True</td>\n",
              "      <td>True</td>\n",
              "      <td>True</td>\n",
              "    </tr>\n",
              "    <tr>\n",
              "      <th>1901</th>\n",
              "      <td>7706287</td>\n",
              "      <td>Mohammed Bin Rashid City</td>\n",
              "      <td>25.166145</td>\n",
              "      <td>55.276684</td>\n",
              "      <td>1230000</td>\n",
              "      <td>760</td>\n",
              "      <td>1618.42</td>\n",
              "      <td>1</td>\n",
              "      <td>2</td>\n",
              "      <td>Medium</td>\n",
              "      <td>...</td>\n",
              "      <td>False</td>\n",
              "      <td>False</td>\n",
              "      <td>True</td>\n",
              "      <td>True</td>\n",
              "      <td>False</td>\n",
              "      <td>False</td>\n",
              "      <td>False</td>\n",
              "      <td>False</td>\n",
              "      <td>True</td>\n",
              "      <td>True</td>\n",
              "    </tr>\n",
              "    <tr>\n",
              "      <th>1902</th>\n",
              "      <td>7706389</td>\n",
              "      <td>Dubai Creek Harbour (The Lagoons)</td>\n",
              "      <td>25.206500</td>\n",
              "      <td>55.345056</td>\n",
              "      <td>2900000</td>\n",
              "      <td>1930</td>\n",
              "      <td>1502.59</td>\n",
              "      <td>3</td>\n",
              "      <td>5</td>\n",
              "      <td>Medium</td>\n",
              "      <td>...</td>\n",
              "      <td>False</td>\n",
              "      <td>False</td>\n",
              "      <td>False</td>\n",
              "      <td>True</td>\n",
              "      <td>False</td>\n",
              "      <td>False</td>\n",
              "      <td>False</td>\n",
              "      <td>False</td>\n",
              "      <td>False</td>\n",
              "      <td>False</td>\n",
              "    </tr>\n",
              "    <tr>\n",
              "      <th>1903</th>\n",
              "      <td>7706591</td>\n",
              "      <td>Jumeirah Village Circle</td>\n",
              "      <td>25.073858</td>\n",
              "      <td>55.229844</td>\n",
              "      <td>675000</td>\n",
              "      <td>740</td>\n",
              "      <td>912.16</td>\n",
              "      <td>1</td>\n",
              "      <td>2</td>\n",
              "      <td>Medium</td>\n",
              "      <td>...</td>\n",
              "      <td>False</td>\n",
              "      <td>True</td>\n",
              "      <td>True</td>\n",
              "      <td>True</td>\n",
              "      <td>False</td>\n",
              "      <td>False</td>\n",
              "      <td>False</td>\n",
              "      <td>False</td>\n",
              "      <td>True</td>\n",
              "      <td>True</td>\n",
              "    </tr>\n",
              "    <tr>\n",
              "      <th>1904</th>\n",
              "      <td>7706643</td>\n",
              "      <td>Jumeirah Lake Towers</td>\n",
              "      <td>25.079130</td>\n",
              "      <td>55.154713</td>\n",
              "      <td>760887</td>\n",
              "      <td>800</td>\n",
              "      <td>951.11</td>\n",
              "      <td>1</td>\n",
              "      <td>2</td>\n",
              "      <td>High</td>\n",
              "      <td>...</td>\n",
              "      <td>False</td>\n",
              "      <td>True</td>\n",
              "      <td>True</td>\n",
              "      <td>True</td>\n",
              "      <td>True</td>\n",
              "      <td>False</td>\n",
              "      <td>False</td>\n",
              "      <td>False</td>\n",
              "      <td>True</td>\n",
              "      <td>False</td>\n",
              "    </tr>\n",
              "  </tbody>\n",
              "</table>\n",
              "<p>1905 rows × 38 columns</p>\n",
              "</div>\n",
              "    <div class=\"colab-df-buttons\">\n",
              "\n",
              "  <div class=\"colab-df-container\">\n",
              "    <button class=\"colab-df-convert\" onclick=\"convertToInteractive('df-c034a673-a6fc-4fd0-b41b-f4a537a4d17a')\"\n",
              "            title=\"Convert this dataframe to an interactive table.\"\n",
              "            style=\"display:none;\">\n",
              "\n",
              "  <svg xmlns=\"http://www.w3.org/2000/svg\" height=\"24px\" viewBox=\"0 -960 960 960\">\n",
              "    <path d=\"M120-120v-720h720v720H120Zm60-500h600v-160H180v160Zm220 220h160v-160H400v160Zm0 220h160v-160H400v160ZM180-400h160v-160H180v160Zm440 0h160v-160H620v160ZM180-180h160v-160H180v160Zm440 0h160v-160H620v160Z\"/>\n",
              "  </svg>\n",
              "    </button>\n",
              "\n",
              "  <style>\n",
              "    .colab-df-container {\n",
              "      display:flex;\n",
              "      gap: 12px;\n",
              "    }\n",
              "\n",
              "    .colab-df-convert {\n",
              "      background-color: #E8F0FE;\n",
              "      border: none;\n",
              "      border-radius: 50%;\n",
              "      cursor: pointer;\n",
              "      display: none;\n",
              "      fill: #1967D2;\n",
              "      height: 32px;\n",
              "      padding: 0 0 0 0;\n",
              "      width: 32px;\n",
              "    }\n",
              "\n",
              "    .colab-df-convert:hover {\n",
              "      background-color: #E2EBFA;\n",
              "      box-shadow: 0px 1px 2px rgba(60, 64, 67, 0.3), 0px 1px 3px 1px rgba(60, 64, 67, 0.15);\n",
              "      fill: #174EA6;\n",
              "    }\n",
              "\n",
              "    .colab-df-buttons div {\n",
              "      margin-bottom: 4px;\n",
              "    }\n",
              "\n",
              "    [theme=dark] .colab-df-convert {\n",
              "      background-color: #3B4455;\n",
              "      fill: #D2E3FC;\n",
              "    }\n",
              "\n",
              "    [theme=dark] .colab-df-convert:hover {\n",
              "      background-color: #434B5C;\n",
              "      box-shadow: 0px 1px 3px 1px rgba(0, 0, 0, 0.15);\n",
              "      filter: drop-shadow(0px 1px 2px rgba(0, 0, 0, 0.3));\n",
              "      fill: #FFFFFF;\n",
              "    }\n",
              "  </style>\n",
              "\n",
              "    <script>\n",
              "      const buttonEl =\n",
              "        document.querySelector('#df-c034a673-a6fc-4fd0-b41b-f4a537a4d17a button.colab-df-convert');\n",
              "      buttonEl.style.display =\n",
              "        google.colab.kernel.accessAllowed ? 'block' : 'none';\n",
              "\n",
              "      async function convertToInteractive(key) {\n",
              "        const element = document.querySelector('#df-c034a673-a6fc-4fd0-b41b-f4a537a4d17a');\n",
              "        const dataTable =\n",
              "          await google.colab.kernel.invokeFunction('convertToInteractive',\n",
              "                                                    [key], {});\n",
              "        if (!dataTable) return;\n",
              "\n",
              "        const docLinkHtml = 'Like what you see? Visit the ' +\n",
              "          '<a target=\"_blank\" href=https://colab.research.google.com/notebooks/data_table.ipynb>data table notebook</a>'\n",
              "          + ' to learn more about interactive tables.';\n",
              "        element.innerHTML = '';\n",
              "        dataTable['output_type'] = 'display_data';\n",
              "        await google.colab.output.renderOutput(dataTable, element);\n",
              "        const docLink = document.createElement('div');\n",
              "        docLink.innerHTML = docLinkHtml;\n",
              "        element.appendChild(docLink);\n",
              "      }\n",
              "    </script>\n",
              "  </div>\n",
              "\n",
              "\n",
              "<div id=\"df-1e8f1abc-6a79-454d-89bd-0d44eb5b4e1c\">\n",
              "  <button class=\"colab-df-quickchart\" onclick=\"quickchart('df-1e8f1abc-6a79-454d-89bd-0d44eb5b4e1c')\"\n",
              "            title=\"Suggest charts\"\n",
              "            style=\"display:none;\">\n",
              "\n",
              "<svg xmlns=\"http://www.w3.org/2000/svg\" height=\"24px\"viewBox=\"0 0 24 24\"\n",
              "     width=\"24px\">\n",
              "    <g>\n",
              "        <path d=\"M19 3H5c-1.1 0-2 .9-2 2v14c0 1.1.9 2 2 2h14c1.1 0 2-.9 2-2V5c0-1.1-.9-2-2-2zM9 17H7v-7h2v7zm4 0h-2V7h2v10zm4 0h-2v-4h2v4z\"/>\n",
              "    </g>\n",
              "</svg>\n",
              "  </button>\n",
              "\n",
              "<style>\n",
              "  .colab-df-quickchart {\n",
              "      --bg-color: #E8F0FE;\n",
              "      --fill-color: #1967D2;\n",
              "      --hover-bg-color: #E2EBFA;\n",
              "      --hover-fill-color: #174EA6;\n",
              "      --disabled-fill-color: #AAA;\n",
              "      --disabled-bg-color: #DDD;\n",
              "  }\n",
              "\n",
              "  [theme=dark] .colab-df-quickchart {\n",
              "      --bg-color: #3B4455;\n",
              "      --fill-color: #D2E3FC;\n",
              "      --hover-bg-color: #434B5C;\n",
              "      --hover-fill-color: #FFFFFF;\n",
              "      --disabled-bg-color: #3B4455;\n",
              "      --disabled-fill-color: #666;\n",
              "  }\n",
              "\n",
              "  .colab-df-quickchart {\n",
              "    background-color: var(--bg-color);\n",
              "    border: none;\n",
              "    border-radius: 50%;\n",
              "    cursor: pointer;\n",
              "    display: none;\n",
              "    fill: var(--fill-color);\n",
              "    height: 32px;\n",
              "    padding: 0;\n",
              "    width: 32px;\n",
              "  }\n",
              "\n",
              "  .colab-df-quickchart:hover {\n",
              "    background-color: var(--hover-bg-color);\n",
              "    box-shadow: 0 1px 2px rgba(60, 64, 67, 0.3), 0 1px 3px 1px rgba(60, 64, 67, 0.15);\n",
              "    fill: var(--button-hover-fill-color);\n",
              "  }\n",
              "\n",
              "  .colab-df-quickchart-complete:disabled,\n",
              "  .colab-df-quickchart-complete:disabled:hover {\n",
              "    background-color: var(--disabled-bg-color);\n",
              "    fill: var(--disabled-fill-color);\n",
              "    box-shadow: none;\n",
              "  }\n",
              "\n",
              "  .colab-df-spinner {\n",
              "    border: 2px solid var(--fill-color);\n",
              "    border-color: transparent;\n",
              "    border-bottom-color: var(--fill-color);\n",
              "    animation:\n",
              "      spin 1s steps(1) infinite;\n",
              "  }\n",
              "\n",
              "  @keyframes spin {\n",
              "    0% {\n",
              "      border-color: transparent;\n",
              "      border-bottom-color: var(--fill-color);\n",
              "      border-left-color: var(--fill-color);\n",
              "    }\n",
              "    20% {\n",
              "      border-color: transparent;\n",
              "      border-left-color: var(--fill-color);\n",
              "      border-top-color: var(--fill-color);\n",
              "    }\n",
              "    30% {\n",
              "      border-color: transparent;\n",
              "      border-left-color: var(--fill-color);\n",
              "      border-top-color: var(--fill-color);\n",
              "      border-right-color: var(--fill-color);\n",
              "    }\n",
              "    40% {\n",
              "      border-color: transparent;\n",
              "      border-right-color: var(--fill-color);\n",
              "      border-top-color: var(--fill-color);\n",
              "    }\n",
              "    60% {\n",
              "      border-color: transparent;\n",
              "      border-right-color: var(--fill-color);\n",
              "    }\n",
              "    80% {\n",
              "      border-color: transparent;\n",
              "      border-right-color: var(--fill-color);\n",
              "      border-bottom-color: var(--fill-color);\n",
              "    }\n",
              "    90% {\n",
              "      border-color: transparent;\n",
              "      border-bottom-color: var(--fill-color);\n",
              "    }\n",
              "  }\n",
              "</style>\n",
              "\n",
              "  <script>\n",
              "    async function quickchart(key) {\n",
              "      const quickchartButtonEl =\n",
              "        document.querySelector('#' + key + ' button');\n",
              "      quickchartButtonEl.disabled = true;  // To prevent multiple clicks.\n",
              "      quickchartButtonEl.classList.add('colab-df-spinner');\n",
              "      try {\n",
              "        const charts = await google.colab.kernel.invokeFunction(\n",
              "            'suggestCharts', [key], {});\n",
              "      } catch (error) {\n",
              "        console.error('Error during call to suggestCharts:', error);\n",
              "      }\n",
              "      quickchartButtonEl.classList.remove('colab-df-spinner');\n",
              "      quickchartButtonEl.classList.add('colab-df-quickchart-complete');\n",
              "    }\n",
              "    (() => {\n",
              "      let quickchartButtonEl =\n",
              "        document.querySelector('#df-1e8f1abc-6a79-454d-89bd-0d44eb5b4e1c button');\n",
              "      quickchartButtonEl.style.display =\n",
              "        google.colab.kernel.accessAllowed ? 'block' : 'none';\n",
              "    })();\n",
              "  </script>\n",
              "</div>\n",
              "\n",
              "  <div id=\"id_d9d07ace-4f8b-4ddd-9270-bb57a0810bac\">\n",
              "    <style>\n",
              "      .colab-df-generate {\n",
              "        background-color: #E8F0FE;\n",
              "        border: none;\n",
              "        border-radius: 50%;\n",
              "        cursor: pointer;\n",
              "        display: none;\n",
              "        fill: #1967D2;\n",
              "        height: 32px;\n",
              "        padding: 0 0 0 0;\n",
              "        width: 32px;\n",
              "      }\n",
              "\n",
              "      .colab-df-generate:hover {\n",
              "        background-color: #E2EBFA;\n",
              "        box-shadow: 0px 1px 2px rgba(60, 64, 67, 0.3), 0px 1px 3px 1px rgba(60, 64, 67, 0.15);\n",
              "        fill: #174EA6;\n",
              "      }\n",
              "\n",
              "      [theme=dark] .colab-df-generate {\n",
              "        background-color: #3B4455;\n",
              "        fill: #D2E3FC;\n",
              "      }\n",
              "\n",
              "      [theme=dark] .colab-df-generate:hover {\n",
              "        background-color: #434B5C;\n",
              "        box-shadow: 0px 1px 3px 1px rgba(0, 0, 0, 0.15);\n",
              "        filter: drop-shadow(0px 1px 2px rgba(0, 0, 0, 0.3));\n",
              "        fill: #FFFFFF;\n",
              "      }\n",
              "    </style>\n",
              "    <button class=\"colab-df-generate\" onclick=\"generateWithVariable('df')\"\n",
              "            title=\"Generate code using this dataframe.\"\n",
              "            style=\"display:none;\">\n",
              "\n",
              "  <svg xmlns=\"http://www.w3.org/2000/svg\" height=\"24px\"viewBox=\"0 0 24 24\"\n",
              "       width=\"24px\">\n",
              "    <path d=\"M7,19H8.4L18.45,9,17,7.55,7,17.6ZM5,21V16.75L18.45,3.32a2,2,0,0,1,2.83,0l1.4,1.43a1.91,1.91,0,0,1,.58,1.4,1.91,1.91,0,0,1-.58,1.4L9.25,21ZM18.45,9,17,7.55Zm-12,3A5.31,5.31,0,0,0,4.9,8.1,5.31,5.31,0,0,0,1,6.5,5.31,5.31,0,0,0,4.9,4.9,5.31,5.31,0,0,0,6.5,1,5.31,5.31,0,0,0,8.1,4.9,5.31,5.31,0,0,0,12,6.5,5.46,5.46,0,0,0,6.5,12Z\"/>\n",
              "  </svg>\n",
              "    </button>\n",
              "    <script>\n",
              "      (() => {\n",
              "      const buttonEl =\n",
              "        document.querySelector('#id_d9d07ace-4f8b-4ddd-9270-bb57a0810bac button.colab-df-generate');\n",
              "      buttonEl.style.display =\n",
              "        google.colab.kernel.accessAllowed ? 'block' : 'none';\n",
              "\n",
              "      buttonEl.onclick = () => {\n",
              "        google.colab.notebook.generateWithVariable('df');\n",
              "      }\n",
              "      })();\n",
              "    </script>\n",
              "  </div>\n",
              "\n",
              "    </div>\n",
              "  </div>\n"
            ],
            "application/vnd.google.colaboratory.intrinsic+json": {
              "type": "dataframe",
              "variable_name": "df"
            }
          },
          "metadata": {},
          "execution_count": 137
        }
      ]
    },
    {
      "cell_type": "code",
      "source": [
        "df.shape"
      ],
      "metadata": {
        "colab": {
          "base_uri": "https://localhost:8080/"
        },
        "id": "1-8ge3RHcMH3",
        "outputId": "955fbe1a-2a39-4adb-b3c7-835b5101a150"
      },
      "execution_count": 138,
      "outputs": [
        {
          "output_type": "execute_result",
          "data": {
            "text/plain": [
              "(1905, 38)"
            ]
          },
          "metadata": {},
          "execution_count": 138
        }
      ]
    },
    {
      "cell_type": "code",
      "source": [
        "df.info()"
      ],
      "metadata": {
        "colab": {
          "base_uri": "https://localhost:8080/"
        },
        "id": "jyLUSssgcNox",
        "outputId": "9021e005-6d8b-4682-c65f-43e68c514bac"
      },
      "execution_count": 139,
      "outputs": [
        {
          "output_type": "stream",
          "name": "stdout",
          "text": [
            "<class 'pandas.core.frame.DataFrame'>\n",
            "RangeIndex: 1905 entries, 0 to 1904\n",
            "Data columns (total 38 columns):\n",
            " #   Column               Non-Null Count  Dtype  \n",
            "---  ------               --------------  -----  \n",
            " 0   id                   1905 non-null   int64  \n",
            " 1   neighborhood         1905 non-null   object \n",
            " 2   latitude             1905 non-null   float64\n",
            " 3   longitude            1905 non-null   float64\n",
            " 4   price                1905 non-null   int64  \n",
            " 5   size_in_sqft         1905 non-null   int64  \n",
            " 6   price_per_sqft       1905 non-null   float64\n",
            " 7   no_of_bedrooms       1905 non-null   int64  \n",
            " 8   no_of_bathrooms      1905 non-null   int64  \n",
            " 9   quality              1905 non-null   object \n",
            " 10  maid_room            1905 non-null   bool   \n",
            " 11  unfurnished          1905 non-null   bool   \n",
            " 12  balcony              1905 non-null   bool   \n",
            " 13  barbecue_area        1905 non-null   bool   \n",
            " 14  built_in_wardrobes   1905 non-null   bool   \n",
            " 15  central_ac           1905 non-null   bool   \n",
            " 16  childrens_play_area  1905 non-null   bool   \n",
            " 17  childrens_pool       1905 non-null   bool   \n",
            " 18  concierge            1905 non-null   bool   \n",
            " 19  covered_parking      1905 non-null   bool   \n",
            " 20  kitchen_appliances   1905 non-null   bool   \n",
            " 21  lobby_in_building    1905 non-null   bool   \n",
            " 22  maid_service         1905 non-null   bool   \n",
            " 23  networked            1905 non-null   bool   \n",
            " 24  pets_allowed         1905 non-null   bool   \n",
            " 25  private_garden       1905 non-null   bool   \n",
            " 26  private_gym          1905 non-null   bool   \n",
            " 27  private_jacuzzi      1905 non-null   bool   \n",
            " 28  private_pool         1905 non-null   bool   \n",
            " 29  security             1905 non-null   bool   \n",
            " 30  shared_gym           1905 non-null   bool   \n",
            " 31  shared_pool          1905 non-null   bool   \n",
            " 32  shared_spa           1905 non-null   bool   \n",
            " 33  study                1905 non-null   bool   \n",
            " 34  vastu_compliant      1905 non-null   bool   \n",
            " 35  view_of_landmark     1905 non-null   bool   \n",
            " 36  view_of_water        1905 non-null   bool   \n",
            " 37  walk_in_closet       1905 non-null   bool   \n",
            "dtypes: bool(28), float64(3), int64(5), object(2)\n",
            "memory usage: 201.0+ KB\n"
          ]
        }
      ]
    },
    {
      "cell_type": "code",
      "source": [
        "df.duplicated().sum()"
      ],
      "metadata": {
        "colab": {
          "base_uri": "https://localhost:8080/"
        },
        "id": "7KKaYtdgcQkb",
        "outputId": "ce5ad9ca-acfd-4c60-d5c7-3469ed40d061"
      },
      "execution_count": 140,
      "outputs": [
        {
          "output_type": "execute_result",
          "data": {
            "text/plain": [
              "0"
            ]
          },
          "metadata": {},
          "execution_count": 140
        }
      ]
    },
    {
      "cell_type": "code",
      "source": [
        "df.isnull().sum()"
      ],
      "metadata": {
        "colab": {
          "base_uri": "https://localhost:8080/"
        },
        "id": "perTIuERcQai",
        "outputId": "22fdc3d1-311a-4e8e-9586-d9528d3fc1c1"
      },
      "execution_count": 141,
      "outputs": [
        {
          "output_type": "execute_result",
          "data": {
            "text/plain": [
              "id                     0\n",
              "neighborhood           0\n",
              "latitude               0\n",
              "longitude              0\n",
              "price                  0\n",
              "size_in_sqft           0\n",
              "price_per_sqft         0\n",
              "no_of_bedrooms         0\n",
              "no_of_bathrooms        0\n",
              "quality                0\n",
              "maid_room              0\n",
              "unfurnished            0\n",
              "balcony                0\n",
              "barbecue_area          0\n",
              "built_in_wardrobes     0\n",
              "central_ac             0\n",
              "childrens_play_area    0\n",
              "childrens_pool         0\n",
              "concierge              0\n",
              "covered_parking        0\n",
              "kitchen_appliances     0\n",
              "lobby_in_building      0\n",
              "maid_service           0\n",
              "networked              0\n",
              "pets_allowed           0\n",
              "private_garden         0\n",
              "private_gym            0\n",
              "private_jacuzzi        0\n",
              "private_pool           0\n",
              "security               0\n",
              "shared_gym             0\n",
              "shared_pool            0\n",
              "shared_spa             0\n",
              "study                  0\n",
              "vastu_compliant        0\n",
              "view_of_landmark       0\n",
              "view_of_water          0\n",
              "walk_in_closet         0\n",
              "dtype: int64"
            ]
          },
          "metadata": {},
          "execution_count": 141
        }
      ]
    },
    {
      "cell_type": "code",
      "source": [
        "# convert catecorical data\n",
        "from sklearn.preprocessing import LabelEncoder\n",
        "label_encoder = LabelEncoder()\n",
        "df['neighborhood'] = label_encoder.fit_transform(df['neighborhood'])\n",
        "df['quality'] = label_encoder.fit_transform(df['quality'])"
      ],
      "metadata": {
        "id": "uxQUqQ67iMea"
      },
      "execution_count": 142,
      "outputs": []
    },
    {
      "cell_type": "code",
      "source": [
        "df = df.astype(int)"
      ],
      "metadata": {
        "id": "az49NM78jqJ4"
      },
      "execution_count": 143,
      "outputs": []
    },
    {
      "cell_type": "code",
      "source": [
        "from sklearn.model_selection import train_test_split\n",
        "\n",
        "train_df, test_df = train_test_split(df, test_size=0.2, random_state=42)"
      ],
      "metadata": {
        "id": "YrVgeADthWTA"
      },
      "execution_count": 145,
      "outputs": []
    },
    {
      "cell_type": "code",
      "source": [
        "import torch\n",
        "from torch.utils.data import Dataset\n",
        "\n",
        "class CustomDataset(Dataset):\n",
        "    def __init__(self, df):\n",
        "        self.data = df\n",
        "        self.labels = self.data['price'].values\n",
        "\n",
        "    def __len__(self):\n",
        "        return len(self.data)\n",
        "\n",
        "    def __getitem__(self, index):\n",
        "        # Retrieve the data and label at the given index\n",
        "        row = self.data.iloc[index]\n",
        "        x = torch.Tensor(row.drop('price').values)  # Exclude the 'price' column\n",
        "        y = torch.Tensor([self.labels[index]])  # Wrap the label in a tensor\n",
        "\n",
        "        return x, y"
      ],
      "metadata": {
        "id": "IPiQYDBJaY_S"
      },
      "execution_count": 146,
      "outputs": []
    },
    {
      "cell_type": "code",
      "source": [
        "train_dataset = CustomDataset(train_df)\n",
        "test_dataset = CustomDataset(test_df)\n",
        "\n",
        "train_labels = train_dataset.labels\n",
        "test_labels = test_dataset.labels"
      ],
      "metadata": {
        "id": "iZXb8RPpkDJC"
      },
      "execution_count": 147,
      "outputs": []
    },
    {
      "cell_type": "code",
      "source": [
        "train_labels"
      ],
      "metadata": {
        "colab": {
          "base_uri": "https://localhost:8080/"
        },
        "id": "GceD4NZVkHQS",
        "outputId": "f10f65b9-1169-47ff-e991-493a4f2915c8"
      },
      "execution_count": 148,
      "outputs": [
        {
          "output_type": "execute_result",
          "data": {
            "text/plain": [
              "array([1200000, 5500000, 2450000, ...,  650000, 1499998,  620720])"
            ]
          },
          "metadata": {},
          "execution_count": 148
        }
      ]
    },
    {
      "cell_type": "code",
      "source": [
        "from torch.utils.data import DataLoader\n",
        "\n",
        "train_loader = DataLoader(train_dataset, batch_size=32, shuffle=True)\n",
        "test_loader = DataLoader(test_dataset, batch_size=32, shuffle=False)"
      ],
      "metadata": {
        "id": "raqA_E8bdqNz"
      },
      "execution_count": 149,
      "outputs": []
    },
    {
      "cell_type": "code",
      "source": [
        "train_loader,test_loader"
      ],
      "metadata": {
        "colab": {
          "base_uri": "https://localhost:8080/"
        },
        "id": "MeTyMnAtdwP6",
        "outputId": "7682190c-ed68-460b-ed4b-cd536eca1449"
      },
      "execution_count": 150,
      "outputs": [
        {
          "output_type": "execute_result",
          "data": {
            "text/plain": [
              "(<torch.utils.data.dataloader.DataLoader at 0x7e88c8f698a0>,\n",
              " <torch.utils.data.dataloader.DataLoader at 0x7e88c8f6a230>)"
            ]
          },
          "metadata": {},
          "execution_count": 150
        }
      ]
    },
    {
      "cell_type": "code",
      "source": [
        "import torch\n",
        "import torch.nn as nn\n",
        "\n",
        "class linearRegression(nn.Module):\n",
        "    def __init__(self,input_dim):\n",
        "        super(linearRegression,self).__init__()\n",
        "        self.fc1=nn.Linear(input_dim,10)\n",
        "        self.fc2=nn.Linear(10,5)\n",
        "        self.fc3=nn.Linear(5,3)\n",
        "        self.fc4=nn.Linear(3,1)\n",
        "\n",
        "    def forward(self,d):\n",
        "        out=torch.relu(self.fc1(d))\n",
        "        out=torch.relu(self.fc2(out))\n",
        "        out=torch.relu(self.fc3(out))\n",
        "        out=self.fc4(out)\n",
        "        return out\n",
        "\n"
      ],
      "metadata": {
        "id": "CeaqTFaaswCL"
      },
      "execution_count": 151,
      "outputs": []
    },
    {
      "cell_type": "code",
      "source": [
        "first_batch = next(iter(train_loader))\n",
        "input_features = first_batch[0]\n",
        "input_dim = input_features.shape[1]\n",
        "print(input_dim)\n",
        "torch.manual_seed(42)\n",
        "model = linearRegression(input_dim)"
      ],
      "metadata": {
        "colab": {
          "base_uri": "https://localhost:8080/"
        },
        "id": "_ZCHavXIt3DI",
        "outputId": "3efbdfe3-1f0b-4d6c-a48a-908b2d8b3899"
      },
      "execution_count": 152,
      "outputs": [
        {
          "output_type": "stream",
          "name": "stdout",
          "text": [
            "37\n"
          ]
        }
      ]
    },
    {
      "cell_type": "code",
      "source": [
        "import torch.optim as optim\n",
        "device = torch.device('cuda' if torch.cuda.is_available() else 'cpu')\n",
        "learning_rate = 0.001\n",
        "num_epochs = 5\n",
        "batch_size=32\n",
        "\n",
        "model=linearRegression(input_dim).to(device)\n",
        "\n",
        "\n",
        "criterion = nn.MSELoss()\n",
        "optimizer = optim.Adam(model.parameters(), lr=learning_rate)"
      ],
      "metadata": {
        "id": "9vJEd_07eXxJ"
      },
      "execution_count": 153,
      "outputs": []
    },
    {
      "cell_type": "code",
      "source": [
        "import torch\n",
        "import matplotlib.pyplot as plt\n",
        "\n",
        "\n",
        "train_losses = []\n",
        "\n",
        "# Training loop\n",
        "for epoch in range(num_epochs):\n",
        "    running_loss = 0.0\n",
        "\n",
        "    for inputs, targets in train_loader:\n",
        "        inputs = inputs.to(device)\n",
        "        targets = targets.to(device)\n",
        "        optimizer.zero_grad()\n",
        "        outputs = model(inputs)\n",
        "        loss = criterion(outputs, targets)\n",
        "        loss.backward()\n",
        "        optimizer.step()\n",
        "        running_loss += loss.item()\n",
        "\n",
        "    average_loss = running_loss / len(train_loader)\n",
        "    train_losses.append(average_loss)\n",
        "    print(f\"Epoch [{epoch+1}/{num_epochs}], Average Loss: {average_loss:.4f}\")\n",
        "\n",
        "plt.plot(train_losses)\n",
        "plt.xlabel('Epoch')\n",
        "plt.ylabel('Training Loss')\n",
        "plt.title('Training Loss over Epochs')\n",
        "plt.show()"
      ],
      "metadata": {
        "colab": {
          "base_uri": "https://localhost:8080/",
          "height": 559
        },
        "id": "9228JCb4yxVu",
        "outputId": "e9bca34c-9e8a-4a05-ba38-1fbdc3c33b5a"
      },
      "execution_count": 154,
      "outputs": [
        {
          "output_type": "stream",
          "name": "stdout",
          "text": [
            "Epoch [1/5], Average Loss: 12826442850304.0000\n",
            "Epoch [2/5], Average Loss: 12124583226026.6660\n",
            "Epoch [3/5], Average Loss: 10833295866538.6660\n",
            "Epoch [4/5], Average Loss: 9256548065280.0000\n",
            "Epoch [5/5], Average Loss: 8680572310869.3330\n"
          ]
        },
        {
          "output_type": "display_data",
          "data": {
            "text/plain": [
              "<Figure size 640x480 with 1 Axes>"
            ],
            "image/png": "[encoded data removed]"
          },
          "metadata": {}
        }
      ]
    },
    {
      "cell_type": "code",
      "source": [
        "import torch\n",
        "\n",
        "model.to(device)\n",
        "\n",
        "model.eval()\n",
        "\n",
        "total_loss = 0.0\n",
        "total_samples = 0\n",
        "with torch.no_grad():\n",
        "    for inputs, targets in test_loader:\n",
        "        inputs = inputs.to(device)\n",
        "        targets = targets.to(device)\n",
        "        outputs = model(inputs)\n",
        "        loss = criterion(outputs, targets)\n",
        "        total_loss += loss.item() * inputs.size(0)\n",
        "        total_samples += inputs.size(0)\n",
        "\n",
        "average_loss = total_loss / total_samples\n",
        "print(f\"Average Loss on Test Set: {average_loss:.4f}\")"
      ],
      "metadata": {
        "colab": {
          "base_uri": "https://localhost:8080/"
        },
        "id": "v5eCdhFGweo9",
        "outputId": "5ed0761c-7532-4279-e4c2-903b7f6579e3"
      },
      "execution_count": 134,
      "outputs": [
        {
          "output_type": "stream",
          "name": "stdout",
          "text": [
            "Average Loss on Test Set: 8144868097144.9453\n"
          ]
        }
      ]
    },
    {
      "cell_type": "code",
      "source": [
        "import torch\n",
        "\n",
        "model.eval()\n",
        "sample_predictions = []\n",
        "with torch.no_grad():\n",
        "    num_samples = 5\n",
        "    for i, (inputs, targets) in enumerate(test_loader):\n",
        "        inputs = inputs.to(device)\n",
        "        targets = targets.to(device)\n",
        "        outputs = model(inputs)\n",
        "        predictions = outputs.cpu().numpy()\n",
        "        targets = targets.cpu().numpy()\n",
        "        sample_predictions.append((predictions[0], targets[0]))\n",
        "        if i+1 == num_samples:\n",
        "            break\n",
        "\n",
        "for i, (prediction, target) in enumerate(sample_predictions):\n",
        "    print(f\"Sample {i+1}: Prediction = {prediction}, Target = {target}\")"
      ],
      "metadata": {
        "colab": {
          "base_uri": "https://localhost:8080/"
        },
        "id": "yWBMOjpszyPh",
        "outputId": "448d00ec-518a-4227-aa21-b16949149a29"
      },
      "execution_count": 156,
      "outputs": [
        {
          "output_type": "stream",
          "name": "stdout",
          "text": [
            "Sample 1: Prediction = [2105650.8], Target = [720000.]\n",
            "Sample 2: Prediction = [2111373.2], Target = [900000.]\n",
            "Sample 3: Prediction = [2061799.8], Target = [1050888.]\n",
            "Sample 4: Prediction = [2099054.2], Target = [1266000.]\n",
            "Sample 5: Prediction = [2093162.1], Target = [610577.]\n"
          ]
        }
      ]
    },
    {
      "cell_type": "markdown",
      "source": [
        "# another version"
      ],
      "metadata": {
        "id": "3UkklHARz9CS"
      }
    },
    {
      "cell_type": "code",
      "source": [
        "class linearRegression(nn.Module):\n",
        "    def __init__(self,input_dim):\n",
        "        super(linearRegression,self).__init__()\n",
        "        self.fc1=nn.Linear(input_dim,64)\n",
        "        self.fc2=nn.Linear(64,32)\n",
        "        self.fc3=nn.Linear(32,128)\n",
        "        self.fc4=nn.Linear(128,64)\n",
        "        self.fc5=nn.Linear(64,32)\n",
        "        self.fc6=nn.Linear(32,1)\n",
        "\n",
        "\n",
        "\n",
        "    def forward(self,d):\n",
        "        out=torch.relu(self.fc1(d))\n",
        "        out=torch.relu(self.fc2(out))\n",
        "        out=torch.relu(self.fc3(out))\n",
        "        out=torch.relu(self.fc4(out))\n",
        "        out=torch.relu(self.fc5(out))\n",
        "        out=self.fc6(out)\n",
        "        return out\n"
      ],
      "metadata": {
        "id": "uEnecaBZzjMD"
      },
      "execution_count": 157,
      "outputs": []
    },
    {
      "cell_type": "code",
      "source": [
        "first_batch = next(iter(train_loader))\n",
        "input_features = first_batch[0]\n",
        "input_dim = input_features.shape[1]\n",
        "print(input_dim)\n",
        "torch.manual_seed(42)\n",
        "model = linearRegression(input_dim)"
      ],
      "metadata": {
        "colab": {
          "base_uri": "https://localhost:8080/"
        },
        "id": "9guHDIou0wjW",
        "outputId": "b64036ee-6ce5-4b0d-ff1f-7bc9a6a3bc97"
      },
      "execution_count": 158,
      "outputs": [
        {
          "output_type": "stream",
          "name": "stdout",
          "text": [
            "37\n"
          ]
        }
      ]
    },
    {
      "cell_type": "code",
      "source": [
        "import torch.optim as optim\n",
        "device = torch.device('cuda' if torch.cuda.is_available() else 'cpu')\n",
        "learning_rate = 0.001\n",
        "num_epochs = 5\n",
        "batch_size=32\n",
        "\n",
        "model=linearRegression(input_dim).to(device)\n",
        "\n",
        "\n",
        "criterion = nn.MSELoss()\n",
        "optimizer = optim.Adam(model.parameters(), lr=learning_rate)"
      ],
      "metadata": {
        "id": "gkM3cwg300d2"
      },
      "execution_count": 159,
      "outputs": []
    },
    {
      "cell_type": "code",
      "source": [
        "import torch\n",
        "import matplotlib.pyplot as plt\n",
        "\n",
        "\n",
        "train_losses = []\n",
        "\n",
        "# Training loop\n",
        "for epoch in range(num_epochs):\n",
        "    running_loss = 0.0\n",
        "\n",
        "    for inputs, targets in train_loader:\n",
        "        inputs = inputs.to(device)\n",
        "        targets = targets.to(device)\n",
        "        optimizer.zero_grad()\n",
        "        outputs = model(inputs)\n",
        "        loss = criterion(outputs, targets)\n",
        "        loss.backward()\n",
        "        optimizer.step()\n",
        "        running_loss += loss.item()\n",
        "\n",
        "    average_loss = running_loss / len(train_loader)\n",
        "    train_losses.append(average_loss)\n",
        "    print(f\"Epoch [{epoch+1}/{num_epochs}], Average Loss: {average_loss:.4f}\")\n",
        "\n",
        "plt.plot(train_losses)\n",
        "plt.xlabel('Epoch')\n",
        "plt.ylabel('Training Loss')\n",
        "plt.title('Training Loss over Epochs')\n",
        "plt.show()"
      ],
      "metadata": {
        "colab": {
          "base_uri": "https://localhost:8080/",
          "height": 559
        },
        "id": "sVCsybVk0661",
        "outputId": "f28354b4-ee91-46ef-c75f-4346ff41b036"
      },
      "execution_count": 160,
      "outputs": [
        {
          "output_type": "stream",
          "name": "stdout",
          "text": [
            "Epoch [1/5], Average Loss: 10743389383338.6660\n",
            "Epoch [2/5], Average Loss: 8650306719744.0000\n",
            "Epoch [3/5], Average Loss: 8548170863957.3330\n",
            "Epoch [4/5], Average Loss: 8535335224661.3330\n",
            "Epoch [5/5], Average Loss: 8947965941077.3340\n"
          ]
        },
        {
          "output_type": "display_data",
          "data": {
            "text/plain": [
              "<Figure size 640x480 with 1 Axes>"
            ],
            "image/png": "[encoded data removed]"
          },
          "metadata": {}
        }
      ]
    },
    {
      "cell_type": "code",
      "source": [
        "import torch\n",
        "\n",
        "model.eval()\n",
        "sample_predictions = []\n",
        "with torch.no_grad():\n",
        "    num_samples = 5\n",
        "    for i, (inputs, targets) in enumerate(test_loader):\n",
        "        inputs = inputs.to(device)\n",
        "        targets = targets.to(device)\n",
        "        outputs = model(inputs)\n",
        "        predictions = outputs.cpu().numpy()\n",
        "        targets = targets.cpu().numpy()\n",
        "        sample_predictions.append((predictions[0], targets[0]))\n",
        "        if i+1 == num_samples:\n",
        "            break\n",
        "\n",
        "for i, (prediction, target) in enumerate(sample_predictions):\n",
        "    print(f\"Sample {i+1}: Prediction = {prediction}, Target = {target}\")"
      ],
      "metadata": {
        "colab": {
          "base_uri": "https://localhost:8080/"
        },
        "id": "PdNpu4z507kB",
        "outputId": "564daa36-107d-4fbb-9dae-9c99c3007259"
      },
      "execution_count": 161,
      "outputs": [
        {
          "output_type": "stream",
          "name": "stdout",
          "text": [
            "Sample 1: Prediction = [2253568.2], Target = [720000.]\n",
            "Sample 2: Prediction = [2259694.2], Target = [900000.]\n",
            "Sample 3: Prediction = [2206707.5], Target = [1050888.]\n",
            "Sample 4: Prediction = [2246632.2], Target = [1266000.]\n",
            "Sample 5: Prediction = [2240143.2], Target = [610577.]\n"
          ]
        }
      ]
    }
  ]
}